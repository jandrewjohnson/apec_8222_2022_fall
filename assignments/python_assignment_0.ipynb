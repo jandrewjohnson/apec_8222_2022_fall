{
 "cells": [
  {
   "cell_type": "markdown",
   "metadata": {},
   "source": [
    "# Python Assignment 0\n",
    "\n",
    "For this asignment, all you need to do is open this file in VS Code and then select \"Run All\" at the top of the editor."
   ]
  },
  {
   "cell_type": "code",
   "execution_count": 8,
   "metadata": {},
   "outputs": [
    {
     "name": "stdout",
     "output_type": "stream",
     "text": [
      "Hazelbean library imported successfully: <module 'hazelbean' from 'c:\\\\Users\\\\jajohns\\\\AppData\\\\Local\\\\mambaforge\\\\envs\\\\8222env1\\\\lib\\\\site-packages\\\\hazelbean\\\\__init__.py'>\n",
      "Autograding output: 100%\n"
     ]
    }
   ],
   "source": [
    "import numpy as np\n",
    "import pandas as pd\n",
    "import sklearn\n",
    "from osgeo import gdal\n",
    "import hazelbean as hb\n",
    "\n",
    "def autograde():\n",
    "    \n",
    "    if len(str(hb.__name__)) == 9:\n",
    "        return '100%'\n",
    "    else:\n",
    "        return \"0%. Keep trying! Feel free to email me in advance of the first Python lecture. Don't save this for teh last day!\"\n",
    "\n",
    "print('Hazelbean library imported successfully:', hb)\n",
    "\n",
    "print('Autograding output:', autograde())"
   ]
  }
 ],
 "metadata": {
  "kernelspec": {
   "display_name": "Python 3.10.6 ('8222env1')",
   "language": "python",
   "name": "python3"
  },
  "language_info": {
   "codemirror_mode": {
    "name": "ipython",
    "version": 3
   },
   "file_extension": ".py",
   "mimetype": "text/x-python",
   "name": "python",
   "nbconvert_exporter": "python",
   "pygments_lexer": "ipython3",
   "version": "3.10.6"
  },
  "orig_nbformat": 4,
  "vscode": {
   "interpreter": {
    "hash": "0db313e0ad7b6749a6d098fb61fddaded88cbd823278030b75fa0893942c8f77"
   }
  }
 },
 "nbformat": 4,
 "nbformat_minor": 2
}
