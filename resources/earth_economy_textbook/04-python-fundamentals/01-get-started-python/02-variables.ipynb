{
    "cells": [
        {
            "cell_type": "markdown",
            "metadata": {},
            "source": [
                "\n",
                "<div class='notice--success' markdown=\"1\">\n",
                "\n",
                "## <i class=\"fa fa-graduation-cap\" aria-hidden=\"true\"></i> Learning Objectives\n",
                "\n",
                "At the end of this activity, you will be able to:\n",
                "\n",
                "* Explain how variables are used in **Python** to store information.\n",
                "* Use **Python** code to create variables that store single data values including numbers and text strings. \n",
                "* Check the data type of a variable using **Python**\n",
                "\n",
                "</div>\n",
                "\n",
                "## What are Variables in Python?\n",
                "\n",
                "A variable in programming is used to store information that you want to re-use in your code. Examples of things that you may wish to save in your code include:\n",
                "\n",
                "* numeric values \n",
                "* filenames\n",
                "* paths \n",
                "* or even larger datasets such as a remote sensing image or a terrain model\n",
                "\n",
                "In **Python**, variables can be created without explicitly defining the type of data that it will hold (e.g. integer, text string). You can create a variable in **Python** using the following syntax:\n",
                "\n",
                "`variable_name = value`\n",
                "\n"
            ]
        },
        {
            "cell_type": "code",
            "execution_count": null,
            "metadata": {},
            "outputs": [],
            "source": [
                "# Try it out\n",
                "my_variable = 5\n",
                "\n",
                "my_variable\n"
            ]
        },
        {
            "cell_type": "markdown",
            "metadata": {},
            "source": [
                "\n",
                "\n",
                "\n",
                "\n",
                "\n",
                "\n",
                "\n",
                "This syntax for creating variables is the same whether you are assigning a numeric \n",
                "or text value to a variable. For example, below you assign the variable name `a` \n",
                "the value of 3 which is a number:  \n",
                "\n",
                "`a = 3`\n",
                "\n",
                "Here is an example of assigning a text string value to the same variable named `a`. \n",
                "\n",
                "`a = \"a word\"`\n",
                "\n",
                "Notice that strings (character values) use double quotes `\"\"` to indicate a text \n",
                "string value. \n",
                "\n",
                "\n",
                "<i class=\"fa fa-star\"></i> **Data Tip:** Some programming languages require a \n",
                "variable to be explicitly assigned a data type when it is created. You do not \n",
                "need to worry about this when using `Python`, however! \n",
                "\n",
                "\n",
                "### Expressive Programming: Easy to Understand Variable Names Make Your Code Easier to Read\n",
                "\n",
                "Just like you want to use \n",
                "<a href=\"https://www.earthdatascience.org/courses/intro-to-earth-data-science/open-reproducible-science/get-started-open-reproducible-science/best-practices-for-organizing-open-reproducible-science/\"> \n",
                "expressive naming conventions (names that represent what is stored within \n",
                "the directory)</a> for directories on your computer, you also want to use \n",
                "short, clear names for your variables to make your code easier to read. To \n",
                "follow best practices for variable names, avoid the following:\n",
                "\n",
                "* spaces in your variable names\n",
                "* complicated wording\n",
                "* long variable names\n",
                "* words that do not represent what the variable contains (example: `my_variable` vs `precip_data`)\n",
                "\n",
                "When naming a variable, you want to keep the name short but specific enough \n",
                "that someone reading your code can understand what it contains. It is good \n",
                "practice to use underscores (e.g. `boulder_precip_in`) to create multi-word \n",
                "variable names that provide specifics regarding the variable's content. The \n",
                "underscore makes the variable name easier to read and follows **Python** \n",
                "<a href=\"https://www.python.org/dev/peps/pep-0008/#naming-conventions\" target=\"_blank\">PEP 8 best practices for code readability</a>. \n",
                "\n",
                "\n",
                "<i class=\"fa fa-star\"></i> **Data Tip:** Read more about expressive variable \n",
                "names and clean code <a href=\"https://www.earthdatascience.org/courses/intro-to-earth-data-science/write-efficient-python-code/intro-to-clean-code/expressive-variable-names-make-code-easier-to-read/\">\n",
                "in this earth data science lesson.</a> \n",
                "\n",
                "\n",
                "### Variables Are Available In Your Coding Environment Once Defined \n",
                "\n",
                "A key characteristic of variables is that once you create a variable in your \n",
                "coding environment (that is to say you run the actual line of code that defines \n",
                "the variable), it is available throughout your code. So for example, if you \n",
                "create a variable at the top of a Jupyter Notebook, the value associated with \n",
                "that variable will remain the same and can be reused in cells lower down in the \n",
                "notebook.\n",
                "\n",
                "<i class=\"fa fa-star\"></i> **Data Tip:** You can overwrite an existing variable \n",
                "if you create a new variable with the same name. For example, if you assign \n",
                "`a = 5` in one cell and then assign `a = \"dog\"` in the next cell, the final value \n",
                "of `a` will be `\"dog\"`.\n",
                "\n",
                "While there are occasions in which you might want to overwrite an existing variable \n",
                "to assign a new value to it, you want to make sure that you give variables both \n",
                "clear and distinct names to avoid *accidentally* overwriting variable values.   \n",
                "\n"
            ]
        },
        {
            "cell_type": "code",
            "execution_count": null,
            "metadata": {},
            "outputs": [],
            "source": [
                "# Here you assign the variable name temperature the value 55 (a number)\n",
                "temperature = 55\n",
                "\n",
                "temperature\n"
            ]
        },
        {
            "cell_type": "markdown",
            "metadata": {},
            "source": [
                "\n",
                "\n",
                "\n",
                "\n",
                "\n",
                "\n",
                "\n"
            ]
        },
        {
            "cell_type": "code",
            "execution_count": null,
            "metadata": {},
            "outputs": [],
            "source": [
                "# Note that you can easily reassign a variable name \n",
                "# to contain a new value (a string / word in this case)\n",
                "temperature = \"doctor\"\n",
                "\n",
                "temperature\n"
            ]
        },
        {
            "cell_type": "markdown",
            "metadata": {},
            "source": [
                "\n",
                "\n",
                "\n",
                "\n",
                "\n",
                "\n",
                "\n",
                "## About Data Types in Python\n",
                "\n",
                "**Python** data types are important to understand when coding. Below you will learn \n",
                "more about the different types of variables that you can store including:\n",
                "\n",
                "* Numbers (integers and floats)\n",
                "* Strings (letters / characters and words)\n",
                "\n",
                "## Numeric Variables in Python\n",
                "\n",
                "In **Python**, you can create variables to store numeric values such as integers \n",
                "(`int`) which represent whole numbers and floating point numbers which represent \n",
                "decimal values (`float`).  \n",
                "\n",
                "<i class=\"fa fa-star\"></i> **Data Tip:** For more advanced math applications, you can also \n",
                "use variables to work with <a href=\"https://docs.python.org/3/library/stdtypes.html#numeric-types-int-float-complex\" target=\"_blank\">complex numbers (see Python documentation for more details)</a>.\n",
                "\n",
                "As described previously, you do not need to define which numeric type you want to \n",
                "use to create a variable. For example, you can create a `int` variable called \n",
                "`boulder_precip_in`, which contains the value for the \n",
                "[average annual precipitation in inches (in) in Boulder, Colorado](https://psl.noaa.gov/boulder/Boulder.mm.precip.html), rounded to the nearest integer.\n",
                "\n"
            ]
        },
        {
            "cell_type": "code",
            "execution_count": null,
            "metadata": {},
            "outputs": [],
            "source": [
                "# This is a comment line in Python\n",
                "boulder_precip_integer = 20\n",
                "\n",
                "# You can see the value of any variable by calling the variable name\n",
                "boulder_precip_integer\n"
            ]
        },
        {
            "cell_type": "markdown",
            "metadata": {},
            "source": [
                "\n",
                "\n",
                "\n",
                "\n",
                "\n",
                "\n",
                "\n",
                "You can use the `type()` function to figure out the type of data stored in a \n",
                "variable.\n",
                "\n"
            ]
        },
        {
            "cell_type": "code",
            "execution_count": null,
            "metadata": {},
            "outputs": [],
            "source": [
                "# What is the type of data stored in boulder_precip_in\n",
                "type(boulder_precip_integer)\n"
            ]
        },
        {
            "cell_type": "markdown",
            "metadata": {},
            "source": [
                "\n",
                "\n",
                "\n",
                "\n",
                "\n",
                "\n",
                "\n",
                "If your data has decimal places associated with it, it will be stored in Python \n",
                "as a type: `float`. \n",
                "\n"
            ]
        },
        {
            "cell_type": "code",
            "execution_count": null,
            "metadata": {},
            "outputs": [],
            "source": [
                "boulder_precip_float = 20.23\n",
                "\n",
                "boulder_precip_float\n"
            ]
        },
        {
            "cell_type": "markdown",
            "metadata": {},
            "source": [
                "\n",
                "\n",
                "\n",
                "\n",
                "\n",
                "\n",
                "\n"
            ]
        },
        {
            "cell_type": "code",
            "execution_count": null,
            "metadata": {},
            "outputs": [],
            "source": [
                "type(boulder_precip_float)\n"
            ]
        },
        {
            "cell_type": "markdown",
            "metadata": {},
            "source": [
                "\n",
                "\n",
                "\n",
                "\n",
                "\n",
                "\n",
                "\n",
                "## How to Store Text Variables: Strings in Python\n",
                "\n",
                "To create a variable containing a text string (`str`), you use quotation marks \n",
                "(`\"\"`) around the value. For example: \n",
                "\n",
                "`variable_name = \"text\"`\n",
                "\n",
                "While in **Python** the single quote (`''`) and the double quote (`\"\"`) are \n",
                "used interchangeably (see the official <a href=\"https://docs.python.org/3/library/stdtypes.html#text-sequence-type-str\" target=\"_blank\">Python Docs</a> for more examples), we suggest \n",
                "that you use double quotes `\"\"` to define strings (type == `str`) following \n",
                "`PEP8` code style for Python best practices. Using quotes, you can create `str` \n",
                "variables that contain a single word or many words, including punctuation. \n",
                "Below are some examples of creating a string. \n",
                "\n"
            ]
        },
        {
            "cell_type": "code",
            "execution_count": null,
            "metadata": {},
            "outputs": [],
            "source": [
                "city = \"Boulder\"\n",
                "\n",
                "city\n"
            ]
        },
        {
            "cell_type": "markdown",
            "metadata": {},
            "source": [
                "\n",
                "\n",
                "\n",
                "\n",
                "\n",
                "\n",
                "\n"
            ]
        },
        {
            "cell_type": "code",
            "execution_count": null,
            "metadata": {},
            "outputs": [],
            "source": [
                "city_state = \"Boulder, CO\"\n",
                "\n",
                "city_state\n"
            ]
        },
        {
            "cell_type": "markdown",
            "metadata": {},
            "source": [
                "\n",
                "\n",
                "\n",
                "\n",
                "\n",
                "\n",
                "\n"
            ]
        },
        {
            "cell_type": "code",
            "execution_count": null,
            "metadata": {},
            "outputs": [],
            "source": [
                "city_description = \"Boulder, CO is the home of the University of Colorado, Boulder campus.\"\n",
                "\n",
                "city_description\n"
            ]
        },
        {
            "cell_type": "markdown",
            "metadata": {},
            "source": [
                "\n",
                "\n",
                "\n",
                "\n",
                "\n",
                "\n",
                "\n",
                "<div class=\"notice--warning\" markdown=\"1\">\n",
                "\n",
                "## <i class=\"fa fa-pencil-square-o\" aria-hidden=\"true\"></i> Interactive Activity - What Does Float() Do?\n",
                "\n",
                "Run the code in the cell below. What does the `float()` function do to the \n",
                "value stored in the variable named `a`?\n",
                "\n",
                "</div>\n",
                "\n"
            ]
        },
        {
            "cell_type": "code",
            "execution_count": null,
            "metadata": {},
            "outputs": [],
            "source": [
                "# Run the code below - what does the float() function do? \n",
                "a = 75\n",
                "b = float(a)\n",
                "print(a, b)\n",
                "\n",
                "# What data type is variable b? (hint: use the type() function to find out)\n"
            ]
        },
        {
            "cell_type": "markdown",
            "metadata": {},
            "source": [
                "\n",
                "\n",
                "\n",
                "\n",
                "<div class=\"notice--warning\" markdown=\"1\">\n",
                "\n",
                "## <i class=\"fa fa-pencil-square-o\" aria-hidden=\"true\"></i> Interactive Activity  - Create Some Variables\n",
                "\n",
                "It's time for you to create some variables of your own! Create the following: \n",
                "\n",
                "1. a variable called `precip_float` that stores a float value. \n",
                "2. a variable called `precip_int` that stores an integer value.\n",
                "3. a variable called `location` that stores the string for the location: `New York City`.\n",
                "\n",
                "For these variables, use the [average annual precipitation in New York City](https://www.usclimatedata.com/climate/new-york/new-york/united-states/usny0996), which is 46.23 inches. \n",
                "\n",
                "HINT: you can coerce a floating point value to an integer using the `int()` function. Use int() to convert your floating point value to an integer. The variable name should be precip_int. \n",
                "\n",
                "Try the code below to see how this works:\n",
                "\n"
            ]
        },
        {
            "cell_type": "code",
            "execution_count": null,
            "metadata": {},
            "outputs": [],
            "source": [
                "a = 75.643\n",
                "b = int(a)\n",
                "print(a, b)\n"
            ]
        },
        {
            "cell_type": "markdown",
            "metadata": {},
            "source": [
                "\n",
                "\n",
                "</div>\n",
                "\n",
                "\n",
                "## Check Variable Type\n",
                "\n",
                "In the activities above, you used the `type()` function to determine what \n",
                "type of data are stored in a variable. \n",
                "\n",
                "`type(variable_name)`\n",
                "\n",
                "For example, you can check the type of `boulder_precip_in` after each time \n",
                "that a variable is created with that same name to see that the type changes \n",
                "from `int` to `float`. \n",
                "\n"
            ]
        },
        {
            "cell_type": "code",
            "execution_count": null,
            "metadata": {},
            "outputs": [],
            "source": [
                "boulder_precip_in = 21\n",
                "\n",
                "type(boulder_precip_in)\n"
            ]
        },
        {
            "cell_type": "markdown",
            "metadata": {},
            "source": [
                "\n",
                "\n",
                "\n",
                "\n",
                "\n",
                "\n",
                "\n"
            ]
        },
        {
            "cell_type": "code",
            "execution_count": null,
            "metadata": {},
            "outputs": [],
            "source": [
                "boulder_precip_in = 20.68\n",
                "\n",
                "type(boulder_precip_in)\n"
            ]
        },
        {
            "cell_type": "markdown",
            "metadata": {},
            "source": [
                "\n",
                "\n",
                "\n",
                "\n",
                "\n",
                "\n",
                "\n",
                "You can also check the type of the variable named `city`, which is a string (`str`) regardless of how many words (or punctuation) it contains. \n",
                "\n"
            ]
        },
        {
            "cell_type": "code",
            "execution_count": null,
            "metadata": {},
            "outputs": [],
            "source": [
                "city = \"Boulder\"\n",
                "\n",
                "type(city)\n"
            ]
        },
        {
            "cell_type": "markdown",
            "metadata": {},
            "source": [
                "\n",
                "\n",
                "\n",
                "\n",
                "\n",
                "\n",
                "\n"
            ]
        },
        {
            "cell_type": "code",
            "execution_count": null,
            "metadata": {},
            "outputs": [],
            "source": [
                "city = \"Boulder, CO is the home of the University of Colorado, Boulder campus.\"\n",
                "\n",
                "type(city)\n"
            ]
        },
        {
            "cell_type": "markdown",
            "metadata": {},
            "source": [
                "\n",
                "\n",
                "\n",
                "\n",
                "\n",
                "\n",
                "\n",
                "Checking the type for a variable can help you make sure that you understand what a variable contains and how it can be used. For example, you can actually create a `str` variable that contain numbers if you use the syntax for creating a `str` variable (e.g. `variable_name = \"value\"`). Notice below that `city_precip` is still a `str`, even though it contains a number.\n",
                "\n"
            ]
        },
        {
            "cell_type": "code",
            "execution_count": null,
            "metadata": {},
            "outputs": [],
            "source": [
                "city_precip = \"20.68\"\n",
                "\n",
                "type(city_precip)\n"
            ]
        },
        {
            "cell_type": "markdown",
            "metadata": {},
            "source": [
                "\n",
                "\n",
                "\n",
                "\n",
                "\n",
                "\n",
                "\n",
                "If you wanted to perform math on that variable, it would not work the way you think it should. \n",
                "\n"
            ]
        },
        {
            "cell_type": "code",
            "execution_count": null,
            "metadata": {},
            "outputs": [],
            "source": [
                "# Multiply city_precip by 2\n",
                "city_precip * 2\n"
            ]
        },
        {
            "cell_type": "markdown",
            "metadata": {},
            "source": [
                "\n",
                "\n",
                "\n",
                "\n",
                "\n",
                "\n",
                "\n",
                "Thus, the value itself is not important for determining whether the variable is a numeric or string type - the syntax does this. \n",
                "\n",
                "A good reminder that it is important to make sure that you are defining variables with the appropriate syntax to distinguish between numeric and string types. \n",
                "\n",
                "<div class=\"notice--warning\" markdown=\"1\">\n",
                "\n",
                "## <i class=\"fa fa-pencil-square-o\" aria-hidden=\"true\"></i> Challenge - Data Types & Math\n",
                "\n",
                "Run the following code which divides variable `a` by variable `b` (`a/b`). \n",
                "\n"
            ]
        },
        {
            "cell_type": "code",
            "execution_count": null,
            "metadata": {},
            "outputs": [],
            "source": [
                "a = 5\n",
                "b = 3\n",
                "c = a/b\n"
            ]
        },
        {
            "cell_type": "markdown",
            "metadata": {},
            "source": [
                "\n",
                "\n",
                "Use the `type()` function to determine what type of value is stored in each variable defined (`a`, `b`, and `c`).\n",
                "\n",
                "</div>\n",
                "\n",
                "\n"
            ]
        }
    ],
    "metadata": {
        "kernelspec": {
            "display_name": "Python 3.10.4",
            "language": "python",
            "name": "python3"
        },
        "language_info": {
            "name": "python",
            "version": "3.10.4"
        },
        "orig_nbformat": 4,
        "vscode": {
            "interpreter": {
                "hash": "e8ce6612953ff711a45742b8ca7e01659d8c5d2431ec3d24346648236c81bd9f"
            }
        }
    },
    "nbformat": 4,
    "nbformat_minor": 2
}
