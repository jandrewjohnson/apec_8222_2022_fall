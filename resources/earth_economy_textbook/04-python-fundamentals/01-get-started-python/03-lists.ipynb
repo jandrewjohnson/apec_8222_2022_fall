{
    "cells": [
        
       {
    "cell_type": "markdown",
    "metadata": {},
    "source": [

    "\n",
    "<div class='notice--success' markdown=\"1\">\n",
    "\n",
    "## <i class=\"fa fa-graduation-cap\" aria-hidden=\"true\"></i> Learning Objectives\n",
    "\n",
    "At the end of this activity, you will be able to:\n",
    "\n",
    "* Explain how **Python** uses lists to store multiple data values.\n",
    "* Create new **Python** lists that contain `int`, `float` and `str` values.\n",
    "* Use the list index to update, add, and remove items in a **Python** list.\n",
    " \n",
    "</div>\n",
    " \n",
    "\n",
    "\n",
    "## What are Python Lists?\n",
    "\n",
    "A **Python** list is a data structure that stores a collection of values or \n",
    "objects in a specified order (or sequence). Some features of **Python** \n",
    "lists include:\n",
    "\n",
    "* They are mutable, which means that they can be changed or updated.\n",
    "* **Python** lists can store different types of objects and different data types. So, for example a list can contain a mix of `int`, `float` and `str` values. A list can also contain sublists, arrays and other **Python** data structures.  \n",
    "* Python lists are created using the square brackets, with objects separated by commas. Like this: `[1,2,3]`\n",
    "\n",
    "\n",
    "### Items Within a Python List Can Be Subsetted Using an Index\n",
    "\n",
    "Each value in a list is called an item. Since lists are sequences of items \n",
    "in a specified order, there is a label for the location or order number of \n",
    "each item in the list. This order label is referred to as an index. Indexing \n",
    "allows lists to be iterable, meaning that you can access each item in the list, \n",
    "in the order in which they appear in the list object. \n",
    "\n",
    "### About List Indices in Python\n",
    "\n",
    "You can use an index value in **Python** to access objects within lists, to \n",
    "organize data and to manage the order of the items within the data structure. \n",
    "By default, **Python** indexing will always begin at `[0]`, rather `[1]`. \n",
    "Thus, the first item in a **Python** list has an index `[0]`, the second item \n",
    "in a list has an index `[1]`, and so on. You can use the index of an item to \n",
    "access its value. For example, you can use the index `[1]` to get the value \n",
    "for the 2nd item (`0.75`) in the following list of values [`0.70, 0.75, 1.85`]. \n",
    "\n",
    "<i class=\"fa fa-star\"></i> **Data Tip:** The **Python** programming language uses zero-based indexing. This means that the first element in a list or other data structure will be identified by the value `[0]` rather than `[1]`.\n",
    "\n",
    "\n",
    "## How to Create a List in Python\n",
    "\n",
    "To create a **Python** list, you use the following syntax:\n",
    "\n",
    "`list_name = [item_1, item_2, item_3]`\n",
    "\n",
    "Notice that the values (soon to be items in a list) are enclosed within square brackets `[]` and are separated from each other using commas `,`. Below, you create a list of numeric floating point values (type = float). \n",
    "\n"]
    }

    , {
    "cell_type": "code",
    "execution_count": null,
    "metadata": {},
    "outputs": [],
    "source": [

    "boulder_precip_in = [0.70, 0.75, 1.85]\n",
    "\n",
    "boulder_precip_in\n"]
    }

       ,{
    "cell_type": "markdown",
    "metadata": {},
    "source": [

    "\n",
    "\n",
    "\n",
    "\n",
    "\n",
    "\n",
    "\n"]
    }

    , {
    "cell_type": "code",
    "execution_count": null,
    "metadata": {},
    "outputs": [],
    "source": [

    "# Get the second value in the list above using indexing\n",
    "boulder_precip_in[1]\n"]
    }

       ,{
    "cell_type": "markdown",
    "metadata": {},
    "source": [

    "\n",
    "\n",
    "\n",
    "\n",
    "\n",
    "\n",
    "\n",
    "You can also create lists of `str` values. Just like defining `str` variables, you need to enclose the individual text strings using quotes `\"\"`. \n",
    "\n"]
    }

    , {
    "cell_type": "code",
    "execution_count": null,
    "metadata": {},
    "outputs": [],
    "source": [

    "months = [\"January\", \"February\", \"March\"]\n",
    "\n",
    "months\n"]
    }

       ,{
    "cell_type": "markdown",
    "metadata": {},
    "source": [

    "\n",
    "\n",
    "\n",
    "\n",
    "\n",
    "\n",
    "\n",
    "You can also create a list that contains different types of data (e.g. `int`, `float`, `str`), including other defined variables.\n",
    "\n"]
    }

    , {
    "cell_type": "code",
    "execution_count": null,
    "metadata": {},
    "outputs": [],
    "source": [

    "jan = 0.70\n",
    "\n",
    "boulder_avg_precip = [1, jan, \"January\"]\n",
    "\n",
    "boulder_avg_precip\n"]
    }

       ,{
    "cell_type": "markdown",
    "metadata": {},
    "source": [

    "\n",
    "\n",
    "\n",
    "\n",
    "\n",
    "\n",
    "\n",
    "<div class=\"notice--warning\" markdown=\"1\">\n",
    "\n",
    "## <i class=\"fa fa-pencil-square-o\" aria-hidden=\"true\"></i> Challenge - Test Your Knowledge\n",
    "\n",
    "Look at the list above called boulder_avg_precip. Why did the value `jan` translate to `0.7` when you printed the list in the cell above?\n",
    "\n",
    "</div>\n",
    "\n",
    "\n",
    "\n",
    "### Use the Type() Function in Python to Determine the Object Type\n",
    "\n",
    "Similar to the previous lesson, you can use the `type()` function to confirm the type of \n",
    "an object. Below you see that the object that we created above, is indeed a list: \n",
    "\n",
    "`type(list_name)`\n",
    "\n"]
    }

    , {
    "cell_type": "code",
    "execution_count": null,
    "metadata": {},
    "outputs": [],
    "source": [

    "type(boulder_avg_precip)\n"]
    }

       ,{
    "cell_type": "markdown",
    "metadata": {},
    "source": [

    "\n",
    "\n",
    "\n",
    "\n",
    "\n",
    "\n",
    "\n",
    "## Print the Length of a List Using `len()`\n",
    " \n",
    "To use list indexing efficiently, it is helpful to know how long the list is. Length in this case refers to how many items are stored in the list. You can use the **Python** function `len()` to query this information by including the name of the list as a parameter, or input, to the function as follows: \n",
    "\n",
    "`len(list_name)` \n",
    "\n",
    "Using `len()`, you can see that `months` contains 3 items, as it only contained `str` values for January through March. \n",
    "\n"]
    }

    , {
    "cell_type": "code",
    "execution_count": null,
    "metadata": {},
    "outputs": [],
    "source": [

    "months\n"]
    }

       ,{
    "cell_type": "markdown",
    "metadata": {},
    "source": [

    "\n",
    "\n",
    "\n",
    "\n",
    "\n",
    "\n",
    "\n"]
    }

    , {
    "cell_type": "code",
    "execution_count": null,
    "metadata": {},
    "outputs": [],
    "source": [

    "print(\"The length of the months list is:\", len(months))\n"]
    }

       ,{
    "cell_type": "markdown",
    "metadata": {},
    "source": [

    "\n",
    "\n",
    "\n",
    "<div class=\"notice--warning\" markdown=\"1\">\n",
    "\n",
    "## <i class=\"fa fa-pencil-square-o\" aria-hidden=\"true\"></i> Challenge - Create Your First List\n",
    "\n",
    "Make a list called `precip_by_location` that has a length of 3 and contains a string for `New York City` at index `2`, a float for the [average annual precipitation in New York City](https://www.usclimatedata.com/climate/new-york/new-york/united-states/usny0996) (46.23 inches), and a string for the units (`inches`). \n",
    "\n",
    "Note that this means the float value for precipitation and the string value for units can be in any location, but the string for `New York City` needs to be at index `2`. \n",
    "\n",
    "</div>\n",
    "\n",
    "\n",
    "## Access Objects Stored in a Python List: Indexing\n",
    "\n",
    "As **Python** indexing begins at `[0]`, you can use the list index to query the value of the nth item in the list using the syntax `month[index]`, where index is equal to:\n",
    "\n",
    "`number of items - 1` or `n-1`\n",
    "\n",
    "For example, if you want to query the second item in the `months` list, you will need to use the index value that results from `2-1`, or `1`.\n",
    "\n"]
    }

    , {
    "cell_type": "code",
    "execution_count": null,
    "metadata": {},
    "outputs": [],
    "source": [

    "months[1]\n"]
    }

       ,{
    "cell_type": "markdown",
    "metadata": {},
    "source": [

    "\n",
    "\n",
    "\n",
    "\n",
    "\n",
    "\n",
    "\n",
    "Note that calling an index value that is larger than `n-1` will result in an error that the index does not exist. For example, when you run, `months[3]`, Python will return the following error:\n",
    "\n",
    "`IndexError: list index out of range`\n",
    "\n",
    "because there are only three items in the list and the index value of `3` actually represents a 4th item that does not exist. \n",
    "\n",
    "## Update Items in Python Lists\n",
    "\n",
    "In addition to querying values, you can also use the list index to update items in a list by assigning a new value to that index location. For example, if you want to update the value stored at `months[index]`, you can assign a new value with:\n",
    "\n",
    "`months[index] = value`\n",
    "\n"]
    }

    , {
    "cell_type": "code",
    "execution_count": null,
    "metadata": {},
    "outputs": [],
    "source": [

    "boulder_precip_in[1] = 0\n",
    "\n",
    "boulder_precip_in\n"]
    }

       ,{
    "cell_type": "markdown",
    "metadata": {},
    "source": [

    "\n",
    "\n",
    "\n",
    "\n",
    "\n",
    "\n",
    "\n"]
    }

    , {
    "cell_type": "code",
    "execution_count": null,
    "metadata": {},
    "outputs": [],
    "source": [

    "months[1] = \"Feb\"\n",
    "\n",
    "months\n"]
    }

       ,{
    "cell_type": "markdown",
    "metadata": {},
    "source": [

    "\n",
    "\n",
    "\n",
    "\n",
    "\n",
    "\n",
    "\n",
    "## Insert Items into Lists\n",
    "\n",
    "You can also use the list index to insert new items into a list by specifying \n",
    "at which index location you want to the new value to be. The index locations \n",
    "for the other values in the list will be automatically updated. For example, \n",
    "if you want to insert a value at the beginning of the list, you can use:\n",
    "\n",
    "`list_name.insert(0, value)`\n",
    "\n",
    "In the example below, the months list is incomplete, and the value for January \n",
    "is inserted at the beginning of the list. This automatically updates the index \n",
    "locations for the existing items, such as `February`, which began as index `0` \n",
    "and becomes index `1` when `January` is inserting at the beginning of the list.  \n",
    "\n"]
    }

    , {
    "cell_type": "code",
    "execution_count": null,
    "metadata": {},
    "outputs": [],
    "source": [

    "# Month list missing the first value for January\n",
    "months = [\"February\", \"March\"]\n",
    "\n",
    "# Check index value at 0\n",
    "months[0]\n"]
    }

       ,{
    "cell_type": "markdown",
    "metadata": {},
    "source": [

    "\n",
    "\n",
    "\n",
    "\n",
    "\n",
    "\n",
    "\n"]
    }

    , {
    "cell_type": "code",
    "execution_count": null,
    "metadata": {},
    "outputs": [],
    "source": [

    "# Modify list to add January at the beginning\n",
    "months.insert(0, \"January\")\n",
    "\n",
    "months\n"]
    }

       ,{
    "cell_type": "markdown",
    "metadata": {},
    "source": [

    "\n",
    "\n",
    "\n",
    "\n",
    "\n",
    "\n",
    "\n"]
    }

    , {
    "cell_type": "code",
    "execution_count": null,
    "metadata": {},
    "outputs": [],
    "source": [

    "# Check index value at 0 in modified list\n",
    "months[0]\n"]
    }

       ,{
    "cell_type": "markdown",
    "metadata": {},
    "source": [

    "\n",
    "\n",
    "\n",
    "\n",
    "\n",
    "\n",
    "\n"]
    }

    , {
    "cell_type": "code",
    "execution_count": null,
    "metadata": {},
    "outputs": [],
    "source": [

    "# February is now at index 1\n",
    "months[1]\n"]
    }

       ,{
    "cell_type": "markdown",
    "metadata": {},
    "source": [

    "\n",
    "\n",
    "\n",
    "\n",
    "\n",
    "\n",
    "\n",
    "## Delete Items From a Python List\n",
    "\n",
    "You can delete unwanted items from an existing list using the `del` statement: \n",
    "\n",
    "`del list_name[index]` \n",
    "\n",
    "Once again, checking the length of a list is helpful before using the list index to modify the list.\n",
    "\n"]
    }

    , {
    "cell_type": "code",
    "execution_count": null,
    "metadata": {},
    "outputs": [],
    "source": [

    "len(boulder_precip_in)\n"]
    }

       ,{
    "cell_type": "markdown",
    "metadata": {},
    "source": [

    "\n",
    "\n",
    "\n",
    "\n",
    "\n",
    "\n",
    "\n"]
    }

    , {
    "cell_type": "code",
    "execution_count": null,
    "metadata": {},
    "outputs": [],
    "source": [

    "del months[2]\n",
    "\n",
    "months\n"]
    }

       ,{
    "cell_type": "markdown",
    "metadata": {},
    "source": [

    "\n",
    "\n",
    "\n",
    "\n",
    "\n",
    "\n",
    "\n",
    "## Append an Item to a Python List\n",
    "\n",
    "To add an item to the end of a list, you can use the `.append()` function that is associated with lists (referred to as a method of the list object). You can call this method to add values to a list using the syntax: \n",
    "\n",
    "`listname.append(value)` \n",
    "\n"]
    }

    , {
    "cell_type": "code",
    "execution_count": null,
    "metadata": {},
    "outputs": [],
    "source": [

    "months.append(\"March\")\n",
    "\n",
    "months\n"]
    }

       ,{
    "cell_type": "markdown",
    "metadata": {},
    "source": [

    "\n",
    "\n",
    "\n",
    "\n",
    "\n",
    "\n",
    "\n"]
    }

    , {
    "cell_type": "code",
    "execution_count": null,
    "metadata": {},
    "outputs": [],
    "source": [

    "boulder_precip_in.append(2.93)\n",
    "\n",
    "boulder_precip_in\n"]
    }

       ,{
    "cell_type": "markdown",
    "metadata": {},
    "source": [

    "\n",
    "\n",
    "\n",
    "\n",
    "\n",
    "\n",
    "\n",
    "## Add Items to List\n",
    "\n",
    "You can also add items to a list using the addition operation `+`.\n",
    "\n",
    "For example, you can add items to the beginning of a list using the following syntax: \n",
    "\n",
    "`listname = [value] + listname`\n",
    "\n"]
    }

    , {
    "cell_type": "code",
    "execution_count": null,
    "metadata": {},
    "outputs": [],
    "source": [

    "boulder_precip_in = [-9999] + boulder_precip_in\n",
    "\n",
    "boulder_precip_in\n"]
    }

       ,{
    "cell_type": "markdown",
    "metadata": {},
    "source": [

    "\n",
    "\n",
    "\n",
    "\n",
    "\n",
    "\n",
    "\n",
    "\n",
    "<div class=\"notice--success\" markdown=\"1\">\n",
    "\n",
    "## <i class=\"fa fa-star\"></i> **Data Tip:** Append Items to an Existing Python List \n",
    "\n",
    "You can add items to a list using the addition operator `+`.\n",
    "For example, you can add items to the beginning of a list using the following syntax: \n",
    "\n",
    "`listname = [value] + listname`\n",
    "\n",
    "You can also add items to the end of a list by using the addition assignment operator `+=`:\n",
    "\n",
    "`listname += [value]`\n",
    "\n",
    "which combines the steps to add and set the list equal to itself plus the new value. \n",
    "\n",
    "However we suggest that you use `.append()` to append items to a list rather than \n",
    "the addition operator as a **Python** best practice.\n",
    "\n",
    "</div>\n",
    "\n",
    "<div class=\"notice--warning\" markdown=\"1\">\n",
    "\n",
    "## <i class=\"fa fa-pencil-square-o\" aria-hidden=\"true\"></i> Challenge - Modify Lists\n",
    "\n",
    "Use the skills you just learned to modify the list `precip_by_location` created above. It should look like: \n",
    "\n",
    "`[1, 20.23, 'inches', 'Boulder', 'Colorado']`\n",
    "\n",
    "There are a lot of ways to update the `precip_by_location` object with the new values. Don't be afraid to be creative! \n",
    "\n",
    "</div>\n",
    "\n",
    "\n",
    "\n",
    "\n",
    "\n",
    "\n",
    "\n",
    "<div class=\"notice--warning\" markdown=\"1\">\n",
    "\n",
    "## <i class=\"fa fa-pencil-square-o\" aria-hidden=\"true\"></i> Challenge - Create a List of Lists\n",
    "\n",
    "The syntax for creating a list composed of sublists is below. \n",
    "\n",
    "`[[\"sub-list-one\"],[\"sub-list-two\"]]`\n",
    "\n",
    "Notice that the hierarchy for the top level of the list of lists is defined \n",
    "by square brackets (`[]`) and then each sublist is also defined by square \n",
    "brackets, separated by a comma. You can add values to each sublist using the \n",
    "syntax below:\n",
    " \n"]
    }

    , {
    "cell_type": "code",
    "execution_count": null,
    "metadata": {},
    "outputs": [],
    "source": [

    "list_of_lists = [[1,2,3], [8,9,10]]\n",
    "list_of_lists\n"]
    }

       ,{
    "cell_type": "markdown",
    "metadata": {},
    "source": [

    "\n",
    "\n",
    "Run the code above, then answer the following questions:\n",
    "\n",
    "1. What is returned when you grab the first item (`list_of_lists[0]`) in the list? \n",
    "2. What is the object `type()` of `list_of_lists[0]`?\n",
    "\n",
    "</div>\n",
    "\n",
    "\n",
    "<div class=\"notice--warning\" markdown=\"1\">\n",
    "\n",
    "## <i class=\"fa fa-pencil-square-o\" aria-hidden=\"true\"></i> Challenge - Create a List of Lists\n",
    "\n",
    "The syntax for accessing the second item in the first sublist is as follows:\n",
    "\n",
    "`list_of_lists[0][1]`\n",
    " \n",
    "Access the second item in the second sublist. HINT: the value returned should be `2`.\n",
    "\n",
    "</div>\n",
    "\n",
    "\n",
    "\n",
    "\n",
    "\n",
    "\n",
    "\n"]
    }

    
    ],
    "metadata": {
    "language_info": {
    "name": "python"
    },
    "orig_nbformat": 4
    },
    "nbformat": 4,
    "nbformat_minor": 2
    } 

    