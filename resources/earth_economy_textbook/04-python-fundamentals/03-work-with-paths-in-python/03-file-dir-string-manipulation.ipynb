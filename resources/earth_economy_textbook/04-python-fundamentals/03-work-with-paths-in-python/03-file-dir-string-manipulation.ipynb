{
    "cells": [
        
       {
    "cell_type": "markdown",
    "metadata": {},
    "source": [

    "\n",
    "\n",
    "<div class='notice--success' markdown=\"1\">\n",
    "\n",
    "## <i class=\"fa fa-graduation-cap\" aria-hidden=\"true\"></i> Learning Objectives\n",
    "\n",
    "* Use **earthpy** to download files from a URL (internet address).\n",
    "* Use **glob** to get customized lists of files or directories.\n",
    "* Use various functions in the **os** package to manipulate file paths. \n",
    "\n",
    "</div>\n",
    "\n",
    "For many data projects, it can be helpful to manipulate and parse file and directory paths, especially when you want to programmatically access data files and automate workflows. \n",
    "\n",
    "To start working with file and directory paths in **Python**, you first need some files! On this page, you will first learn how to use the **earthpy** package to download files from a URL (internet address). \n",
    "\n",
    "Then, you will use the **os** and **glob** packages to access files and directories and to create lists of paths that you can parse to extract useful information from the file and directory names.\n",
    "\n",
    "\n",
    "## Download Files Using EarthPy\n",
    "\n",
    "You can use the function `data.get_data()` from the **earthpy** package to download data from online sources such as the **Figshare.com** data repository. \n",
    "\n",
    "Begin by importing the necessary packages: **os**, **glob**, and **earthpy** (using the alias `et`).  \n",
    "\n"]
    }

    , {
    "cell_type": "code",
    "execution_count": null,
    "metadata": {},
    "outputs": [],
    "source": [

    "# Import necessary packages\n",
    "import os\n",
    "from glob import glob\n",
    "\n",
    "import earthpy as et\n"]
    }

       ,{
    "cell_type": "markdown",
    "metadata": {},
    "source": [

    "\n",
    "\n",
    "To use the function `et.data.get_data()`, you can provide a parameter value for the `url`, which you define by providing a text string of the URL (internet address) for the dataset.\n",
    "\n"]
    }

    , {
    "cell_type": "code",
    "execution_count": null,
    "metadata": {},
    "outputs": [],
    "source": [

    "# Download data on average monthly temp for two California sites\n",
    "file_url = \"https://ndownloader.figshare.com/files/21894528\"\n",
    "et.data.get_data(url = file_url)\n"]
    }

       ,{
    "cell_type": "markdown",
    "metadata": {},
    "source": [

    "\n",
    "\n",
    "\n",
    "\n",
    "\n",
    "\n",
    "\n",
    "\n",
    "By default, `et.data.get_data()` will download files to `earth-analytics/data/earthpy-downloads` under your home directory, and it will create the necessary directories if they do not already exist. \n",
    "\n",
    "With this information, you can set the working directory to your `earth-analytics` directory and then create a relative path to the downloaded data directory. \n",
    "\n"]
    }

    , {
    "cell_type": "code",
    "execution_count": null,
    "metadata": {},
    "outputs": [],
    "source": [

    "# Set working directory to earth-analytics\n",
    "os.chdir(os.path.join(et.io.HOME, \"earth-analytics\"))\n",
    "\n",
    "# Create a path to the data folder\n",
    "data_folder = os.path.join(\"data\", \"earthpy-downloads\", \n",
    "                           \"avg-monthly-temp-fahr\")\n"]
    }

       ,{
    "cell_type": "markdown",
    "metadata": {},
    "source": [

    "\n",
    "\n",
    "## Glob in Python\n",
    "\n",
    "**glob** is a powerful tool in Python to help with file management and filtering. While **os** helps manage and create specific paths that are friendly to whatever machine they are used on, **glob** helps to filter through large datasets and pull out only files that are of interest. \n",
    "\n",
    "The `glob()` function uses the rules of Unix shell to help users organize their files. Unix shell follows fairly straight-forward rules to search for items, which you will explore below.\n",
    "\n",
    "### Search for a Specific Folder or File\n",
    "\n",
    "The `glob` function can be used to find just one folder or file. This can be done by just giving `glob` the path of the item you are trying to find. \n",
    "\n"]
    }

    , {
    "cell_type": "code",
    "execution_count": null,
    "metadata": {},
    "outputs": [],
    "source": [

    "# Get a specific directory\n",
    "file_list = glob(data_folder)\n",
    "\n",
    "file_list\n"]
    }

       ,{
    "cell_type": "markdown",
    "metadata": {},
    "source": [

    "\n",
    "\n",
    "\n",
    "\n",
    "\n",
    "\n",
    "\n",
    "This is not very useful, as you already have the data path if you are using it to search for something. \n",
    "\n",
    "Notice, however, that `glob` returns a list of all items that match your search, not as individual strings.\n",
    "\n"]
    }

    , {
    "cell_type": "code",
    "execution_count": null,
    "metadata": {},
    "outputs": [],
    "source": [

    "type(file_list)\n"]
    }

       ,{
    "cell_type": "markdown",
    "metadata": {},
    "source": [

    "\n",
    "\n",
    "\n",
    "\n",
    "\n",
    "\n",
    "\n",
    "You can also use the `glob()` function in combination with the `os.path.join()` function to create lists of paths that are built programmatically. \n",
    "\n"]
    }

    , {
    "cell_type": "code",
    "execution_count": null,
    "metadata": {},
    "outputs": [],
    "source": [

    "# Create a list containing a specific file name\n",
    "glob(os.path.join(data_folder, 'San-Diego', 'San-Diego-1999-temp.csv'))\n"]
    }

       ,{
    "cell_type": "markdown",
    "metadata": {},
    "source": [

    "\n",
    "\n",
    "\n",
    "\n",
    "\n",
    "\n",
    "\n",
    "### `*` Operator\n",
    "\n",
    "`glob` uses different operators to broaden its searching abilities. The primary operator is `*`. \n",
    "\n",
    "The `*` is a sort of wildcard that can be used to search for items that have differences in their names. Whatever text doesn't match can be replaced by a `*`. \n",
    "\n",
    "For example, if you want every file in a directory to be returned to you, you can put a `*` at the end of a directory path.  \n",
    "\n",
    "`glob` will return a list of all of the files in that directory.  \n",
    "\n"]
    }

    , {
    "cell_type": "code",
    "execution_count": null,
    "metadata": {},
    "outputs": [],
    "source": [

    "# Get list of all files/dirs in data folder\n",
    "glob(os.path.join(data_folder, '*'))\n"]
    }

       ,{
    "cell_type": "markdown",
    "metadata": {},
    "source": [

    "\n",
    "\n",
    "\n",
    "\n",
    "\n",
    "\n",
    "\n"]
    }

    , {
    "cell_type": "code",
    "execution_count": null,
    "metadata": {},
    "outputs": [],
    "source": [

    "# Get list of all files/dirs in San-Diego folder\n",
    "glob(os.path.join(data_folder, 'San-Diego', '*'))\n"]
    }

       ,{
    "cell_type": "markdown",
    "metadata": {},
    "source": [

    "\n",
    "\n",
    "\n",
    "\n",
    "\n",
    "\n",
    "\n",
    "If you only want `.csv` files, than `*.csv` will return every file that ends with `.csv`. \n",
    "\n"]
    }

    , {
    "cell_type": "code",
    "execution_count": null,
    "metadata": {},
    "outputs": [],
    "source": [

    "# Get only csv files\n",
    "glob(os.path.join(data_folder, 'San-Diego', '*.csv'))\n"]
    }

       ,{
    "cell_type": "markdown",
    "metadata": {},
    "source": [

    "\n",
    "\n",
    "\n",
    "\n",
    "\n",
    "\n",
    "\n",
    "If you only want `.csv` files with the number `2` somewhere in the file name, than `*2*.csv` will return that list. \n",
    "\n"]
    }

    , {
    "cell_type": "code",
    "execution_count": null,
    "metadata": {},
    "outputs": [],
    "source": [

    "# Use multiple wildcards\n",
    "glob(os.path.join(data_folder, 'San-Diego', '*2*.csv'))\n"]
    }

       ,{
    "cell_type": "markdown",
    "metadata": {},
    "source": [

    "\n",
    "\n",
    "\n",
    "\n",
    "\n",
    "\n",
    "\n",
    "Note that `2*.csv` would only return files that **start** with the number `2`. \n",
    "\n"]
    }

    , {
    "cell_type": "code",
    "execution_count": null,
    "metadata": {},
    "outputs": [],
    "source": [

    "# Create empty list (no file names begin with 2)\n",
    "glob(os.path.join(data_folder, 'San-Diego', '2*.csv'))\n"]
    }

       ,{
    "cell_type": "markdown",
    "metadata": {},
    "source": [

    "\n",
    "\n",
    "\n",
    "\n",
    "\n",
    "\n",
    "\n",
    "The additional asterix in front of `2` (e.g. `*2*.csv`) allows the `2` to be anywhere in the path. \n",
    "\n",
    "The `*` is meant to replace all text that does not matter to your search. \n",
    "\n",
    "### Recursive Searches\n",
    "\n",
    "If you are trying to operate on files across multiple directories, you can use multiple `*` in a file path to indicate that you want every file in all folders in a directory. \n",
    "\n",
    "The first `*` is to access all directories in the starting directory (e.g. `data_folder`). \n",
    "\n",
    "This followed by the second `*` operator, which loops through all subdirectories to make a list of all their contents.\n",
    "\n"]
    }

    , {
    "cell_type": "code",
    "execution_count": null,
    "metadata": {},
    "outputs": [],
    "source": [

    "# Search recursively through both site folders\n",
    "glob(os.path.join(data_folder, '*', '*'))\n"]
    }

       ,{
    "cell_type": "markdown",
    "metadata": {},
    "source": [

    "\n",
    "\n",
    "\n",
    "\n",
    "\n",
    "\n",
    "\n",
    "### Sorting `glob` Lists\n",
    "\n",
    "Notice that the lists provided by `glob` are not sorted. \n",
    "\n"]
    }

    , {
    "cell_type": "code",
    "execution_count": null,
    "metadata": {},
    "outputs": [],
    "source": [

    "# Get list of CSVs in Sonoma directory\n",
    "sonoma_files = glob(os.path.join(data_folder, 'Sonoma', '*.csv'))\n",
    "sonoma_files\n"]
    }

       ,{
    "cell_type": "markdown",
    "metadata": {},
    "source": [

    "\n",
    "\n",
    "\n",
    "\n",
    "\n",
    "\n",
    "\n",
    "If it's important for a list to be in a certain order, then always make sure to sort the list returned by `glob` using the `.sort()` method for lists.\n",
    "\n"]
    }

    , {
    "cell_type": "code",
    "execution_count": null,
    "metadata": {},
    "outputs": [],
    "source": [

    "# Sort glob list\n",
    "sonoma_files.sort()\n"]
    }

       ,{
    "cell_type": "markdown",
    "metadata": {},
    "source": [

    "\n",
    "\n"]
    }

    , {
    "cell_type": "code",
    "execution_count": null,
    "metadata": {},
    "outputs": [],
    "source": [

    "# Another option for sorting lists\n",
    "sonoma_files = sorted(glob(os.path.join(data_folder, 'Sonoma', '*.csv')))\n",
    "sonoma_files\n"]
    }

       ,{
    "cell_type": "markdown",
    "metadata": {},
    "source": [

    "\n",
    "\n",
    "\n",
    "\n",
    "\n",
    "\n",
    "\n",
    "Note that sorting can sometimes work differently than you may think, so check your sorted list before you move on with your project.  \n",
    "\n",
    "For example, if two items have identical path names, but one ends in `10` and the other ends in `1`, sometimes the file ending in `10` will be put above the file ending in `1`. Always double check!\n",
    "\n",
    "### Why Sort `glob` Lists?\n",
    "\n",
    "The order in which `glob` returns files from a folder can vary drastically.  Depending on the operating system being used, or the way the files are stored, different people may get results from a `glob` list in different orders. \n",
    "\n",
    "This can lead to data errors when running projects across computers. \n",
    "\n",
    "For example, consider how sorting a `glob` list changes what files you access when getting an index from the list, such as index `[4]` to access the 5th item in the list.  \n",
    "\n"]
    }

    , {
    "cell_type": "code",
    "execution_count": null,
    "metadata": {},
    "outputs": [],
    "source": [

    "unsorted_sonoma = glob(os.path.join(data_folder, 'Sonoma', '*'))\n",
    "print(unsorted_sonoma[4])\n"]
    }

       ,{
    "cell_type": "markdown",
    "metadata": {},
    "source": [

    "\n",
    "\n",
    "\n"]
    }

    , {
    "cell_type": "code",
    "execution_count": null,
    "metadata": {},
    "outputs": [],
    "source": [

    "# Indexes change once a list is sorted!\n",
    "sorted_sonoma = glob(os.path.join(data_folder, 'Sonoma', '*'))\n",
    "sorted_sonoma.sort() \n",
    "\n",
    "print(sorted_sonoma[4])\n"]
    }

       ,{
    "cell_type": "markdown",
    "metadata": {},
    "source": [

    "\n",
    "\n",
    "\n",
    "### Using Ranges\n",
    "\n",
    "In addition to using `*` to specify which parts of a file name are important to you, you can use `[]` to specify a range of characters to search for. \n",
    "\n",
    "For example, you can create a search for all files with 2001 to 2003 in the name by using `*200` and adding `[1-3]*` to it. \n",
    "\n"]
    }

    , {
    "cell_type": "code",
    "execution_count": null,
    "metadata": {},
    "outputs": [],
    "source": [

    "# Get files for 2001-2003\n",
    "glob(os.path.join(data_folder, '*', '*200[1-3]*'))\n"]
    }

       ,{
    "cell_type": "markdown",
    "metadata": {},
    "source": [

    "\n",
    "\n",
    "\n",
    "\n",
    "\n",
    "\n",
    "\n",
    "This is not just limited to numbers. `[d-q]` would also filter results for characters between the letters `d` and `q`. \n",
    "\n",
    "Note, however, that this search range is for characters only, not strings. \n",
    "\n",
    "For example, you can search for numbers 2-7 with `[2-7]` but you would not be able to search for numbers `[2-14]` because `14` is more than one character.  \n",
    "\n",
    "Notice below that the search does not work correctly because `[2001-2003]` are more than one character.\n",
    "\n"]
    }

    , {
    "cell_type": "code",
    "execution_count": null,
    "metadata": {},
    "outputs": [],
    "source": [

    "# Get incorrect range for 2002-2003\n",
    "glob(os.path.join(data_folder, '*', '*[2001-2003]*'))\n"]
    }

       ,{
    "cell_type": "markdown",
    "metadata": {},
    "source": [

    "\n",
    "\n",
    "\n",
    "\n",
    "\n",
    "\n",
    "\n",
    "### `?` Operator\n",
    "\n",
    "The `?` operator functions similarly to the `*` operator but is used for a single character. \n",
    "\n",
    "If one character in the file name can be variable, but everything else must stay the same, than `?` is a good way to just replace that one character. \n",
    "\n"]
    }

    , {
    "cell_type": "code",
    "execution_count": null,
    "metadata": {},
    "outputs": [],
    "source": [

    "# ? operator used for last value in year\n",
    "glob(os.path.join(data_folder, 'Sonoma', '*200?-temp.csv'))\n"]
    }

       ,{
    "cell_type": "markdown",
    "metadata": {},
    "source": [

    "\n",
    "\n",
    "\n",
    "\n",
    "\n",
    "\n",
    "\n",
    "`?` is not limited to one use per search and can be used to replace more than one character in a query. \n",
    "\n"]
    }

    , {
    "cell_type": "code",
    "execution_count": null,
    "metadata": {},
    "outputs": [],
    "source": [

    "# Multiple ? operators\n",
    "glob(os.path.join(data_folder, 'Sonoma', '*19??-temp.csv'))\n"]
    }

       ,{
    "cell_type": "markdown",
    "metadata": {},
    "source": [

    "\n",
    "\n",
    "\n",
    "\n",
    "\n",
    "\n",
    "\n",
    "### Saving a `glob` Output to a Variable\n",
    "\n",
    "In order to use the output of `glob` later in a script, be sure to save it to a variable! It can be done easily by just assigning the `glob` function output a variable name.\n",
    "\n"]
    }

    , {
    "cell_type": "code",
    "execution_count": null,
    "metadata": {},
    "outputs": [],
    "source": [

    "sd_data = glob(os.path.join(data_folder, 'San-Diego', '*'))\n",
    "sd_data.sort()\n",
    "\n",
    "sd_data\n"]
    }

       ,{
    "cell_type": "markdown",
    "metadata": {},
    "source": [

    "\n",
    "\n",
    "\n",
    "\n",
    "\n",
    "\n",
    "\n",
    "## `os` Advanced Functionality\n",
    "\n",
    "`os` is another very powerful tool and has additional functionality that can be useful when dealing with file paths, such as advanced parsing abilities. \n",
    "\n",
    "For example, `os.path.normpath()` is a great way to clean up file paths. It takes out any unnecessary characters to make the path more easily read. \n",
    "\n",
    "It is a good way to make sure your path is properly formatted before using other `os` functions on the path. \n",
    "\n"]
    }

    , {
    "cell_type": "code",
    "execution_count": null,
    "metadata": {},
    "outputs": [],
    "source": [

    "# Example of normpath cleaning up path\n",
    "example_path = \"home//user//example_dir\"\n",
    "os.path.normpath(example_path)\n"]
    }

       ,{
    "cell_type": "markdown",
    "metadata": {},
    "source": [

    "\n",
    "\n",
    "\n",
    "\n",
    "\n",
    "\n",
    "\n",
    "`os.path.commonpath()` is a very useful when combined with `glob`. This function will take a list of file paths and find the lowest directory that all the files have in common. \n",
    "\n",
    "So if there were two files, one stored in `home/user/dir/dir2/example.txt` and one stored in `home/user/dir/example.txt`, then `os.path.commonpath()` would return `home/user/dir` as it's the lowest common directory the two folders share. \n",
    "\n"]
    }

    , {
    "cell_type": "code",
    "execution_count": null,
    "metadata": {},
    "outputs": [],
    "source": [

    "# Print list of files\n",
    "sd_data\n"]
    }

       ,{
    "cell_type": "markdown",
    "metadata": {},
    "source": [

    "\n",
    "\n",
    "\n",
    "\n",
    "\n",
    "\n",
    "\n"]
    }

    , {
    "cell_type": "code",
    "execution_count": null,
    "metadata": {},
    "outputs": [],
    "source": [

    "# Get a shared directory from a list of files\n",
    "os.path.commonpath(sd_data)\n"]
    }

       ,{
    "cell_type": "markdown",
    "metadata": {},
    "source": [

    "\n",
    "\n",
    "\n",
    "\n",
    "\n",
    "\n",
    "\n",
    "`os.path.basename()` finds the last section of a path and returns that. If a file path is passed in, the file name will be parsed out and returned. \n",
    "\n"]
    }

    , {
    "cell_type": "code",
    "execution_count": null,
    "metadata": {},
    "outputs": [],
    "source": [

    "# Print normalized path\n",
    "os.path.normpath(data_folder)\n"]
    }

       ,{
    "cell_type": "markdown",
    "metadata": {},
    "source": [

    "\n",
    "\n",
    "\n",
    "\n",
    "\n",
    "\n",
    "\n"]
    }

    , {
    "cell_type": "code",
    "execution_count": null,
    "metadata": {},
    "outputs": [],
    "source": [

    "# Get the last part of a file path with basename\n",
    "os.path.basename(os.path.normpath(data_folder))\n"]
    }

       ,{
    "cell_type": "markdown",
    "metadata": {},
    "source": [

    "\n",
    "\n",
    "\n",
    "\n",
    "\n",
    "\n",
    "\n",
    "`os.path.split()` will split a path into two parts:\n",
    "\n",
    "1. the last part of the path.\n",
    "2. the rest of the path. \n",
    "\n",
    "It returns the same output as `os.path.basename()` with the addition of the rest of the path that was left out as another .\n",
    "\n"]
    }

    , {
    "cell_type": "code",
    "execution_count": null,
    "metadata": {},
    "outputs": [],
    "source": [

    "# Get the last part of a file path and the rest of the path\n",
    "os.path.split(os.path.normpath(data_folder))\n"]
    }

       ,{
    "cell_type": "markdown",
    "metadata": {},
    "source": [

    "\n",
    "\n",
    "\n",
    "\n",
    "\n",
    "\n",
    "\n",
    "You can then use indexing on the result to get each piece of the split path.\n",
    "\n"]
    }

    , {
    "cell_type": "code",
    "execution_count": null,
    "metadata": {},
    "outputs": [],
    "source": [

    "os.path.split(os.path.normpath(data_folder))[0]\n"]
    }

       ,{
    "cell_type": "markdown",
    "metadata": {},
    "source": [

    "\n",
    "\n",
    "\n",
    "\n",
    "\n",
    "\n",
    "\n"]
    }

    , {
    "cell_type": "code",
    "execution_count": null,
    "metadata": {},
    "outputs": [],
    "source": [

    "os.path.split(os.path.normpath(data_folder))[1]\n"]
    }

       ,{
    "cell_type": "markdown",
    "metadata": {},
    "source": [

    "\n",
    "\n",
    "\n",
    "\n",
    "\n",
    "\n",
    "\n",
    "## String Manipulation \n",
    "\n",
    "Recall that when you create a file path using `os.path.join()`, it will properly format a string of the file path, so it can be used on any operating systems.\n",
    "\n",
    "Note, however, that the file path is still just a string. Thus, you can parse file paths, just like you would strings, and extract information from them that you may need for a project. \n",
    "\n",
    "`.split()` is a built-in **Python** function that splits a string into a list of strings based on a separator \n",
    "character, and can be used in combination with `os.sep` to separate directories in file paths into their base parts. `os.sep`is a data value stored in `os` that will return the character used to separate pathname components, such as directory or file names. This is `\\` for Windows and `/` for POSIX systems, such as Mac or Linux.\n",
    "\n"]
    }

    , {
    "cell_type": "code",
    "execution_count": null,
    "metadata": {},
    "outputs": [],
    "source": [

    "# Separate a path into parts\n",
    "file_path_list = data_folder.split(os.sep)\n",
    "file_path_list\n"]
    }

       ,{
    "cell_type": "markdown",
    "metadata": {},
    "source": [

    "\n",
    "\n",
    "\n",
    "\n",
    "\n",
    "\n",
    "\n"]
    }

    , {
    "cell_type": "code",
    "execution_count": null,
    "metadata": {},
    "outputs": [],
    "source": [

    "file_path_list[2]\n"]
    }

       ,{
    "cell_type": "markdown",
    "metadata": {},
    "source": [

    "\n",
    "\n",
    "\n",
    "\n",
    "\n",
    "\n",
    "\n",
    "In addition to built-in functions, file paths can be parsed with `string[start_index:end_index]` like a normal string. This can help get important infromation from a file path, such as a date.\n",
    "\n"]
    }

    , {
    "cell_type": "code",
    "execution_count": null,
    "metadata": {},
    "outputs": [],
    "source": [

    "# Print list of files\n",
    "sd_data\n"]
    }

       ,{
    "cell_type": "markdown",
    "metadata": {},
    "source": [

    "\n",
    "\n",
    "\n",
    "\n",
    "\n",
    "\n",
    "\n"]
    }

    , {
    "cell_type": "code",
    "execution_count": null,
    "metadata": {},
    "outputs": [],
    "source": [

    "# Get file name\n",
    "year_path = sd_data[0]\n",
    "file_name = os.path.basename(year_path)\n",
    "print(file_name)\n"]
    }

       ,{
    "cell_type": "markdown",
    "metadata": {},
    "source": [

    "\n",
    "\n",
    "\n"]
    }

    , {
    "cell_type": "code",
    "execution_count": null,
    "metadata": {},
    "outputs": [],
    "source": [

    "# Parse a date from file name\n",
    "year = file_name[10:14]\n",
    "print(year)\n"]
    }

       ,{
    "cell_type": "markdown",
    "metadata": {},
    "source": [

    "\n",
    "\n",
    "\n",
    "Notice that the range includes the first index value but not the second index value (e.g. `1999` are index values 10 through 13). \n",
    "\n",
    "Think about how you can use the same string parsing syntax to get the site name!\n",
    "\n",
    "You have now learned the essentials of **glob** and **os** to create custom lists of files and directories to manipulate and parse file names and directories, which can come in handy for future projects. \n",
    "\n"]
    }

    
    ],
    "metadata": {
    "language_info": {
    "name": "python"
    },
    "orig_nbformat": 4
    },
    "nbformat": 4,
    "nbformat_minor": 2
    } 

    