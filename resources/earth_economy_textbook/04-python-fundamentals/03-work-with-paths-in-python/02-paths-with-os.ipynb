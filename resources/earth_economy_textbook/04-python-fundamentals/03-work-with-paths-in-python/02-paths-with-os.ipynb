{
    "cells": [
        
       {
    "cell_type": "markdown",
    "metadata": {},
    "source": [

    "\n",
    "<div class='notice--success' markdown=\"1\">\n",
    "\n",
    "## <i class=\"fa fa-graduation-cap\" aria-hidden=\"true\"></i> Learning Objectives\n",
    "\n",
    "* Use the earthpy attribute `et.io.HOME` to find the home directory on any computer.\n",
    "* Use `os.path.join()` to create paths that will work on Windows, Mac and Linux.\n",
    "* Use `os.path.exists()` to ensure a file path exists.\n",
    "* Set your working directory in **Python** using `os.chdir()`.\n",
    "\n",
    "</div>\n",
    "\n",
    "You will need the **os** and the **earthpy** packages to run the code on this page.\n",
    "\n",
    "On this page, your goal is to create and set the **earth-analytics** directory\n",
    "as your working directory, using code that will work on any computer.\n",
    "\n",
    "This **earth-analytics** directory should exist in your home directory. The path will look\n",
    "something like this: `/home/user-name/earth-analytics` following the example on the previous page of this chapter.\n",
    "\n",
    "To create and construct this working directory, you will use several functions\n",
    "located in the **os** **Python** package. You will also use **earthpy** package.\n",
    "\n"]
    }

    , {
    "cell_type": "code",
    "execution_count": null,
    "metadata": {},
    "outputs": [],
    "source": [

    "# Import necessary packages\n",
    "import os\n",
    "\n",
    "import earthpy as et\n"]
    }

       ,{
    "cell_type": "markdown",
    "metadata": {},
    "source": [

    "\n",
    "\n",
    "## Paths in Python\n",
    "\n",
    "It is important to consider paths and working directories when setting up\n",
    "projects in python. The ideal scenario is that your code can run on any machine.\n",
    "\n",
    "Ensuring that your code can run on multiple machines makes it easier to:\n",
    "\n",
    "1. set things up in the rare case that your machine dies.\n",
    "2. move your workflow to a cloud environment or high performance computing infrastructure.\n",
    "2. share your project and collaborate with others.\n",
    "\n",
    "There are a few things to consider when creating paths that can make reproducibility\n",
    "challenging.\n",
    "\n",
    "Paths are constructed differently on different operating systems. For example, the\n",
    "path to **earth-analytics/data** in the home directory that you examined in the previous lesson looks like this in **Python**:\n",
    "\n",
    "* **/home/username/earth-analytics/data** on Mac and Linux and\n",
    "* **C:\\\Users\\\username\\\earth-analytics\\\data** on Windows\n",
    "\n",
    "The noticeable differences are the identification of the home directory (e.g. `/home/username` or `C:\\Users\\username`) and the direction and number of slashes. \n",
    "\n",
    "This path `/home/username/earth-analytics/data` will NOT work on Windows. \n",
    "\n",
    "And this path `C:\\Users\\username\\earth-analytics\\data` will not work on Mac or Linux. \n",
    "\n",
    "Lucky for you, there are a suite of functions that you can use to construct paths that will ensure that your code works across platforms. On this page, you will learn how these functions help you to handle differences in the identification of the home directory and the differences in slashes between operating systems. \n",
    "\n",
    "Using these functions will make it easier for you to collaborate and share your code with others (and even yourself!) regardless of the operating system that is used to run the code.  \n",
    "\n",
    "\n",
    "## Build Directory Paths that Work Across Operating Systems Using os.path.join\n",
    "\n",
    "The **path** module within the **os** package contains a `join()` function that\n",
    "will create a path from a list of strings. When this function is run, it will\n",
    "adapt to the operating system that is calling **Python**.\n",
    "\n",
    "`os.path.join` takes as many strings as you provide it. It reads each string as a\n",
    "directory name (or file name) and then creates an output path by concatenating the input strings.\n",
    "\n",
    "`os.path.join(\"dir1\", \"dir2\", \"dir3\", \"file-name\")`\n",
    "\n",
    "The example below creates a relative path to the `data` subdirectory within the `earth-analytics` directory.\n",
    "\n"]
    }

    , {
    "cell_type": "code",
    "execution_count": null,
    "metadata": {},
    "outputs": [],
    "source": [

    "# Direction and number of slashes are handled by the function\n",
    "os.path.join(\"earth-analytics\", \"data\")\n"]
    }

       ,{
    "cell_type": "markdown",
    "metadata": {},
    "source": [

    "\n",
    "\n",
    "\n",
    "\n",
    "\n",
    "\n",
    "\n",
    "The `join()` function from the **os.path** module creates a path in the format required by the operating system upon which the code is being run (i.e. whatever operating system your\n",
    "computer is running). \n",
    "\n",
    "Constructing a path using the `join()` function\n",
    "will save you time when you (or others!) move your code to another computer, as you will not\n",
    "have to manually create or fix paths.\n",
    "\n",
    "<i class=\"fa fa-exclamation-circle\"></i> **IMPORTANT** You can create paths that do not exist on\n",
    "your computer using this approach. So be careful about ensuring that you have\n",
    "created the necessary directories, spelled them correctly, and that they are in the correct order in the path (i.e. correct parent directories). `os.path.join` \n",
    "does does not actually test to ensure that the path exists!\n",
    "\n",
    "Because you can potentially create a path that doesn't exist on your computer,\n",
    "you can check that a path exists using the `os.path.exists()` function. It\n",
    "returns a **boolean** value of True or False, depending on whether the path does in fact exist\n",
    "on your computer.\n",
    "\n"]
    }

    , {
    "cell_type": "code",
    "execution_count": null,
    "metadata": {},
    "outputs": [],
    "source": [

    "# Check that a directory exists on your computer\n",
    "my_path = os.path.join(\"earth-analytics\", \"data\")\n",
    "\n",
    "# Boolean output (True or False)\n",
    "os.path.exists(my_path)\n"]
    }

       ,{
    "cell_type": "markdown",
    "metadata": {},
    "source": [

    "\n",
    "\n",
    "\n",
    "\n",
    "\n",
    "\n",
    "\n",
    "In the example above, you have created a path. However, that path may or may not already exist on your computer. \n",
    "\n",
    "If **Python** cannot find the directory, there are several issues to consider:  \n",
    "\n",
    "1. Your working directory may not be set properly, so that it can find the relative path.\n",
    "2. You have a misspelling in you path. Or, the case (e.g. upper, lower) is incorrect.\n",
    "3. The directory has not been created on your computer.\n",
    "\n",
    "Note that relative paths will only return True if a working directory has been set correctly. This is because relative paths are (as named) relative to some directory. Thus, you want to set the working directory to be the starting point for relative paths that you want to build in your code.  \n",
    "\n",
    "In the example above, the relative path returns a False because the working directory has not yet been set. \n",
    "\n",
    "### Check and Set Your Working Directory Using OS\n",
    "\n",
    "You can use the **os** package to check and set your working directory. This is another good check to implement when you get \"a file not found error\" in your code.\n",
    "\n",
    "There are two functions in the **os** package that help you accomplish these tasks:\n",
    "\n",
    "* `getcwd()`: CWD stands for Current Working Directory. This function allows you to see what your current working directory is.\n",
    "* `chdir(\"path-to-dir\")`: Short for *CH*ange *DIR*ectory, this function allows you to set the current working directory to a path of your choice.  \n",
    "\n",
    "\n",
    "## Check Your Current Working Directory\n",
    "\n",
    "Check your current working directory using `os.getcwd()`. What does the output look like?\n",
    "\n",
    "In the example below, you can see some example output from the computer that is being used to write this lesson that you are reading (which is in a **Jupyter Notebook** file!). \n",
    "\n",
    "Do you notice any characteristics of this path that might make it difficult to run on another computer?\n",
    "\n",
    "`os.getcwd()`\n",
    "\n",
    "Output\n",
    "`/home/username/Documents/github/earth-analytics-lessons`\n",
    "\n",
    "1. The path above has a specific username in it.\n",
    "2. It also has subdirectories including **Documents** and **github** that may or may not be on another computer.\n",
    "3. Finally there are slashes that create that path. Notice that these slashes could work on a Mac but they might not work on Windows.\n",
    "\n",
    "This working directory could be problematic for both your future self and others, as it\n",
    "may not run on other machines.\n",
    "\n",
    "\n",
    "## Use earthpy HOME Attribute to Locate Your Home Directory\n",
    "\n",
    "You could set the working directory using `os.chdir()` to your home directory. \n",
    "\n",
    "This could solve some of your problems, if the `earth-analytics` directory that you want to use exists within your\n",
    "home directory (remember that all computers have a home directory). \n",
    "\n",
    "So what about just using `os.chdir(\"~/\")`?\n",
    "\n",
    "The above syntax mimics what you might use in **Bash** to navigate to your home\n",
    "directory; however, this syntax unfortunately does not work in **Python**.\n",
    "\n",
    "Instead, you can use **io** module of the **earthpy** package, which contains a **HOME** attribute that will locate your home directory. \n",
    "\n"]
    }

    , {
    "cell_type": "code",
    "execution_count": null,
    "metadata": {},
    "outputs": [],
    "source": [

    "# Find your home directory\n",
    "et.io.HOME\n"]
    }

       ,{
    "cell_type": "markdown",
    "metadata": {},
    "source": [

    "\n",
    "\n",
    "\n",
    "\n",
    "\n",
    "\n",
    "\n",
    "When you call `et.io.HOME`, it provides you with a path that is the home\n",
    "directory path on your computer. \n",
    "\n",
    "This path will account for whatever operating system it is run on, so it will work on any computer. \n",
    "\n",
    "You can check to ensure that the directory returned by `et.io.HOME` exists using `os.path.exists()`.\n",
    "\n",
    "In the example below, the **HOME** attribute is provided as an input to the function `os.path.exists`. It\n",
    "returns a **boolean** value of True which means that the path does in fact exist on your computer.\n",
    "\n"]
    }

    , {
    "cell_type": "code",
    "execution_count": null,
    "metadata": {},
    "outputs": [],
    "source": [

    "# Check if the home directory exists (of course it does!)\n",
    "os.path.exists(et.io.HOME)\n"]
    }

       ,{
    "cell_type": "markdown",
    "metadata": {},
    "source": [

    "\n",
    "\n",
    "\n",
    "\n",
    "\n",
    "\n",
    "\n",
    "For the rest of this textbook, you will use the **HOME** attribute of **earthpy** to set the working directory to your home directory. \n",
    "\n",
    "Then, you will be able to access files and subdirectories within the **earth-analytics** directory,\n",
    "which should be located in your home directory on your computer.\n",
    "\n",
    "\n",
    "## Construct a Path to the earth-analytics Directory in Your Home Directory\n",
    "\n",
    "Now you will implement some useful tricks to construct the path to the\n",
    "**earth-analytics** directory within your home directory using `et.io.HOME` and `os.path.join`.\n",
    "\n",
    "This path should work on any machine regardless of the operating system, given it is\n",
    "constructed on-the-fly by **Python**.\n",
    "\n"]
    }

    , {
    "cell_type": "code",
    "execution_count": null,
    "metadata": {},
    "outputs": [],
    "source": [

    "# Create a path to the home/earth-analytics directory on your computer\n",
    "os.path.join(et.io.HOME, \"earth-analytics\")\n"]
    }

       ,{
    "cell_type": "markdown",
    "metadata": {},
    "source": [

    "\n",
    "\n",
    "\n",
    "\n",
    "\n",
    "\n",
    "\n",
    "You can check that the path does in fact exist. If the path does not exist, you will get a return of `False`. \n",
    "\n",
    "For example, if you did not already have an `earth-analytics` directory in your home directory, then the output would be `False`, as shown below. \n",
    "\n"]
    }

    , {
    "cell_type": "code",
    "execution_count": null,
    "metadata": {},
    "outputs": [],
    "source": [

    "my_ea_path = os.path.join(et.io.HOME, \"earth-analytics\")\n",
    "\n",
    "# Does the path exist?\n",
    "os.path.exists(my_ea_path)\n"]
    }

       ,{
    "cell_type": "markdown",
    "metadata": {},
    "source": [

    "\n",
    "Returns:\n",
    "\n",
    "`False`\n",
    "\n",
    "In this example, an `earth-analytics` directory does not exist in your home directory, but you can create the this directory using the **os** module! \n",
    "\n",
    "## Create a Directory Using the os Package in Python\n",
    "\n",
    "You can use the `os.mkdir(\"path/to/dir/here\")` function to create a directory in\n",
    "**Python**. This function is helpful if you need to create a new directory that\n",
    "doesn't already exist. \n",
    "\n",
    "However, as you have learned above, this function will\n",
    "only work across operating systems, if you construct\n",
    "the path with `os.path.join()`.\n",
    "\n"]
    }

    , {
    "cell_type": "code",
    "execution_count": null,
    "metadata": {},
    "outputs": [],
    "source": [

    "my_ea_path = os.path.join(et.io.HOME, \"earth-analytics\")\n",
    "os.mkdir(my_ea_path)\n"]
    }

       ,{
    "cell_type": "markdown",
    "metadata": {},
    "source": [

    "\n",
    "Note that the code above to create a directory will *fail* if that directory\n",
    "already exists. \n",
    "\n",
    "In a later chapter of this textbook, you will learn how to use \n",
    "conditional statements (referred to as `if` statements) to write code that accounts for this issue, so that your code does not attempt to make directories that already exist. \n",
    "\n",
    "## Set Your Working Directory to home/earth-analytics\n",
    "\n",
    "Now that you have the basics of good project structure out of the way, you can get your project directory set up. \n",
    "\n",
    "By now, you have already created the `earth-analytics` directory (in your home directory) where you will store data and files used in the textbook. \n",
    "\n",
    "You will now set that **project directory** as your **working directory** in **Python** using\n",
    "the following syntax, which provides the output of `os.path.join` as input into the the `os.chdir` function: \n",
    "\n",
    "`os.chdir(os.path.join(et.io.HOME, 'earth-analytics'))`\n",
    "\n",
    "Breaking the above commands down, you are doing the following.\n",
    "\n",
    "1. `os.chdir()`: remember from above that this function changes the working directory. However, you need to tell **Python** the path of the working directory that you want to use.\n",
    "2. `os.path.join()`: this function combines strings or path variables into a full path that will work on any operating system.\n",
    "3. `et.io.HOME`: this attribute provides the path for the home directory on your (or any) computer.\n",
    "\n",
    "Combing the three commands above in a nested structure will:\n",
    "1. create the path for the `home/earth-analytics` directory and\n",
    "2. change the working directory to that path.\n",
    "\n",
    "If the nested nature of the above command seems confusing, you can break it\n",
    "down by running each step individually.\n",
    "\n",
    "\n"]
    }

    , {
    "cell_type": "code",
    "execution_count": null,
    "metadata": {},
    "outputs": [],
    "source": [

    "# Check the current working directory\n",
    "os.getcwd()\n"]
    }

       ,{
    "cell_type": "markdown",
    "metadata": {},
    "source": [

    "\n",
    "\n",
    "\n",
    "\n",
    "\n",
    "\n",
    "\n"]
    }

    , {
    "cell_type": "code",
    "execution_count": null,
    "metadata": {},
    "outputs": [],
    "source": [

    "# Find the path to your home directory\n",
    "et.io.HOME\n"]
    }

       ,{
    "cell_type": "markdown",
    "metadata": {},
    "source": [

    "\n",
    "\n",
    "\n",
    "\n",
    "\n",
    "\n",
    "\n"]
    }

    , {
    "cell_type": "code",
    "execution_count": null,
    "metadata": {},
    "outputs": [],
    "source": [

    "# Create a path to earth-analytics that will work on any computer\n",
    "os.path.join(et.io.HOME, 'earth-analytics')\n"]
    }

       ,{
    "cell_type": "markdown",
    "metadata": {},
    "source": [

    "\n",
    "\n",
    "\n",
    "\n",
    "\n",
    "\n",
    "\n"]
    }

    , {
    "cell_type": "code",
    "execution_count": null,
    "metadata": {},
    "outputs": [],
    "source": [

    "# Change the directory to that path\n",
    "os.chdir(os.path.join(et.io.HOME, 'earth-analytics'))\n"]
    }

       ,{
    "cell_type": "markdown",
    "metadata": {},
    "source": [

    "\n",
    "\n"]
    }

    , {
    "cell_type": "code",
    "execution_count": null,
    "metadata": {},
    "outputs": [],
    "source": [

    "# Check the current working directory again\n",
    "os.getcwd()\n"]
    }

       ,{
    "cell_type": "markdown",
    "metadata": {},
    "source": [

    "\n",
    "\n",
    "\n",
    "\n",
    "\n",
    "\n",
    "\n",
    "Recall that if the directory does not already exist (e.g. `earth-analytics` in your home directory), then `os.chdir()` will fail when you try to change to that directory. \n",
    "\n",
    "If needed, you can review the section above on creating a directory using `os.mkdir()` to create an `earth-analytics` directory in your home directory. \n",
    "\n"]
    }

    
    ],
    "metadata": {
    "language_info": {
    "name": "python"
    },
    "orig_nbformat": 4
    },
    "nbformat": 4,
    "nbformat_minor": 2
    } 

    