{
    "cells": [
        
       {
    "cell_type": "markdown",
    "metadata": {},
    "source": [

    "\n",
    "\n",
    "<div class='notice--success' markdown=\"1\">\n",
    "\n",
    "## <i class=\"fa fa-ship\" aria-hidden=\"true\"></i> Chapter Four - Text File Formats for Earth Data Science\n",
    "\n",
    "In this chapter, you will learn about common text file formats for earth data science workflows including Markdown, text (.txt, .csv) files, and YAML (Yet Another Markup Language). \n",
    "\n",
    "After completing this chapter, you will be able to:\n",
    "\n",
    "* Explain what the `Markdown` format is and describe its role in the documentation of earth data science workflows.\n",
    "* Use basic `Markdown` syntax to format text in `Jupyter Notebook` files.\n",
    "* Describe how text (.txt) and CSV files can be used for scientific data.\n",
    "* Explain how YAML is used to support earth data science workflows.\n",
    "\n",
    "\n",
    "## <i class=\"fa fa-check-square-o fa-2\" aria-hidden=\"true\"></i> What You Need\n",
    "\n",
    "Be sure that you have completed the previous chapter on <a href=\"{{ site.url }}/courses/intro-to-earth-data-science/open-reproducible-science/jupyter-python/\">Jupyter Notebook</a>.\n",
    "\n",
    "</div>\n",
    "\n"]
    }

    
    ],
    "metadata": {
    "language_info": {
    "name": "python"
    },
    "orig_nbformat": 4
    },
    "nbformat": 4,
    "nbformat_minor": 2
    } 

    