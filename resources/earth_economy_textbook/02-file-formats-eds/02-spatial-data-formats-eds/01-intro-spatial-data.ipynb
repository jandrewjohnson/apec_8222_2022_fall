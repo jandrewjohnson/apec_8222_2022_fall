{
    "cells": [
        
       {
    "cell_type": "markdown",
    "metadata": {},
    "source": [

    "\n",
    "\n",
    "<div class='notice--success' markdown=\"1\">\n",
    "\n",
    "## <i class=\"fa fa-ship\" aria-hidden=\"true\"></i> Chapter Five - Spatial Data Formats for Earth Data Science\n",
    "\n",
    "In this chapter, you will learn about the two primary spatial data formats that are useful for earth data science, vector and raster. \n",
    "\n",
    "After completing this chapter, you will be able to:\n",
    "\n",
    "* Open spatial data in **Python**, including shapefiles using **Geopandas** - `gpd.read_file()` and raster data using **Rasterio** in **Python**.\n",
    "* Plot spatial data in **Python**, including shapfiles using **Geopandas** - `gpd.plot()`and raster data using **EarthPy**.\n",
    "* Describe the characteristics of 3 key vector data structures: points, lines and polygons.\n",
    "\n",
    "\n",
    "## <i class=\"fa fa-check-square-o fa-2\" aria-hidden=\"true\"></i> What You Need\n",
    "\n",
    "Be sure that you have completed the previous chapter on <a href=\"{{ site.url }}/courses/intro-to-earth-data-science/file-formats/use-text-files/\">text file formats</a>.\n",
    "\n",
    "</div>\n",
    "\n",
    "\n"]
    }

    
    ],
    "metadata": {
    "language_info": {
    "name": "python"
    },
    "orig_nbformat": 4
    },
    "nbformat": 4,
    "nbformat_minor": 2
    } 

    