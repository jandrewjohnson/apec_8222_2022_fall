{
    "cells": [
        
       {
    "cell_type": "markdown",
    "metadata": {},
    "source": [

    "\n",
    "\n",
    "<div class='notice--success' markdown=\"1\">\n",
    "\n",
    "## <i class=\"fa fa-graduation-cap\" aria-hidden=\"true\"></i> Learning Objectives\n",
    "\n",
    "After completing this page, you will be able to:\n",
    "\n",
    "* Create and rename directories using the `Jupyter Notebook` dashboard.\n",
    "* Move and delete directories using the `Jupyter Notebook` dashboard.\n",
    "\n",
    "</div>\n",
    " \n",
    "## Create Directories in Jupyter Notebook Dashboard\n",
    "\n",
    "To create a new directory using the `Jupyter Notebook` dashboard, you can click on the drop-down menu labeled `New`, and then select `Folder`.\n",
    "\n",
    "<figure>\n",
    " <a href=\"{{ site.url }}/images/courses/earth-analytics/bootcamp/jupyter-interface/create-folder.png\">\n",
    " <img src=\"{{ site.url }}/images/courses/earth-analytics/bootcamp/jupyter-interface/create-folder.png\" alt=\"You can create new directories in the Jupyter Notebook dashboard by clicking on New and then selecting Folder from the drop-down menu.\"></a>\n",
    " <figcaption> You can create new directories in the Jupyter dashboard by clicking on New and then selecting Folder from the drop-down menu.\n",
    " </figcaption>\n",
    "</figure>\n",
    "\n",
    "Note that new directories are created as `Untitled.ipynb`.\n",
    "\n",
    "\n",
    "## Rename Directories in Jupyter Notebook Dashboard\n",
    "\n",
    "To rename a directory, you can select the checkbox to the left of the directory name (e.g. `Untitled.ipynb`) and then clicking on the option `Rename`, which becomes available in the menu bar after the checkbox is enabled. \n",
    "\n",
    "<figure>\n",
    " <a href=\"{{ site.url }}/images/courses/earth-analytics/bootcamp/jupyter-interface/rename-folder.png\">\n",
    " <img src=\"{{ site.url }}/images/courses/earth-analytics/bootcamp/jupyter-interface/rename-folder.png\" alt=\"You can rename directories by selecting the checkbox to the left of the directory name and then clicking on the option Rename. \"></a>\n",
    " <figcaption> You can rename directories by selecting the checkbox to the left of the directory name and then clicking on the option Rename. \n",
    " </figcaption>\n",
    "</figure>\n",
    "\n",
    "\n",
    "## Move Directories in Jupyter Notebook Dashboard\n",
    "\n",
    "Similarly, you can move a directory by selecting the checkbox to the left of the directory name (e.g. `Untitled.ipynb`) and then clicking on the option `Move`.\n",
    "\n",
    "A new window will open for you to specify the new path for the directory. Once you have specified a path, you can click on `Move` to move the directory into the path you provided.  \n",
    "\n",
    "<figure>\n",
    " <a href=\"{{ site.url }}/images/earth-analytics/jupyter-interface/move-folder.png\">\n",
    " <img src=\"{{ site.url }}/images/earth-analytics/jupyter-interface/move-folder.png\" alt=\"You can move a directory by selecting the checkbox to the left of the directory name and then clicking on the option Move. A new window will open for you to specify the new path for the directory.\"></a>\n",
    " <figcaption> You can move a directory by selecting the checkbox to the left of the directory name and then clicking on the option Move. A new window will open for you to specify the new path for the directory.\n",
    " </figcaption>\n",
    "</figure>\n",
    "\n",
    "\n",
    "## Delete Directories in Jupyter Notebook Dashboard\n",
    "\n",
    "You can also delete directories in the `Jupyter Notebook` dashboard  by selecting the checkbox to the left of the directory name (e.g. `Untitled.ipynb`) and then clicking on the red trashcan icon that appears. \n",
    "\n",
    "Note that this action will delete any directory that is selected in the list, enabling you to delete multiple directories at one time. \n",
    "\n",
    "Another important thing to remember is that deleting a directory in the `Jupyter Notebook` dashboard will delete all of the directory's contents including any subdirectories. So take care when deleting directories! \n",
    "\n",
    "<figure>\n",
    " <a href=\"{{ site.url }}/images/earth-analytics/jupyter-interface/delete-folder.png\">\n",
    " <img src=\"{{ site.url }}/images/earth-analytics/jupyter-interface/delete-folder.png\" alt=\"You can delete directories by selecting the checkbox to the left of the directory name and then clicking on the red trashcan icon that appears.\"></a>\n",
    " <figcaption> You can delete directories by selecting the checkbox to the left of the directory name and then clicking on the red trashcan icon that appears.\n",
    " </figcaption>\n",
    "</figure>\n",
    "\n",
    "\n"]
    }

    
    ],
    "metadata": {
    "language_info": {
    "name": "python"
    },
    "orig_nbformat": 4
    },
    "nbformat": 4,
    "nbformat_minor": 2
    } 

    