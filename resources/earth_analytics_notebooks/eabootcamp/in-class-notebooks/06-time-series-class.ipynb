{
 "cells": [
  {
   "cell_type": "markdown",
   "id": "bba1c535",
   "metadata": {},
   "source": [
    "# Time Series Data in Python - in class"
   ]
  },
  {
   "cell_type": "code",
   "execution_count": 2,
   "id": "a58f1ab0",
   "metadata": {},
   "outputs": [],
   "source": [
    "import os\n",
    "\n",
    "import earthpy as et\n",
    "import pandas as pd"
   ]
  },
  {
   "cell_type": "code",
   "execution_count": 4,
   "id": "8e69ce43",
   "metadata": {},
   "outputs": [
    {
     "data": {
      "text/plain": [
       "'/Users/elsa/earth-analytics/data/colorado-flood/.'"
      ]
     },
     "execution_count": 4,
     "metadata": {},
     "output_type": "execute_result"
    }
   ],
   "source": [
    "co_flood_path = et.data.get_data('colorado-flood')\n",
    "co_flood_path"
   ]
  },
  {
   "cell_type": "code",
   "execution_count": 13,
   "id": "31617828",
   "metadata": {},
   "outputs": [
    {
     "name": "stdout",
     "output_type": "stream",
     "text": [
      "The precipitation file exists!\n",
      "The streamflow file exists!\n"
     ]
    }
   ],
   "source": [
    "os.chdir(os.path.join(\n",
    "    et.io.HOME, \n",
    "    'earth-analytics',\n",
    "    'data',\n",
    "    'colorado-flood'))\n",
    "\n",
    "# Define precipitation path\n",
    "precip_path = os.path.join(\n",
    "    'precipitation',\n",
    "    '805333-precip-daily-1948-2013.csv')\n",
    "\n",
    "if os.path.exists(precip_path):\n",
    "    print('The precipitation file exists!')\n",
    "else:\n",
    "    raise ValueError('The precipitation file does not exist.')\n",
    "    \n",
    "# Define streamflowpath\n",
    "streamflow_path = os.path.join(\n",
    "    'discharge',\n",
    "    '06730200-discharge-daily-1986-2013.csv')\n",
    "\n",
    "if os.path.exists(streamflow_path):\n",
    "    print('The streamflow file exists!')\n",
    "else:\n",
    "    raise ValueError('The streamflow file does not exist.')"
   ]
  },
  {
   "cell_type": "code",
   "execution_count": 29,
   "id": "9ef37eae",
   "metadata": {},
   "outputs": [
    {
     "data": {
      "text/plain": [
       "<AxesSubplot:ylabel='Frequency'>"
      ]
     },
     "execution_count": 29,
     "metadata": {},
     "output_type": "execute_result"
    },
    {
     "data": {
      "image/png": "[encoded data removed]",
      "text/plain": [
       "<Figure size 432x288 with 1 Axes>"
      ]
     },
     "metadata": {
      "needs_background": "light"
     },
     "output_type": "display_data"
    }
   ],
   "source": [
    "# Import precipitation data as a DataFrame\n",
    "precip_df = pd.read_csv(\n",
    "    precip_path,\n",
    "    index_col='DATE',\n",
    "    parse_dates=True,\n",
    "    na_values=999.99,\n",
    ")\n",
    "precip_df.HPCP.plot.hist()"
   ]
  },
  {
   "cell_type": "code",
   "execution_count": 26,
   "id": "d9a6667a",
   "metadata": {},
   "outputs": [
    {
     "data": {
      "text/plain": [
       "<AxesSubplot:xlabel='DATE'>"
      ]
     },
     "execution_count": 26,
     "metadata": {},
     "output_type": "execute_result"
    },
    {
     "data": {
      "image/png": "[encoded data removed]",
      "text/plain": [
       "<Figure size 432x288 with 1 Axes>"
      ]
     },
     "metadata": {
      "needs_background": "light"
     },
     "output_type": "display_data"
    }
   ],
   "source": [
    "precip_df.HPCP.plot.bar()"
   ]
  },
  {
   "cell_type": "code",
   "execution_count": null,
   "id": "24b14b0c",
   "metadata": {},
   "outputs": [],
   "source": []
  }
 ],
 "metadata": {
  "kernelspec": {
   "display_name": "Python 3 (ipykernel)",
   "language": "python",
   "name": "python3"
  },
  "language_info": {
   "codemirror_mode": {
    "name": "ipython",
    "version": 3
   },
   "file_extension": ".py",
   "mimetype": "text/x-python",
   "name": "python",
   "nbconvert_exporter": "python",
   "pygments_lexer": "ipython3",
   "version": "3.8.12"
  },
  "varInspector": {
   "cols": {
    "lenName": 16,
    "lenType": 16,
    "lenVar": 40
   },
   "kernels_config": {
    "python": {
     "delete_cmd_postfix": "",
     "delete_cmd_prefix": "del ",
     "library": "var_list.py",
     "varRefreshCmd": "print(var_dic_list())"
    },
    "r": {
     "delete_cmd_postfix": ") ",
     "delete_cmd_prefix": "rm(",
     "library": "var_list.r",
     "varRefreshCmd": "cat(var_dic_list()) "
    }
   },
   "types_to_exclude": [
    "module",
    "function",
    "builtin_function_or_method",
    "instance",
    "_Feature"
   ],
   "window_display": false
  }
 },
 "nbformat": 4,
 "nbformat_minor": 5
}
