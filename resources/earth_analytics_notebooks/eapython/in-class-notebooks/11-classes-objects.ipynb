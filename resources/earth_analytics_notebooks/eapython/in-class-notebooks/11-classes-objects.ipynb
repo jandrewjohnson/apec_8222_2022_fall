{
 "cells": [
  {
   "cell_type": "markdown",
   "id": "3d7fc42a",
   "metadata": {
    "toc": true
   },
   "source": [
    "<h1>Table of Contents<span class=\"tocSkip\"></span></h1>\n",
    "<div class=\"toc\"><ul class=\"toc-item\"></ul></div>"
   ]
  },
  {
   "cell_type": "code",
   "execution_count": 1,
   "id": "2d03848a",
   "metadata": {},
   "outputs": [],
   "source": [
    "from modules.bbox import BBox"
   ]
  },
  {
   "cell_type": "code",
   "execution_count": 2,
   "id": "d4a61484",
   "metadata": {},
   "outputs": [
    {
     "data": {
      "text/plain": [
       "1549031.4739857286"
      ]
     },
     "execution_count": 2,
     "metadata": {},
     "output_type": "execute_result"
    }
   ],
   "source": [
    "bbox = BBox(miny=34.5, maxx=-105.6, maxy=35.0, minx=-105.4)\n",
    "bbox.to_crs('EPSG:26911')\n",
    "bbox.min_lon"
   ]
  }
 ],
 "metadata": {
  "kernelspec": {
   "display_name": "Python 3 (ipykernel)",
   "language": "python",
   "name": "python3"
  },
  "language_info": {
   "codemirror_mode": {
    "name": "ipython",
    "version": 3
   },
   "file_extension": ".py",
   "mimetype": "text/x-python",
   "name": "python",
   "nbconvert_exporter": "python",
   "pygments_lexer": "ipython3",
   "version": "3.8.12"
  },
  "toc": {
   "base_numbering": 1,
   "nav_menu": {},
   "number_sections": true,
   "sideBar": true,
   "skip_h1_title": true,
   "title_cell": "Table of Contents",
   "title_sidebar": "Contents",
   "toc_cell": true,
   "toc_position": {},
   "toc_section_display": true,
   "toc_window_display": false
  }
 },
 "nbformat": 4,
 "nbformat_minor": 5
}
