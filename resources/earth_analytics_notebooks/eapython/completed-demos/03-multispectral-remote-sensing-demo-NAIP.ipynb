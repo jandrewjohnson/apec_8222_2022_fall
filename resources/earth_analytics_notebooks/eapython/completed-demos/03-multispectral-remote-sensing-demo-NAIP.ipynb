{
 "cells": [
  {
   "cell_type": "markdown",
   "metadata": {},
   "source": [
    "# Multispectral Remote Sensing Imagery in Python\n",
    "\n",
    "## Introduction to Multi-Band Raster Data\n",
    "\n",
    "In the previous weeks, you have worked with raster data derived from lidar remote sensing\n",
    "instruments. These rasters consisted of one layer or band and contained information\n",
    "height values derived from lidar data. In this lesson, you will\n",
    "learn how to work with rasters containing multispectral imagery data stored within\n",
    "multiple bands (or layers) in `Python`.\n",
    "\n",
    "Just like you did with single band rasters, you can use the `rasterio.open()` function to open multi band raster data in `Python`.  \n",
    "\n",
    "* To import multi-band raster data you will use xarray. I have created a function that will make it easier in this notebook.\n",
    "* If your multi-band data are imagery that you wish to composite, you can use\n",
    "`es.plot_rgb()`, instead of `object.plot()`, to plot a 3 band raster image.\n",
    "\n",
    "<figure>\n",
    "    <a href=\"https://www.earthdatascience.org/images/courses/earth-analytics/raster-data/single-vs-multi-band-raster-data.png\">\n",
    "    <img src=\"https://www.earthdatascience.org//images/courses/earth-analytics/raster-data/single-vs-multi-band-raster-data.png\" alt=\"A raster can contain one or more bands. You can use the\n",
    "    raster function to import one single band from a single OR multi-band\n",
    "    raster.\">\n",
    "    </a>\n",
    "    <figcaption>A raster can contain one or more bands. You can use the\n",
    "    raster function to import one single band from a single OR multi-band\n",
    "    raster. Source: Colin Williams, NEON.</figcaption>\n",
    "</figure>\n",
    "\n",
    "## What is Multispectral Imagery?\n",
    "\n",
    "One type of multispectral imagery that is familiar to many of us is a color\n",
    "image. A color image consists of three bands: red, green, and blue. Each\n",
    "band represents light reflected from the red, green or blue portions of the\n",
    "electromagnetic spectrum. The pixel brightness for each band, when composited\n",
    "creates the colors that you see in an image. These colors are the ones your eyes\n",
    "can see within the visible portion of the electromagnetic spectrum.\n",
    "\n",
    "<figure>\n",
    "    <a href=\"https://www.earthdatascience.org//images/courses/earth-analytics/raster-data/RGB-bands-raster-stack.jpg\">\n",
    "    <img src=\"https://www.earthdatascience.org//images/courses/earth-analytics/raster-data/RGB-bands-raster-stack.jpg\" alt=\"A color image consists of 3 bands - red, green and blue. When\n",
    "    rendered together in a GIS, or even a tool like Photoshop or any other\n",
    "    image software, the 3 bands create a color image.\"></a>\n",
    "    <figcaption>A color image consists of 3 bands - red, green and blue. When\n",
    "    rendered together in a GIS, or even a tool like Photoshop or any other\n",
    "    image software, the 3 bands create a color image.\n",
    "\tSource: Colin Williams, NEON.\n",
    "    </figcaption>\n",
    "</figure>\n",
    "\n",
    "You can plot each band of a multi-band image individually using a grayscale\n",
    "color gradient. Remember from the videos that you watched in class that the\n",
    "LIGHTER colors represent a stronger reflection\n",
    "in that band. DARKER colors represent a weaker reflection.\n"
   ]
  },
  {
   "cell_type": "markdown",
   "metadata": {},
   "source": [
    "## Other Types of Multi-band Raster Data\n",
    "\n",
    "Multi-band raster data might also contain:\n",
    "\n",
    "1. **Time series:** the same variable, over the same area, over time.\n",
    "2. **Multi or hyperspectral imagery:** image rasters that have 4 or more (multi-spectral) or more than 10-15 (hyperspectral) bands.\n",
    "\n",
    "We will work with time series data later in the semester.\n",
    "\n",
    "# NAIP data in Python\n",
    "\n",
    "Now, we have learned that basic concepts associated with a multi-band raster. Next,\n",
    "let's explore some spectral imagery in `Python` to better understand our study site -\n",
    "which is the cold springs fire scare in Colorado near Nederland.\n",
    "\n"
   ]
  },
  {
   "cell_type": "markdown",
   "metadata": {},
   "source": [
    "## About NAIP:\n",
    "\n",
    "In this lesson, you will work with NAIP data.\n",
    "\n",
    ">The National Agriculture Imagery Program (NAIP) acquires aerial imagery during the agricultural growing seasons in the continental U.S. A primary goal of the NAIP program is to make digital ortho photography available to governmental agencies and the public within a year of acquisition.\n",
    "\n",
    "> NAIP is administered by the USDA's Farm Service Agency (FSA) through the Aerial Photography Field Office in Salt Lake City. This \"leaf-on\" imagery is used as a base layer for GIS programs in FSA's County Service Centers, and is used to maintain the Common Land Unit (CLU) boundaries. -- USDA NAIP Program\n",
    "\n",
    "<a href=\"https://www.fsa.usda.gov/programs-and-services/aerial-photography/imagery-programs/naip-imagery/\" target=\"_blank\">Read more about NAIP</a>\n",
    "\n",
    "NAIP is a great source of high resolution imagery across the United States.\n",
    "NAIP imagery is often collected with just a red, green and Blue band. However,\n",
    "some flights include a near infrared band which is very useful for quantifying\n",
    "vegetation cover and health.\n",
    "\n",
    "NAIP data access: The data used in this lesson were downloaded from the <a href=\"https://earthexplorer.usgs.gov/\" target=\"_blank\">USGS Earth explorer website. </a>\n",
    "\n",
    "## Open NAIP Data in Python\n",
    "\n",
    "Next, you will use NAIP imagery for the Coldsprings fire study area in\n",
    "Colorado. To work with multi-band raster data you will use the `rasterio` and `geopandas`\n",
    "packages. You will also use the `plot` module from the `earthpy` package for raster plotting.\n",
    "\n",
    "Before you get started, make sure that your working directory is set.\n"
   ]
  },
  {
   "cell_type": "code",
   "execution_count": null,
   "metadata": {},
   "outputs": [],
   "source": [
    "import os\n",
    "from glob import glob\n",
    "\n",
    "import matplotlib.pyplot as plt\n",
    "import matplotlib as mpl\n",
    "import geopandas as gpd\n",
    "import rioxarray as rxr\n",
    "import earthpy as et\n",
    "import earthpy.spatial as es\n",
    "import earthpy.plot as ep\n",
    "\n",
    "# Set working directory & get data\n",
    "et.data.get_data('cold-springs-fire')\n",
    "os.chdir(os.path.join(et.io.HOME,\n",
    "                      'earth-analytics',\n",
    "                      \"data\"))\n",
    "\n",
    "\n",
    "data1 = et.data.get_data('cs-test-naip')\n",
    "data2 = et.data.get_data('cold-springs-fire')\n",
    "\n",
    "# This is a way to adjust plot parameters throughout your notebook\n",
    "# it is OPTIONAL!\n",
    "mpl.rcParams['figure.figsize'] = (14, 14)\n",
    "mpl.rcParams['axes.titlesize'] = 20"
   ]
  },
  {
   "cell_type": "markdown",
   "metadata": {},
   "source": [
    "To begin, you will open your data using rioxarray.\n",
    "\n",
    "`rxr.open_rasterio(\"path-to-tif-file-here\")`\n"
   ]
  },
  {
   "cell_type": "code",
   "execution_count": null,
   "metadata": {},
   "outputs": [],
   "source": [
    "naip_2015_path = os.path.join(\"cold-springs-fire\",\n",
    "                              \"naip\",\n",
    "                              \"m_3910505_nw_13_1_20150919\",\n",
    "                              \"crop\",\n",
    "                              \"m_3910505_nw_13_1_20150919_crop.tif\")\n",
    "\n",
    "naip_2015 = rxr.open_rasterio(naip_2015_path, masked=True)\n",
    "naip_2015"
   ]
  },
  {
   "cell_type": "markdown",
   "metadata": {},
   "source": [
    "Above you imported a geotiff like you've done before. But this file is different. Notice the shape of the resulting numpy array. How many layers (known as bands) does it have?"
   ]
  },
  {
   "cell_type": "code",
   "execution_count": null,
   "metadata": {},
   "outputs": [],
   "source": [
    "naip_2015.shape"
   ]
  },
  {
   "cell_type": "markdown",
   "metadata": {},
   "source": [
    "You have two plotting o ptions h ere.  \n",
    "You can use xarray default plotting which  has a nice facetted output.\n",
    "Xarray  will also make raster / vector overlay  plots easier\n",
    "\n",
    "http://xarray.pydata.org/en/stable/plotting.html"
   ]
  },
  {
   "cell_type": "code",
   "execution_count": null,
   "metadata": {},
   "outputs": [],
   "source": [
    "#  OPTIONAL -- Xarray plotting\n",
    "# naip_2015.plot.imshow(col=\"band\",\n",
    "#                           col_wrap=2)\n",
    "# plt.show()"
   ]
  },
  {
   "cell_type": "code",
   "execution_count": null,
   "metadata": {},
   "outputs": [],
   "source": [
    "ep.plot_rgb(naip_2015.values)\n",
    "plt.show()"
   ]
  },
  {
   "cell_type": "code",
   "execution_count": null,
   "metadata": {},
   "outputs": [],
   "source": [
    "titles = [\"Red Band\",\n",
    "          \"Green Band\",\n",
    "          \"Blue Band\",\n",
    "          \"Near Infrared (NIR) Band\"]\n",
    "# Optional - plot with xarray\n",
    "# naip_ax = naip_2015.plot.imshow(col=\"band\",\n",
    "#                                     col_wrap=2,\n",
    "#                                     cmap=\"Greys_r\",\n",
    "#                                     add_colorbar=False)\n",
    "\n",
    "# # Xarray produces a nicer plot but you will need to add some code to customize it\n",
    "# for i, ax in enumerate(naip_ax.axes.flat):\n",
    "#     ax.set_title(titles[i])\n",
    "#     ax.set_axis_off()\n",
    "    \n",
    "# plt.show()"
   ]
  },
  {
   "cell_type": "code",
   "execution_count": null,
   "metadata": {},
   "outputs": [],
   "source": [
    "ep.plot_bands(naip_2015.values,\n",
    "             title=titles,\n",
    "              cols=2,\n",
    "             figsize=(10,4))\n",
    "plt.show()"
   ]
  },
  {
   "cell_type": "markdown",
   "metadata": {},
   "source": [
    "You can use the earthpy function `plot_bands()` to plot the data. "
   ]
  },
  {
   "cell_type": "markdown",
   "metadata": {},
   "source": [
    "Look closely at the count element in the metadata for your raster. Not that now, the count is 4 rather than 1. This is because you have multiple bands in your raster, one for each 'color' or type of light collected by the camera. For NAIP data you have red, green, blue and near infrared bands. When you worked with the lidar rasters in week 2 your count was 1 as a DSM or DTM is only composed of one band. \n"
   ]
  },
  {
   "cell_type": "markdown",
   "metadata": {},
   "source": [
    "\n",
    "### Customize your Plot: Plot Raster Band Images\n",
    "\n",
    "Next plot each band in the raster. This is another intermediate step (like plotting histograms) that you might want to do when you first explore and open your data. You will not need this for your homework but you might want to do it to explore other data that you use in your career. Earthpy contains a `plot_bands()` function that allows you to quickly plot each band individually. Similar to plotting a single band, in each band \"color\", the brightest pixels are lighter in color or white representing a stronger reflectance for that color on that pixel. The darkest pixels are darker to black in color representing less reflectance of that color in that pixel. \n",
    "\n",
    "#### Plot Bands Using Earthpy\n",
    "\n",
    "You can use the earthpy package to plot a single or all bands in your array. \n",
    "To use earthpy call:\n",
    "\n",
    "`ep.plot_bands()`\n",
    "\n",
    "run `help(ep.plot_bands)` to see all of the arguments that it accepts. \n",
    "The arguments below will be useful in this demo:  \n",
    "\n",
    "* `title`: A single title for one band or a list of x titles for x bands in your array\n",
    "* `figsize`: A tuple of 2 values representing the x and y dimensions of the image.\n",
    "* `cmap`: The colormap that you'd like to use to plot the raster. Default is greyscale\n",
    "* `cols`: If you are plotting more than one band you can specify the number of columns in the grid that you'd like to plot. \n",
    "* `extent` : Bounding box that the data will fill: (minx, miny, maxx, maxy). Used to fix the extent when overlaying an image with vector data. \n",
    "* `cbar` : Will turn off colorbar displayed for the image.\n",
    "* `scale` : Will turn off bytescale scaling. When set to false, allows a plot to not be scaled from 0-255.\n",
    "* `vmin`/`vmax` : Specify the vmin or vmax to scale imshow() plots.\n"
   ]
  },
  {
   "cell_type": "code",
   "execution_count": null,
   "metadata": {},
   "outputs": [],
   "source": [
    "# OPTIONAL -- just in case you want to see another way to plot\n",
    "# titles = [\"Red Band\", \"Green Band\", \"Blue Band\", \"Near Infrared (NIR) Band\"]\n",
    "\n",
    "# # plot all bands using the earthpy function\n",
    "# ep.plot_bands(naip_2015,\n",
    "#               title=titles,\n",
    "#               figsize=(12, 5),\n",
    "#               cols=2)\n",
    "# plt.show()"
   ]
  },
  {
   "cell_type": "code",
   "execution_count": null,
   "metadata": {
    "scrolled": true
   },
   "outputs": [],
   "source": [
    "naip_2015.attrs"
   ]
  },
  {
   "cell_type": "code",
   "execution_count": null,
   "metadata": {},
   "outputs": [],
   "source": [
    "naip_2015.rio.crs"
   ]
  },
  {
   "cell_type": "markdown",
   "metadata": {},
   "source": [
    "## Image Raster Data Values\n",
    "Next, examine the raster's min and max values. What is the value range?\n"
   ]
  },
  {
   "cell_type": "code",
   "execution_count": null,
   "metadata": {},
   "outputs": [],
   "source": [
    "# view min and max value\n",
    "print(\"min value: \", naip_2015.min().values)\n",
    "print(\"max value: \", naip_2015.max().values)"
   ]
  },
  {
   "cell_type": "markdown",
   "metadata": {},
   "source": [
    "This raster contains values between 0 and 255. These values represent degrees of brightness associated with the image band. In the case of a RGB image (red, green and blue), band 1 is the red band. When we plot the red band, larger numbers (towards 255) represent pixels with more red in them (a strong red reflection). Smaller numbers (towards 0) represent pixels with less red in them (less red was reflected). To plot an RGB image, we mix red + green + blue values, using the ratio of each. The ratio of each color is determined by how much light was recorded (the reflectance value) in each band. This mixture creates one single color than inturn makes up the full color image - similar to the color image your camera phone creates.\n",
    "\n",
    "## 8 vs 16 Bit Images\n",
    "\n",
    "It's important to note that this image is an 8 bit image. This means that all values in the raster are stored within a range of 0:255. Thus the brightest whites will be at or close to 255. The darkest values in each band will be closer to 0.\n",
    "\n",
    "### OPTIONAL: Plot A Specific Band\n",
    "\n",
    "You can plot a single band of your choice using numpy indexing. `naip_2015[1]` will access just the second band - which is the green band when using NAIP data. "
   ]
  },
  {
   "cell_type": "code",
   "execution_count": null,
   "metadata": {},
   "outputs": [],
   "source": [
    "# Plot band 2 - green\n",
    "ep.plot_bands(\n",
    "    naip_2015[1],\n",
    "    title=\"RGB Imagery - Band 2 - Green\\nCold Springs Fire Scar\",\n",
    "    cbar=True)\n",
    "plt.show()"
   ]
  },
  {
   "cell_type": "markdown",
   "metadata": {},
   "source": [
    "## Plot RGB Data in Python\n",
    "\n",
    "\n",
    "Previously you have plotted individual bands using a greyscale color ramp in Python. Next, you will learn how to plot an RGB composite image. This type of image is similar in appearance to one you capture using a cell phone or digital camera. \n",
    "\n",
    "<figure>\n",
    "    <a href=\"https://www.earthdatascience.org/images/courses/earth-analytics/raster-data/RGB-bands-raster-stack.jpg\">\n",
    "    <img src=\"https://www.earthdatascience.org/images/courses/earth-analytics/raster-data/RGB-bands-raster-stack.jpg\" alt=\"A true color image consists of 3 bands - red, green and blue.\n",
    "    When composited or rendered together in a GIS, or even a image-editor like\n",
    "    Photoshop the bands create a color image.\"></a>\n",
    "    <figcaption>A \"true\" color image consists of 3 bands - red, green and blue.\n",
    "    When composited or rendered together in a GIS, or even a image-editor like\n",
    "    Photoshop the bands create a color image.\n",
    "\tSource: Colin Williams, NEON.\n",
    "    </figcaption>\n",
    "</figure>\n",
    "\n",
    "\n"
   ]
  },
  {
   "cell_type": "markdown",
   "metadata": {},
   "source": [
    "You can use the Earthpy function called `plot_rgb()` to quickly plot 3 band composite images.\n",
    "This function has several key arguments including\n",
    "\n",
    "1. `arr`: a numpy array in rasterio band order (bands first)\n",
    "2. `rgb`: the three bands that you wish to plot on the red, green and blue channels respectively\n",
    "3. `title`: OPTIONAL - if you want to add a title to your plot.\n",
    "\n",
    "Similar to plotting with geopandas, you can provide an `ax=` argument as well to plot your data on a particular matplotlib axis.\n"
   ]
  },
  {
   "cell_type": "code",
   "execution_count": null,
   "metadata": {},
   "outputs": [],
   "source": [
    "# f, ax = plt.subplots(figsize=(6, 4))\n",
    "# naip_2015.astype(\"uint8\").sel(band=[1, 2, 3]).plot.imshow(ax=ax)\n",
    "# ax.set(title=\"RGB NAIP Data\")\n",
    "# ax.set_axis_off()\n",
    "# plt.show()"
   ]
  },
  {
   "cell_type": "code",
   "execution_count": null,
   "metadata": {},
   "outputs": [],
   "source": [
    "# For now you may find it easier to plot this way\n",
    "ep.plot_rgb(naip_2015.values,\n",
    "            rgb=[0, 1, 2],\n",
    "            title=\"RGB Composite Image - NAIP\")\n",
    "plt.show()"
   ]
  },
  {
   "cell_type": "markdown",
   "metadata": {},
   "source": [
    "Optionally, you can also provide the bands that you wish to plot, the title, the figure size, and other arguements to make the plot look how you want it to look.\n",
    "\n"
   ]
  },
  {
   "cell_type": "markdown",
   "metadata": {},
   "source": [
    "## CIR Image\n",
    "\n",
    "If the image has a 4th NIR band, you can create a CIR (sometimes called false color)\n",
    "image. In a color infrared image, the NIR band is plotted on the \"red\" band. Thus vegetation, which reflects strongly in the NIR part of the spectrum, is colored \"red\". CIR images are often used to better understand vegetation cover and health in an area.\n",
    "\n",
    "HELPFUL BAND INFOSHEET PDF: https://www.google.com/url?sa=t&rct=j&q=&esrc=s&source=web&cd=5&ved=2ahUKEwjukLq_tN7nAhWHqp4KHUnUDvMQFjAEegQIARAB&url=https%3A%2F%2Fwww.fsa.usda.gov%2FAssets%2FUSDA-FSA-Public%2Fusdafiles%2FAPFO%2Fsupport-documents%2Fpdfs%2Ffourband_infosheet_2017.pdf&usg=AOvVaw0lwlyEVpeWxJTw5aIPgoZA \n",
    "\n",
    "> Conversely, a CIR image is usually set up to display the infrared band data with a red tone. Red wavelengths will appear green, and green wavelengths will appear blue. Blue wavelengths are not displayed. Because healthy green vegetation will appear to be bright red, a CIR image is also known as a “false color” image."
   ]
  },
  {
   "cell_type": "code",
   "execution_count": null,
   "metadata": {},
   "outputs": [],
   "source": [
    "ep.plot_rgb(naip_2015.values,\n",
    "            title=\"CIR NAIP image\",\n",
    "            rgb=[3, 0, 1],\n",
    "            figsize=(10, 8))\n",
    "plt.show()"
   ]
  },
  {
   "cell_type": "markdown",
   "metadata": {},
   "source": [
    "<div class=\"notice--warning\" markdown=\"1\">\n",
    "\n",
    "\n",
    "## <i class=\"fa fa-pencil-square-o\" aria-hidden=\"true\"></i> Optional Challenge: Making Sense of Single Band Images\n",
    "\n",
    "Plot all of the bands in the NAIP image using python, following the code examples above. Compare grayscale plots of band 1 (red), band 2 (green) and band 4 (near infrared). Is the forested area darker or lighter in band 2 (the green band) compared to band 1 (the red band)?\n",
    "\n",
    "</div>\n",
    "\n",
    "<!-- We'd expect a *brighter* value for the forest in band 2 (green) than in band 1 (red) because the leaves on trees of most often appear \"green\" -\n",
    "healthy leaves reflect MORE green light compared to red light however the brightest values should be in the NIR band.-->\n",
    "\n"
   ]
  },
  {
   "cell_type": "code",
   "execution_count": null,
   "metadata": {},
   "outputs": [],
   "source": [
    "# TODO: Create a plot of three bands\n",
    "titles = ['red', 'green', 'near\\ninfrared']\n",
    "ep.plot_bands(naip_2015[[0, 1, 3]],\n",
    "              figsize=(10,  5),\n",
    "              title=titles)\n",
    "plt.show()"
   ]
  },
  {
   "cell_type": "markdown",
   "metadata": {},
   "source": [
    "## Data Cleanup: Image Stretch To Increase Contrast\n",
    "\n",
    "The image above looks pretty good. You can explore whether applying a stretch to\n",
    "the image improves clarity and contrast.\n",
    "\n",
    "<figure>\n",
    "    <a href=\"https://www.earthdatascience.org/images/courses/earth-analytics/raster-data/raster-image-stretch-dark.jpg\">\n",
    "    <img src=\"https://www.earthdatascience.org/images/courses/earth-analytics/raster-data/raster-image-stretch-dark.jpg\" alt=\"When the range of pixel brightness values is closer to 0, a\n",
    "    darker image is rendered by default. You can stretch the values to extend to\n",
    "    the full 0-255 range of potential values to increase the visual contrast of\n",
    "    the image.\">\n",
    "    </a>\n",
    "    <figcaption>When the range of pixel brightness values is closer to 0, a\n",
    "    darker image is rendered by default. You can stretch the values to extend to\n",
    "    the full 0-255 range of potential values to increase the visual contrast of\n",
    "    the image.\n",
    "    </figcaption>\n",
    "</figure>\n",
    "\n",
    "<figure>\n",
    "    <a href=\"https://www.earthdatascience.org/images/courses/earth-analytics/raster-data/raster-image-stretch-light.jpg\">\n",
    "    <img src=\"https://www.earthdatascience.org/images/courses/earth-analytics/raster-data/raster-image-stretch-light.jpg\" alt=\"When the range of pixel brightness values is closer to 255, a\n",
    "    lighter image is rendered by default. You can stretch the values to extend to\n",
    "    the full 0-255 range of potential values to increase the visual contrast of\n",
    "    the image.\">\n",
    "    </a>\n",
    "    <figcaption>When the range of pixel brightness values is closer to 255, a\n",
    "    lighter image is rendered by default. You can stretch the values to extend to\n",
    "    the full 0-255 range of potential values to increase the visual contrast of\n",
    "    the image.\n",
    "    </figcaption>\n",
    "</figure>\n",
    "\n",
    "Below you use the skimage package to contrast stretch each band in your data to make the whites more bright and the blacks more dark. \n",
    "\n",
    "In the example below you only stretch bands 0,1 and 2 which are the RGB bands. To begin you\n",
    "\n",
    "1. preallocate and array of zeros that is the same shape as your numpy array\n",
    "2. then you look through each band in the image and rescale it\n",
    "\n",
    "<i class=\"fa fa-star\"></i> **Data Tip:** Read more about image stretch on the <a href=\"http://scikit-image.org/docs/dev/auto_examples/color_exposure/plot_equalize.html\" target = \"_blank\">scikit-image website</a>.\n",
    "{: .notice--success }"
   ]
  },
  {
   "cell_type": "markdown",
   "metadata": {},
   "source": [
    "For convenience there is stretch argument in `earthpy.plot_rgb`."
   ]
  },
  {
   "cell_type": "code",
   "execution_count": null,
   "metadata": {},
   "outputs": [],
   "source": [
    "band_indices = [0, 1, 2]\n",
    "\n",
    "# Apply stretch using the earthpy plot_rgb function\n",
    "ep.plot_rgb(naip_2015,\n",
    "            rgb=band_indices,\n",
    "            title=\"CIR NAIP image\\n Stretch Applied\",\n",
    "            figsize=(10, 8),\n",
    "            stretch=True)\n",
    "plt.show()"
   ]
  },
  {
   "cell_type": "markdown",
   "metadata": {},
   "source": [
    "What does the image look like using a different stretch? Any better? worse?\n",
    "\n",
    "In this case, the stretch does increase the contrast in our image. \n",
    "However visually it may or may not be what you want to plot. "
   ]
  },
  {
   "cell_type": "markdown",
   "metadata": {},
   "source": [
    "\n",
    "## Data Exploration: Multiband Raster Histograms\n",
    "\n",
    "You can use the `ep.hist()` function in earthpy to plot histograms for all bands in your raster. Hist() accepts several arguments including\n",
    "\n",
    "* `colors=`: a list of colors to use for each histogram\n",
    "* `titles=`: plot titles to use for each histogram"
   ]
  },
  {
   "cell_type": "code",
   "execution_count": null,
   "metadata": {
    "scrolled": false
   },
   "outputs": [],
   "source": [
    "colors = ['r', 'g', 'b', 'k']\n",
    "titles = ['red band', 'green band', 'blue band', 'nir band']\n",
    "ep.hist(naip_2015.values,\n",
    "        colors=colors,\n",
    "        title=titles,\n",
    "        cols=2)\n",
    "plt.show()"
   ]
  },
  {
   "cell_type": "markdown",
   "metadata": {},
   "source": [
    "\n",
    "# Vegetation Indices\n",
    "\n",
    "A vegetation index is a single value that quantifies vegetation health or structure.\n",
    "The math associated with calculating a vegetation index is derived from the physics\n",
    "of light reflection and absorption across bands. For instance, it is known that\n",
    "healthy vegetation reflects light strongly in the near infrared band and less strongly\n",
    "in the visible portion of the spectrum. Thus, if you create a ratio between light\n",
    "reflected in the near infrared and light reflected in the visible spectrum, it\n",
    "will represent areas that potentially have healthy vegetation.\n",
    "\n",
    "\n",
    "## Normalized Difference Vegetation Index (NDVI)\n",
    "\n",
    "The Normalized Difference Vegetation Index (NDVI) is a quantitative index of\n",
    "greenness ranging from 0-1 where 0 represents minimal or no greenness and 1\n",
    "represents maximum greenness.\n",
    "\n",
    "NDVI is often used for a quantitate proxy measure of vegetation health, cover\n",
    "and phenology (life cycle stage) over large areas.\n",
    "\n",
    "<figure>\n",
    " <a href=\"https://www.earthdatascience.org/images/courses/earth-analytics/remote-sensing/nasa-earth-observatory-ndvi-diagram.jpg\">\n",
    " <img src=\"https://www.earthdatascience.org/images/courses/earth-analytics/remote-sensing/nasa-earth-observatory-ndvi-diagram.jpg\" alt=\"NDVI image from NASA that shows reflectance.\"></a>\n",
    "    <figcaption>NDVI is calculated from the visible and near-infrared light\n",
    "    reflected by vegetation. Healthy vegetation (left) absorbs most of the\n",
    "    visible light that hits it, and reflects a large portion of\n",
    "    near-infrared light. Unhealthy or sparse vegetation (right) reflects more\n",
    "    visible light and less near-infrared light. Source: NASA\n",
    "    </figcaption>\n",
    "</figure>\n",
    "\n",
    "* <a href=\"http://earthobservatory.nasa.gov/Features/MeasuringVegetation/measuring_vegetation_2.php\" target=\"_blank\">\n",
    "More on NDVI from NASA</a>\n",
    "\n",
    "## Calculate NDVI in Python\n",
    "\n",
    "Sometimes you can download already calculated NDVI data products from a data provider. \n",
    "\n",
    "However, in this case, you don't have a pre calculated NDVI product from NAIP data. You need to calculate NDVI using the NAIP imagery / reflectance data that you have downloaded from Earth Explorer.\n",
    "\n",
    "### How to Derive the NDVI Vegetation Index From Multispectral Imagery\n",
    "\n",
    "The normalized difference vegetation index (NDVI) uses a ratio between near infrared\n",
    "and red light within the electromagnetic spectrum. To calculate NDVI you use the\n",
    "following formula where NIR is near infrared light and\n",
    "red represents red light. For your raster data, you will take the reflectance value\n",
    "in the red and near infrared bands to calculate the index.\n",
    "\n",
    "`(NIR - Red) / (NIR + Red)`\n",
    "\n",
    "You can perform this calculation using matrix math with the `numpy` library. The `spatial` module in `earthpy` has a built in function to \n",
    "make this calculation easier that we will use in today's lesson."
   ]
  },
  {
   "cell_type": "markdown",
   "metadata": {},
   "source": [
    "Open up the NAIP data that you wish to calculate NDVI with. You will use the data from 2015 for this example that you downloaded for week 5 of this course:\n",
    "\n",
    "`data/cold-springs-fire/naip/m_3910505_nw_13_1_20150919/crop/m_3910505_nw_13_1_20150919_crop.tif`"
   ]
  },
  {
   "cell_type": "code",
   "execution_count": null,
   "metadata": {},
   "outputs": [],
   "source": [
    "naip_2015"
   ]
  },
  {
   "cell_type": "markdown",
   "metadata": {},
   "source": [
    "Calculate NDVI using the `normalized_diff()` function from the `spatial` module in `earthpy`. In this case, the bands you are subtracting come from the same data file. The tif file format requires that all layers are in the same CRS and of the same size so you assume the data line up. Thus you do not need to test the data for equal shape, crs and extent. The `normalized_diff()` function uses regular numpy array math to find the normalized difference between the two bands entered. The actual calculation being done is `(b1-b2) / (b1 + b2)`, just as shown earlier. "
   ]
  },
  {
   "cell_type": "code",
   "execution_count": null,
   "metadata": {},
   "outputs": [],
   "source": [
    "naip_ndvi = es.normalized_diff(naip_2015[3], naip_2015[0])\n",
    "naip_ndvi.min().values, naip_ndvi.max().values"
   ]
  },
  {
   "cell_type": "markdown",
   "metadata": {},
   "source": [
    "Finally plot the data. Note below that the vmin and vmax attributes are used to stretch the colorbar across the full possible range of ndvi values (-1 to 1)."
   ]
  },
  {
   "cell_type": "code",
   "execution_count": null,
   "metadata": {},
   "outputs": [],
   "source": [
    "fig, ax = plt.subplots(figsize=(12, 6))\n",
    "naip_ndvi.plot.imshow(cmap='PiYG',\n",
    "                      vmin=-1,\n",
    "                      vmax=1)\n",
    "ax.set(title=\"NAIP Derived NDVI\\n 19 September 2015 - Cold Springs Fire, Colorado\")\n",
    "ax.set_axis_off()\n",
    "plt.show()"
   ]
  },
  {
   "cell_type": "code",
   "execution_count": null,
   "metadata": {
    "caption": "Plot of NDVI using 2015 NAIP data - before the Cold Springs Fire."
   },
   "outputs": [],
   "source": [
    "# Plot NDVI data - using earthpy\n",
    "# fig, ax = plt.subplots(figsize=(12, 6))\n",
    "# ep.plot_bands(naip_ndvi,\n",
    "#               cmap='PiYG',\n",
    "#               vmin=-1,\n",
    "#               vmax=1,\n",
    "#               title=\"NAIP Derived NDVI\\n 19 September 2015 - Cold Springs Fire, Colorado\",\n",
    "#               ax=ax,\n",
    "#               scale=False)\n",
    "# plt.show()"
   ]
  },
  {
   "cell_type": "markdown",
   "metadata": {},
   "source": [
    "### View distribution of NDVI values\n",
    "\n",
    "Using a histogram, you can view the distribution of pixel values in your NDVI output."
   ]
  },
  {
   "cell_type": "code",
   "execution_count": null,
   "metadata": {},
   "outputs": [],
   "source": [
    "# f, ax = plt.subplots(figsize=(12, 6))\n",
    "# naip_ndvi.plot.hist(ax=ax,\n",
    "#                     color=\"purple\")\n",
    "# ax.set(title=\"NDVI: Distribution of pixels\\n NAIP 2015 Cold Springs fire site\")\n",
    "# plt.show()"
   ]
  },
  {
   "cell_type": "code",
   "execution_count": null,
   "metadata": {},
   "outputs": [],
   "source": [
    "# Plot with earthpy option\n",
    "ep.hist(naip_ndvi.values,\n",
    "        figsize=(12, 6),\n",
    "        title=\"NDVI: Distribution of pixels\\n NAIP 2015 Cold Springs fire site\")\n",
    "plt.show()"
   ]
  },
  {
   "cell_type": "markdown",
   "metadata": {},
   "source": [
    "# Overlay the Fire Boundary On Top Of Your NAIP Data\n",
    "\n",
    "You can overlay raster and vector data to begin creating maps.\n"
   ]
  },
  {
   "cell_type": "code",
   "execution_count": null,
   "metadata": {},
   "outputs": [],
   "source": [
    "# Import the fire boundary\n",
    "fire_boundary_path = os.path.join(\"cold-springs-fire\",\n",
    "                                  \"vector_layers\",\n",
    "                                  \"fire-boundary-geomac\",\n",
    "                                  \"co_cold_springs_20160711_2200_dd83.shp\")\n",
    "fire_boundary = gpd.read_file(fire_boundary_path)"
   ]
  },
  {
   "cell_type": "code",
   "execution_count": null,
   "metadata": {},
   "outputs": [],
   "source": [
    "# Check the CRS are the same?\n",
    "if naip_2015.rio.crs == fire_boundary.crs:\n",
    "    print(\"The CRS of both d atasets a re the same\")\n",
    "else:\n",
    "    print(\"The CRS of both datasets are NOT the same. You will need to reproject one of the datasets\")"
   ]
  },
  {
   "cell_type": "code",
   "execution_count": null,
   "metadata": {},
   "outputs": [],
   "source": [
    "fire_bound_utmz13 = fire_boundary.to_crs(naip_2015.rio.crs)\n",
    "# Check  that the CRS's are the same\n",
    "# Check the CRS are the same?\n",
    "if naip_2015.rio.crs == fire_bound_utmz13.crs:\n",
    "    print(\"The CRS of both datasets are the same. You're good to continue processing!\")\n",
    "else:\n",
    "    print(\"The CRS of both datasets are NOT the same. You will need to reproject one of the datasets\")"
   ]
  },
  {
   "cell_type": "code",
   "execution_count": null,
   "metadata": {},
   "outputs": [],
   "source": [
    "# Plot data using earthpy\n",
    "f, ax = plt.subplots(figsize=(6, 6))\n",
    "\n",
    "ep.plot_rgb(naip_2015.values,\n",
    "            rgb=[0, 1, 2],\n",
    "            ax=ax)\n",
    "fire_bound_utmz13.plot(ax=ax,\n",
    "                       color='None',\n",
    "                       edgecolor='yellow',\n",
    "                       linewidth=2)\n",
    "\n",
    "ax.set_title(\"NAIP data with fire boundary overlay\")\n",
    "plt.show()"
   ]
  },
  {
   "cell_type": "markdown",
   "metadata": {},
   "source": [
    "The above plot will not overlay correctly because you need a plotting extent. \n",
    "\n",
    "You can create a **plotting extent** using rasterio\n",
    "\n",
    "Be sure to add that import to the TOP of your notebook in your homework!!"
   ]
  },
  {
   "cell_type": "code",
   "execution_count": null,
   "metadata": {},
   "outputs": [],
   "source": [
    "# Create plotting extent - add this import to the TOP of your notebook!!\n",
    "from rasterio.plot import plotting_extent\n",
    "\n",
    "naip_extent = plotting_extent(naip_2015[0],\n",
    "                              naip_2015.rio.transform())\n",
    "\n",
    "\n",
    "f, ax = plt.subplots(figsize=(6, 6))\n",
    "\n",
    "ep.plot_rgb(naip_2015.values,\n",
    "            rgb=[0, 1, 2],\n",
    "            extent=naip_extent,\n",
    "            ax=ax)\n",
    "fire_bound_utmz13.plot(ax=ax,\n",
    "                       color='None',\n",
    "                       edgecolor='yellow',\n",
    "                       linewidth=2)\n",
    "\n",
    "ax.set_title(\"NAIP data with fire boundary overlay\\n Fixed with Plotting Extent Object\")\n",
    "plt.show()"
   ]
  },
  {
   "cell_type": "code",
   "execution_count": null,
   "metadata": {
    "scrolled": true
   },
   "outputs": [],
   "source": [
    "# An optional way to plot\n",
    "# f, ax = plt.subplots(figsize=(6, 6))\n",
    "\n",
    "# naip_2015.astype(\"uint8\").sel(band=[1, 2, 3]).plot.imshow(ax=ax)\n",
    "# fire_bound_utmz13.plot(ax=ax,\n",
    "#                        color='None',\n",
    "#                        edgecolor='yellow',\n",
    "#                        linewidth=2)\n",
    "# ax.set_title(\"NAIP data with fire boundary overlay\")\n",
    "# ax.set_axis_off()\n",
    "# plt.show()"
   ]
  },
  {
   "cell_type": "markdown",
   "metadata": {},
   "source": [
    "## Clip one dataset to the extent of another\n",
    "\n",
    "You can use reproject_match to clip one xarray object to the extent of another. \n",
    "You will need to do this in your homework for this week in order for the raster calculations to come out properly.\n",
    "\n",
    "See below for an example:"
   ]
  },
  {
   "cell_type": "code",
   "execution_count": null,
   "metadata": {},
   "outputs": [],
   "source": []
  },
  {
   "cell_type": "code",
   "execution_count": null,
   "metadata": {},
   "outputs": [],
   "source": [
    "# This is the 2017 NAIP data if you wish to use it in your homework rather \n",
    "# then downloading it\n",
    "naip_2017_path = os.path.join(\"cs-test-naip\",\n",
    "                              \"m_3910505_nw_13_1_20170902.tif\")\n",
    "\n",
    "naip_2017 = rxr.open_rasterio(naip_2017_path)\n"
   ]
  },
  {
   "cell_type": "code",
   "execution_count": null,
   "metadata": {},
   "outputs": [],
   "source": [
    "# Compare spatial extents - are they the same? If not clip one to the other\n",
    "\n",
    "naip_2017.rio.bounds() == naip_2015.rio.bounds()"
   ]
  },
  {
   "cell_type": "markdown",
   "metadata": {},
   "source": [
    "The code below is just a demo that shows you the spatial extents of the \n",
    "two objects are different. "
   ]
  },
  {
   "cell_type": "code",
   "execution_count": null,
   "metadata": {},
   "outputs": [],
   "source": [
    "from shapely.geometry import box\n",
    "\n",
    "naip_box_2015 = box(*naip_2015.rio.bounds())\n",
    "naip_box_2017 = box(*naip_2017.rio.bounds())\n",
    "\n",
    "f, ax = plt.subplots()\n",
    "\n",
    "ax.plot(*naip_box_2015.exterior.xy, \n",
    "        color=\"green\")\n",
    "ax.plot(*naip_box_2017.exterior.xy, \n",
    "        color=\"purple\")\n",
    "ax.set(\n",
    "    title=\"The two naip dataset boundaries overlayed. Notice that the 2017 data has a bigger extent.\"\n",
    ")\n",
    "plt.show()"
   ]
  },
  {
   "cell_type": "code",
   "execution_count": null,
   "metadata": {},
   "outputs": [],
   "source": [
    "# ep.plot_bands(naip_2017.values)\n",
    "# plt.show()"
   ]
  },
  {
   "cell_type": "code",
   "execution_count": null,
   "metadata": {},
   "outputs": [],
   "source": [
    "ep.plot_rgb(naip_2017.values)\n",
    "plt.show()"
   ]
  },
  {
   "cell_type": "code",
   "execution_count": null,
   "metadata": {},
   "outputs": [],
   "source": [
    "type(naip_2015.rio.bounds())"
   ]
  },
  {
   "cell_type": "markdown",
   "metadata": {},
   "source": [
    "# Clip the 2017 data to the boundary values of the 2015 data"
   ]
  },
  {
   "cell_type": "code",
   "execution_count": null,
   "metadata": {},
   "outputs": [],
   "source": [
    "# the * unpacks all of the values in the .rio.bounds() object so\n",
    "# python recognizes each value as a separate value.\n",
    "naip_2017_crop = naip_2017.rio.clip_box(*naip_2015.rio.bounds())"
   ]
  },
  {
   "cell_type": "code",
   "execution_count": null,
   "metadata": {},
   "outputs": [],
   "source": [
    "# View the clipped data\n",
    "# naip_2017_crop.plot.imshow(col=\"band\", \n",
    "#                            col_wrap=2)\n",
    "# plt.show()"
   ]
  },
  {
   "cell_type": "code",
   "execution_count": null,
   "metadata": {},
   "outputs": [],
   "source": [
    "ep.plot_rgb(naip_2017_crop.values)\n",
    "plt.show()"
   ]
  },
  {
   "cell_type": "code",
   "execution_count": null,
   "metadata": {},
   "outputs": [],
   "source": []
  }
 ],
 "metadata": {
  "kernelspec": {
   "display_name": "Python 3",
   "language": "python",
   "name": "python3"
  },
  "language_info": {
   "codemirror_mode": {
    "name": "ipython",
    "version": 3
   },
   "file_extension": ".py",
   "mimetype": "text/x-python",
   "name": "python",
   "nbconvert_exporter": "python",
   "pygments_lexer": "ipython3",
   "version": "3.8.5"
  },
  "toc": {
   "base_numbering": 1,
   "nav_menu": {},
   "number_sections": true,
   "sideBar": true,
   "skip_h1_title": false,
   "title_cell": "Table of Contents",
   "title_sidebar": "Contents",
   "toc_cell": false,
   "toc_position": {
    "height": "calc(100% - 180px)",
    "left": "10px",
    "top": "150px",
    "width": "165px"
   },
   "toc_section_display": true,
   "toc_window_display": true
  }
 },
 "nbformat": 4,
 "nbformat_minor": 4
}
