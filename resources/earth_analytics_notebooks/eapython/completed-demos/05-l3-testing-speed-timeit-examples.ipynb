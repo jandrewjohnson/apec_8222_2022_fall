{
 "cells": [
  {
   "cell_type": "markdown",
   "metadata": {},
   "source": [
    "## Begin to Automate Your  Workflow With Functions\n",
    "\n",
    "Functions can be tricky to learn. In this lesson, you will see how to break down a workflow and create \n",
    "a new function that can be used over and over on your data. \n",
    "\n",
    "You will want to use functions for this automation assignment. "
   ]
  },
  {
   "cell_type": "code",
   "execution_count": null,
   "metadata": {},
   "outputs": [],
   "source": [
    "# Import necessary packages\n",
    "import os\n",
    "from glob import glob\n",
    "import matplotlib.pyplot as plt\n",
    "import numpy as np\n",
    "from shapely.geometry import box\n",
    "import geopandas as gpd\n",
    "import rioxarray as rxr\n",
    "import xarray as xr\n",
    "from rasterio.plot import plotting_extent\n",
    "from shapely.geometry import mapping\n",
    "import earthpy as et\n",
    "import earthpy.spatial as es\n",
    "import earthpy.plot as ep\n",
    "\n",
    "# Get data and set working directory\n",
    "data = et.data.get_data('cold-springs-fire')\n",
    "os.chdir(os.path.join(et.io.HOME,\n",
    "                      \"earth-analytics\",\n",
    "                      \"data\"))"
   ]
  },
  {
   "cell_type": "code",
   "execution_count": null,
   "metadata": {},
   "outputs": [],
   "source": []
  },
  {
   "cell_type": "code",
   "execution_count": null,
   "metadata": {},
   "outputs": [],
   "source": [
    "# Get a list of each directory\n",
    "path = os.path.join(\"ndvi-automation\", \"sites\")\n",
    "\n",
    "# Get a list of both site directories (We will talk more about automation next week)\n",
    "sites = glob(path + \"/*/\")\n",
    "# Get the site name\n",
    "site_name = os.path.basename(os.path.normpath(sites[0]))\n"
   ]
  },
  {
   "cell_type": "code",
   "execution_count": null,
   "metadata": {},
   "outputs": [],
   "source": [
    "# Open up the shapefile for clipping your landsat data to the study area\n",
    "vector_dir = os.path.join(sites[0],\n",
    "                          \"vector\")\n",
    "\n",
    "# Open crop boundary\n",
    "site_boundary_path = os.path.join(vector_dir,  site_name + \"-crop.shp\")\n",
    "crop_bound = gpd.read_file(site_boundary_path)"
   ]
  },
  {
   "cell_type": "code",
   "execution_count": null,
   "metadata": {},
   "outputs": [],
   "source": [
    "landsat_dir = os.path.join(sites[0],\n",
    "                           \"landsat-crop\")\n",
    "# This is the crop folder containing all of the .tif files\n",
    "landsat_dirs = glob(os.path.join(landsat_dir, \"LC08*\"))\n",
    "landsat_dirs.sort()"
   ]
  },
  {
   "cell_type": "code",
   "execution_count": null,
   "metadata": {},
   "outputs": [],
   "source": [
    "# Select just a single directory and grab bands 4-5 from the directory\n",
    "adir = landsat_dirs[3]\n",
    "# Open bands\n",
    "band_paths = glob(os.path.join(adir, \"*band*[4-5].tif\"))\n",
    "band_paths.sort()\n",
    "band_paths"
   ]
  },
  {
   "cell_type": "code",
   "execution_count": null,
   "metadata": {},
   "outputs": [],
   "source": [
    "# Open up the cloud mask layer\n",
    "\n",
    "# Cloud no data vals for Landsat 8 -\n",
    "vals = [328, 392, 840, 904, 1350, 352, 368, 416,\n",
    "        432, 480, 864, 880, 928, 944, 992, 480, 992]\n",
    "\n",
    "# Get cloud mask layer\n",
    "qa_r = glob(os.path.join(adir, \"*qa*\"))\n",
    "\n",
    "# Clip the cloud mask layer\n",
    "cl_mask = rxr.open_rasterio(qa_r[0], masked=True).squeeze()\n",
    "cl_mask_crop = cl_mask.rio.clip(crop_bound.geometry.apply(mapping))\n",
    "\n",
    "# View unique values in the data -note that not every landsat band will have clouds to mask\n",
    "np.unique(cl_mask_crop.values)"
   ]
  },
  {
   "cell_type": "code",
   "execution_count": null,
   "metadata": {},
   "outputs": [],
   "source": [
    "# Open a single band using rioxarray & mask to valid range then apply cloud mask\n",
    "band = rxr.open_rasterio(band_paths[0], masked=True).squeeze()\n",
    "band_crop = band.rio.clip(crop_bound.geometry.apply(mapping))\n",
    "\n",
    "# Specify the valid range of values for landsat\n",
    "valid_range = (0, 10000)\n",
    "\n",
    "if valid_range:\n",
    "    mask = ((band_crop < valid_range[0]) | (band_crop > valid_range[1]))\n",
    "    band_crop = band_crop.where(~xr.where(mask, True, False))\n",
    "\n",
    "band_crop = band_crop.where(~cl_mask_crop.isin(vals))\n",
    "band_crop"
   ]
  },
  {
   "cell_type": "code",
   "execution_count": null,
   "metadata": {},
   "outputs": [],
   "source": [
    "def open_clean_bands(band_path,\n",
    "                     crop_bound,\n",
    "                     valid_range=None,\n",
    "                     a_mask=None,\n",
    "                     vals=None):\n",
    "    \"\"\"Open and mask a single landsat band using a pixel_qa layer.\n",
    "\n",
    "    Parameters\n",
    "    -----------\n",
    "    band_path : string\n",
    "        A path to the array to be opened\n",
    "    crop_bound : geopandas GeoDataFrame\n",
    "        A geopandas dataframe to be used to crop the raster data using \n",
    "        rasterio mask().\n",
    "    valid_range : tuple (optional)\n",
    "        A tuple of min and max range of values for the data. \n",
    "        Default = None\n",
    "    a_mask : xarray DataArray\n",
    "        An xarray DataArray with values that have not yet been set to 1\n",
    "    vals : list\n",
    "        A list of values needed to create the cloud mask\n",
    "\n",
    "    Returns\n",
    "    -----------\n",
    "    band_crop : xarray DataArray\n",
    "        An xarray DataArray with values that should be masked set to 1 \n",
    "        for True (Boolean)\n",
    "    \"\"\"\n",
    "    # TODO add tests to ensure the arrays are the same .shape\n",
    "    band = rxr.open_rasterio(band_path, masked=True).squeeze()\n",
    "    band_crop = band.rio.clip(crop_bound.geometry.apply(mapping))\n",
    "\n",
    "    # Only run this step if a valid range tuple is provided\n",
    "    if valid_range:\n",
    "        mask = ((band_crop < valid_range[0]) | (band_crop > valid_range[1]))\n",
    "        band_crop = band_crop.where(~xr.where(mask, True, False))\n",
    "\n",
    "    if len(a_mask.shape) == 3 & a_mask.shape[0] == 1:\n",
    "        a_mask = a_mask.squeeze()\n",
    "\n",
    "    band_crop = band_crop.where(~a_mask.isin(vals))\n",
    "\n",
    "    return band_crop"
   ]
  },
  {
   "cell_type": "markdown",
   "metadata": {},
   "source": [
    "## What's fastest!!??\n",
    "\n",
    "Below you can see different versions of the same workflow timed for speed!\n",
    "The most efficient approach seems to be clipping and masking the NDVI layer\n",
    "rather than doing that for each band!"
   ]
  },
  {
   "cell_type": "code",
   "execution_count": null,
   "metadata": {},
   "outputs": [],
   "source": [
    "%%timeit\n",
    "# Open and clean a single band\n",
    "band_4 = open_clean_bands(band_path=band_paths[0],\n",
    "                          crop_bound=crop_bound,\n",
    "                          # The range of valid values for landsat can include negative values\n",
    "                          # for this week let's stick with 0-10000\n",
    "                          valid_range=(0, 10000),\n",
    "                          a_mask=cl_mask_crop,\n",
    "                          vals=vals)\n",
    "\n",
    "# Open and clean a single band\n",
    "band_5 = open_clean_bands(band_path=band_paths[1],\n",
    "                          crop_bound=crop_bound,\n",
    "                          # The range of valid values for landsat can include negative values\n",
    "                          # for this week let's stick with 0-10000\n",
    "                          valid_range=(0, 10000),\n",
    "                          a_mask=cl_mask_crop,\n",
    "                          vals=vals)\n",
    "\n",
    "#  Then  calculate NDVI\n",
    "ndvi = es.normalized_diff(band_5.values.astype('f4'), \n",
    "                   band_4.values.astype('f4'))\n"
   ]
  },
  {
   "cell_type": "code",
   "execution_count": null,
   "metadata": {},
   "outputs": [],
   "source": [
    "%%timeit\n",
    "# Alternatively do this in a loop and create a list output - cleaner code - same  amount of time\n",
    "all_bands = []\n",
    "for aband in band_paths:\n",
    "    cleaned_band = open_clean_bands(band_path=aband,\n",
    "                          crop_bound=crop_bound,\n",
    "                          # The range of valid values for landsat can include negative values\n",
    "                          # for this week let's stick with 0-10000\n",
    "                          valid_range=(0, 10000),\n",
    "                          a_mask=cl_mask_crop,\n",
    "                          vals=vals)\n",
    "    all_bands.append(cleaned_band)\n",
    "\n",
    "\n",
    "# Then calculate NDVI - note ndvi here is not an xarray oobject - i  don't love that. \n",
    "ndvi_2 = es.normalized_diff(all_bands[1].values.astype('f4'), \n",
    "                   all_bands[0].astype('f4'))\n"
   ]
  },
  {
   "cell_type": "code",
   "execution_count": null,
   "metadata": {},
   "outputs": [],
   "source": [
    "%%timeit\n",
    "# Open Data - note that t his is not accounting for funky landsat values >10000 or <0\n",
    "band_4 = rxr.open_rasterio(band_paths[0], masked=True).squeeze()\n",
    "band_5 = rxr.open_rasterio(band_paths[1], masked=True).squeeze()\n",
    "\n",
    "# Calculate NDVI\n",
    "ndvi = (band_5 - band_4) / (band_5 + band_4)\n",
    "\n",
    "ndvi_crop = ndvi.rio.clip(crop_bound.geometry.apply(mapping))\n",
    "\n",
    "ndvi_crop = ndvi_crop.where(~cl_mask_crop.isin(vals))"
   ]
  }
 ],
 "metadata": {
  "celltoolbar": "Tags",
  "hide_code_all_hidden": false,
  "kernelspec": {
   "display_name": "Python 3 (ipykernel)",
   "language": "python",
   "name": "python3"
  },
  "language_info": {
   "codemirror_mode": {
    "name": "ipython",
    "version": 3
   },
   "file_extension": ".py",
   "mimetype": "text/x-python",
   "name": "python",
   "nbconvert_exporter": "python",
   "pygments_lexer": "ipython3",
   "version": "3.8.12"
  },
  "toc": {
   "base_numbering": 1,
   "nav_menu": {},
   "number_sections": true,
   "sideBar": true,
   "skip_h1_title": false,
   "title_cell": "Table of Contents",
   "title_sidebar": "Contents",
   "toc_cell": false,
   "toc_position": {},
   "toc_section_display": true,
   "toc_window_display": true
  },
  "varInspector": {
   "cols": {
    "lenName": 16,
    "lenType": 16,
    "lenVar": 40
   },
   "kernels_config": {
    "python": {
     "delete_cmd_postfix": "",
     "delete_cmd_prefix": "del ",
     "library": "var_list.py",
     "varRefreshCmd": "print(var_dic_list())"
    },
    "r": {
     "delete_cmd_postfix": ") ",
     "delete_cmd_prefix": "rm(",
     "library": "var_list.r",
     "varRefreshCmd": "cat(var_dic_list()) "
    }
   },
   "types_to_exclude": [
    "module",
    "function",
    "builtin_function_or_method",
    "instance",
    "_Feature"
   ],
   "window_display": false
  }
 },
 "nbformat": 4,
 "nbformat_minor": 2
}
