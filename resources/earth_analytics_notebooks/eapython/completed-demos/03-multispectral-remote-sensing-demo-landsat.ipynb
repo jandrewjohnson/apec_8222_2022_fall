{
 "cells": [
  {
   "cell_type": "markdown",
   "metadata": {},
   "source": [
    "# Landsat  Data\n"
   ]
  },
  {
   "cell_type": "markdown",
   "metadata": {},
   "source": [
    "\n",
    "# Landsat Tif Files in Python\n",
    "\n",
    "When you used NAIP data, all (4) bands were stored in a single `.tif` file. However, sometimes data are downloaded in individual bands rather\n",
    "than a single file. When using Landsat data, each band in a landsat scene is often stored in an individual `.tif` file.\n",
    "\n",
    "## About Landsat Data\n",
    "\n",
    "> At over 40 years, the Landsat series of satellites provides the longest temporal record of moderate resolution multispectral data of the Earth’s surface on a global basis. The Landsat record has remained remarkably unbroken, proving a unique resource to assist a broad range of specialists in managing the world’s food, water, forests, and other natural resources for a growing world population.  It is a record unmatched in quality, detail, coverage, and value. Source: <a href=\"https://landsat.usgs.gov/about-landsat\" target=\"_blank\">USGS</a>\n",
    "\n",
    "\n",
    "<figure>\n",
    "    <a href=\"https://www.earthdatascience.org/images/courses/earth-analytics/remote-sensing/TimelineOnlyForWebRGB.png\">\n",
    "    <img src=\"https://www.earthdatascience.org/images/courses/earth-analytics/remote-sensing/TimelineOnlyForWebRGB.png\" alt=\"Landsat 40 year timeline source: USGS.\">\n",
    "    </a>\n",
    "    <figcaption>The 40 year history of landsat missions. Source: USGS - <a href=\"https://landsat.usgs.gov/landsat-missions-timeline\" target = \"_blank\">USGS Landsat Timeline</a>\n",
    "    </figcaption>\n",
    "</figure>\n",
    "\n",
    "Landsat data are spectral and collected using a platform mounted on a satellite in space that orbits the earth. The spectral bands\n",
    "and associated spatial resolution of the first 9 bands in the Landsat 8 sensor\n",
    "are listed below.\n",
    "\n",
    "#### Landsat 8 Bands\n",
    "\n",
    "| Band | Wavelength range (nanometers) | Spatial Resolution (m) | Spectral Width (nm)|\n",
    "|-------------------------------------|------------------|--------------------|----------------|\n",
    "| Band 1 - Coastal aerosol | 430 - 450 | 30 | 2.0 |\n",
    "| Band 2 - Blue | 450 - 510 | 30 | 6.0 |\n",
    "| Band 3 - Green | 530 - 590 | 30 | 6.0 |\n",
    "| Band 4 - Red | 640 - 670 | 30 | 0.03 |\n",
    "| Band 5 - Near Infrared (NIR) | 850 - 880 | 30 | 3.0 |\n",
    "| Band 6 - SWIR 1 | 1570 - 1650 | 30 | 8.0  |\n",
    "| Band 7 - SWIR 2 | 2110 - 2290 | 30 | 18 |\n",
    "| Band 8 - Panchromatic | 500 - 680 | 15 | 18 |\n",
    "| Band 9 - Cirrus | 1360 - 1380 | 30 | 2.0 |\n",
    "\n",
    "### Understand Landsat Data\n",
    "When working with landsat, it is important to understand both the metadata and\n",
    "the file naming convention. The metadata tell you how the data were processed,\n",
    "where the data are from and how they are structured.\n",
    "\n",
    "The file names, tell you what sensor collected the data, the date the data were collected, and more.\n",
    "\n",
    "<a href=\"https://landsat.usgs.gov/what-are-naming-conventions-landsat-scene-identifiers\" target=\"_blank\">More about the Landsat file naming convention.</a>\n",
    "\n",
    "<figure>\n",
    "    <a href=\"https://www.earthdatascience.org/images/courses/earth-analytics/remote-sensing/Collection_FileNameDiffs.png\">\n",
    "    <img src=\"https://www.earthdatascience.org/images/courses/earth-analytics/remote-sensing/Collection_FileNameDiffs.png\" alt=\"landsat file naming convention\">\n",
    "    </a>\n",
    "    <figcaption>Landsat file names Source: USGS Landsat - <a href=\"https://landsat.usgs.gov/what-are-naming-conventions-landsat-scene-identifiers\" target = \"_blank\">Landsat Scene Naming Conventions</a>\n",
    "    </figcaption>\n",
    "</figure>\n",
    "\n",
    "### Landsat File Naming Convention\n",
    "\n",
    "Landsat and many other satellite remote sensing data is named in a way that tells you a about:\n",
    "\n",
    "* When the data were collected and processed\n",
    "* What sensor was used to collect the data\n",
    "* What satellite was used to collect the data.\n",
    "\n",
    "And more. \n",
    "\n",
    "Here you will learn a few key components of the landsat 8 collection file name. The first scene that you work with below is named:\n",
    "\n",
    "`LC080340322016072301T1-SC20180214145802`\n",
    "\n",
    "First, we have LC08\n",
    "\n",
    "* **L:** Landsat Sensor\n",
    "* **C:** OLI / TIRS combined platform\n",
    "* **08:** Landsat 8 (not 7)\n",
    "\n",
    "* **034032:** The next 6 digits represent the path and row of the scene. This identifies the spatial coverage of the scene\n",
    "\n",
    "Finally, you have a date. In your case as follows:\n",
    "\n",
    "* **20160723:** representing the year, month and day that the data were collected.\n",
    "\n",
    "The second part of the file name above tells you more about when the data were last processed. You can read more about this naming convention using the link below.\n",
    "\n",
    "<a href=\"https://landsat.usgs.gov/what-are-naming-conventions-landsat-scene-identifiers\" target=\"_blank\">Learn more about Landsat 8 file naming conventions.</a>\n",
    "\n",
    "As you work wtih these data, it is good to double check that you are working with the sensor (Landsat 8) and the time period that you intend. Having this information in the file name makes it easier to keep track of this as you process your data. \n",
    "\n",
    "## Open Landsat .tif Files in Python\n",
    "\n",
    "Now that you understand the Landsat 8 Collection file naming conventions, you will bring the data into Python. To begin, load additional libraries needed for this section. Most libraries we need, such as `numpy`, the `plot` module from `earthpy`, and `matplotlib` have already been loaded."
   ]
  },
  {
   "cell_type": "code",
   "execution_count": null,
   "metadata": {},
   "outputs": [],
   "source": [
    "import os\n",
    "# This library is needed for file manipulation.\n",
    "from glob import glob\n",
    "\n",
    "import matplotlib.pyplot as plt\n",
    "import matplotlib as mpl\n",
    "import geopandas as gpd\n",
    "import xarray as xr\n",
    "import rioxarray as rxr\n",
    "from rasterio.plot import plotting_extent\n",
    "import earthpy as et\n",
    "import earthpy.spatial as es\n",
    "import earthpy.plot as ep\n",
    "\n",
    "# Set working directory & get data\n",
    "et.data.get_data('cold-springs-fire')\n",
    "os.chdir(os.path.join(et.io.HOME,\n",
    "                      'earth-analytics',\n",
    "                      \"data\"))"
   ]
  },
  {
   "cell_type": "markdown",
   "metadata": {},
   "source": [
    "You will be working in the `landsat-collect` directory. Notice that the data in that directory are stored by individual band. Each file is a single geotiff (.tif) rather than one tif with all the bands which is what you worked with in the previous lesson with NAIP data.  \n",
    "\n",
    "### Why Are Landsat Bands Stored As Individual Files?\n",
    " \n",
    "Conventionally landsat was stored in a file format called HDF - hierarchical\n",
    "data format. However that format, while extremely efficient, is a bit more\n",
    "challenging to work with. In recent years USGS has started to make each band\n",
    "of a landsat scene available as a `.tif` file. This makes it a bit easier to use\n",
    "across many different programs and platforms.\n",
    "\n",
    "The good news is that you already know how to work with .tif files in `Python`. You just need to learn how to batch process a series of `.tif` files to work with Landsat 8 Collections. \n",
    "\n",
    "## Generate a List of Files in Python\n",
    " \n",
    "To begin, explore the Landsat files in your `cold-springs-fire` directory. Start with \n",
    "looking at lists of the files located in the following directory: \n",
    "\n",
    "`data/cold-springs-fire/landsat_collect/LC080340322016072301T1-SC20180214145802/`\n"
   ]
  },
  {
   "cell_type": "code",
   "execution_count": null,
   "metadata": {},
   "outputs": [],
   "source": [
    "# Get a list of all landsat tif files for a single scene\n",
    "glob_crop_path = os.path.join(\"cold-springs-fire\",\n",
    "                              \"landsat_collect\",\n",
    "                              \"LC080340322016072301T1-SC20180214145802\",\n",
    "                              \"crop\",\n",
    "                              \"*\")\n",
    "glob(glob_crop_path)"
   ]
  },
  {
   "cell_type": "markdown",
   "metadata": {},
   "source": [
    "You can skip over the below  cell if you wish. It just shows you that you can\n",
    "call bash commands in Jupyter using the `!` . Run the cell if you want."
   ]
  },
  {
   "cell_type": "code",
   "execution_count": null,
   "metadata": {},
   "outputs": [],
   "source": [
    "# OPTIONAL: This below is just a shortcut to use the bash command \"ls\" within a jupyter notebook\n",
    "!ls cold-springs-fire//landsat_collect//LC080340322016072301T1-SC20180214145802//crop//"
   ]
  },
  {
   "cell_type": "markdown",
   "metadata": {},
   "source": [
    "Note that there is a crop directory. Landsat scenes are large. To make processing quicker for you as you learn, your instructor cropped the data to a smaller spatial extent. She also added the word `_crop` to the end of each file to ensure you know the data have been modified. \n",
    "\n",
    "Also notice that some of the layers are quality assurance layers. Others have the word **band** \n",
    "in them. The layers with band in them are the reflectance data that you need to work with. \n",
    "To work with these files you will do the following:\n",
    "\n",
    "1. You will generate a list of all files in the directory that contain the word **band** in the name. \n",
    "2. Loop through those layers to create a numpy array.\n",
    "\n",
    "You will use the `glob` function and library to do this in Python. \n"
   ]
  },
  {
   "cell_type": "markdown",
   "metadata": {},
   "source": [
    "### Grab Subsets of File Names Using File Names and Other Criteria \n",
    "\n",
    "ABove you generated a list of all files in the directory. However you may wnat to subset that list to only include\n",
    "\n",
    "1. `.tif` files\n",
    "2. `.tif` files that contain the word \"band\" in them\n",
    "\n",
    "Note that it is important that the file **ends with** .tif. So we use the dollar sign at the end of our pattern to tell Python to only grab files that end with .tif.\n",
    "\n",
    "`path/*.tif` will grab all files in the crop directory that end with the .tif extension. "
   ]
  },
  {
   "cell_type": "code",
   "execution_count": null,
   "metadata": {},
   "outputs": [],
   "source": [
    "# Only grab the .tif files\n",
    "glob(os.path.join(\"cold-springs-fire\",\n",
    "                  \"landsat_collect\",\n",
    "                  \"LC080340322016072301T1-SC20180214145802\",\n",
    "                  \"crop\",\n",
    "                  \"*.tif\"))"
   ]
  },
  {
   "cell_type": "markdown",
   "metadata": {},
   "source": [
    "To only grab files containing the word band AND that end with .tif we use `*band*.tif`.\n",
    "This tells python to look for the word band anywhere before the .tif extension AND anywhere within the file name. \n"
   ]
  },
  {
   "cell_type": "code",
   "execution_count": null,
   "metadata": {},
   "outputs": [],
   "source": [
    "landsat_post_band_paths = glob(os.path.join(\"cold-springs-fire\",\n",
    "                                            \"landsat_collect\",\n",
    "                                            \"LC080340322016072301T1-SC20180214145802\",\n",
    "                                            \"crop\",\n",
    "                                            \"*band*.tif\"))\n",
    "landsat_post_band_paths"
   ]
  },
  {
   "cell_type": "markdown",
   "metadata": {},
   "source": [
    "Sort the list to ensure the bands are in the correct order - starting at 1 and ending at 7.\n",
    "Sorting is an important step to ensure you use the correct bands when you process the data.  "
   ]
  },
  {
   "cell_type": "code",
   "execution_count": null,
   "metadata": {},
   "outputs": [],
   "source": [
    "landsat_post_band_paths.sort()\n",
    "landsat_post_band_paths"
   ]
  },
  {
   "cell_type": "markdown",
   "metadata": {},
   "source": [
    "# Grab only selections of bands\n",
    "\n",
    "Below you grab bands 2-5 using the syntax `*band[2-5]*`.\n",
    "This syntax tells python to only look for file names with the word\n",
    "band and 2, 3, 4 or 5 in the name.\n"
   ]
  },
  {
   "cell_type": "code",
   "execution_count": null,
   "metadata": {},
   "outputs": [],
   "source": [
    "landsat_post_band_paths = glob(os.path.join(\"cold-springs-fire\",\n",
    "                                            \"landsat_collect\",\n",
    "                                            \"LC080340322016072301T1-SC20180214145802\",\n",
    "                                            \"crop\",\n",
    "                                            \"*band[2-5]*.tif\"))\n",
    "\n",
    "landsat_post_band_paths.sort()"
   ]
  },
  {
   "cell_type": "markdown",
   "metadata": {},
   "source": [
    "Now you have a list of all of the landsat bands in your landsat collections folder. You could chose to open each file individually using the `rio.open` (rasterio library) function.\n",
    "\n",
    "Remember that Python uses 0 based indexing so band 3 is actually at index `[2]` not `[3]`."
   ]
  },
  {
   "cell_type": "code",
   "execution_count": null,
   "metadata": {},
   "outputs": [],
   "source": [
    "# Open band 4 with rioxarray\n",
    "landsat_band_4 = rxr.open_rasterio(landsat_post_band_paths[0],\n",
    "                                   masked=True).squeeze()\n",
    "\n",
    "# Plot the data\n",
    "f, ax = plt.subplots(figsize=(8, 4))\n",
    "landsat_band_4.plot.imshow(cmap=\"Greys_r\",\n",
    "                           add_colorbar=False)\n",
    "ax.set(title=\"Landsat Cropped Band 2\\nColdsprings Fire Scar\")\n",
    "ax.set_axis_off()\n",
    "plt.show()"
   ]
  },
  {
   "cell_type": "markdown",
   "metadata": {},
   "source": [
    "# Create Raster Stack of All Landsat Bands in Python\n",
    "\n",
    "Below you use that list of bands to create an xarray object. Notice that \n",
    "I wrote a function that combines the files and then outputs an xarray object."
   ]
  },
  {
   "cell_type": "code",
   "execution_count": null,
   "metadata": {},
   "outputs": [],
   "source": [
    "# Generate a path to a new tif file\n",
    "# landsat_post_fire_dir = os.path.join(\"cold-springs-fire\",\n",
    "#                                      \"outputs\")\n",
    "\n",
    "# # Ensure the directories exist. If it doesn't, create it\n",
    "# if not os.path.exists(landsat_post_fire_dir):\n",
    "#     print(\"Oops - that directory doesn't exist. Creating it now for you.\")\n",
    "#     os.makedirs(landsat_post_fire_dir)\n",
    "# else:\n",
    "#     print(\"Great! The directory exists, moving on.\")"
   ]
  },
  {
   "cell_type": "code",
   "execution_count": null,
   "metadata": {},
   "outputs": [],
   "source": [
    "def combine_tifs(tif_list):\n",
    "    \"\"\"A function that combines a list of tifs in the same CRS\n",
    "    and of the same extent into an xarray object\n",
    "\n",
    "    Parameters\n",
    "    ----------\n",
    "    tif_list : list\n",
    "        A list of paths to the tif files that you wish to combine.\n",
    "        \n",
    "    Returns\n",
    "    -------\n",
    "    An xarray object with all of the tif files in the listmerged into \n",
    "    a single object.\n",
    "\n",
    "    \"\"\"\n",
    "\n",
    "    out_xr=[]\n",
    "    for i, tif_path in enumerate(tif_list):\n",
    "        out_xr.append(rxr.open_rasterio(tif_path, masked=True).squeeze())\n",
    "        out_xr[i][\"band\"]=i+1\n",
    "     \n",
    "    return xr.concat(out_xr, dim=\"band\") "
   ]
  },
  {
   "cell_type": "code",
   "execution_count": null,
   "metadata": {},
   "outputs": [],
   "source": [
    "landsat_post = combine_tifs(landsat_post_band_paths)\n"
   ]
  },
  {
   "cell_type": "code",
   "execution_count": null,
   "metadata": {},
   "outputs": [],
   "source": [
    "# Plot all of the bands - note that hte plot titles don't represent the actual band numbers.\n",
    "# they are simply numbered 1-4\n",
    "landsat_post.plot.imshow(col=\"band\",\n",
    "                         col_wrap=3,\n",
    "                         cmap=\"Greys_r\")\n",
    "plt.show()"
   ]
  },
  {
   "cell_type": "markdown",
   "metadata": {},
   "source": [
    "## Plot RGB image\n",
    "\n",
    "Just like you did with NAIP data, you can plot 3 band color composite images with Landsat too. \n",
    "Refer to the landsat bands in the table\n",
    "at the top of this page to figure out the red, green and blue bands. Or read the\n",
    "<a href=\"https://blogs.esri.com/esri/arcgis/2013/07/24/band-combinations-for-landsat-8/\" target=\"_blank\">ESRI landsat 8 band combinations</a> post.\n",
    "\n",
    "The major benefit of using earthpy `plot_rgb` is that it has a built in stretch function.\n",
    "however, it will become more difficult to overlay vector data and create maps using this \n",
    "approach as you will need to create a plotting extent to spatially located the data.\n"
   ]
  },
  {
   "cell_type": "markdown",
   "metadata": {},
   "source": [
    "\n",
    "The major benefit of using earthpy `plot_rgb` is that it has a built in stretch function.\n",
    "however, it will become more difficult to overlay vector data and create maps using this \n",
    "approach as you will need to create a plotting extent to spatially located the data.\n",
    "\n",
    "It also will adjust for scaling the data to plot rgb colors. \n",
    "\n"
   ]
  },
  {
   "cell_type": "code",
   "execution_count": null,
   "metadata": {},
   "outputs": [],
   "source": [
    "# Create an rgb plot of landsat data. Be sure to select the correct bands!\n",
    "ep.plot_rgb(landsat_post.values,\n",
    "            rgb=[2, 1, 0])\n",
    "plt.show()"
   ]
  },
  {
   "cell_type": "markdown",
   "metadata": {},
   "source": [
    "Notice that the image above looks dark. You can stretch the image as you did with the NAIP data, too.\n",
    "Below you use the stretch argument built into the earthpy `plot_rgb()` function. The `str_clip` argument allows you to specify how much of the tails of the data that you want to clip off. The larger the number, the most the data will be stretched or brightened.\n",
    "\n",
    "<figure>\n",
    "    <a href=\"{{ site.url }}/images/courses/earth-analytics/raster-data/raster-image-stretch-dark.jpg\">\n",
    "    <img src=\"{{ site.url }}/images/courses/earth-analytics/raster-data/raster-image-stretch-dark.jpg\" alt=\"When the range of pixel brightness values is closer to 0, a\n",
    "    darker image is rendered by default. You can stretch the values to extend to\n",
    "    the full 0-255 range of potential values to increase the visual contrast of\n",
    "    the image.\">\n",
    "    </a>\n",
    "    <figcaption>When the range of pixel brightness values is closer to 0, a\n",
    "    darker image is rendered by default. You can stretch the values to extend to\n",
    "    the full 0-255 range of potential values to increase the visual contrast of\n",
    "    the image.\n",
    "    </figcaption>\n",
    "</figure>\n",
    "\n",
    "<figure>\n",
    "    <a href=\"{{ site.url }}/images/courses/earth-analytics/raster-data/raster-image-stretch-light.jpg\">\n",
    "    <img src=\"{{ site.url }}/images/courses/earth-analytics/raster-data/raster-image-stretch-light.jpg\" alt=\"When the range of pixel brightness values is closer to 255, a\n",
    "    lighter image is rendered by default. You can stretch the values to extend to\n",
    "    the full 0-255 range of potential values to increase the visual contrast of\n",
    "    the image.\">\n",
    "    </a>\n",
    "    <figcaption>When the range of pixel brightness values is closer to 255, a\n",
    "    lighter image is rendered by default. You can stretch the values to extend to\n",
    "    the full 0-255 range of potential values to increase the visual contrast of\n",
    "    the image.\n",
    "    </figcaption>\n",
    "</figure>"
   ]
  },
  {
   "cell_type": "code",
   "execution_count": null,
   "metadata": {},
   "outputs": [],
   "source": [
    "# TODO: adjust the plot above and add a stretch to your RGB image of landsat data."
   ]
  },
  {
   "cell_type": "markdown",
   "metadata": {},
   "source": [
    "##  If  you Use  Earthpy  to Plot_RGB  - You Will Need  To  Create  a  Plotting  Extent\n",
    "The benefit of using EarthPy to plot your data will be the ability to stretch \n",
    "the data. However if you wish to overlay spatial vector data, you will need to \n",
    "create a plotting  extent for this to work. The workflow for this is below."
   ]
  },
  {
   "cell_type": "code",
   "execution_count": null,
   "metadata": {},
   "outputs": [],
   "source": [
    "# Import fire  boundary\n",
    "fire_boundary_path = os.path.join(\"cold-springs-fire\",\n",
    "                                  \"vector_layers\",\n",
    "                                  \"fire-boundary-geomac\",\n",
    "                                  \"co_cold_springs_20160711_2200_dd83.shp\")\n",
    "fire_boundary = gpd.read_file(fire_boundary_path)"
   ]
  },
  {
   "cell_type": "code",
   "execution_count": null,
   "metadata": {},
   "outputs": [],
   "source": [
    "if not fire_boundary.crs == landsat_post.rio.crs:\n",
    "    print(\"Your datasets are not in the same crs, I am reprojecting for you\")\n",
    "    fire_boundary_rep = fire_boundary.to_crs(landsat_post.rio.crs)"
   ]
  },
  {
   "cell_type": "code",
   "execution_count": null,
   "metadata": {},
   "outputs": [],
   "source": [
    "#  Add this import to the TOP in your code - it's here as an example so you know what the import does\n",
    "from rasterio.plot import plotting_extent\n",
    "\n",
    "# Create a plotting extent for plotting your data\n",
    "landsat_extent = plotting_extent(landsat_post[0], \n",
    "                                 landsat_post.rio.transform())\n",
    "\n",
    "f, ax = plt.subplots()\n",
    "ep.plot_rgb(landsat_post.values,\n",
    "            rgb=[2, 1, 0],\n",
    "            stretch=.5, \n",
    "            ax=ax,\n",
    "            extent=landsat_extent)\n",
    "fire_boundary_rep.plot(ax=ax)\n",
    "plt.show()"
   ]
  },
  {
   "cell_type": "markdown",
   "metadata": {},
   "source": [
    "## Raster Pixel Histograms\n",
    "\n",
    "You can create a histogram to view the distribution of pixel values in the rgb bands plotted above. "
   ]
  },
  {
   "cell_type": "code",
   "execution_count": null,
   "metadata": {},
   "outputs": [],
   "source": [
    "# TODO: Create a plot that has a histogram for each band in your landsat stacked data"
   ]
  },
  {
   "cell_type": "markdown",
   "metadata": {},
   "source": [
    "Now you've created a red, green blue color composite image. Remember red green and blue are colors that\n",
    "your eye can see. Create a color infrared image using landsat bands: 4,3,2.\n"
   ]
  },
  {
   "cell_type": "code",
   "execution_count": null,
   "metadata": {},
   "outputs": [],
   "source": [
    "# TODO: Plot a CIR image of Landsat Data"
   ]
  }
 ],
 "metadata": {
  "kernelspec": {
   "display_name": "Python 3 (ipykernel)",
   "language": "python",
   "name": "python3"
  },
  "language_info": {
   "codemirror_mode": {
    "name": "ipython",
    "version": 3
   },
   "file_extension": ".py",
   "mimetype": "text/x-python",
   "name": "python",
   "nbconvert_exporter": "python",
   "pygments_lexer": "ipython3",
   "version": "3.8.12"
  },
  "toc": {
   "base_numbering": 1,
   "nav_menu": {},
   "number_sections": true,
   "sideBar": true,
   "skip_h1_title": false,
   "title_cell": "Table of Contents",
   "title_sidebar": "Contents",
   "toc_cell": false,
   "toc_position": {
    "height": "calc(100% - 180px)",
    "left": "10px",
    "top": "150px",
    "width": "165px"
   },
   "toc_section_display": true,
   "toc_window_display": true
  }
 },
 "nbformat": 4,
 "nbformat_minor": 4
}
