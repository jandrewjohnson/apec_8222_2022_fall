{
 "cells": [
  {
   "cell_type": "markdown",
   "metadata": {
    "slideshow": {
     "slide_type": "slide"
    }
   },
   "source": [
    "# An introduction to JSON data"
   ]
  },
  {
   "cell_type": "markdown",
   "metadata": {
    "slideshow": {
     "slide_type": "slide"
    }
   },
   "source": [
    "\n",
    "## Review - **REST**ful APIs.\n",
    "\n",
    "The **request** to an **REST**ful API is composed of:\n",
    "  * a URL\n",
    "  * parameters required to access a particular subset of the data\n",
    "  \n",
    "When you send the request, the web API returns one of the following:\n",
    "\n",
    " 1. The data that you requested or\n",
    " 2. A *failed to return* message which tells us that something was wrong with your request.\n"
   ]
  },
  {
   "cell_type": "markdown",
   "metadata": {
    "slideshow": {
     "slide_type": "slide"
    }
   },
   "source": [
    "## The JSON (**J**ava**S**cript **O**bject **N**otation) data structure is an ideal format for larger data that have a hierarchical structured relationship.\n",
    "\n",
    "In `Python`, `JSON` data is similar to a dictonary because it has keys (i.e. names) and values, but it is encoded as a string. \n",
    "\n",
    "To use JSON data in Python:\n",
    "  * The `Python` library `json` converts JSON data to and from from lists or dictonaries\n",
    "  * `Pandas` can also be used to convert `JSON` data into a `Pandas` `DataFrame`. \n",
    "\n",
    "The structure of a `JSON` object is as follows:\n",
    "\n",
    "* The data are in name/value pairs using colons `:`.\n",
    "* Data **objects** are separated by commas.\n",
    "* Curly braces `{}` hold the objects.\n",
    "* Square brackets `[]` can be used to indicate an **array** that contains a group of objects.\n",
    "* Each **data element** is enclosed with quotes `\"\"` if it is a character, or without quotes if it is a numeric value."
   ]
  },
  {
   "cell_type": "markdown",
   "metadata": {
    "slideshow": {
     "slide_type": "subslide"
    }
   },
   "source": [
    "The `JSON` structure can also be nested using square brackets to indicate an array that contains a group of objects, like this:\n",
    "\n",
    "```json\n",
    "{\"students\":[\n",
    "    { \"firstName\":\"Serena\", \"lastName\":\"Williams\" },\n",
    "    { \"firstName\":\"Boe\", \"lastName\":\"Diddly\" },\n",
    "    { \"firstName\":\"Al\", \"lastName\":\"Gore\" }\n",
    "]}\n",
    "```\n",
    "\n",
    "The ability to store nested or **hierarchical** data within a text file structure makes `JSON` a powerful format to use as you are working with larger datasets."
   ]
  },
  {
   "cell_type": "markdown",
   "metadata": {
    "slideshow": {
     "slide_type": "subslide"
    }
   },
   "source": [
    "### GeoJSON\n",
    "* Supports spatial data\n",
    "* Can store data similar to shapefiles\n",
    "* Often used for web mapping applications like Leaflet"
   ]
  },
  {
   "cell_type": "markdown",
   "metadata": {
    "slideshow": {
     "slide_type": "slide"
    }
   },
   "source": [
    "### JSON Data Structures\n",
    "\n",
    "`JSON` can store any of the following data types:\n",
    "\n",
    "* strings\n",
    "* numbers\n",
    "* objects (`JSON` object)\n",
    "* arrays\n",
    "* booleans (TRUE / FALSE)\n",
    "* null"
   ]
  },
  {
   "cell_type": "markdown",
   "metadata": {
    "slideshow": {
     "slide_type": "subslide"
    }
   },
   "source": [
    "Note that in the example below, the word \"Chaya\", which is the value associated with \"name\", is in quotes `\"\"`. This specifies that \"Chaya\" is a string (characters rather than numeric).\n",
    "\n",
    "```json\n",
    " { \"name\":\"Chaya\" }\n",
    "```"
   ]
  },
  {
   "cell_type": "markdown",
   "metadata": {
    "slideshow": {
     "slide_type": "subslide"
    }
   },
   "source": [
    "In this example, the value 12, associated with \"age\", is not in quotes. This specifies that this value is a number or of type `numeric`.\n",
    "\n",
    "```json\n",
    "{ \"name\":\"Chaya\", \"age\":12, \"city\":\"Boulder\", \"type\":\"Canine\" }\n",
    "```"
   ]
  },
  {
   "cell_type": "markdown",
   "metadata": {
    "slideshow": {
     "slide_type": "subslide"
    }
   },
   "source": [
    "Notice that the `JSON` is enclosed in brackets `[]` to indicate an array containing a group of objects.\n",
    "\n",
    "```json\n",
    "[{\"age\":\"0\",\"county\":\"Adams\",\"datatype\":\"Estimate\",\"femalepopulation\":\"2404\",\"fipscode\":\"1\",\"malepopulation\":\"2354\",\"totalpopulation\":\"4758\",\"year\":\"1990\"}\n",
    ",{\"age\":\"1\",\"county\":\"Adams\",\"datatype\":\"Estimate\",\"femalepopulation\":\"2375\",\"fipscode\":\"1\",\"malepopulation\":\"2345\",\"totalpopulation\":\"4720\",\"year\":\"1990\"}\n",
    ",{\"age\":\"2\",\"county\":\"Adams\",\"datatype\":\"Estimate\",\"femalepopulation\":\"2219\",\"fipscode\":\"1\",\"malepopulation\":\"2413\",\"totalpopulation\":\"4632\",\"year\":\"1990\"}]\n",
    "```"
   ]
  },
  {
   "cell_type": "markdown",
   "metadata": {
    "slideshow": {
     "slide_type": "slide"
    }
   },
   "source": [
    "## Work with JSON Data in Python\n",
    "\n",
    "### Python Dictionary to JSON\n",
    "\n",
    "Using the `Python` `json` library, you can convert a `Python` dictionary to a `JSON` string using the `json.dumps()` function.\n",
    "\n",
    "Begin by creating the `Python` dictionary that will be converted to `JSON`. "
   ]
  },
  {
   "cell_type": "code",
   "execution_count": 1,
   "metadata": {
    "slideshow": {
     "slide_type": "subslide"
    }
   },
   "outputs": [],
   "source": [
    "import json\n",
    "import pandas as pd"
   ]
  },
  {
   "cell_type": "code",
   "execution_count": 2,
   "metadata": {
    "slideshow": {
     "slide_type": "subslide"
    }
   },
   "outputs": [
    {
     "data": {
      "text/plain": [
       "{'name': 'Chaya', 'age': 12, 'city': 'Boulder', 'type': 'Canine'}"
      ]
     },
     "execution_count": 2,
     "metadata": {},
     "output_type": "execute_result"
    }
   ],
   "source": [
    "# Create and populate the dictionary\n",
    "dict = {}\n",
    "dict[\"name\"] = \"Chaya\"\n",
    "dict[\"age\"] = 12\n",
    "dict[\"city\"] = \"Boulder\"\n",
    "dict[\"type\"] = \"Canine\"\n",
    "\n",
    "dict"
   ]
  },
  {
   "cell_type": "markdown",
   "metadata": {
    "slideshow": {
     "slide_type": "fragment"
    }
   },
   "source": [
    "Notice below that the `Python` dictionary and the `JSON` string look very similiar, but that the `JSON` string is enclosed with quotes `''`. "
   ]
  },
  {
   "cell_type": "code",
   "execution_count": 3,
   "metadata": {
    "slideshow": {
     "slide_type": "fragment"
    }
   },
   "outputs": [
    {
     "data": {
      "text/plain": [
       "'{\"name\": \"Chaya\", \"age\": 12, \"city\": \"Boulder\", \"type\": \"Canine\"}'"
      ]
     },
     "execution_count": 3,
     "metadata": {},
     "output_type": "execute_result"
    }
   ],
   "source": [
    "json_example = json.dumps(dict, ensure_ascii=False)\n",
    "\n",
    "json_example"
   ]
  },
  {
   "cell_type": "markdown",
   "metadata": {
    "slideshow": {
     "slide_type": "subslide"
    }
   },
   "source": [
    "Recall that you use `type()` to check the object type, and notice that the `JSON` is of type `str`. "
   ]
  },
  {
   "cell_type": "code",
   "execution_count": 4,
   "metadata": {
    "slideshow": {
     "slide_type": "fragment"
    }
   },
   "outputs": [
    {
     "data": {
      "text/plain": [
       "str"
      ]
     },
     "execution_count": 4,
     "metadata": {},
     "output_type": "execute_result"
    }
   ],
   "source": [
    "type(json_example)"
   ]
  },
  {
   "cell_type": "markdown",
   "metadata": {
    "slideshow": {
     "slide_type": "slide"
    }
   },
   "source": [
    "###  JSON to Python Dictionary\n",
    "\n",
    "You can also manually define `JSON` by enclosing the `JSON` with quotes `''`. "
   ]
  },
  {
   "cell_type": "code",
   "execution_count": 5,
   "metadata": {
    "slideshow": {
     "slide_type": "fragment"
    }
   },
   "outputs": [
    {
     "data": {
      "text/plain": [
       "str"
      ]
     },
     "execution_count": 5,
     "metadata": {},
     "output_type": "execute_result"
    }
   ],
   "source": [
    "json_sample =  '{ \"name\":\"Chaya\", \"age\":12, \"city\":\"Boulder\", \"type\":\"Canine\" }'\n",
    "\n",
    "type(json_sample)"
   ]
  },
  {
   "cell_type": "markdown",
   "metadata": {
    "slideshow": {
     "slide_type": "subslide"
    }
   },
   "source": [
    "Using the `json.loads()` function, a `JSON` string can be converted to a `dictionary`. "
   ]
  },
  {
   "cell_type": "code",
   "execution_count": 6,
   "metadata": {
    "slideshow": {
     "slide_type": "fragment"
    }
   },
   "outputs": [
    {
     "data": {
      "text/plain": [
       "{'name': 'Chaya', 'age': 12, 'city': 'Boulder', 'type': 'Canine'}"
      ]
     },
     "execution_count": 6,
     "metadata": {},
     "output_type": "execute_result"
    }
   ],
   "source": [
    "# Load JSON into dictionary\n",
    "data_sample = json.loads(json_sample)\n",
    "data_sample"
   ]
  },
  {
   "cell_type": "markdown",
   "metadata": {
    "slideshow": {
     "slide_type": "fragment"
    }
   },
   "source": [
    "You can check the type again to see that it has been converted to a `Python` dictionary. "
   ]
  },
  {
   "cell_type": "code",
   "execution_count": 7,
   "metadata": {
    "slideshow": {
     "slide_type": "fragment"
    }
   },
   "outputs": [
    {
     "data": {
      "text/plain": [
       "dict"
      ]
     },
     "execution_count": 7,
     "metadata": {},
     "output_type": "execute_result"
    }
   ],
   "source": [
    "type(data_sample)"
   ]
  },
  {
   "cell_type": "markdown",
   "metadata": {
    "slideshow": {
     "slide_type": "subslide"
    }
   },
   "source": [
    "Recall that you can call any key of a `Python` dictionary and see the associated values. "
   ]
  },
  {
   "cell_type": "code",
   "execution_count": 8,
   "metadata": {
    "slideshow": {
     "slide_type": "fragment"
    }
   },
   "outputs": [
    {
     "data": {
      "text/plain": [
       "'Chaya'"
      ]
     },
     "execution_count": 8,
     "metadata": {},
     "output_type": "execute_result"
    }
   ],
   "source": [
    "data_sample[\"name\"]"
   ]
  },
  {
   "cell_type": "code",
   "execution_count": 9,
   "metadata": {
    "slideshow": {
     "slide_type": "fragment"
    }
   },
   "outputs": [
    {
     "data": {
      "text/plain": [
       "'Boulder'"
      ]
     },
     "execution_count": 9,
     "metadata": {},
     "output_type": "execute_result"
    }
   ],
   "source": [
    "data_sample[\"city\"]"
   ]
  },
  {
   "cell_type": "markdown",
   "metadata": {
    "slideshow": {
     "slide_type": "slide"
    }
   },
   "source": [
    "### Python Dictionary to Pandas Dataframe\n",
    "\n",
    "If desired, you can use the `from_dict()` function from `Pandas` to read the dictionary into a `Pandas` `Dataframe`."
   ]
  },
  {
   "cell_type": "code",
   "execution_count": 10,
   "metadata": {
    "slideshow": {
     "slide_type": "fragment"
    }
   },
   "outputs": [
    {
     "data": {
      "text/html": [
       "<div>\n",
       "<style scoped>\n",
       "    .dataframe tbody tr th:only-of-type {\n",
       "        vertical-align: middle;\n",
       "    }\n",
       "\n",
       "    .dataframe tbody tr th {\n",
       "        vertical-align: top;\n",
       "    }\n",
       "\n",
       "    .dataframe thead th {\n",
       "        text-align: right;\n",
       "    }\n",
       "</style>\n",
       "<table border=\"1\" class=\"dataframe\">\n",
       "  <thead>\n",
       "    <tr style=\"text-align: right;\">\n",
       "      <th></th>\n",
       "      <th>0</th>\n",
       "    </tr>\n",
       "  </thead>\n",
       "  <tbody>\n",
       "    <tr>\n",
       "      <th>name</th>\n",
       "      <td>Chaya</td>\n",
       "    </tr>\n",
       "    <tr>\n",
       "      <th>age</th>\n",
       "      <td>12</td>\n",
       "    </tr>\n",
       "    <tr>\n",
       "      <th>city</th>\n",
       "      <td>Boulder</td>\n",
       "    </tr>\n",
       "    <tr>\n",
       "      <th>type</th>\n",
       "      <td>Canine</td>\n",
       "    </tr>\n",
       "  </tbody>\n",
       "</table>\n",
       "</div>"
      ],
      "text/plain": [
       "            0\n",
       "name    Chaya\n",
       "age        12\n",
       "city  Boulder\n",
       "type   Canine"
      ]
     },
     "execution_count": 10,
     "metadata": {},
     "output_type": "execute_result"
    }
   ],
   "source": [
    "df = pd.DataFrame.from_dict(data_sample, orient='index')\n",
    "df"
   ]
  },
  {
   "cell_type": "markdown",
   "metadata": {
    "slideshow": {
     "slide_type": "slide"
    }
   },
   "source": [
    "### Pandas Dataframe to JSON\n",
    "\n",
    "Conversely, you can also convert a `Pandas` `Dataframe` to `JSON` using the `Pandas` method `to_json()`."
   ]
  },
  {
   "cell_type": "code",
   "execution_count": 11,
   "metadata": {
    "slideshow": {
     "slide_type": "fragment"
    }
   },
   "outputs": [
    {
     "data": {
      "text/plain": [
       "str"
      ]
     },
     "execution_count": 11,
     "metadata": {},
     "output_type": "execute_result"
    }
   ],
   "source": [
    "sample_json = df.to_json(orient='split')\n",
    "\n",
    "type(sample_json)"
   ]
  }
 ],
 "metadata": {
  "anaconda-cloud": {},
  "celltoolbar": "Slideshow",
  "kernelspec": {
   "display_name": "Python 3 (ipykernel)",
   "language": "python",
   "name": "python3"
  },
  "language_info": {
   "codemirror_mode": {
    "name": "ipython",
    "version": 3
   },
   "file_extension": ".py",
   "mimetype": "text/x-python",
   "name": "python",
   "nbconvert_exporter": "python",
   "pygments_lexer": "ipython3",
   "version": "3.8.12"
  },
  "nteract": {
   "version": "0.8.4"
  },
  "toc": {
   "base_numbering": 1,
   "nav_menu": {},
   "number_sections": true,
   "sideBar": true,
   "skip_h1_title": false,
   "title_cell": "Table of Contents",
   "title_sidebar": "Contents",
   "toc_cell": false,
   "toc_position": {},
   "toc_section_display": true,
   "toc_window_display": false
  }
 },
 "nbformat": 4,
 "nbformat_minor": 2
}
