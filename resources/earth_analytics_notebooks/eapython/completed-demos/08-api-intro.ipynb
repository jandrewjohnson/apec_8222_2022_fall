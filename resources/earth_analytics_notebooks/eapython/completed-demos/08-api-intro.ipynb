{
 "cells": [
  {
   "cell_type": "markdown",
   "metadata": {},
   "source": [
    "{% include toc title = \"In This Lesson\" icon=\"file-text\" %}\n",
    "\n",
    "<div class='notice--success' markdown=\"1\">\n",
    "\n",
    "# <i class=\"fa fa-graduation-cap\" aria-hidden=\"true\"></i> Learning Objectives\n",
    "\n",
    "After completing this tutorial, you will be able to:\n",
    "\n",
    "* Describe the difference between human and machine readable data structures.\n",
    "* Describe the difference between data returned using an API compared to downloading a text file directly.\n",
    "* Describe 2-3 components of a RESTful API call.\n",
    "* List different ways to access data programmatically in Python.\n",
    "\n",
    "# <i class=\"fa fa-check-square-o fa-2\" aria-hidden=\"true\"></i> What You Need\n",
    "\n",
    "You will need a computer with internet access to complete this lesson.\n",
    "\n",
    "</div>"
   ]
  },
  {
   "cell_type": "markdown",
   "metadata": {},
   "source": [
    "# Access Data Programmatically\n",
    "\n",
    "This week, you will learn how to programmatically access data using:\n",
    "\n",
    "1. Direct downloads / import of data.\n",
    "2. Applied Programming Interfaces (APIs).\n",
    "\n",
    "Up until this point, you have been downloading data from a website (in the case of \n",
    "this course, <a href=\"https://figshare.com/authors/_/3386570\" target=\"_blank\">Figshare</a>) independently. Then, you work with the data in `Python`. The data that you have downloaded are prepared specifically for this course. \n",
    "\n",
    "However, independently downloading and unzipping data each week is not efficient and does not explicitly tie your\n",
    "data to your analysis.\n",
    "\n",
    "You can automate the data download process using `Python`. Automation is particularly useful when:\n",
    "\n",
    "* You want to download lots of data or particular subsets of data to support an analysis.\n",
    "* There are programmatic ways to access and query the data online."
   ]
  },
  {
   "cell_type": "markdown",
   "metadata": {},
   "source": [
    "\n",
    "## Link Data Access to Processing & Analysis\n",
    "\n",
    "When you automate data access, download, or retrieval, and embed it in your code, \n",
    "you are **directly** linking your analysis to your data. Further, combined with  Jupyter Notebooks, code comments and expressive coding techniques, you are better documenting your workflow. \n",
    "\n",
    "In short - by linking data access and download to your analysis - you are not only reminding your future selves of your process - you are also reminding your future self where (and how) you got the data in the first place! Similarly, this allows your workflow to be easily reproduced by others. "
   ]
  },
  {
   "cell_type": "markdown",
   "metadata": {},
   "source": [
    "## Three Ways to Access Data\n",
    "\n",
    "You can break up programmatic data access into three general categories:\n",
    "\n",
    "1. Data that you download by calling a specific URL and using the `Pandas` function `read_table`, which takes in a url.\n",
    "2. Data that you directly import into `Python` using the `Pandas` function `read_csv`.\n",
    "3. Data that you download using an API, which makes a **request** to a data repository and **returns** requested data."
   ]
  },
  {
   "cell_type": "markdown",
   "metadata": {},
   "source": [
    "## Two Key Formats\n",
    "\n",
    "The data that you access programmatically may be returned in one of two main formats:\n",
    "\n",
    "1. **Tabular Human-readable file:** Files that are tabular, including CSV files (Comma Separated Values) and even spreadsheets (Microsoft Excel, etc.). These files are organized into columns and rows and are \"flat\" in structure rather than hierarchical.\n",
    "2. **Structured Machine-readable files:** Files that can be stored in a text format but are hierarchical and structured in some way that optimizes machine readability. JSON files are an example of structured machine-readable files.\n",
    "\n",
    "<i class=\"fa fa-lightbulb-o\" aria-hidden=\"true\"></i> **Data Tip:** There are non-text formatted hierarchical data structures that you will not learn in this module. One example of this is the HDF5 data model (structure).\n",
    "{: .notice--success}"
   ]
  },
  {
   "cell_type": "markdown",
   "metadata": {},
   "source": [
    "# Download Files Programmatically\n",
    "\n",
    "## `Pandas` function `read_csv()`\n",
    "\n",
    "Note that you can use the `read_csv()` function from `Pandas` to import data directly into `Python` by providing a URL to the CSV file (e.g. `read_csv(URL)`). \n",
    "\n",
    "When you programmatically read data into `Python` using `read_csv()` you are not saving a copy of your data locally, on your computer - you are importing the data directly into `Python`. \n",
    "\n",
    "If you want a copy of that data to use for future analysis without directly importing it, you will need to export the data to your working directory using `write_csv()`.\n",
    "\n",
    "Below is an example of directly importing data into `Python` using `read_csv()`. The data are average annual temperature in Canada from the World Bank. "
   ]
  },
  {
   "cell_type": "code",
   "execution_count": 46,
   "metadata": {},
   "outputs": [],
   "source": [
    "import matplotlib.pyplot as plt\n",
    "import pandas as pd \n",
    "import urllib.parse as urlparse"
   ]
  },
  {
   "cell_type": "code",
   "execution_count": 67,
   "metadata": {},
   "outputs": [
    {
     "data": {
      "text/plain": [
       "'https://waterservices.usgs.gov/nwis/dv/?site=11114495&startDT=2017-12-01&endDT=2018-02-01&format=rdb'"
      ]
     },
     "execution_count": 67,
     "metadata": {},
     "output_type": "execute_result"
    }
   ],
   "source": [
    "nwis_dv_base_url = \"https://waterservices.usgs.gov/nwis/dv/?\"\n",
    "nwis_args = {\n",
    "    'site': '11114495', # Matilija Creek\n",
    "    'startDT': '2017-12-01',\n",
    "    'endDT': '2018-02-01',\n",
    "    'format': 'rdb'\n",
    "}\n",
    "nwis_url = nwis_dv_base_url + urlparse.urlencode(nwis_args)\n",
    "nwis_url"
   ]
  },
  {
   "cell_type": "code",
   "execution_count": 68,
   "metadata": {},
   "outputs": [
    {
     "data": {
      "text/html": [
       "<div>\n",
       "<style scoped>\n",
       "    .dataframe tbody tr th:only-of-type {\n",
       "        vertical-align: middle;\n",
       "    }\n",
       "\n",
       "    .dataframe tbody tr th {\n",
       "        vertical-align: top;\n",
       "    }\n",
       "\n",
       "    .dataframe thead th {\n",
       "        text-align: right;\n",
       "    }\n",
       "</style>\n",
       "<table border=\"1\" class=\"dataframe\">\n",
       "  <thead>\n",
       "    <tr style=\"text-align: right;\">\n",
       "      <th></th>\n",
       "      <th>source</th>\n",
       "      <th>site_no</th>\n",
       "      <th>date</th>\n",
       "      <th>discharge</th>\n",
       "      <th>code</th>\n",
       "    </tr>\n",
       "  </thead>\n",
       "  <tbody>\n",
       "    <tr>\n",
       "      <th>0</th>\n",
       "      <td>USGS</td>\n",
       "      <td>11114495</td>\n",
       "      <td>2017-12-01</td>\n",
       "      <td>1.37</td>\n",
       "      <td>A</td>\n",
       "    </tr>\n",
       "    <tr>\n",
       "      <th>1</th>\n",
       "      <td>USGS</td>\n",
       "      <td>11114495</td>\n",
       "      <td>2017-12-02</td>\n",
       "      <td>1.39</td>\n",
       "      <td>A</td>\n",
       "    </tr>\n",
       "    <tr>\n",
       "      <th>2</th>\n",
       "      <td>USGS</td>\n",
       "      <td>11114495</td>\n",
       "      <td>2017-12-03</td>\n",
       "      <td>1.38</td>\n",
       "      <td>A</td>\n",
       "    </tr>\n",
       "    <tr>\n",
       "      <th>3</th>\n",
       "      <td>USGS</td>\n",
       "      <td>11114495</td>\n",
       "      <td>2017-12-04</td>\n",
       "      <td>1.40</td>\n",
       "      <td>A</td>\n",
       "    </tr>\n",
       "    <tr>\n",
       "      <th>4</th>\n",
       "      <td>USGS</td>\n",
       "      <td>11114495</td>\n",
       "      <td>2017-12-05</td>\n",
       "      <td>1.36</td>\n",
       "      <td>A</td>\n",
       "    </tr>\n",
       "    <tr>\n",
       "      <th>...</th>\n",
       "      <td>...</td>\n",
       "      <td>...</td>\n",
       "      <td>...</td>\n",
       "      <td>...</td>\n",
       "      <td>...</td>\n",
       "    </tr>\n",
       "    <tr>\n",
       "      <th>58</th>\n",
       "      <td>USGS</td>\n",
       "      <td>11114495</td>\n",
       "      <td>2018-01-28</td>\n",
       "      <td>5.14</td>\n",
       "      <td>A</td>\n",
       "    </tr>\n",
       "    <tr>\n",
       "      <th>59</th>\n",
       "      <td>USGS</td>\n",
       "      <td>11114495</td>\n",
       "      <td>2018-01-29</td>\n",
       "      <td>4.07</td>\n",
       "      <td>A</td>\n",
       "    </tr>\n",
       "    <tr>\n",
       "      <th>60</th>\n",
       "      <td>USGS</td>\n",
       "      <td>11114495</td>\n",
       "      <td>2018-01-30</td>\n",
       "      <td>3.87</td>\n",
       "      <td>A</td>\n",
       "    </tr>\n",
       "    <tr>\n",
       "      <th>61</th>\n",
       "      <td>USGS</td>\n",
       "      <td>11114495</td>\n",
       "      <td>2018-01-31</td>\n",
       "      <td>3.80</td>\n",
       "      <td>A</td>\n",
       "    </tr>\n",
       "    <tr>\n",
       "      <th>62</th>\n",
       "      <td>USGS</td>\n",
       "      <td>11114495</td>\n",
       "      <td>2018-02-01</td>\n",
       "      <td>3.74</td>\n",
       "      <td>A</td>\n",
       "    </tr>\n",
       "  </tbody>\n",
       "</table>\n",
       "<p>63 rows × 5 columns</p>\n",
       "</div>"
      ],
      "text/plain": [
       "   source   site_no        date  discharge code\n",
       "0    USGS  11114495  2017-12-01       1.37    A\n",
       "1    USGS  11114495  2017-12-02       1.39    A\n",
       "2    USGS  11114495  2017-12-03       1.38    A\n",
       "3    USGS  11114495  2017-12-04       1.40    A\n",
       "4    USGS  11114495  2017-12-05       1.36    A\n",
       "..    ...       ...         ...        ...  ...\n",
       "58   USGS  11114495  2018-01-28       5.14    A\n",
       "59   USGS  11114495  2018-01-29       4.07    A\n",
       "60   USGS  11114495  2018-01-30       3.87    A\n",
       "61   USGS  11114495  2018-01-31       3.80    A\n",
       "62   USGS  11114495  2018-02-01       3.74    A\n",
       "\n",
       "[63 rows x 5 columns]"
      ]
     },
     "execution_count": 68,
     "metadata": {},
     "output_type": "execute_result"
    }
   ],
   "source": [
    "nwis_df = pd.read_csv(\n",
    "    nwis_url,\n",
    "    sep='\\t',\n",
    "    skiprows=30,\n",
    "    names=['source', 'site_no', 'date', 'discharge', 'code'])\n",
    "\n",
    "nwis_df"
   ]
  },
  {
   "cell_type": "markdown",
   "metadata": {},
   "source": [
    "#### Human Readable Data\n",
    "\n",
    "Notice that the data that you downloaded above using are **tabular** and thus **human-readable**. The data are organized into a tabular structure with rows and columns that you can quickly understand. `Python` can import these data into a `Pandas DataFrame` and you can work with it programmatically.\n",
    "\n",
    "However, what happens if your data structure is more complex? For example, what if you wanted to store more information about each measured precipitation data point? Your table could get very wide very quickly making is less readable but also more computationally intensive to process.\n",
    "\n",
    "You will learn about structured machine readable data structures later in this module, which may be hard for humans to quickly digest when you look at them but are much more efficient to process - particular as your data get large.\n",
    "\n",
    "## What is an API?\n",
    "\n",
    "An API (Application Programming Interface) is an interface that sits on top of a\n",
    "computer based system and simplifies certain tasks, such as extracting subsets\n",
    "of data from a large repository or database.\n",
    "\n",
    "### Using Web-APIs\n",
    "\n",
    "Web APIs allow you to access data available via an internet web interface.\n",
    "\n",
    "Often you can access data from web APIs using a URL that contains sets of parameters \n",
    "that specifies the type and particular subset of data that you are interested in.\n",
    "\n",
    "If you have worked with a database such as `Microsoft SQL Server` or `PostgreSQL`, or if you've ever queried data from a GIS system like ArcGIS, then you can compare the set of parameters associated with a URL string to a SQL query.\n",
    "\n",
    "> Web APIs are a way to strip away all the extraneous visual interface that\n",
    "> you don't care about and get the data that you want.\n",
    "\n",
    "### Why You Use Web APIs\n",
    "\n",
    "Among other things, APIs allow us to:\n",
    "\n",
    "* Get information that would be time-consuming to get otherwise.\n",
    "* Get information that you can't get otherwise.\n",
    "* Automate an analytical workflows that require continuously updated data.\n",
    "* Access data using a more direct interface.\n",
    "\n",
    "### Three Parts of an API Request\n",
    "\n",
    "When we talk about APIs, it is important to understand two key components: the request and the response. The third part listed below is the intermediate step where the request is PROCESSED by the remote server.\n",
    "\n",
    "1. Data **REQUEST**: You try to access a `URL` in your browser that specifies a particular subset of data.\n",
    "2. **Data processing:** A web server somewhere uses that url to query a specified dataset.\n",
    "3. Data **RESPONSE**: That web server then sends you back some content.\n",
    "\n",
    "The **response** may give you one of two things:\n",
    "1. Some *data* or\n",
    "2. An explanation of why your request *failed*\n",
    "\n",
    "<figure>\n",
    " <a href=\"{{ site.url }}/images/courses/earth-analytics/apis/consume-rest-basic-anatomy-mulesoft.png\">\n",
    " <img src=\"{{ site.url }}/images/courses/earth-analytics/apis/consume-rest-basic-anatomy-mulesoft.png\" alt=\"RESTful response vs request.\"></a>\n",
    "    <figcaption>First, you create a request that queries the data repository for some data using the API. The repository gets the request and in turn processes it. Finally, it responds. If your request was a good one, the response will include the data that you are interested in. <a href=\"https://docs.mulesoft.com/mule-user-guide/v/3.7/consuming-a-rest-api\" target=\"_blank\">Image Source</a>\n",
    "    </figcaption>\n",
    "</figure>"
   ]
  },
  {
   "cell_type": "markdown",
   "metadata": {},
   "source": [
    "### API Endpoints\n",
    "\n",
    "When we talk about an endpoint, we are referring to a datasource available\n",
    "through an API. These data may be census data, geospatial base maps, water quality\n",
    "or any type of data that has been made available through the API.\n",
    "\n",
    "### RESTful Web APIs\n",
    "\n",
    "There are many different types of web APIs. One of the most common types is\n",
    "a `REST`, or `REST`ful, API. A *RESTful* API is a web API that uses\n",
    "URL arguments to specify what information you want returned through the API.\n",
    "\n",
    "To put this all into perspective, next, you will explore a RESTful API interface\n",
    "example."
   ]
  },
  {
   "cell_type": "markdown",
   "metadata": {},
   "source": [
    "### Colorado Population Projection Data\n",
    "\n",
    "The <a href=\"https://data.colorado.gov\" target=\"_blank\">Colorado Information Marketplace</a>\n",
    "is a data warehouse that provides access to a wide range of Colorado-specific\n",
    "open datasets available via a **REST**ful API called the Socrata Open Data API (SODA)\n",
    "\n",
    "There are lots of API *endpoints* or data sets available through this API.\n",
    "\n",
    "* <a href=\"https://data.colorado.gov/browse\" target=\"_blank\">Check some of the data available on the site out in the browse section of the website. </a>\n",
    "* <a href=\"https://data.colorado.gov/browse?category=Demographics\" target=\"_blank\">Check out the available demographic data. </a>\n",
    "* <a href=\"https://data.colorado.gov/Demographics/Colorado-Population-Projections/q5vp-adf3\" target=\"_blank\">Colorado population projects data landing page. </a>\n",
    "\n",
    "\n",
    "One endpoint contains Colorado Population Projection data.\n",
    "If you click on the link to the <a href=\"https://data.colorado.gov/resource/tv8u-hswn.json\" target=\"_blank\">CO Population projection data</a>, you will see data returned\n",
    "in a `JSON` format.\n",
    "\n",
    "`JSON` is a **structured, machine readable format**. You will learn more about\n",
    "it in the next lesson.\n",
    "\n",
    "### Population Data Request and Response\n",
    "\n",
    "The CO population project data contain projected population estimates for *males* and\n",
    "*females* for every *county* in Colorado for every *year* from 1990 to 2040 for\n",
    "multiple *age* groups.\n",
    "\n",
    "Phew! In the previous sentence, you just specified all\n",
    "of the variables stored within these data. These variables can be used to query\n",
    "the data! This is your data **request**.\n",
    "\n",
    "Below, you see a small subset of the **response** that you get from a basic request\n",
    "with no URL parameters specified: <a href=\"https://data.colorado.gov/resource/tv8u-hswn.json\" target=\"_blank\">https://data.colorado.gov/resource/tv8u-hswn.json</a>. Notice that the **response** in this case is returned in `JSON` format.\n",
    "\n",
    "\n",
    "```json\n",
    "[{\"age\":\"0\",\"county\":\"Adams\",\"femalepopulation\":\"2404.00\",\"fipscode\":\"1\",\"malepopulation\":\"2354.00\",\"totalpopulation\":\"4758\",\"year\":\"1990\"}\n",
    ",{\"age\":\"1\",\"county\":\"Adams\",\"femalepopulation\":\"2375.00\",\"fipscode\":\"1\",\"malepopulation\":\"2345.00\",\"totalpopulation\":\"4720\",\"year\":\"1990\"}\n",
    ",{\"age\":\"2\",\"county\":\"Adams\",\"femalepopulation\":\"2219.00\",\"fipscode\":\"1\",\"malepopulation\":\"2413.00\",\"totalpopulation\":\"4632\",\"year\":\"1990\"}\n",
    ",{\"age\":\"3\",\"county\":\"Adams\",\"femalepopulation\":\"2261.00\",\"fipscode\":\"1\",\"malepopulation\":\"2321.00\",\"totalpopulation\":\"4582\",\"year\":\"1990\"}\n",
    ",{\"age\":\"4\",\"county\":\"Adams\",\"femalepopulation\":\"2302.00\",\"fipscode\":\"1\",\"malepopulation\":\"2433.00\",\"totalpopulation\":\"4735\",\"year\":\"1990\"},\n",
    "...\n",
    "]\n",
    "```\n",
    "\n",
    "### URL Parameters\n",
    "\n",
    "Using `URL` parameters, you can define a more specific request to limit what data\n",
    "you get back in **response** to your API request. For example, you can query the data\n",
    "to only return data for Boulder County, Colorado using the RESTful call.\n",
    "\n",
    "<i class=\"fa fa-lightbulb-o\" aria-hidden=\"true\"></i> **Data Tip:** Note the **?&county=Boulder** part of the url below. That is an important part of the API\n",
    "request that tells the API to only return a subset of the data - where county = Boulder. `https://data.colorado.gov/resource/tv8u-hswn.json?&county=Boulder`\n",
    "{: .notice--success}\n",
    "\n",
    "<a href=\"https://data.colorado.gov/resource/tv8u-hswn.json?&county=Boulder\" target=\"_blank\">Like this:  https://data.colorado.gov/resource/tv8u-hswn.json?&county=Boulder</a>.\n",
    "\n",
    "Notice that when you visit the URL above and in turn **request** the data for Boulder\n",
    "County, you see that now the **response** is filtered to **only include Boulder County data**.\n",
    "\n",
    "```json\n",
    "[{\"age\":\"66\",\"county\":\"Boulder\",\"femalepopulation\":\"649\",\"fipscode\":\"13\",\"malepopulation\":\"596\",\"totalpopulation\":\"1245\",\"year\":\"1997\"}\n",
    ",{\"age\":\"78\",\"county\":\"Boulder\",\"femalepopulation\":\"427\",\"fipscode\":\"13\",\"malepopulation\":\"258\",\"totalpopulation\":\"685\",\"year\":\"1992\"}\n",
    ",{\"age\":\"85\",\"county\":\"Boulder\",\"femalepopulation\":\"265\",\"fipscode\":\"13\",\"malepopulation\":\"110\",\"totalpopulation\":\"375\",\"year\":\"1991\"}\n",
    ",{\"age\":\"74\",\"county\":\"Boulder\",\"femalepopulation\":\"516\",\"fipscode\":\"13\",\"malepopulation\":\"373\",\"totalpopulation\":\"889\",\"year\":\"1996\"},\n",
    "...\n",
    "]\n",
    "```\n",
    "\n",
    "Parameters associated with accessing data using this API are <a href=\"https://dev.socrata.com/foundry/data.colorado.gov/tv8u-hswn\" target=\"_blank\">documented here</a>.\n",
    "\n",
    "## Using the SODA RESTful API\n",
    "\n",
    "The `SODA` RESTful API also allows us to specify more complex 'queries'. Here's\n",
    "the API `URL` for population projections for females who live in Boulder that\n",
    "are between the ages of 20--40 for the years 2016--2025:\n",
    "\n",
    "`https://data.colorado.gov/resource/tv8u-hswn.json?$where=age between 20 and 40 and year between 2016 and 2025&county=Boulder&$select=year,age,femalepopulation`\n",
    "\n",
    "```json\n",
    "[{\"age\":\"32\",\"femalepopulation\":\"2007\",\"year\":\"2024\"}\n",
    ",{\"age\":\"35\",\"femalepopulation\":\"1950\",\"year\":\"2016\"}\n",
    ",{\"age\":\"37\",\"femalepopulation\":\"2039\",\"year\":\"2019\"}\n",
    ",{\"age\":\"30\",\"femalepopulation\":\"2087\",\"year\":\"2025\"}\n",
    ",{\"age\":\"26\",\"femalepopulation\":\"1985\",\"year\":\"2019\"}\n",
    ",{\"age\":\"22\",\"femalepopulation\":\"3207\",\"year\":\"2016\"}\n",
    "...\n",
    "]\n",
    "```\n",
    "\n",
    "<a href=\"https://data.colorado.gov/resource/tv8u-hswn.json?$where=age between 20 and 40 and year between 2016 and 2025&county=Boulder&$select=year,age,femalepopulation\" target=\"_blank\"> Click here to view the full API response</a>.\n",
    "\n",
    "\n",
    "### Breaking Down an API String\n",
    "\n",
    "Notice that the `colorado.data.gov` API URL above, starts with\n",
    "`data.colorado.gov` but then has various parameters attached to the end of the URL\n",
    "that specify the particular type of information that you are looking for.\n",
    "\n",
    "A few of the parameters that you can see in the url are listed below:\n",
    "\n",
    "* **The Data set itself:** /tv8u-hswn.json\n",
    "* **AGE:** where=age between 20 and 40\n",
    "* **YEAR:** year between 2016 and 2025\n",
    "* **COUNTY:** county=Boulder\n",
    "* **Columns to get:** select=year,age,femalepopulation\n",
    "\n",
    "### JSON Structured Text Format API Response\n",
    "\n",
    "The response data that are returned from this API are in a text format, structured\n",
    "using `JSON`.\n",
    "\n",
    "<div class=\"notice--warning\" markdown=\"1\">\n",
    "<i class=\"fa fa-lightbulb-o\" aria-hidden=\"true\"></i> **Data Tip:**\n",
    "Many APIs allow you to specify the file format that you want to be returned.\n",
    "Learn more about how this works with the CO data warehouse\n",
    "<a href=\"https://dev.socrata.com/docs/formats/index.html\" target=\"_blank\">here.</a>\n",
    "\n",
    "* <a href=\"https://data.colorado.gov/resource/tv8u-hswn.json\" target=\"_blank\">JSON format </a>\n",
    "* <a href=\"https://data.colorado.gov/resource/tv8u-hswn.geojson\" target=\"_blank\">GeoJSON format</a>\n",
    "* <a href=\"https://data.colorado.gov/resource/tv8u-hswn.xml\" target=\"_blank\">XML format</a>\n",
    "* <a href=\"https://data.colorado.gov/resource/tv8u-hswn.csv\" target=\"_blank\">CSV format</a>\n",
    "\n",
    "</div>\n",
    "\n",
    "\n",
    "Notice that the first few rows of data returned via the query above with a `.csv`\n",
    "suffix look like this:\n",
    "\n",
    "```json\n",
    "\"age\",\"femalepopulation\",\"year\"\n",
    "\"32\",\"2007\",\"2024\"\n",
    "\"35\",\"1950\",\"2016\"\n",
    "\"37\",\"2039\",\"2019\"\n",
    "\"30\",\"2087\",\"2025\"\n",
    "\"26\",\"1985\",\"2019\"\n",
    "...\n",
    "```\n",
    "\n",
    "\n",
    "\n",
    "Here is a different application of the same type of API. Here, the website developers <a href=\"https://data.colorado.gov/Demographics/Population-Colorado/eeah-cmy8\" target=\"_blank\">have built a tabular viewer that we can use to look at and interact with the population data.\n",
    "</a> These data are the same data that you can download using the **REST** API\n",
    "url string above. However, the developers have wrapped the API in a cool interface\n",
    "that allows us to view the data directly, online.\n",
    "\n",
    "You will work with these data in `R` directly in the following lessons, but for now\n",
    "just notice how the API access works in this case.\n",
    "\n",
    "1. Data **REQUEST**: You try to access a `URL` in your browser.\n",
    "2. **Data processing:** A web server somewhere uses that url to query a specified dataset.\n",
    "3. Data **RESPONSE**: That web server then sends you back some content.\n",
    "\n",
    "\n",
    "\n",
    "<div class=\"notice--warning\" markdown=\"1\">\n",
    "\n",
    "## <i class=\"fa fa-pencil-square-o\" aria-hidden=\"true\"></i> Optional Challenge\n",
    "\n",
    "Explore creating SODA API calls to the\n",
    "<a href=\"https://dev.socrata.com/foundry/data.colorado.gov/tv8u-hswn\" target=\"_blank\">Colorado data warehouse.</a>\n",
    "Go to the bottom of the page and check out each variable that you can query on.\n",
    "</div>\n",
    "\n",
    "\n",
    "## Open JSON API Data Directly Using Pandas in Python\\n\",\n",
    "You can quickly open the JSON-formatted data using `read_json` in Pandas.\n",
    "However, notice that there are spaces in between some of the words in the URL.\n",
    "These spaces will yield an error. To address the spaces, you can replace them\n",
    "with the ascii value `%20` using `string.replace()`. The code below fixes\n",
    "the url so you can open the data using Pandas.\n"
   ]
  },
  {
   "cell_type": "code",
   "execution_count": 69,
   "metadata": {},
   "outputs": [
    {
     "data": {
      "text/plain": [
       "'https://data.colorado.gov/resource/tv8u-hswn.json?%24where=age+between+20+and+25+and+year+between+2016+and+2025&county=Boulder&%24select=year%2Cage%2Cfemalepopulation'"
      ]
     },
     "execution_count": 69,
     "metadata": {},
     "output_type": "execute_result"
    }
   ],
   "source": [
    "# Generate the url & replace spaces\n",
    "co_base_url = \"https://data.colorado.gov/resource/tv8u-hswn.json?\"\n",
    "co_args = {\n",
    "    \"$where\": \"age between 20 and 25 and year between 2016 and 2025\",\n",
    "    \"county\": \"Boulder\",\n",
    "    \"$select\": \"year,age,femalepopulation\"\n",
    "}\n",
    "co_url = co_base_url + urlparse.urlencode(co_args)\n",
    "   \n",
    "co_url"
   ]
  },
  {
   "cell_type": "code",
   "execution_count": 70,
   "metadata": {},
   "outputs": [
    {
     "data": {
      "text/html": [
       "<div>\n",
       "<style scoped>\n",
       "    .dataframe tbody tr th:only-of-type {\n",
       "        vertical-align: middle;\n",
       "    }\n",
       "\n",
       "    .dataframe tbody tr th {\n",
       "        vertical-align: top;\n",
       "    }\n",
       "\n",
       "    .dataframe thead th {\n",
       "        text-align: right;\n",
       "    }\n",
       "</style>\n",
       "<table border=\"1\" class=\"dataframe\">\n",
       "  <thead>\n",
       "    <tr style=\"text-align: right;\">\n",
       "      <th></th>\n",
       "      <th>year</th>\n",
       "      <th>age</th>\n",
       "      <th>femalepopulation</th>\n",
       "    </tr>\n",
       "  </thead>\n",
       "  <tbody>\n",
       "    <tr>\n",
       "      <th>0</th>\n",
       "      <td>2016</td>\n",
       "      <td>25</td>\n",
       "      <td>2301</td>\n",
       "    </tr>\n",
       "    <tr>\n",
       "      <th>1</th>\n",
       "      <td>2023</td>\n",
       "      <td>21</td>\n",
       "      <td>3804</td>\n",
       "    </tr>\n",
       "    <tr>\n",
       "      <th>2</th>\n",
       "      <td>2025</td>\n",
       "      <td>21</td>\n",
       "      <td>3817</td>\n",
       "    </tr>\n",
       "    <tr>\n",
       "      <th>3</th>\n",
       "      <td>2025</td>\n",
       "      <td>23</td>\n",
       "      <td>2836</td>\n",
       "    </tr>\n",
       "    <tr>\n",
       "      <th>4</th>\n",
       "      <td>2025</td>\n",
       "      <td>24</td>\n",
       "      <td>2393</td>\n",
       "    </tr>\n",
       "  </tbody>\n",
       "</table>\n",
       "</div>"
      ],
      "text/plain": [
       "   year  age  femalepopulation\n",
       "0  2016   25              2301\n",
       "1  2023   21              3804\n",
       "2  2025   21              3817\n",
       "3  2025   23              2836\n",
       "4  2025   24              2393"
      ]
     },
     "execution_count": 70,
     "metadata": {},
     "output_type": "execute_result"
    }
   ],
   "source": [
    "# Read in the data\n",
    "dem_data_20_25_female = pd.read_json(co_url)\n",
    "dem_data_20_25_female.head()"
   ]
  },
  {
   "cell_type": "code",
   "execution_count": 71,
   "metadata": {},
   "outputs": [
    {
     "data": {
      "text/html": [
       "<div>\n",
       "<style scoped>\n",
       "    .dataframe tbody tr th:only-of-type {\n",
       "        vertical-align: middle;\n",
       "    }\n",
       "\n",
       "    .dataframe tbody tr th {\n",
       "        vertical-align: top;\n",
       "    }\n",
       "\n",
       "    .dataframe thead th {\n",
       "        text-align: right;\n",
       "    }\n",
       "</style>\n",
       "<table border=\"1\" class=\"dataframe\">\n",
       "  <thead>\n",
       "    <tr style=\"text-align: right;\">\n",
       "      <th></th>\n",
       "      <th>age</th>\n",
       "      <th>femalepopulation</th>\n",
       "    </tr>\n",
       "    <tr>\n",
       "      <th>year</th>\n",
       "      <th></th>\n",
       "      <th></th>\n",
       "    </tr>\n",
       "  </thead>\n",
       "  <tbody>\n",
       "    <tr>\n",
       "      <th>2016</th>\n",
       "      <td>25</td>\n",
       "      <td>2301</td>\n",
       "    </tr>\n",
       "    <tr>\n",
       "      <th>2023</th>\n",
       "      <td>21</td>\n",
       "      <td>3804</td>\n",
       "    </tr>\n",
       "    <tr>\n",
       "      <th>2025</th>\n",
       "      <td>21</td>\n",
       "      <td>3817</td>\n",
       "    </tr>\n",
       "    <tr>\n",
       "      <th>2025</th>\n",
       "      <td>23</td>\n",
       "      <td>2836</td>\n",
       "    </tr>\n",
       "    <tr>\n",
       "      <th>2025</th>\n",
       "      <td>24</td>\n",
       "      <td>2393</td>\n",
       "    </tr>\n",
       "  </tbody>\n",
       "</table>\n",
       "</div>"
      ],
      "text/plain": [
       "      age  femalepopulation\n",
       "year                       \n",
       "2016   25              2301\n",
       "2023   21              3804\n",
       "2025   21              3817\n",
       "2025   23              2836\n",
       "2025   24              2393"
      ]
     },
     "execution_count": 71,
     "metadata": {},
     "output_type": "execute_result"
    }
   ],
   "source": [
    "# set year as index\n",
    "dem_data_20_25_female = dem_data_20_25_female.set_index(\"year\")\n",
    "dem_data_20_25_female.head()"
   ]
  },
  {
   "cell_type": "code",
   "execution_count": 83,
   "metadata": {},
   "outputs": [
    {
     "data": {
      "text/html": [
       "<div>\n",
       "<style scoped>\n",
       "    .dataframe tbody tr th:only-of-type {\n",
       "        vertical-align: middle;\n",
       "    }\n",
       "\n",
       "    .dataframe tbody tr th {\n",
       "        vertical-align: top;\n",
       "    }\n",
       "\n",
       "    .dataframe thead th {\n",
       "        text-align: right;\n",
       "    }\n",
       "</style>\n",
       "<table border=\"1\" class=\"dataframe\">\n",
       "  <thead>\n",
       "    <tr style=\"text-align: right;\">\n",
       "      <th>age</th>\n",
       "      <th>20</th>\n",
       "      <th>21</th>\n",
       "      <th>22</th>\n",
       "      <th>23</th>\n",
       "      <th>24</th>\n",
       "      <th>25</th>\n",
       "    </tr>\n",
       "    <tr>\n",
       "      <th>year</th>\n",
       "      <th></th>\n",
       "      <th></th>\n",
       "      <th></th>\n",
       "      <th></th>\n",
       "      <th></th>\n",
       "      <th></th>\n",
       "    </tr>\n",
       "  </thead>\n",
       "  <tbody>\n",
       "    <tr>\n",
       "      <th>2016</th>\n",
       "      <td>3787</td>\n",
       "      <td>3594</td>\n",
       "      <td>3262</td>\n",
       "      <td>2585</td>\n",
       "      <td>2124</td>\n",
       "      <td>2301</td>\n",
       "    </tr>\n",
       "    <tr>\n",
       "      <th>2017</th>\n",
       "      <td>3761</td>\n",
       "      <td>3638</td>\n",
       "      <td>3201</td>\n",
       "      <td>2700</td>\n",
       "      <td>2106</td>\n",
       "      <td>2067</td>\n",
       "    </tr>\n",
       "    <tr>\n",
       "      <th>2018</th>\n",
       "      <td>3883</td>\n",
       "      <td>3615</td>\n",
       "      <td>3247</td>\n",
       "      <td>2640</td>\n",
       "      <td>2332</td>\n",
       "      <td>2139</td>\n",
       "    </tr>\n",
       "    <tr>\n",
       "      <th>2019</th>\n",
       "      <td>3824</td>\n",
       "      <td>3714</td>\n",
       "      <td>3204</td>\n",
       "      <td>2669</td>\n",
       "      <td>2258</td>\n",
       "      <td>2349</td>\n",
       "    </tr>\n",
       "    <tr>\n",
       "      <th>2020</th>\n",
       "      <td>3856</td>\n",
       "      <td>3675</td>\n",
       "      <td>3316</td>\n",
       "      <td>2632</td>\n",
       "      <td>2288</td>\n",
       "      <td>2273</td>\n",
       "    </tr>\n",
       "    <tr>\n",
       "      <th>2021</th>\n",
       "      <td>3910</td>\n",
       "      <td>3706</td>\n",
       "      <td>3276</td>\n",
       "      <td>2743</td>\n",
       "      <td>2249</td>\n",
       "      <td>2299</td>\n",
       "    </tr>\n",
       "    <tr>\n",
       "      <th>2022</th>\n",
       "      <td>3964</td>\n",
       "      <td>3747</td>\n",
       "      <td>3296</td>\n",
       "      <td>2693</td>\n",
       "      <td>2352</td>\n",
       "      <td>2253</td>\n",
       "    </tr>\n",
       "    <tr>\n",
       "      <th>2023</th>\n",
       "      <td>3930</td>\n",
       "      <td>3804</td>\n",
       "      <td>3340</td>\n",
       "      <td>2716</td>\n",
       "      <td>2306</td>\n",
       "      <td>2360</td>\n",
       "    </tr>\n",
       "    <tr>\n",
       "      <th>2024</th>\n",
       "      <td>3968</td>\n",
       "      <td>3778</td>\n",
       "      <td>3405</td>\n",
       "      <td>2769</td>\n",
       "      <td>2338</td>\n",
       "      <td>2325</td>\n",
       "    </tr>\n",
       "    <tr>\n",
       "      <th>2025</th>\n",
       "      <td>3991</td>\n",
       "      <td>3817</td>\n",
       "      <td>3381</td>\n",
       "      <td>2836</td>\n",
       "      <td>2393</td>\n",
       "      <td>2360</td>\n",
       "    </tr>\n",
       "  </tbody>\n",
       "</table>\n",
       "</div>"
      ],
      "text/plain": [
       "age     20    21    22    23    24    25\n",
       "year                                    \n",
       "2016  3787  3594  3262  2585  2124  2301\n",
       "2017  3761  3638  3201  2700  2106  2067\n",
       "2018  3883  3615  3247  2640  2332  2139\n",
       "2019  3824  3714  3204  2669  2258  2349\n",
       "2020  3856  3675  3316  2632  2288  2273\n",
       "2021  3910  3706  3276  2743  2249  2299\n",
       "2022  3964  3747  3296  2693  2352  2253\n",
       "2023  3930  3804  3340  2716  2306  2360\n",
       "2024  3968  3778  3405  2769  2338  2325\n",
       "2025  3991  3817  3381  2836  2393  2360"
      ]
     },
     "execution_count": 83,
     "metadata": {},
     "output_type": "execute_result"
    }
   ],
   "source": [
    "# Pivot the data for stacked plotting\n",
    "dem_data_20_25_female_pivot = (\n",
    "    dem_data_20_25_female\n",
    "    .pivot_table('femalepopulation', ['year'], \"age\")\n",
    ")\n",
    "dem_data_20_25_female_pivot"
   ]
  },
  {
   "cell_type": "code",
   "execution_count": 92,
   "metadata": {},
   "outputs": [
    {
     "ename": "TypeError",
     "evalue": "bar() got an unexpected keyword argument 'ax'",
     "output_type": "error",
     "traceback": [
      "\u001b[0;31m---------------------------------------------------------------------------\u001b[0m",
      "\u001b[0;31mTypeError\u001b[0m                                 Traceback (most recent call last)",
      "\u001b[0;32m/var/folders/dn/99vk45cd5n56wsnl3hxc1bw40000gp/T/ipykernel_64531/3205638562.py\u001b[0m in \u001b[0;36m<module>\u001b[0;34m\u001b[0m\n\u001b[1;32m      7\u001b[0m \u001b[0;34m\u001b[0m\u001b[0m\n\u001b[1;32m      8\u001b[0m \u001b[0;31m#f, ax = plt.subplots()\u001b[0m\u001b[0;34m\u001b[0m\u001b[0;34m\u001b[0m\u001b[0;34m\u001b[0m\u001b[0m\n\u001b[0;32m----> 9\u001b[0;31m dem_data_20_25_female_pivot.plot.bar(\n\u001b[0m\u001b[1;32m     10\u001b[0m      \u001b[0mcolor\u001b[0m\u001b[0;34m=\u001b[0m\u001b[0mmy_colors\u001b[0m\u001b[0;34m,\u001b[0m\u001b[0;34m\u001b[0m\u001b[0;34m\u001b[0m\u001b[0m\n\u001b[1;32m     11\u001b[0m      ax=ax).legend(loc='upper right', bbox_to_anchor=(1.2, 1.0))\n",
      "\u001b[0;32m~/opt/miniconda3/envs/ea-nbg/lib/python3.8/site-packages/pandas/plotting/_core.py\u001b[0m in \u001b[0;36mbar\u001b[0;34m(self, x, y, **kwargs)\u001b[0m\n\u001b[1;32m   1128\u001b[0m         \u001b[0mother\u001b[0m \u001b[0maxis\u001b[0m \u001b[0mrepresents\u001b[0m \u001b[0ma\u001b[0m \u001b[0mmeasured\u001b[0m \u001b[0mvalue\u001b[0m\u001b[0;34m.\u001b[0m\u001b[0;34m\u001b[0m\u001b[0;34m\u001b[0m\u001b[0m\n\u001b[1;32m   1129\u001b[0m         \"\"\"\n\u001b[0;32m-> 1130\u001b[0;31m         \u001b[0;32mreturn\u001b[0m \u001b[0mself\u001b[0m\u001b[0;34m(\u001b[0m\u001b[0mkind\u001b[0m\u001b[0;34m=\u001b[0m\u001b[0;34m\"bar\"\u001b[0m\u001b[0;34m,\u001b[0m \u001b[0mx\u001b[0m\u001b[0;34m=\u001b[0m\u001b[0mx\u001b[0m\u001b[0;34m,\u001b[0m \u001b[0my\u001b[0m\u001b[0;34m=\u001b[0m\u001b[0my\u001b[0m\u001b[0;34m,\u001b[0m \u001b[0;34m**\u001b[0m\u001b[0mkwargs\u001b[0m\u001b[0;34m)\u001b[0m\u001b[0;34m\u001b[0m\u001b[0;34m\u001b[0m\u001b[0m\n\u001b[0m\u001b[1;32m   1131\u001b[0m \u001b[0;34m\u001b[0m\u001b[0m\n\u001b[1;32m   1132\u001b[0m     @Appender(\n",
      "\u001b[0;32m~/opt/miniconda3/envs/ea-nbg/lib/python3.8/site-packages/pandas/plotting/_core.py\u001b[0m in \u001b[0;36m__call__\u001b[0;34m(self, *args, **kwargs)\u001b[0m\n\u001b[1;32m    900\u001b[0m         \u001b[0;31m# when using another backend, get out of the way\u001b[0m\u001b[0;34m\u001b[0m\u001b[0;34m\u001b[0m\u001b[0;34m\u001b[0m\u001b[0m\n\u001b[1;32m    901\u001b[0m         \u001b[0;32mif\u001b[0m \u001b[0mplot_backend\u001b[0m\u001b[0;34m.\u001b[0m\u001b[0m__name__\u001b[0m \u001b[0;34m!=\u001b[0m \u001b[0;34m\"pandas.plotting._matplotlib\"\u001b[0m\u001b[0;34m:\u001b[0m\u001b[0;34m\u001b[0m\u001b[0;34m\u001b[0m\u001b[0m\n\u001b[0;32m--> 902\u001b[0;31m             \u001b[0;32mreturn\u001b[0m \u001b[0mplot_backend\u001b[0m\u001b[0;34m.\u001b[0m\u001b[0mplot\u001b[0m\u001b[0;34m(\u001b[0m\u001b[0mself\u001b[0m\u001b[0;34m.\u001b[0m\u001b[0m_parent\u001b[0m\u001b[0;34m,\u001b[0m \u001b[0mx\u001b[0m\u001b[0;34m=\u001b[0m\u001b[0mx\u001b[0m\u001b[0;34m,\u001b[0m \u001b[0my\u001b[0m\u001b[0;34m=\u001b[0m\u001b[0my\u001b[0m\u001b[0;34m,\u001b[0m \u001b[0mkind\u001b[0m\u001b[0;34m=\u001b[0m\u001b[0mkind\u001b[0m\u001b[0;34m,\u001b[0m \u001b[0;34m**\u001b[0m\u001b[0mkwargs\u001b[0m\u001b[0;34m)\u001b[0m\u001b[0;34m\u001b[0m\u001b[0;34m\u001b[0m\u001b[0m\n\u001b[0m\u001b[1;32m    903\u001b[0m \u001b[0;34m\u001b[0m\u001b[0m\n\u001b[1;32m    904\u001b[0m         \u001b[0;32mif\u001b[0m \u001b[0mkind\u001b[0m \u001b[0;32mnot\u001b[0m \u001b[0;32min\u001b[0m \u001b[0mself\u001b[0m\u001b[0;34m.\u001b[0m\u001b[0m_all_kinds\u001b[0m\u001b[0;34m:\u001b[0m\u001b[0;34m\u001b[0m\u001b[0;34m\u001b[0m\u001b[0m\n",
      "\u001b[0;32m~/opt/miniconda3/envs/ea-nbg/lib/python3.8/site-packages/plotly/__init__.py\u001b[0m in \u001b[0;36mplot\u001b[0;34m(data_frame, kind, **kwargs)\u001b[0m\n\u001b[1;32m    104\u001b[0m         \u001b[0;32mreturn\u001b[0m \u001b[0marea\u001b[0m\u001b[0;34m(\u001b[0m\u001b[0mdata_frame\u001b[0m\u001b[0;34m,\u001b[0m \u001b[0;34m**\u001b[0m\u001b[0mkwargs\u001b[0m\u001b[0;34m)\u001b[0m\u001b[0;34m\u001b[0m\u001b[0;34m\u001b[0m\u001b[0m\n\u001b[1;32m    105\u001b[0m     \u001b[0;32mif\u001b[0m \u001b[0mkind\u001b[0m \u001b[0;34m==\u001b[0m \u001b[0;34m\"bar\"\u001b[0m\u001b[0;34m:\u001b[0m\u001b[0;34m\u001b[0m\u001b[0;34m\u001b[0m\u001b[0m\n\u001b[0;32m--> 106\u001b[0;31m         \u001b[0;32mreturn\u001b[0m \u001b[0mbar\u001b[0m\u001b[0;34m(\u001b[0m\u001b[0mdata_frame\u001b[0m\u001b[0;34m,\u001b[0m \u001b[0;34m**\u001b[0m\u001b[0mkwargs\u001b[0m\u001b[0;34m)\u001b[0m\u001b[0;34m\u001b[0m\u001b[0;34m\u001b[0m\u001b[0m\n\u001b[0m\u001b[1;32m    107\u001b[0m     \u001b[0;32mif\u001b[0m \u001b[0mkind\u001b[0m \u001b[0;34m==\u001b[0m \u001b[0;34m\"barh\"\u001b[0m\u001b[0;34m:\u001b[0m\u001b[0;34m\u001b[0m\u001b[0;34m\u001b[0m\u001b[0m\n\u001b[1;32m    108\u001b[0m         \u001b[0;32mreturn\u001b[0m \u001b[0mbar\u001b[0m\u001b[0;34m(\u001b[0m\u001b[0mdata_frame\u001b[0m\u001b[0;34m,\u001b[0m \u001b[0morientation\u001b[0m\u001b[0;34m=\u001b[0m\u001b[0;34m\"h\"\u001b[0m\u001b[0;34m,\u001b[0m \u001b[0;34m**\u001b[0m\u001b[0mkwargs\u001b[0m\u001b[0;34m)\u001b[0m\u001b[0;34m\u001b[0m\u001b[0;34m\u001b[0m\u001b[0m\n",
      "\u001b[0;31mTypeError\u001b[0m: bar() got an unexpected keyword argument 'ax'"
     ]
    }
   ],
   "source": [
    "# Plot the data\n",
    "my_colors = [\"teal\", \"aqua\",\n",
    "             \"darkturquoise\",\n",
    "             \"powderblue\",\n",
    "             \"aliceblue\", \n",
    "             \"lightgrey\"]\n",
    "\n",
    "#f, ax = plt.subplots()\n",
    "dem_data_20_25_female_pivot.plot.bar(\n",
    "     color=my_colors,\n",
    "     ax=ax).legend(loc='upper right', bbox_to_anchor=(1.2, 1.0))\n",
    "#ax.set(title=\"Female Population in Boulder, CO by Year\")"
   ]
  },
  {
   "cell_type": "code",
   "execution_count": 76,
   "metadata": {},
   "outputs": [
    {
     "data": {
      "application/vnd.plotly.v1+json": {
       "config": {
        "plotlyServerURL": "https://plot.ly"
       },
       "data": [
        {
         "alignmentgroup": "True",
         "hovertemplate": "age=20<br>year=%{x}<br>value=%{y}<extra></extra>",
         "legendgroup": "20",
         "marker": {
          "color": "#636efa",
          "pattern": {
           "shape": ""
          }
         },
         "name": "20",
         "offsetgroup": "20",
         "orientation": "v",
         "showlegend": true,
         "textposition": "auto",
         "type": "bar",
         "x": [
          2016,
          2017,
          2018,
          2019,
          2020,
          2021,
          2022,
          2023,
          2024,
          2025
         ],
         "xaxis": "x",
         "y": [
          3787,
          3761,
          3883,
          3824,
          3856,
          3910,
          3964,
          3930,
          3968,
          3991
         ],
         "yaxis": "y"
        },
        {
         "alignmentgroup": "True",
         "hovertemplate": "age=21<br>year=%{x}<br>value=%{y}<extra></extra>",
         "legendgroup": "21",
         "marker": {
          "color": "#EF553B",
          "pattern": {
           "shape": ""
          }
         },
         "name": "21",
         "offsetgroup": "21",
         "orientation": "v",
         "showlegend": true,
         "textposition": "auto",
         "type": "bar",
         "x": [
          2016,
          2017,
          2018,
          2019,
          2020,
          2021,
          2022,
          2023,
          2024,
          2025
         ],
         "xaxis": "x",
         "y": [
          3594,
          3638,
          3615,
          3714,
          3675,
          3706,
          3747,
          3804,
          3778,
          3817
         ],
         "yaxis": "y"
        },
        {
         "alignmentgroup": "True",
         "hovertemplate": "age=22<br>year=%{x}<br>value=%{y}<extra></extra>",
         "legendgroup": "22",
         "marker": {
          "color": "#00cc96",
          "pattern": {
           "shape": ""
          }
         },
         "name": "22",
         "offsetgroup": "22",
         "orientation": "v",
         "showlegend": true,
         "textposition": "auto",
         "type": "bar",
         "x": [
          2016,
          2017,
          2018,
          2019,
          2020,
          2021,
          2022,
          2023,
          2024,
          2025
         ],
         "xaxis": "x",
         "y": [
          3262,
          3201,
          3247,
          3204,
          3316,
          3276,
          3296,
          3340,
          3405,
          3381
         ],
         "yaxis": "y"
        },
        {
         "alignmentgroup": "True",
         "hovertemplate": "age=23<br>year=%{x}<br>value=%{y}<extra></extra>",
         "legendgroup": "23",
         "marker": {
          "color": "#ab63fa",
          "pattern": {
           "shape": ""
          }
         },
         "name": "23",
         "offsetgroup": "23",
         "orientation": "v",
         "showlegend": true,
         "textposition": "auto",
         "type": "bar",
         "x": [
          2016,
          2017,
          2018,
          2019,
          2020,
          2021,
          2022,
          2023,
          2024,
          2025
         ],
         "xaxis": "x",
         "y": [
          2585,
          2700,
          2640,
          2669,
          2632,
          2743,
          2693,
          2716,
          2769,
          2836
         ],
         "yaxis": "y"
        },
        {
         "alignmentgroup": "True",
         "hovertemplate": "age=24<br>year=%{x}<br>value=%{y}<extra></extra>",
         "legendgroup": "24",
         "marker": {
          "color": "#FFA15A",
          "pattern": {
           "shape": ""
          }
         },
         "name": "24",
         "offsetgroup": "24",
         "orientation": "v",
         "showlegend": true,
         "textposition": "auto",
         "type": "bar",
         "x": [
          2016,
          2017,
          2018,
          2019,
          2020,
          2021,
          2022,
          2023,
          2024,
          2025
         ],
         "xaxis": "x",
         "y": [
          2124,
          2106,
          2332,
          2258,
          2288,
          2249,
          2352,
          2306,
          2338,
          2393
         ],
         "yaxis": "y"
        },
        {
         "alignmentgroup": "True",
         "hovertemplate": "age=25<br>year=%{x}<br>value=%{y}<extra></extra>",
         "legendgroup": "25",
         "marker": {
          "color": "#19d3f3",
          "pattern": {
           "shape": ""
          }
         },
         "name": "25",
         "offsetgroup": "25",
         "orientation": "v",
         "showlegend": true,
         "textposition": "auto",
         "type": "bar",
         "x": [
          2016,
          2017,
          2018,
          2019,
          2020,
          2021,
          2022,
          2023,
          2024,
          2025
         ],
         "xaxis": "x",
         "y": [
          2301,
          2067,
          2139,
          2349,
          2273,
          2299,
          2253,
          2360,
          2325,
          2360
         ],
         "yaxis": "y"
        }
       ],
       "layout": {
        "barmode": "relative",
        "legend": {
         "title": {
          "text": "age"
         },
         "tracegroupgap": 0
        },
        "template": {
         "data": {
          "bar": [
           {
            "error_x": {
             "color": "#2a3f5f"
            },
            "error_y": {
             "color": "#2a3f5f"
            },
            "marker": {
             "line": {
              "color": "#E5ECF6",
              "width": 0.5
             },
             "pattern": {
              "fillmode": "overlay",
              "size": 10,
              "solidity": 0.2
             }
            },
            "type": "bar"
           }
          ],
          "barpolar": [
           {
            "marker": {
             "line": {
              "color": "#E5ECF6",
              "width": 0.5
             },
             "pattern": {
              "fillmode": "overlay",
              "size": 10,
              "solidity": 0.2
             }
            },
            "type": "barpolar"
           }
          ],
          "carpet": [
           {
            "aaxis": {
             "endlinecolor": "#2a3f5f",
             "gridcolor": "white",
             "linecolor": "white",
             "minorgridcolor": "white",
             "startlinecolor": "#2a3f5f"
            },
            "baxis": {
             "endlinecolor": "#2a3f5f",
             "gridcolor": "white",
             "linecolor": "white",
             "minorgridcolor": "white",
             "startlinecolor": "#2a3f5f"
            },
            "type": "carpet"
           }
          ],
          "choropleth": [
           {
            "colorbar": {
             "outlinewidth": 0,
             "ticks": ""
            },
            "type": "choropleth"
           }
          ],
          "contour": [
           {
            "colorbar": {
             "outlinewidth": 0,
             "ticks": ""
            },
            "colorscale": [
             [
              0,
              "#0d0887"
             ],
             [
              0.1111111111111111,
              "#46039f"
             ],
             [
              0.2222222222222222,
              "#7201a8"
             ],
             [
              0.3333333333333333,
              "#9c179e"
             ],
             [
              0.4444444444444444,
              "#bd3786"
             ],
             [
              0.5555555555555556,
              "#d8576b"
             ],
             [
              0.6666666666666666,
              "#ed7953"
             ],
             [
              0.7777777777777778,
              "#fb9f3a"
             ],
             [
              0.8888888888888888,
              "#fdca26"
             ],
             [
              1,
              "#f0f921"
             ]
            ],
            "type": "contour"
           }
          ],
          "contourcarpet": [
           {
            "colorbar": {
             "outlinewidth": 0,
             "ticks": ""
            },
            "type": "contourcarpet"
           }
          ],
          "heatmap": [
           {
            "colorbar": {
             "outlinewidth": 0,
             "ticks": ""
            },
            "colorscale": [
             [
              0,
              "#0d0887"
             ],
             [
              0.1111111111111111,
              "#46039f"
             ],
             [
              0.2222222222222222,
              "#7201a8"
             ],
             [
              0.3333333333333333,
              "#9c179e"
             ],
             [
              0.4444444444444444,
              "#bd3786"
             ],
             [
              0.5555555555555556,
              "#d8576b"
             ],
             [
              0.6666666666666666,
              "#ed7953"
             ],
             [
              0.7777777777777778,
              "#fb9f3a"
             ],
             [
              0.8888888888888888,
              "#fdca26"
             ],
             [
              1,
              "#f0f921"
             ]
            ],
            "type": "heatmap"
           }
          ],
          "heatmapgl": [
           {
            "colorbar": {
             "outlinewidth": 0,
             "ticks": ""
            },
            "colorscale": [
             [
              0,
              "#0d0887"
             ],
             [
              0.1111111111111111,
              "#46039f"
             ],
             [
              0.2222222222222222,
              "#7201a8"
             ],
             [
              0.3333333333333333,
              "#9c179e"
             ],
             [
              0.4444444444444444,
              "#bd3786"
             ],
             [
              0.5555555555555556,
              "#d8576b"
             ],
             [
              0.6666666666666666,
              "#ed7953"
             ],
             [
              0.7777777777777778,
              "#fb9f3a"
             ],
             [
              0.8888888888888888,
              "#fdca26"
             ],
             [
              1,
              "#f0f921"
             ]
            ],
            "type": "heatmapgl"
           }
          ],
          "histogram": [
           {
            "marker": {
             "pattern": {
              "fillmode": "overlay",
              "size": 10,
              "solidity": 0.2
             }
            },
            "type": "histogram"
           }
          ],
          "histogram2d": [
           {
            "colorbar": {
             "outlinewidth": 0,
             "ticks": ""
            },
            "colorscale": [
             [
              0,
              "#0d0887"
             ],
             [
              0.1111111111111111,
              "#46039f"
             ],
             [
              0.2222222222222222,
              "#7201a8"
             ],
             [
              0.3333333333333333,
              "#9c179e"
             ],
             [
              0.4444444444444444,
              "#bd3786"
             ],
             [
              0.5555555555555556,
              "#d8576b"
             ],
             [
              0.6666666666666666,
              "#ed7953"
             ],
             [
              0.7777777777777778,
              "#fb9f3a"
             ],
             [
              0.8888888888888888,
              "#fdca26"
             ],
             [
              1,
              "#f0f921"
             ]
            ],
            "type": "histogram2d"
           }
          ],
          "histogram2dcontour": [
           {
            "colorbar": {
             "outlinewidth": 0,
             "ticks": ""
            },
            "colorscale": [
             [
              0,
              "#0d0887"
             ],
             [
              0.1111111111111111,
              "#46039f"
             ],
             [
              0.2222222222222222,
              "#7201a8"
             ],
             [
              0.3333333333333333,
              "#9c179e"
             ],
             [
              0.4444444444444444,
              "#bd3786"
             ],
             [
              0.5555555555555556,
              "#d8576b"
             ],
             [
              0.6666666666666666,
              "#ed7953"
             ],
             [
              0.7777777777777778,
              "#fb9f3a"
             ],
             [
              0.8888888888888888,
              "#fdca26"
             ],
             [
              1,
              "#f0f921"
             ]
            ],
            "type": "histogram2dcontour"
           }
          ],
          "mesh3d": [
           {
            "colorbar": {
             "outlinewidth": 0,
             "ticks": ""
            },
            "type": "mesh3d"
           }
          ],
          "parcoords": [
           {
            "line": {
             "colorbar": {
              "outlinewidth": 0,
              "ticks": ""
             }
            },
            "type": "parcoords"
           }
          ],
          "pie": [
           {
            "automargin": true,
            "type": "pie"
           }
          ],
          "scatter": [
           {
            "marker": {
             "colorbar": {
              "outlinewidth": 0,
              "ticks": ""
             }
            },
            "type": "scatter"
           }
          ],
          "scatter3d": [
           {
            "line": {
             "colorbar": {
              "outlinewidth": 0,
              "ticks": ""
             }
            },
            "marker": {
             "colorbar": {
              "outlinewidth": 0,
              "ticks": ""
             }
            },
            "type": "scatter3d"
           }
          ],
          "scattercarpet": [
           {
            "marker": {
             "colorbar": {
              "outlinewidth": 0,
              "ticks": ""
             }
            },
            "type": "scattercarpet"
           }
          ],
          "scattergeo": [
           {
            "marker": {
             "colorbar": {
              "outlinewidth": 0,
              "ticks": ""
             }
            },
            "type": "scattergeo"
           }
          ],
          "scattergl": [
           {
            "marker": {
             "colorbar": {
              "outlinewidth": 0,
              "ticks": ""
             }
            },
            "type": "scattergl"
           }
          ],
          "scattermapbox": [
           {
            "marker": {
             "colorbar": {
              "outlinewidth": 0,
              "ticks": ""
             }
            },
            "type": "scattermapbox"
           }
          ],
          "scatterpolar": [
           {
            "marker": {
             "colorbar": {
              "outlinewidth": 0,
              "ticks": ""
             }
            },
            "type": "scatterpolar"
           }
          ],
          "scatterpolargl": [
           {
            "marker": {
             "colorbar": {
              "outlinewidth": 0,
              "ticks": ""
             }
            },
            "type": "scatterpolargl"
           }
          ],
          "scatterternary": [
           {
            "marker": {
             "colorbar": {
              "outlinewidth": 0,
              "ticks": ""
             }
            },
            "type": "scatterternary"
           }
          ],
          "surface": [
           {
            "colorbar": {
             "outlinewidth": 0,
             "ticks": ""
            },
            "colorscale": [
             [
              0,
              "#0d0887"
             ],
             [
              0.1111111111111111,
              "#46039f"
             ],
             [
              0.2222222222222222,
              "#7201a8"
             ],
             [
              0.3333333333333333,
              "#9c179e"
             ],
             [
              0.4444444444444444,
              "#bd3786"
             ],
             [
              0.5555555555555556,
              "#d8576b"
             ],
             [
              0.6666666666666666,
              "#ed7953"
             ],
             [
              0.7777777777777778,
              "#fb9f3a"
             ],
             [
              0.8888888888888888,
              "#fdca26"
             ],
             [
              1,
              "#f0f921"
             ]
            ],
            "type": "surface"
           }
          ],
          "table": [
           {
            "cells": {
             "fill": {
              "color": "#EBF0F8"
             },
             "line": {
              "color": "white"
             }
            },
            "header": {
             "fill": {
              "color": "#C8D4E3"
             },
             "line": {
              "color": "white"
             }
            },
            "type": "table"
           }
          ]
         },
         "layout": {
          "annotationdefaults": {
           "arrowcolor": "#2a3f5f",
           "arrowhead": 0,
           "arrowwidth": 1
          },
          "autotypenumbers": "strict",
          "coloraxis": {
           "colorbar": {
            "outlinewidth": 0,
            "ticks": ""
           }
          },
          "colorscale": {
           "diverging": [
            [
             0,
             "#8e0152"
            ],
            [
             0.1,
             "#c51b7d"
            ],
            [
             0.2,
             "#de77ae"
            ],
            [
             0.3,
             "#f1b6da"
            ],
            [
             0.4,
             "#fde0ef"
            ],
            [
             0.5,
             "#f7f7f7"
            ],
            [
             0.6,
             "#e6f5d0"
            ],
            [
             0.7,
             "#b8e186"
            ],
            [
             0.8,
             "#7fbc41"
            ],
            [
             0.9,
             "#4d9221"
            ],
            [
             1,
             "#276419"
            ]
           ],
           "sequential": [
            [
             0,
             "#0d0887"
            ],
            [
             0.1111111111111111,
             "#46039f"
            ],
            [
             0.2222222222222222,
             "#7201a8"
            ],
            [
             0.3333333333333333,
             "#9c179e"
            ],
            [
             0.4444444444444444,
             "#bd3786"
            ],
            [
             0.5555555555555556,
             "#d8576b"
            ],
            [
             0.6666666666666666,
             "#ed7953"
            ],
            [
             0.7777777777777778,
             "#fb9f3a"
            ],
            [
             0.8888888888888888,
             "#fdca26"
            ],
            [
             1,
             "#f0f921"
            ]
           ],
           "sequentialminus": [
            [
             0,
             "#0d0887"
            ],
            [
             0.1111111111111111,
             "#46039f"
            ],
            [
             0.2222222222222222,
             "#7201a8"
            ],
            [
             0.3333333333333333,
             "#9c179e"
            ],
            [
             0.4444444444444444,
             "#bd3786"
            ],
            [
             0.5555555555555556,
             "#d8576b"
            ],
            [
             0.6666666666666666,
             "#ed7953"
            ],
            [
             0.7777777777777778,
             "#fb9f3a"
            ],
            [
             0.8888888888888888,
             "#fdca26"
            ],
            [
             1,
             "#f0f921"
            ]
           ]
          },
          "colorway": [
           "#636efa",
           "#EF553B",
           "#00cc96",
           "#ab63fa",
           "#FFA15A",
           "#19d3f3",
           "#FF6692",
           "#B6E880",
           "#FF97FF",
           "#FECB52"
          ],
          "font": {
           "color": "#2a3f5f"
          },
          "geo": {
           "bgcolor": "white",
           "lakecolor": "white",
           "landcolor": "#E5ECF6",
           "showlakes": true,
           "showland": true,
           "subunitcolor": "white"
          },
          "hoverlabel": {
           "align": "left"
          },
          "hovermode": "closest",
          "mapbox": {
           "style": "light"
          },
          "paper_bgcolor": "white",
          "plot_bgcolor": "#E5ECF6",
          "polar": {
           "angularaxis": {
            "gridcolor": "white",
            "linecolor": "white",
            "ticks": ""
           },
           "bgcolor": "#E5ECF6",
           "radialaxis": {
            "gridcolor": "white",
            "linecolor": "white",
            "ticks": ""
           }
          },
          "scene": {
           "xaxis": {
            "backgroundcolor": "#E5ECF6",
            "gridcolor": "white",
            "gridwidth": 2,
            "linecolor": "white",
            "showbackground": true,
            "ticks": "",
            "zerolinecolor": "white"
           },
           "yaxis": {
            "backgroundcolor": "#E5ECF6",
            "gridcolor": "white",
            "gridwidth": 2,
            "linecolor": "white",
            "showbackground": true,
            "ticks": "",
            "zerolinecolor": "white"
           },
           "zaxis": {
            "backgroundcolor": "#E5ECF6",
            "gridcolor": "white",
            "gridwidth": 2,
            "linecolor": "white",
            "showbackground": true,
            "ticks": "",
            "zerolinecolor": "white"
           }
          },
          "shapedefaults": {
           "line": {
            "color": "#2a3f5f"
           }
          },
          "ternary": {
           "aaxis": {
            "gridcolor": "white",
            "linecolor": "white",
            "ticks": ""
           },
           "baxis": {
            "gridcolor": "white",
            "linecolor": "white",
            "ticks": ""
           },
           "bgcolor": "#E5ECF6",
           "caxis": {
            "gridcolor": "white",
            "linecolor": "white",
            "ticks": ""
           }
          },
          "title": {
           "x": 0.05
          },
          "xaxis": {
           "automargin": true,
           "gridcolor": "white",
           "linecolor": "white",
           "ticks": "",
           "title": {
            "standoff": 15
           },
           "zerolinecolor": "white",
           "zerolinewidth": 2
          },
          "yaxis": {
           "automargin": true,
           "gridcolor": "white",
           "linecolor": "white",
           "ticks": "",
           "title": {
            "standoff": 15
           },
           "zerolinecolor": "white",
           "zerolinewidth": 2
          }
         }
        },
        "title": {
         "text": "Female Population in Boulder, CO by Year"
        },
        "xaxis": {
         "anchor": "y",
         "domain": [
          0,
          1
         ],
         "title": {
          "text": "year"
         }
        },
        "yaxis": {
         "anchor": "x",
         "domain": [
          0,
          1
         ],
         "title": {
          "text": "value"
         }
        }
       }
      },
      "text/html": [
       "<div>                            <div id=\"0afc0251-3c75-46ed-8e71-be5b72172468\" class=\"plotly-graph-div\" style=\"height:525px; width:100%;\"></div>            <script type=\"text/javascript\">                require([\"plotly\"], function(Plotly) {                    window.PLOTLYENV=window.PLOTLYENV || {};                                    if (document.getElementById(\"0afc0251-3c75-46ed-8e71-be5b72172468\")) {                    Plotly.newPlot(                        \"0afc0251-3c75-46ed-8e71-be5b72172468\",                        [{\"alignmentgroup\":\"True\",\"hovertemplate\":\"age=20<br>year=%{x}<br>value=%{y}<extra></extra>\",\"legendgroup\":\"20\",\"marker\":{\"color\":\"#636efa\",\"pattern\":{\"shape\":\"\"}},\"name\":\"20\",\"offsetgroup\":\"20\",\"orientation\":\"v\",\"showlegend\":true,\"textposition\":\"auto\",\"type\":\"bar\",\"x\":[2016,2017,2018,2019,2020,2021,2022,2023,2024,2025],\"xaxis\":\"x\",\"y\":[3787,3761,3883,3824,3856,3910,3964,3930,3968,3991],\"yaxis\":\"y\"},{\"alignmentgroup\":\"True\",\"hovertemplate\":\"age=21<br>year=%{x}<br>value=%{y}<extra></extra>\",\"legendgroup\":\"21\",\"marker\":{\"color\":\"#EF553B\",\"pattern\":{\"shape\":\"\"}},\"name\":\"21\",\"offsetgroup\":\"21\",\"orientation\":\"v\",\"showlegend\":true,\"textposition\":\"auto\",\"type\":\"bar\",\"x\":[2016,2017,2018,2019,2020,2021,2022,2023,2024,2025],\"xaxis\":\"x\",\"y\":[3594,3638,3615,3714,3675,3706,3747,3804,3778,3817],\"yaxis\":\"y\"},{\"alignmentgroup\":\"True\",\"hovertemplate\":\"age=22<br>year=%{x}<br>value=%{y}<extra></extra>\",\"legendgroup\":\"22\",\"marker\":{\"color\":\"#00cc96\",\"pattern\":{\"shape\":\"\"}},\"name\":\"22\",\"offsetgroup\":\"22\",\"orientation\":\"v\",\"showlegend\":true,\"textposition\":\"auto\",\"type\":\"bar\",\"x\":[2016,2017,2018,2019,2020,2021,2022,2023,2024,2025],\"xaxis\":\"x\",\"y\":[3262,3201,3247,3204,3316,3276,3296,3340,3405,3381],\"yaxis\":\"y\"},{\"alignmentgroup\":\"True\",\"hovertemplate\":\"age=23<br>year=%{x}<br>value=%{y}<extra></extra>\",\"legendgroup\":\"23\",\"marker\":{\"color\":\"#ab63fa\",\"pattern\":{\"shape\":\"\"}},\"name\":\"23\",\"offsetgroup\":\"23\",\"orientation\":\"v\",\"showlegend\":true,\"textposition\":\"auto\",\"type\":\"bar\",\"x\":[2016,2017,2018,2019,2020,2021,2022,2023,2024,2025],\"xaxis\":\"x\",\"y\":[2585,2700,2640,2669,2632,2743,2693,2716,2769,2836],\"yaxis\":\"y\"},{\"alignmentgroup\":\"True\",\"hovertemplate\":\"age=24<br>year=%{x}<br>value=%{y}<extra></extra>\",\"legendgroup\":\"24\",\"marker\":{\"color\":\"#FFA15A\",\"pattern\":{\"shape\":\"\"}},\"name\":\"24\",\"offsetgroup\":\"24\",\"orientation\":\"v\",\"showlegend\":true,\"textposition\":\"auto\",\"type\":\"bar\",\"x\":[2016,2017,2018,2019,2020,2021,2022,2023,2024,2025],\"xaxis\":\"x\",\"y\":[2124,2106,2332,2258,2288,2249,2352,2306,2338,2393],\"yaxis\":\"y\"},{\"alignmentgroup\":\"True\",\"hovertemplate\":\"age=25<br>year=%{x}<br>value=%{y}<extra></extra>\",\"legendgroup\":\"25\",\"marker\":{\"color\":\"#19d3f3\",\"pattern\":{\"shape\":\"\"}},\"name\":\"25\",\"offsetgroup\":\"25\",\"orientation\":\"v\",\"showlegend\":true,\"textposition\":\"auto\",\"type\":\"bar\",\"x\":[2016,2017,2018,2019,2020,2021,2022,2023,2024,2025],\"xaxis\":\"x\",\"y\":[2301,2067,2139,2349,2273,2299,2253,2360,2325,2360],\"yaxis\":\"y\"}],                        {\"barmode\":\"relative\",\"legend\":{\"title\":{\"text\":\"age\"},\"tracegroupgap\":0},\"template\":{\"data\":{\"bar\":[{\"error_x\":{\"color\":\"#2a3f5f\"},\"error_y\":{\"color\":\"#2a3f5f\"},\"marker\":{\"line\":{\"color\":\"#E5ECF6\",\"width\":0.5},\"pattern\":{\"fillmode\":\"overlay\",\"size\":10,\"solidity\":0.2}},\"type\":\"bar\"}],\"barpolar\":[{\"marker\":{\"line\":{\"color\":\"#E5ECF6\",\"width\":0.5},\"pattern\":{\"fillmode\":\"overlay\",\"size\":10,\"solidity\":0.2}},\"type\":\"barpolar\"}],\"carpet\":[{\"aaxis\":{\"endlinecolor\":\"#2a3f5f\",\"gridcolor\":\"white\",\"linecolor\":\"white\",\"minorgridcolor\":\"white\",\"startlinecolor\":\"#2a3f5f\"},\"baxis\":{\"endlinecolor\":\"#2a3f5f\",\"gridcolor\":\"white\",\"linecolor\":\"white\",\"minorgridcolor\":\"white\",\"startlinecolor\":\"#2a3f5f\"},\"type\":\"carpet\"}],\"choropleth\":[{\"colorbar\":{\"outlinewidth\":0,\"ticks\":\"\"},\"type\":\"choropleth\"}],\"contour\":[{\"colorbar\":{\"outlinewidth\":0,\"ticks\":\"\"},\"colorscale\":[[0.0,\"#0d0887\"],[0.1111111111111111,\"#46039f\"],[0.2222222222222222,\"#7201a8\"],[0.3333333333333333,\"#9c179e\"],[0.4444444444444444,\"#bd3786\"],[0.5555555555555556,\"#d8576b\"],[0.6666666666666666,\"#ed7953\"],[0.7777777777777778,\"#fb9f3a\"],[0.8888888888888888,\"#fdca26\"],[1.0,\"#f0f921\"]],\"type\":\"contour\"}],\"contourcarpet\":[{\"colorbar\":{\"outlinewidth\":0,\"ticks\":\"\"},\"type\":\"contourcarpet\"}],\"heatmap\":[{\"colorbar\":{\"outlinewidth\":0,\"ticks\":\"\"},\"colorscale\":[[0.0,\"#0d0887\"],[0.1111111111111111,\"#46039f\"],[0.2222222222222222,\"#7201a8\"],[0.3333333333333333,\"#9c179e\"],[0.4444444444444444,\"#bd3786\"],[0.5555555555555556,\"#d8576b\"],[0.6666666666666666,\"#ed7953\"],[0.7777777777777778,\"#fb9f3a\"],[0.8888888888888888,\"#fdca26\"],[1.0,\"#f0f921\"]],\"type\":\"heatmap\"}],\"heatmapgl\":[{\"colorbar\":{\"outlinewidth\":0,\"ticks\":\"\"},\"colorscale\":[[0.0,\"#0d0887\"],[0.1111111111111111,\"#46039f\"],[0.2222222222222222,\"#7201a8\"],[0.3333333333333333,\"#9c179e\"],[0.4444444444444444,\"#bd3786\"],[0.5555555555555556,\"#d8576b\"],[0.6666666666666666,\"#ed7953\"],[0.7777777777777778,\"#fb9f3a\"],[0.8888888888888888,\"#fdca26\"],[1.0,\"#f0f921\"]],\"type\":\"heatmapgl\"}],\"histogram\":[{\"marker\":{\"pattern\":{\"fillmode\":\"overlay\",\"size\":10,\"solidity\":0.2}},\"type\":\"histogram\"}],\"histogram2d\":[{\"colorbar\":{\"outlinewidth\":0,\"ticks\":\"\"},\"colorscale\":[[0.0,\"#0d0887\"],[0.1111111111111111,\"#46039f\"],[0.2222222222222222,\"#7201a8\"],[0.3333333333333333,\"#9c179e\"],[0.4444444444444444,\"#bd3786\"],[0.5555555555555556,\"#d8576b\"],[0.6666666666666666,\"#ed7953\"],[0.7777777777777778,\"#fb9f3a\"],[0.8888888888888888,\"#fdca26\"],[1.0,\"#f0f921\"]],\"type\":\"histogram2d\"}],\"histogram2dcontour\":[{\"colorbar\":{\"outlinewidth\":0,\"ticks\":\"\"},\"colorscale\":[[0.0,\"#0d0887\"],[0.1111111111111111,\"#46039f\"],[0.2222222222222222,\"#7201a8\"],[0.3333333333333333,\"#9c179e\"],[0.4444444444444444,\"#bd3786\"],[0.5555555555555556,\"#d8576b\"],[0.6666666666666666,\"#ed7953\"],[0.7777777777777778,\"#fb9f3a\"],[0.8888888888888888,\"#fdca26\"],[1.0,\"#f0f921\"]],\"type\":\"histogram2dcontour\"}],\"mesh3d\":[{\"colorbar\":{\"outlinewidth\":0,\"ticks\":\"\"},\"type\":\"mesh3d\"}],\"parcoords\":[{\"line\":{\"colorbar\":{\"outlinewidth\":0,\"ticks\":\"\"}},\"type\":\"parcoords\"}],\"pie\":[{\"automargin\":true,\"type\":\"pie\"}],\"scatter\":[{\"marker\":{\"colorbar\":{\"outlinewidth\":0,\"ticks\":\"\"}},\"type\":\"scatter\"}],\"scatter3d\":[{\"line\":{\"colorbar\":{\"outlinewidth\":0,\"ticks\":\"\"}},\"marker\":{\"colorbar\":{\"outlinewidth\":0,\"ticks\":\"\"}},\"type\":\"scatter3d\"}],\"scattercarpet\":[{\"marker\":{\"colorbar\":{\"outlinewidth\":0,\"ticks\":\"\"}},\"type\":\"scattercarpet\"}],\"scattergeo\":[{\"marker\":{\"colorbar\":{\"outlinewidth\":0,\"ticks\":\"\"}},\"type\":\"scattergeo\"}],\"scattergl\":[{\"marker\":{\"colorbar\":{\"outlinewidth\":0,\"ticks\":\"\"}},\"type\":\"scattergl\"}],\"scattermapbox\":[{\"marker\":{\"colorbar\":{\"outlinewidth\":0,\"ticks\":\"\"}},\"type\":\"scattermapbox\"}],\"scatterpolar\":[{\"marker\":{\"colorbar\":{\"outlinewidth\":0,\"ticks\":\"\"}},\"type\":\"scatterpolar\"}],\"scatterpolargl\":[{\"marker\":{\"colorbar\":{\"outlinewidth\":0,\"ticks\":\"\"}},\"type\":\"scatterpolargl\"}],\"scatterternary\":[{\"marker\":{\"colorbar\":{\"outlinewidth\":0,\"ticks\":\"\"}},\"type\":\"scatterternary\"}],\"surface\":[{\"colorbar\":{\"outlinewidth\":0,\"ticks\":\"\"},\"colorscale\":[[0.0,\"#0d0887\"],[0.1111111111111111,\"#46039f\"],[0.2222222222222222,\"#7201a8\"],[0.3333333333333333,\"#9c179e\"],[0.4444444444444444,\"#bd3786\"],[0.5555555555555556,\"#d8576b\"],[0.6666666666666666,\"#ed7953\"],[0.7777777777777778,\"#fb9f3a\"],[0.8888888888888888,\"#fdca26\"],[1.0,\"#f0f921\"]],\"type\":\"surface\"}],\"table\":[{\"cells\":{\"fill\":{\"color\":\"#EBF0F8\"},\"line\":{\"color\":\"white\"}},\"header\":{\"fill\":{\"color\":\"#C8D4E3\"},\"line\":{\"color\":\"white\"}},\"type\":\"table\"}]},\"layout\":{\"annotationdefaults\":{\"arrowcolor\":\"#2a3f5f\",\"arrowhead\":0,\"arrowwidth\":1},\"autotypenumbers\":\"strict\",\"coloraxis\":{\"colorbar\":{\"outlinewidth\":0,\"ticks\":\"\"}},\"colorscale\":{\"diverging\":[[0,\"#8e0152\"],[0.1,\"#c51b7d\"],[0.2,\"#de77ae\"],[0.3,\"#f1b6da\"],[0.4,\"#fde0ef\"],[0.5,\"#f7f7f7\"],[0.6,\"#e6f5d0\"],[0.7,\"#b8e186\"],[0.8,\"#7fbc41\"],[0.9,\"#4d9221\"],[1,\"#276419\"]],\"sequential\":[[0.0,\"#0d0887\"],[0.1111111111111111,\"#46039f\"],[0.2222222222222222,\"#7201a8\"],[0.3333333333333333,\"#9c179e\"],[0.4444444444444444,\"#bd3786\"],[0.5555555555555556,\"#d8576b\"],[0.6666666666666666,\"#ed7953\"],[0.7777777777777778,\"#fb9f3a\"],[0.8888888888888888,\"#fdca26\"],[1.0,\"#f0f921\"]],\"sequentialminus\":[[0.0,\"#0d0887\"],[0.1111111111111111,\"#46039f\"],[0.2222222222222222,\"#7201a8\"],[0.3333333333333333,\"#9c179e\"],[0.4444444444444444,\"#bd3786\"],[0.5555555555555556,\"#d8576b\"],[0.6666666666666666,\"#ed7953\"],[0.7777777777777778,\"#fb9f3a\"],[0.8888888888888888,\"#fdca26\"],[1.0,\"#f0f921\"]]},\"colorway\":[\"#636efa\",\"#EF553B\",\"#00cc96\",\"#ab63fa\",\"#FFA15A\",\"#19d3f3\",\"#FF6692\",\"#B6E880\",\"#FF97FF\",\"#FECB52\"],\"font\":{\"color\":\"#2a3f5f\"},\"geo\":{\"bgcolor\":\"white\",\"lakecolor\":\"white\",\"landcolor\":\"#E5ECF6\",\"showlakes\":true,\"showland\":true,\"subunitcolor\":\"white\"},\"hoverlabel\":{\"align\":\"left\"},\"hovermode\":\"closest\",\"mapbox\":{\"style\":\"light\"},\"paper_bgcolor\":\"white\",\"plot_bgcolor\":\"#E5ECF6\",\"polar\":{\"angularaxis\":{\"gridcolor\":\"white\",\"linecolor\":\"white\",\"ticks\":\"\"},\"bgcolor\":\"#E5ECF6\",\"radialaxis\":{\"gridcolor\":\"white\",\"linecolor\":\"white\",\"ticks\":\"\"}},\"scene\":{\"xaxis\":{\"backgroundcolor\":\"#E5ECF6\",\"gridcolor\":\"white\",\"gridwidth\":2,\"linecolor\":\"white\",\"showbackground\":true,\"ticks\":\"\",\"zerolinecolor\":\"white\"},\"yaxis\":{\"backgroundcolor\":\"#E5ECF6\",\"gridcolor\":\"white\",\"gridwidth\":2,\"linecolor\":\"white\",\"showbackground\":true,\"ticks\":\"\",\"zerolinecolor\":\"white\"},\"zaxis\":{\"backgroundcolor\":\"#E5ECF6\",\"gridcolor\":\"white\",\"gridwidth\":2,\"linecolor\":\"white\",\"showbackground\":true,\"ticks\":\"\",\"zerolinecolor\":\"white\"}},\"shapedefaults\":{\"line\":{\"color\":\"#2a3f5f\"}},\"ternary\":{\"aaxis\":{\"gridcolor\":\"white\",\"linecolor\":\"white\",\"ticks\":\"\"},\"baxis\":{\"gridcolor\":\"white\",\"linecolor\":\"white\",\"ticks\":\"\"},\"bgcolor\":\"#E5ECF6\",\"caxis\":{\"gridcolor\":\"white\",\"linecolor\":\"white\",\"ticks\":\"\"}},\"title\":{\"x\":0.05},\"xaxis\":{\"automargin\":true,\"gridcolor\":\"white\",\"linecolor\":\"white\",\"ticks\":\"\",\"title\":{\"standoff\":15},\"zerolinecolor\":\"white\",\"zerolinewidth\":2},\"yaxis\":{\"automargin\":true,\"gridcolor\":\"white\",\"linecolor\":\"white\",\"ticks\":\"\",\"title\":{\"standoff\":15},\"zerolinecolor\":\"white\",\"zerolinewidth\":2}}},\"title\":{\"text\":\"Female Population in Boulder, CO by Year\"},\"xaxis\":{\"anchor\":\"y\",\"domain\":[0.0,1.0],\"title\":{\"text\":\"year\"}},\"yaxis\":{\"anchor\":\"x\",\"domain\":[0.0,1.0],\"title\":{\"text\":\"value\"}}},                        {\"responsive\": true}                    ).then(function(){\n",
       "                            \n",
       "var gd = document.getElementById('0afc0251-3c75-46ed-8e71-be5b72172468');\n",
       "var x = new MutationObserver(function (mutations, observer) {{\n",
       "        var display = window.getComputedStyle(gd).display;\n",
       "        if (!display || display === 'none') {{\n",
       "            console.log([gd, 'removed!']);\n",
       "            Plotly.purge(gd);\n",
       "            observer.disconnect();\n",
       "        }}\n",
       "}});\n",
       "\n",
       "// Listen for the removal of the full notebook cells\n",
       "var notebookContainer = gd.closest('#notebook-container');\n",
       "if (notebookContainer) {{\n",
       "    x.observe(notebookContainer, {childList: true});\n",
       "}}\n",
       "\n",
       "// Listen for the clearing of the current output cell\n",
       "var outputEl = gd.closest('.output');\n",
       "if (outputEl) {{\n",
       "    x.observe(outputEl, {childList: true});\n",
       "}}\n",
       "\n",
       "                        })                };                });            </script>        </div>"
      ]
     },
     "metadata": {},
     "output_type": "display_data"
    }
   ],
   "source": [
    "# THIS will only work if you have plotly installed\n",
    "# uncomment code to run - plotly is not  yet in our ea-environment but will be added\n",
    "# conda install -c conda-forge plotly\n",
    "pd.options.plotting.backend = \"plotly\"\n",
    "dem_data_20_25_female_pivot.plot.bar(title=\"Female Population in Boulder, CO by Year\")"
   ]
  },
  {
   "cell_type": "markdown",
   "metadata": {},
   "source": [
    "<div class=\"notice--info\" markdown=\"1\">\n",
    "\n",
    "## Additional Resources\n",
    "\n",
    "### More About JSON\n",
    "\n",
    "* <a href=\"http://www.w3resource.com/JSON/introduction.php\" target=\"_blank\">JSON tutorial</a>\n",
    "\n",
    "### Using APIs\n",
    "\n",
    "So, how do you learn more about APIs? Below are some resources ...\n",
    "\n",
    "* <a href=\"http://www.programmableweb.com\" target=\"_blank\">Find APIs and read more about them</a>\n",
    "* <a href=\"https://dev.twitter.com/overview/documentation\" target=\"_blank\">Twitter API Documentation</a>\n",
    "* <a href=\"https://developer.nytimes.com/apis\" target=\"_blank\">New York Times API Information</a>\n",
    "* <a href=\"https://www.wunderground.com/weather/api\" target=\"_blank\">Weather Underground API Information</a>\n",
    "* <a href=\"http://envirocar.github.io/enviroCar-server/api/\" target=\"_blank\">EnviroCar API Information</a>\n",
    "\n",
    "The documentation in the URL's above describes the different types of *requests*\n",
    "that you can make to the data provider. For each request `URL` you need to specify\n",
    "the parameters and consider the response.\n",
    "\n",
    "</div>"
   ]
  }
 ],
 "metadata": {
  "anaconda-cloud": {},
  "kernelspec": {
   "display_name": "Python 3 (ipykernel)",
   "language": "python",
   "name": "python3"
  },
  "language_info": {
   "codemirror_mode": {
    "name": "ipython",
    "version": 3
   },
   "file_extension": ".py",
   "mimetype": "text/x-python",
   "name": "python",
   "nbconvert_exporter": "python",
   "pygments_lexer": "ipython3",
   "version": "3.8.12"
  },
  "toc": {
   "base_numbering": 1,
   "nav_menu": {},
   "number_sections": true,
   "sideBar": true,
   "skip_h1_title": false,
   "title_cell": "Table of Contents",
   "title_sidebar": "Contents",
   "toc_cell": false,
   "toc_position": {},
   "toc_section_display": true,
   "toc_window_display": false
  }
 },
 "nbformat": 4,
 "nbformat_minor": 2
}
