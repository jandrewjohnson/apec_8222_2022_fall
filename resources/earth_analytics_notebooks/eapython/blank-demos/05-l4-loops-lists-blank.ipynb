{
 "cells": [
  {
   "cell_type": "markdown",
   "metadata": {},
   "source": [
    "## Review of NDVI workflow\n",
    "\n",
    "Below we will review the workflow to calculate a difference NDVI from two dates (e.g. pre and post fire event).  "
   ]
  },
  {
   "cell_type": "code",
   "execution_count": 21,
   "metadata": {},
   "outputs": [],
   "source": [
    "# Import necessary packages\n",
    "import os\n",
    "from glob import glob\n",
    "\n",
    "import numpy as np\n",
    "import matplotlib.pyplot as plt\n",
    "from shapely.geometry import box\n",
    "import geopandas as gpd\n",
    "import rioxarray as rxr\n",
    "from rasterio.plot import plotting_extent\n",
    "#from rasterio.mask import mask\n",
    "import earthpy as et\n",
    "import earthpy.spatial as es\n",
    "import earthpy.plot as ep\n",
    "\n",
    "# Download data\n",
    "data2 = et.data.get_data(\"ndvi-automation\")\n",
    "\n",
    "# # Get data and set working directory\n",
    "os.chdir(os.path.join(et.io.HOME,\n",
    "                      \"earth-analytics\",\n",
    "                      \"data\"))\n"
   ]
  },
  {
   "cell_type": "markdown",
   "metadata": {},
   "source": [
    "## Review of os and glob\n",
    "\n",
    "The section below provides a review of `glob` and `os`, plus includes some new functionality in `os` that you have not learned to parse file names.\n",
    "\n",
    "Using `glob` to create lists and `os` to parse file names are handy tasks when you are trying to automate workflows!\n",
    "\n",
    "## Create Directories that Work Across Operating Systems - os.path.join\n",
    "\n",
    "When you are working across different computers and platforms, it is useful to create paths that can be recognized by the Windows, Mac and Linux operating systems. The `join()` function from the `os.path` module creates a path in the format that the operating system upon which the code is being run (i.e. whatever your computer is running) requires.\n",
    "\n",
    "This saves you the time of creating and fixing paths as you work on different machines. This approach becomes very useful when you need to move your workflow from say your laptop to a cloud or HPC environment. \n",
    "\n",
    "`os.path.join` takes as many strings are you provide in. It reads each string as a directory name and then creates an output path.\n",
    "\n",
    "`os.path.join(\"dir1\", \"dir2\", \"dir3\")`\n",
    "\n",
    "IMPORTANT: you can create bad paths this way! This function does not actually test to ensure the path exists!"
   ]
  },
  {
   "cell_type": "code",
   "execution_count": 22,
   "metadata": {},
   "outputs": [
    {
     "data": {
      "text/plain": [
       "'ndvi-automation/sites'"
      ]
     },
     "execution_count": 22,
     "metadata": {},
     "output_type": "execute_result"
    }
   ],
   "source": [
    "# Create a path\n",
    "path = os.path.join(\"ndvi-automation\", \"sites\")\n",
    "path"
   ]
  },
  {
   "cell_type": "code",
   "execution_count": 23,
   "metadata": {},
   "outputs": [
    {
     "data": {
      "text/plain": [
       "True"
      ]
     },
     "execution_count": 23,
     "metadata": {},
     "output_type": "execute_result"
    }
   ],
   "source": [
    "# Does the path exist?\n",
    "os.path.exists(path)"
   ]
  },
  {
   "cell_type": "code",
   "execution_count": 24,
   "metadata": {},
   "outputs": [
    {
     "data": {
      "text/plain": [
       "False"
      ]
     },
     "execution_count": 24,
     "metadata": {},
     "output_type": "execute_result"
    }
   ],
   "source": [
    "# This path doesn't exist\n",
    "path2 = os.path.join(\"Data\", \"NDVI-automation\", \"Sites\")\n",
    "os.path.exists(path2)"
   ]
  },
  {
   "cell_type": "markdown",
   "metadata": {},
   "source": [
    "## Get Lists of Files Using glob and path.join\n",
    "\n",
    "In a workflow where you are processing many files and directories, you can use `glob` with `path.join` to create a path and get a list of files in that path. \n",
    "\n",
    "By default, `glob()` returns only the files within that directory. "
   ]
  },
  {
   "cell_type": "code",
   "execution_count": 25,
   "metadata": {},
   "outputs": [
    {
     "data": {
      "text/plain": [
       "['ndvi-automation/sites']"
      ]
     },
     "execution_count": 25,
     "metadata": {},
     "output_type": "execute_result"
    }
   ],
   "source": [
    "# There are no individual files within the sites directory on this machine\n",
    "path = os.path.join(\"ndvi-automation\", \n",
    "                    \"sites\")\n",
    "glob(path)"
   ]
  },
  {
   "cell_type": "markdown",
   "metadata": {},
   "source": [
    "You can add the syntax `*/` to tell glob to provide a list of directories rather than files. \n",
    "This will be useful when you try to get a list of subdirectories within a parent\n",
    "directory - in this case there is one subdirectory for each NEON field site."
   ]
  },
  {
   "cell_type": "code",
   "execution_count": 26,
   "metadata": {},
   "outputs": [
    {
     "data": {
      "text/plain": [
       "['ndvi-automation/sites/SJER/', 'ndvi-automation/sites/HARV/']"
      ]
     },
     "execution_count": 26,
     "metadata": {},
     "output_type": "execute_result"
    }
   ],
   "source": [
    "# Add a trailing slash to force listing of directories in a path\n",
    "another_path = os.path.join(\"ndvi-automation\", \n",
    "                            \"sites\")\n",
    "\n",
    "# Get each subdirectory path using glob\n",
    "all_sites = glob(os.path.join(another_path, \"*/\"))\n",
    "all_sites"
   ]
  },
  {
   "cell_type": "markdown",
   "metadata": {},
   "source": [
    "You can nest the above steps into one step as well."
   ]
  },
  {
   "cell_type": "code",
   "execution_count": 27,
   "metadata": {},
   "outputs": [
    {
     "data": {
      "text/plain": [
       "['ndvi-automation/sites/SJER/', 'ndvi-automation/sites/HARV/']"
      ]
     },
     "execution_count": 27,
     "metadata": {},
     "output_type": "execute_result"
    }
   ],
   "source": [
    "# This single line of code below does  the same thing  as the cell\n",
    "# above which is divided into several lines \n",
    "glob(os.path.join(\"ndvi-automation\", \"sites\", \"*/\"))"
   ]
  },
  {
   "cell_type": "markdown",
   "metadata": {},
   "source": [
    "Once you have a list of directories, you can loop through each directory \n",
    "and do something with the  data within that directory."
   ]
  },
  {
   "cell_type": "code",
   "execution_count": 28,
   "metadata": {},
   "outputs": [
    {
     "name": "stdout",
     "output_type": "stream",
     "text": [
      "ndvi-automation/sites/SJER/\n",
      "ndvi-automation/sites/HARV/\n"
     ]
    }
   ],
   "source": [
    "# Print out all site directories\n",
    "for site_files in all_sites:\n",
    "    print(site_files)"
   ]
  },
  {
   "cell_type": "markdown",
   "metadata": {},
   "source": [
    "There are several  ways  to  produce lists of all directories within the **landsat_crop**\n",
    "dir of each site subdirectory. The most efficient is to use glob as shown below.\n",
    "\n",
    "## Use  Glob and the  * Symbol\n",
    "\n",
    "You can use the `*` syntax in `glob` to customize the list of folders returned. \n",
    "Remember, anywhere in a file path you want to be variable you can replace with a `*`. \n",
    "\n",
    "Seeing as this is the case, we can get all of the folders within the `landsat-crop` folders by specifying the middle folder, as shown below. Notice how it finds everything within the `landsat-crop` folder in both the HARV and SJER folders.  "
   ]
  },
  {
   "cell_type": "code",
   "execution_count": 29,
   "metadata": {},
   "outputs": [
    {
     "data": {
      "text/plain": [
       "['ndvi-automation/sites/SJER/landsat-crop/LC080420342017090401T1-SC20181023162756',\n",
       " 'ndvi-automation/sites/SJER/landsat-crop/LC080420342017081901T1-SC20181023153141',\n",
       " 'ndvi-automation/sites/SJER/landsat-crop/LC080420342017102201T1-SC20181023153638',\n",
       " 'ndvi-automation/sites/SJER/landsat-crop/LC080420342017110701T1-SC20181023170129',\n",
       " 'ndvi-automation/sites/SJER/landsat-crop/LC080420342017070201T1-SC20181023153031',\n",
       " 'ndvi-automation/sites/SJER/landsat-crop/LC080420342017010701T2-SC20181023153321',\n",
       " 'ndvi-automation/sites/SJER/landsat-crop/LC080420342017092001T1-SC20181023170143',\n",
       " 'ndvi-automation/sites/SJER/landsat-crop/LC080420342017051501T1-SC20181023151959',\n",
       " 'ndvi-automation/sites/SJER/landsat-crop/LC080420342017042901T1-SC20181023153144',\n",
       " 'ndvi-automation/sites/SJER/landsat-crop/LC080420342017112301T1-SC20181023170128',\n",
       " 'ndvi-automation/sites/SJER/landsat-crop/LC080420342017061601T1-SC20181023152417',\n",
       " 'ndvi-automation/sites/SJER/landsat-crop/LC080420342017031201T1-SC20181023152108',\n",
       " 'ndvi-automation/sites/SJER/landsat-crop/LC080420342017020801T1-SC20181023162521',\n",
       " 'ndvi-automation/sites/SJER/landsat-crop/LC080420342017080301T1-SC20181023185645',\n",
       " 'ndvi-automation/sites/SJER/landsat-crop/LC080420342017012301T1-SC20181023170015',\n",
       " 'ndvi-automation/sites/SJER/landsat-crop/LC080420342017120901T1-SC20181023152438',\n",
       " 'ndvi-automation/sites/SJER/landsat-crop/LC080420342017122501T1-SC20181023152106',\n",
       " 'ndvi-automation/sites/SJER/landsat-crop/LC080420342017053101T1-SC20181023151941',\n",
       " 'ndvi-automation/sites/SJER/landsat-crop/LC080420342017100601T1-SC20181023152121',\n",
       " 'ndvi-automation/sites/SJER/landsat-crop/LC080420342017022401T1-SC20181023152103',\n",
       " 'ndvi-automation/sites/SJER/landsat-crop/LC080420342017041301T1-SC20181023170020',\n",
       " 'ndvi-automation/sites/SJER/landsat-crop/LC080420342017032801T1-SC20181023162825',\n",
       " 'ndvi-automation/sites/SJER/landsat-crop/LC080420342017071801T1-SC20181023153104',\n",
       " 'ndvi-automation/sites/HARV/landsat-crop/LC080130302017041801T1-SC20181023152618',\n",
       " 'ndvi-automation/sites/HARV/landsat-crop/LC080130302017031701T1-SC20181023151837',\n",
       " 'ndvi-automation/sites/HARV/landsat-crop/LC080130302017070701T1-SC20181023152155',\n",
       " 'ndvi-automation/sites/HARV/landsat-crop/LC080130302017021301T1-SC20181023152047',\n",
       " 'ndvi-automation/sites/HARV/landsat-crop/LC080130302017082401T1-SC20181023152023',\n",
       " 'ndvi-automation/sites/HARV/landsat-crop/LC080130302017080801T1-SC20181023151955',\n",
       " 'ndvi-automation/sites/HARV/landsat-crop/LC080130302017030101T2-SC20181023151931',\n",
       " 'ndvi-automation/sites/HARV/landsat-crop/LC080130302017112801T1-SC20181023151921',\n",
       " 'ndvi-automation/sites/HARV/landsat-crop/LC080130302017102701T1-SC20181023151948',\n",
       " 'ndvi-automation/sites/HARV/landsat-crop/LC080130302017050401T1-SC20181023152417',\n",
       " 'ndvi-automation/sites/HARV/landsat-crop/LC080130302017092501T1-SC20181023152702',\n",
       " 'ndvi-automation/sites/HARV/landsat-crop/LC080130302017011201T1-SC20181023151858',\n",
       " 'ndvi-automation/sites/HARV/landsat-crop/LC080130302017121401T1-SC20181023152050',\n",
       " 'ndvi-automation/sites/HARV/landsat-crop/LC080130302017062101T1-SC20181023151938',\n",
       " 'ndvi-automation/sites/HARV/landsat-crop/LC080130302017101101T1-SC20181023151948',\n",
       " 'ndvi-automation/sites/HARV/landsat-crop/LC080130302017111201T1-SC20181023151927',\n",
       " 'ndvi-automation/sites/HARV/landsat-crop/LC080130302017052001T1-SC20181023151947',\n",
       " 'ndvi-automation/sites/HARV/landsat-crop/LC080130302017012801T1-SC20181023151918',\n",
       " 'ndvi-automation/sites/HARV/landsat-crop/LC080130302017123001T1-SC20181023151857',\n",
       " 'ndvi-automation/sites/HARV/landsat-crop/LC080130302017072301T1-SC20181023152048',\n",
       " 'ndvi-automation/sites/HARV/landsat-crop/LC080130302017060501T2-SC20181023151903',\n",
       " 'ndvi-automation/sites/HARV/landsat-crop/LC080130302017040201T1-SC20181023152038',\n",
       " 'ndvi-automation/sites/HARV/landsat-crop/LC080130302017090901T1-SC20181023151921']"
      ]
     },
     "execution_count": 29,
     "metadata": {},
     "output_type": "execute_result"
    }
   ],
   "source": [
    "glob(os.path.join(\"ndvi-automation\", \"sites\", \"*\", \"landsat-crop\", \"*\"))"
   ]
  },
  {
   "cell_type": "markdown",
   "metadata": {},
   "source": [
    "### How the  * Operator  Works\n",
    "\n",
    "This way works with glob well, but there's another way to get this list using `glob`! \n",
    "\n",
    "By forcing only listing directories with a trailing /, we can make `glob` return this same list of direcotries without specifying the `landsat-crop` folder. \n",
    "\n",
    "This only works because none of the other directories within the `HARV` and `SJER` directories contain more directories, they all store individual files. "
   ]
  },
  {
   "cell_type": "code",
   "execution_count": 30,
   "metadata": {},
   "outputs": [
    {
     "data": {
      "text/plain": [
       "['ndvi-automation/sites/SJER/landsat-crop/LC080420342017090401T1-SC20181023162756/',\n",
       " 'ndvi-automation/sites/SJER/landsat-crop/LC080420342017081901T1-SC20181023153141/',\n",
       " 'ndvi-automation/sites/SJER/landsat-crop/LC080420342017102201T1-SC20181023153638/',\n",
       " 'ndvi-automation/sites/SJER/landsat-crop/LC080420342017110701T1-SC20181023170129/',\n",
       " 'ndvi-automation/sites/SJER/landsat-crop/LC080420342017070201T1-SC20181023153031/',\n",
       " 'ndvi-automation/sites/SJER/landsat-crop/LC080420342017010701T2-SC20181023153321/',\n",
       " 'ndvi-automation/sites/SJER/landsat-crop/LC080420342017092001T1-SC20181023170143/',\n",
       " 'ndvi-automation/sites/SJER/landsat-crop/LC080420342017051501T1-SC20181023151959/',\n",
       " 'ndvi-automation/sites/SJER/landsat-crop/LC080420342017042901T1-SC20181023153144/',\n",
       " 'ndvi-automation/sites/SJER/landsat-crop/LC080420342017112301T1-SC20181023170128/',\n",
       " 'ndvi-automation/sites/SJER/landsat-crop/LC080420342017061601T1-SC20181023152417/',\n",
       " 'ndvi-automation/sites/SJER/landsat-crop/LC080420342017031201T1-SC20181023152108/',\n",
       " 'ndvi-automation/sites/SJER/landsat-crop/LC080420342017020801T1-SC20181023162521/',\n",
       " 'ndvi-automation/sites/SJER/landsat-crop/LC080420342017080301T1-SC20181023185645/',\n",
       " 'ndvi-automation/sites/SJER/landsat-crop/LC080420342017012301T1-SC20181023170015/',\n",
       " 'ndvi-automation/sites/SJER/landsat-crop/LC080420342017120901T1-SC20181023152438/',\n",
       " 'ndvi-automation/sites/SJER/landsat-crop/LC080420342017122501T1-SC20181023152106/',\n",
       " 'ndvi-automation/sites/SJER/landsat-crop/LC080420342017053101T1-SC20181023151941/',\n",
       " 'ndvi-automation/sites/SJER/landsat-crop/LC080420342017100601T1-SC20181023152121/',\n",
       " 'ndvi-automation/sites/SJER/landsat-crop/LC080420342017022401T1-SC20181023152103/',\n",
       " 'ndvi-automation/sites/SJER/landsat-crop/LC080420342017041301T1-SC20181023170020/',\n",
       " 'ndvi-automation/sites/SJER/landsat-crop/LC080420342017032801T1-SC20181023162825/',\n",
       " 'ndvi-automation/sites/SJER/landsat-crop/LC080420342017071801T1-SC20181023153104/',\n",
       " 'ndvi-automation/sites/HARV/landsat-crop/LC080130302017041801T1-SC20181023152618/',\n",
       " 'ndvi-automation/sites/HARV/landsat-crop/LC080130302017031701T1-SC20181023151837/',\n",
       " 'ndvi-automation/sites/HARV/landsat-crop/LC080130302017070701T1-SC20181023152155/',\n",
       " 'ndvi-automation/sites/HARV/landsat-crop/LC080130302017021301T1-SC20181023152047/',\n",
       " 'ndvi-automation/sites/HARV/landsat-crop/LC080130302017082401T1-SC20181023152023/',\n",
       " 'ndvi-automation/sites/HARV/landsat-crop/LC080130302017080801T1-SC20181023151955/',\n",
       " 'ndvi-automation/sites/HARV/landsat-crop/LC080130302017030101T2-SC20181023151931/',\n",
       " 'ndvi-automation/sites/HARV/landsat-crop/LC080130302017112801T1-SC20181023151921/',\n",
       " 'ndvi-automation/sites/HARV/landsat-crop/LC080130302017102701T1-SC20181023151948/',\n",
       " 'ndvi-automation/sites/HARV/landsat-crop/LC080130302017050401T1-SC20181023152417/',\n",
       " 'ndvi-automation/sites/HARV/landsat-crop/LC080130302017092501T1-SC20181023152702/',\n",
       " 'ndvi-automation/sites/HARV/landsat-crop/LC080130302017011201T1-SC20181023151858/',\n",
       " 'ndvi-automation/sites/HARV/landsat-crop/LC080130302017121401T1-SC20181023152050/',\n",
       " 'ndvi-automation/sites/HARV/landsat-crop/LC080130302017062101T1-SC20181023151938/',\n",
       " 'ndvi-automation/sites/HARV/landsat-crop/LC080130302017101101T1-SC20181023151948/',\n",
       " 'ndvi-automation/sites/HARV/landsat-crop/LC080130302017111201T1-SC20181023151927/',\n",
       " 'ndvi-automation/sites/HARV/landsat-crop/LC080130302017052001T1-SC20181023151947/',\n",
       " 'ndvi-automation/sites/HARV/landsat-crop/LC080130302017012801T1-SC20181023151918/',\n",
       " 'ndvi-automation/sites/HARV/landsat-crop/LC080130302017123001T1-SC20181023151857/',\n",
       " 'ndvi-automation/sites/HARV/landsat-crop/LC080130302017072301T1-SC20181023152048/',\n",
       " 'ndvi-automation/sites/HARV/landsat-crop/LC080130302017060501T2-SC20181023151903/',\n",
       " 'ndvi-automation/sites/HARV/landsat-crop/LC080130302017040201T1-SC20181023152038/',\n",
       " 'ndvi-automation/sites/HARV/landsat-crop/LC080130302017090901T1-SC20181023151921/']"
      ]
     },
     "execution_count": 30,
     "metadata": {},
     "output_type": "execute_result"
    }
   ],
   "source": [
    "glob(os.path.join(\"ndvi-automation\", \"sites\", \"*\", \"*\", \"*/\"))"
   ]
  },
  {
   "cell_type": "markdown",
   "metadata": {},
   "source": [
    "###  Loops\n",
    "\n",
    "This is a demonstation of using loops to begin to parse through \n",
    "each site directory. Note that here you are using nested  \n",
    "loops. Print statements can be useful as checks to see \n",
    "what your loop is doing."
   ]
  },
  {
   "cell_type": "code",
   "execution_count": 31,
   "metadata": {
    "scrolled": false
   },
   "outputs": [
    {
     "name": "stdout",
     "output_type": "stream",
     "text": [
      "I am looping through ndvi-automation/sites/SJER/\n",
      "now processing  ndvi-automation/sites/SJER/landsat-crop/LC080420342017090401T1-SC20181023162756/\n",
      "now processing  ndvi-automation/sites/SJER/landsat-crop/LC080420342017081901T1-SC20181023153141/\n",
      "now processing  ndvi-automation/sites/SJER/landsat-crop/LC080420342017102201T1-SC20181023153638/\n",
      "now processing  ndvi-automation/sites/SJER/landsat-crop/LC080420342017110701T1-SC20181023170129/\n",
      "now processing  ndvi-automation/sites/SJER/landsat-crop/LC080420342017070201T1-SC20181023153031/\n",
      "now processing  ndvi-automation/sites/SJER/landsat-crop/LC080420342017010701T2-SC20181023153321/\n",
      "now processing  ndvi-automation/sites/SJER/landsat-crop/LC080420342017092001T1-SC20181023170143/\n",
      "now processing  ndvi-automation/sites/SJER/landsat-crop/LC080420342017051501T1-SC20181023151959/\n",
      "now processing  ndvi-automation/sites/SJER/landsat-crop/LC080420342017042901T1-SC20181023153144/\n",
      "now processing  ndvi-automation/sites/SJER/landsat-crop/LC080420342017112301T1-SC20181023170128/\n",
      "now processing  ndvi-automation/sites/SJER/landsat-crop/LC080420342017061601T1-SC20181023152417/\n",
      "now processing  ndvi-automation/sites/SJER/landsat-crop/LC080420342017031201T1-SC20181023152108/\n",
      "now processing  ndvi-automation/sites/SJER/landsat-crop/LC080420342017020801T1-SC20181023162521/\n",
      "now processing  ndvi-automation/sites/SJER/landsat-crop/LC080420342017080301T1-SC20181023185645/\n",
      "now processing  ndvi-automation/sites/SJER/landsat-crop/LC080420342017012301T1-SC20181023170015/\n",
      "now processing  ndvi-automation/sites/SJER/landsat-crop/LC080420342017120901T1-SC20181023152438/\n",
      "now processing  ndvi-automation/sites/SJER/landsat-crop/LC080420342017122501T1-SC20181023152106/\n",
      "now processing  ndvi-automation/sites/SJER/landsat-crop/LC080420342017053101T1-SC20181023151941/\n",
      "now processing  ndvi-automation/sites/SJER/landsat-crop/LC080420342017100601T1-SC20181023152121/\n",
      "now processing  ndvi-automation/sites/SJER/landsat-crop/LC080420342017022401T1-SC20181023152103/\n",
      "now processing  ndvi-automation/sites/SJER/landsat-crop/LC080420342017041301T1-SC20181023170020/\n",
      "now processing  ndvi-automation/sites/SJER/landsat-crop/LC080420342017032801T1-SC20181023162825/\n",
      "now processing  ndvi-automation/sites/SJER/landsat-crop/LC080420342017071801T1-SC20181023153104/\n",
      "I am looping through ndvi-automation/sites/HARV/\n",
      "now processing  ndvi-automation/sites/HARV/landsat-crop/LC080130302017041801T1-SC20181023152618/\n",
      "now processing  ndvi-automation/sites/HARV/landsat-crop/LC080130302017031701T1-SC20181023151837/\n",
      "now processing  ndvi-automation/sites/HARV/landsat-crop/LC080130302017070701T1-SC20181023152155/\n",
      "now processing  ndvi-automation/sites/HARV/landsat-crop/LC080130302017021301T1-SC20181023152047/\n",
      "now processing  ndvi-automation/sites/HARV/landsat-crop/LC080130302017082401T1-SC20181023152023/\n",
      "now processing  ndvi-automation/sites/HARV/landsat-crop/LC080130302017080801T1-SC20181023151955/\n",
      "now processing  ndvi-automation/sites/HARV/landsat-crop/LC080130302017030101T2-SC20181023151931/\n",
      "now processing  ndvi-automation/sites/HARV/landsat-crop/LC080130302017112801T1-SC20181023151921/\n",
      "now processing  ndvi-automation/sites/HARV/landsat-crop/LC080130302017102701T1-SC20181023151948/\n",
      "now processing  ndvi-automation/sites/HARV/landsat-crop/LC080130302017050401T1-SC20181023152417/\n",
      "now processing  ndvi-automation/sites/HARV/landsat-crop/LC080130302017092501T1-SC20181023152702/\n",
      "now processing  ndvi-automation/sites/HARV/landsat-crop/LC080130302017011201T1-SC20181023151858/\n",
      "now processing  ndvi-automation/sites/HARV/landsat-crop/LC080130302017121401T1-SC20181023152050/\n",
      "now processing  ndvi-automation/sites/HARV/landsat-crop/LC080130302017062101T1-SC20181023151938/\n",
      "now processing  ndvi-automation/sites/HARV/landsat-crop/LC080130302017101101T1-SC20181023151948/\n",
      "now processing  ndvi-automation/sites/HARV/landsat-crop/LC080130302017111201T1-SC20181023151927/\n",
      "now processing  ndvi-automation/sites/HARV/landsat-crop/LC080130302017052001T1-SC20181023151947/\n",
      "now processing  ndvi-automation/sites/HARV/landsat-crop/LC080130302017012801T1-SC20181023151918/\n",
      "now processing  ndvi-automation/sites/HARV/landsat-crop/LC080130302017123001T1-SC20181023151857/\n",
      "now processing  ndvi-automation/sites/HARV/landsat-crop/LC080130302017072301T1-SC20181023152048/\n",
      "now processing  ndvi-automation/sites/HARV/landsat-crop/LC080130302017060501T2-SC20181023151903/\n",
      "now processing  ndvi-automation/sites/HARV/landsat-crop/LC080130302017040201T1-SC20181023152038/\n",
      "now processing  ndvi-automation/sites/HARV/landsat-crop/LC080130302017090901T1-SC20181023151921/\n"
     ]
    }
   ],
   "source": [
    "# Define the directory name\n",
    "landsat_dir = \"landsat-crop\"\n",
    "\n",
    "# Loop through each site directory\n",
    "for site_files in all_sites:\n",
    "    print(\"I am looping through\", site_files)\n",
    "\n",
    "    # Get a list of subdirectories for that site\n",
    "    new_path = os.path.join(site_files, landsat_dir)\n",
    "    all_dirs = glob(new_path + \"/*/\")\n",
    "    #  Loop through  each subdirectory where your data are stored\n",
    "    for adir in all_dirs:\n",
    "        print(\"now processing \", adir)\n",
    "    "
   ]
  },
  {
   "cell_type": "markdown",
   "metadata": {},
   "source": [
    "### Sorting `glob` Lists\n",
    "\n",
    "Notice that these lists aren't sorted. If it's important for a list to be in a certain order (imagery bands, for example should be in the correct order) than make sure to sort the list after glob gives it to you.\n",
    "\n",
    "For example, if two items have identical path names, but one ends in `10` and the other ends in `1`, sometimes the file ending in `10` will be put above the file ending in `1`. Always double check the order in  \n",
    "which your data are being processed!"
   ]
  },
  {
   "cell_type": "code",
   "execution_count": 32,
   "metadata": {},
   "outputs": [
    {
     "data": {
      "text/plain": [
       "['ndvi-automation/sites/HARV/landsat-crop/LC080130302017072301T1-SC20181023152048/LC08_L1TP_013030_20170723_20180125_01_T1_sr_band1.tif',\n",
       " 'ndvi-automation/sites/HARV/landsat-crop/LC080130302017072301T1-SC20181023152048/LC08_L1TP_013030_20170723_20180125_01_T1_sr_band2.tif',\n",
       " 'ndvi-automation/sites/HARV/landsat-crop/LC080130302017072301T1-SC20181023152048/LC08_L1TP_013030_20170723_20180125_01_T1_sr_band3.tif',\n",
       " 'ndvi-automation/sites/HARV/landsat-crop/LC080130302017072301T1-SC20181023152048/LC08_L1TP_013030_20170723_20180125_01_T1_sr_band4.tif',\n",
       " 'ndvi-automation/sites/HARV/landsat-crop/LC080130302017072301T1-SC20181023152048/LC08_L1TP_013030_20170723_20180125_01_T1_sr_band5.tif']"
      ]
     },
     "execution_count": 32,
     "metadata": {},
     "output_type": "execute_result"
    }
   ],
   "source": [
    "# Sort the list that glob returns\n",
    "sorted(glob(os.path.join('ndvi-automation', \n",
    "                         'sites', \n",
    "                         'HARV',\n",
    "                         'landsat-crop', \n",
    "                         'LC080130302017072301T1-SC20181023152048', \n",
    "                         '*band*')))"
   ]
  },
  {
   "cell_type": "markdown",
   "metadata": {},
   "source": [
    "### Why Sort `glob` Lists?\n",
    "\n",
    "The way that `glob` returns files from a folder can vary drastically. Depending on the operating system being used, or the way the files are stored, different people may get results from a `glob` list in different orders. This can lead to data errors when running projects across computers. Below shows how sorting a `glob` list changes what files you access when getting an index from the list. Notice how the same index (4) returns two different files. "
   ]
  },
  {
   "cell_type": "code",
   "execution_count": 33,
   "metadata": {},
   "outputs": [
    {
     "data": {
      "text/plain": [
       "('ndvi-automation/sites/HARV/landsat-crop/LC080130302017072301T1-SC20181023152048/LC08_L1TP_013030_20170723_20180125_01_T1_sr_band5.tif',\n",
       " 'ndvi-automation/sites/HARV/landsat-crop/LC080130302017072301T1-SC20181023152048/LC08_L1TP_013030_20170723_20180125_01_T1_sr_band5.tif')"
      ]
     },
     "execution_count": 33,
     "metadata": {},
     "output_type": "execute_result"
    }
   ],
   "source": [
    "# Indexes can change once a list is sorted\n",
    "# While some operating systems return the data sorted already, others do not\n",
    "unsorted_list = glob(os.path.join('ndvi-automation', \n",
    "                                  'sites', \n",
    "                                  'HARV',\n",
    "                                  'landsat-crop', \n",
    "                                  'LC080130302017072301T1-SC20181023152048', \n",
    "                                  '*band*'))\n",
    "\n",
    "sorted_list = sorted(glob(os.path.join('ndvi-automation', \n",
    "                                       'sites', \n",
    "                                       'HARV',\n",
    "                                       'landsat-crop', \n",
    "                                       'LC080130302017072301T1-SC20181023152048', \n",
    "                                       '*band*')))\n",
    "unsorted_list[4], sorted_list[4]"
   ]
  },
  {
   "cell_type": "markdown",
   "metadata": {},
   "source": [
    "### Using Ranges To Select Sets  of  Bands\n",
    "\n",
    "In addition to using `*` to specify which parts of a file name are important to you, \n",
    "you can use `[]` to specify a range of characters to search for. This range is \n",
    "for characters only, not strings. You can search for numbers 2-7 with `[2-7]` but \n",
    "you would not be able to search for number `[2-14]` as `14` is a string, not a \n",
    "character. \n",
    "\n",
    "This is not just limited to numbers. `[d-q]` would also filter results for \n",
    "characters between the letters `d` and `q`. "
   ]
  },
  {
   "cell_type": "code",
   "execution_count": 34,
   "metadata": {},
   "outputs": [
    {
     "data": {
      "text/plain": [
       "['ndvi-automation/sites/HARV/landsat-crop/LC080130302017072301T1-SC20181023152048/LC08_L1TP_013030_20170723_20180125_01_T1_sr_band2.tif',\n",
       " 'ndvi-automation/sites/HARV/landsat-crop/LC080130302017072301T1-SC20181023152048/LC08_L1TP_013030_20170723_20180125_01_T1_sr_band3.tif',\n",
       " 'ndvi-automation/sites/HARV/landsat-crop/LC080130302017072301T1-SC20181023152048/LC08_L1TP_013030_20170723_20180125_01_T1_sr_band1.tif']"
      ]
     },
     "execution_count": 34,
     "metadata": {},
     "output_type": "execute_result"
    }
   ],
   "source": [
    "# Get bands  1-3 - notice  the  order the bands  are returned?\n",
    "glob(os.path.join('ndvi-automation', \n",
    "                  'sites', \n",
    "                  'HARV',\n",
    "                  'landsat-crop', \n",
    "                  'LC080130302017072301T1-SC20181023152048', \n",
    "                  '*band[1-3]*'))"
   ]
  },
  {
   "cell_type": "code",
   "execution_count": 35,
   "metadata": {},
   "outputs": [
    {
     "data": {
      "text/plain": [
       "['ndvi-automation/sites/HARV/landsat-crop/LC080130302017072301T1-SC20181023152048/LC08_L1TP_013030_20170723_20180125_01_T1_sr_band1.tif',\n",
       " 'ndvi-automation/sites/HARV/landsat-crop/LC080130302017072301T1-SC20181023152048/LC08_L1TP_013030_20170723_20180125_01_T1_sr_band2.tif',\n",
       " 'ndvi-automation/sites/HARV/landsat-crop/LC080130302017072301T1-SC20181023152048/LC08_L1TP_013030_20170723_20180125_01_T1_sr_band3.tif']"
      ]
     },
     "execution_count": 35,
     "metadata": {},
     "output_type": "execute_result"
    }
   ],
   "source": [
    "# Get bands  1-3 - notice  the  order the bands are returned?\n",
    "sorted(glob(os.path.join('ndvi-automation', \n",
    "                  'sites', \n",
    "                  'HARV',\n",
    "                  'landsat-crop', \n",
    "                  'LC080130302017072301T1-SC20181023152048', \n",
    "                  '*band[1-3]*')))"
   ]
  },
  {
   "cell_type": "markdown",
   "metadata": {},
   "source": [
    "### `?` Operator\n",
    "\n",
    "Similar to the `*` operator, the `?` operator is the same idea, but for a single character. \n",
    "\n",
    "If one character in the file name can be variable, but everything else must stay the same, than `?` is a good way to just replace that one character. \n",
    "\n",
    "`?` is not limited to one use per search, and can be used to replace more than one character in a query. "
   ]
  },
  {
   "cell_type": "code",
   "execution_count": 36,
   "metadata": {},
   "outputs": [
    {
     "data": {
      "text/plain": [
       "['ndvi-automation/sites/HARV/landsat-crop/LC080130302017072301T1-SC20181023152048/LC08_L1TP_013030_20170723_20180125_01_T1_sr_band2.tif',\n",
       " 'ndvi-automation/sites/HARV/landsat-crop/LC080130302017072301T1-SC20181023152048/LC08_L1TP_013030_20170723_20180125_01_T1_sr_band3.tif',\n",
       " 'ndvi-automation/sites/HARV/landsat-crop/LC080130302017072301T1-SC20181023152048/LC08_L1TP_013030_20170723_20180125_01_T1_sr_band1.tif',\n",
       " 'ndvi-automation/sites/HARV/landsat-crop/LC080130302017072301T1-SC20181023152048/LC08_L1TP_013030_20170723_20180125_01_T1_sr_band4.tif',\n",
       " 'ndvi-automation/sites/HARV/landsat-crop/LC080130302017072301T1-SC20181023152048/LC08_L1TP_013030_20170723_20180125_01_T1_sr_band5.tif']"
      ]
     },
     "execution_count": 36,
     "metadata": {},
     "output_type": "execute_result"
    }
   ],
   "source": [
    "# ? operator\n",
    "glob(os.path.join('ndvi-automation', \n",
    "                  'sites', \n",
    "                  'HARV',\n",
    "                  'landsat-crop', \n",
    "                  'LC080130302017072301T1-SC20181023152048', \n",
    "                  '*band?.tif'))"
   ]
  },
  {
   "cell_type": "code",
   "execution_count": 37,
   "metadata": {},
   "outputs": [
    {
     "data": {
      "text/plain": [
       "['ndvi-automation/sites/HARV/landsat-crop/LC080130302017072301T1-SC20181023152048/LC08_L1TP_013030_20170723_20180125_01_T1_sr_band2.tif',\n",
       " 'ndvi-automation/sites/HARV/landsat-crop/LC080130302017072301T1-SC20181023152048/LC08_L1TP_013030_20170723_20180125_01_T1_sr_band3.tif',\n",
       " 'ndvi-automation/sites/HARV/landsat-crop/LC080130302017072301T1-SC20181023152048/LC08_L1TP_013030_20170723_20180125_01_T1_sr_band1.tif',\n",
       " 'ndvi-automation/sites/HARV/landsat-crop/LC080130302017072301T1-SC20181023152048/LC08_L1TP_013030_20170723_20180125_01_T1_sr_band4.tif',\n",
       " 'ndvi-automation/sites/HARV/landsat-crop/LC080130302017072301T1-SC20181023152048/LC08_L1TP_013030_20170723_20180125_01_T1_sr_band5.tif']"
      ]
     },
     "execution_count": 37,
     "metadata": {},
     "output_type": "execute_result"
    }
   ],
   "source": [
    "# Multiple ? operators\n",
    "glob(os.path.join('ndvi-automation', \n",
    "                  'sites', \n",
    "                  'HARV',\n",
    "                  'landsat-crop', \n",
    "                  'LC080130302017072301T1-SC20181023152048', \n",
    "                  '*band?????'))"
   ]
  },
  {
   "cell_type": "markdown",
   "metadata": {},
   "source": [
    "## Grab Parts of a Directory Path\n",
    "\n",
    "There are several ways that you can grab just a part of a path. Sometimes a file path has metadata in it that can be useful for creating useful variable names in your script. In your NDVI workflow, you may want to grab the site name from the directory path to use for your workflow. \n",
    "\n",
    "You can use a combination of `normpath()` and `basename()` functions from `os.path` to access the last directory in a path. In your case, this path contains your site name!\n"
   ]
  },
  {
   "cell_type": "code",
   "execution_count": 38,
   "metadata": {},
   "outputs": [
    {
     "data": {
      "text/plain": [
       "'home/user/example_dir'"
      ]
     },
     "execution_count": 38,
     "metadata": {},
     "output_type": "execute_result"
    }
   ],
   "source": [
    "# Example of normpath cleaning up path\n",
    "example_path = \"home//user//example_dir\"\n",
    "os.path.normpath(example_path)"
   ]
  },
  {
   "cell_type": "code",
   "execution_count": 39,
   "metadata": {},
   "outputs": [
    {
     "ename": "SyntaxError",
     "evalue": "invalid syntax (2631344215.py, line 3)",
     "output_type": "error",
     "traceback": [
      "\u001b[0;36m  File \u001b[0;32m\"/var/folders/dn/99vk45cd5n56wsnl3hxc1bw40000gp/T/ipykernel_61991/2631344215.py\"\u001b[0;36m, line \u001b[0;32m3\u001b[0m\n\u001b[0;31m    sitename =\u001b[0m\n\u001b[0m               ^\u001b[0m\n\u001b[0;31mSyntaxError\u001b[0m\u001b[0;31m:\u001b[0m invalid syntax\n"
     ]
    }
   ],
   "source": [
    "# Use normpath and basename together to get the last directory name\n",
    "# This will be helpful for separating  data form  HARV  vs  SJER\n",
    "sitename = \n",
    "sitename"
   ]
  },
  {
   "cell_type": "markdown",
   "metadata": {},
   "source": [
    "There are endless ways to use the sitename as a variable in an automated workflow."
   ]
  },
  {
   "cell_type": "code",
   "execution_count": 41,
   "metadata": {},
   "outputs": [
    {
     "ename": "NameError",
     "evalue": "name 'sitename' is not defined",
     "output_type": "error",
     "traceback": [
      "\u001b[0;31m---------------------------------------------------------------------------\u001b[0m",
      "\u001b[0;31mNameError\u001b[0m                                 Traceback (most recent call last)",
      "\u001b[0;32m/var/folders/dn/99vk45cd5n56wsnl3hxc1bw40000gp/T/ipykernel_61991/4271808295.py\u001b[0m in \u001b[0;36m<module>\u001b[0;34m\u001b[0m\n\u001b[1;32m      1\u001b[0m \u001b[0;31m# Create a file name needed to open a file\u001b[0m\u001b[0;34m\u001b[0m\u001b[0;34m\u001b[0m\u001b[0;34m\u001b[0m\u001b[0m\n\u001b[0;32m----> 2\u001b[0;31m \u001b[0mprint\u001b[0m\u001b[0;34m(\u001b[0m\u001b[0mos\u001b[0m\u001b[0;34m.\u001b[0m\u001b[0mpath\u001b[0m\u001b[0;34m.\u001b[0m\u001b[0mjoin\u001b[0m\u001b[0;34m(\u001b[0m\u001b[0msite_files\u001b[0m\u001b[0;34m,\u001b[0m \u001b[0;34m\"vector\"\u001b[0m\u001b[0;34m,\u001b[0m \u001b[0msitename\u001b[0m \u001b[0;34m+\u001b[0m \u001b[0;34m\"-crop.shp\"\u001b[0m\u001b[0;34m)\u001b[0m\u001b[0;34m)\u001b[0m\u001b[0;34m\u001b[0m\u001b[0;34m\u001b[0m\u001b[0m\n\u001b[0m\u001b[1;32m      3\u001b[0m \u001b[0;34m\u001b[0m\u001b[0m\n\u001b[1;32m      4\u001b[0m \u001b[0;31m# Create a generic output path to an output csv file\u001b[0m\u001b[0;34m\u001b[0m\u001b[0;34m\u001b[0m\u001b[0;34m\u001b[0m\u001b[0m\n\u001b[1;32m      5\u001b[0m \u001b[0mprint\u001b[0m\u001b[0;34m(\u001b[0m\u001b[0mos\u001b[0m\u001b[0;34m.\u001b[0m\u001b[0mpath\u001b[0m\u001b[0;34m.\u001b[0m\u001b[0mjoin\u001b[0m\u001b[0;34m(\u001b[0m\u001b[0;34m\"ndvi-automation\"\u001b[0m\u001b[0;34m,\u001b[0m \u001b[0;34m\"outputs\"\u001b[0m\u001b[0;34m,\u001b[0m \u001b[0msitename\u001b[0m \u001b[0;34m+\u001b[0m \u001b[0;34m\"-ndvi.csv\"\u001b[0m\u001b[0;34m)\u001b[0m\u001b[0;34m)\u001b[0m\u001b[0;34m\u001b[0m\u001b[0;34m\u001b[0m\u001b[0m\n",
      "\u001b[0;31mNameError\u001b[0m: name 'sitename' is not defined"
     ]
    }
   ],
   "source": [
    "# Create a file name needed to open a file\n",
    "print(os.path.join(site_files, \"vector\", sitename + \"-crop.shp\"))\n",
    "\n",
    "# Create a generic output path to an output csv file\n",
    "print(os.path.join(\"ndvi-automation\", \"outputs\", sitename + \"-ndvi.csv\"))"
   ]
  },
  {
   "cell_type": "markdown",
   "metadata": {},
   "source": [
    "If you want to grab both the last directory name and the path prior to that directory, you can use `os.path.split` with `normpath()`."
   ]
  },
  {
   "cell_type": "code",
   "execution_count": null,
   "metadata": {},
   "outputs": [],
   "source": [
    "os.path.split(os.path.normpath(site_files))"
   ]
  },
  {
   "cell_type": "markdown",
   "metadata": {},
   "source": [
    "## Parse Text From Directory Names\n",
    "\n",
    "There are numerous options to parse text from a file path. In your homework, you need to grab the date when each Landsat scene was collected. To grab just the date from the directory, you will need to:\n",
    "\n",
    "1. get the full directory path\n",
    "2. find the date embedded within the path name\n",
    "\n",
    "If you refer back to the Landsat metadata, you will see that every scene has the same naming convention. \n",
    "\n",
    "This means that you can count the characters (i.e. indices) in the directory name to find the collection date (which is the first date in the string) and use the same indices for every scene!\n",
    "\n",
    "In this case, you can find the date using a string index like this:\n",
    "\n",
    "`astring[startindex:endindex]`"
   ]
  },
  {
   "cell_type": "code",
   "execution_count": null,
   "metadata": {},
   "outputs": [],
   "source": [
    "# View directory name\n",
    "dir_name = os.path.basename(os.path.normpath(adir))"
   ]
  },
  {
   "cell_type": "code",
   "execution_count": null,
   "metadata": {},
   "outputs": [],
   "source": [
    "# Get landsat date from directory name\n",
    "date = dir_name[10:18]\n",
    "date"
   ]
  },
  {
   "cell_type": "markdown",
   "metadata": {},
   "source": [
    "You can also break the entire path apart, if you need to do so, using `string_name.split()`.\n",
    "\n",
    "`.split()` is a built in python function that splits a string into a list of strings based on a seperator \n",
    "character. For file paths, `os.sep` is a system friendly way to seperate file paths into their base parts. "
   ]
  },
  {
   "cell_type": "code",
   "execution_count": null,
   "metadata": {},
   "outputs": [],
   "source": [
    "# Break paths into components\n",
    "path = os.path.normpath(adir)\n",
    "path.split(os.sep)"
   ]
  },
  {
   "cell_type": "markdown",
   "metadata": {},
   "source": [
    "As you see, `string_name.split()` produces a list that you can query to get a specific component."
   ]
  },
  {
   "cell_type": "code",
   "execution_count": 40,
   "metadata": {},
   "outputs": [
    {
     "ename": "IndexError",
     "evalue": "list index out of range",
     "output_type": "error",
     "traceback": [
      "\u001b[0;31m---------------------------------------------------------------------------\u001b[0m",
      "\u001b[0;31mIndexError\u001b[0m                                Traceback (most recent call last)",
      "\u001b[0;32m/var/folders/dn/99vk45cd5n56wsnl3hxc1bw40000gp/T/ipykernel_61991/969318847.py\u001b[0m in \u001b[0;36m<module>\u001b[0;34m\u001b[0m\n\u001b[1;32m      1\u001b[0m \u001b[0;31m# Get the site name from the path\u001b[0m\u001b[0;34m\u001b[0m\u001b[0;34m\u001b[0m\u001b[0;34m\u001b[0m\u001b[0m\n\u001b[1;32m      2\u001b[0m \u001b[0mpath_components\u001b[0m \u001b[0;34m=\u001b[0m \u001b[0mpath\u001b[0m\u001b[0;34m.\u001b[0m\u001b[0msplit\u001b[0m\u001b[0;34m(\u001b[0m\u001b[0mos\u001b[0m\u001b[0;34m.\u001b[0m\u001b[0msep\u001b[0m\u001b[0;34m)\u001b[0m\u001b[0;34m\u001b[0m\u001b[0;34m\u001b[0m\u001b[0m\n\u001b[0;32m----> 3\u001b[0;31m \u001b[0mpath_components\u001b[0m\u001b[0;34m[\u001b[0m\u001b[0;36m2\u001b[0m\u001b[0;34m]\u001b[0m\u001b[0;34m\u001b[0m\u001b[0;34m\u001b[0m\u001b[0m\n\u001b[0m",
      "\u001b[0;31mIndexError\u001b[0m: list index out of range"
     ]
    }
   ],
   "source": [
    "# Get the site name from the path\n",
    "path_components = path.split(os.sep)\n",
    "path_components[2]"
   ]
  },
  {
   "cell_type": "markdown",
   "metadata": {},
   "source": [
    "## Another approach: regular expressions\n",
    "\n",
    "A reminder:\n",
    "### Landsat File Naming Convention\n",
    "\n",
    "Landsat and many other satellite remote sensing data is named in a way that tells you a about:\n",
    "\n",
    "* When the data were collected and processed\n",
    "* What sensor was used to collect the data\n",
    "* What satellite was used to collect the data.\n",
    "\n",
    "And more. \n",
    "\n",
    "Here you will learn a few key components of the landsat 8 collection file name. The first scene that you work with below is named:\n",
    "\n",
    "`LC080340322016072301T1-SC20180214145802`\n",
    "\n",
    "First, we have LC08\n",
    "\n",
    "* **L:** Landsat Sensor\n",
    "* **C:** OLI / TIRS combined platform\n",
    "* **08:** Landsat 8 (not 7)\n",
    "\n",
    "* **034032:** The next 6 digits represent the path and row of the scene. This identifies the spatial coverage of the scene\n",
    "\n",
    "Finally, you have a date. In your case as follows:\n",
    "\n",
    "* **20160723:** representing the year, month and day that the data were collected.\n",
    "\n",
    "The second part of the file name above tells you more about when the data were last processed. You can read more about this naming convention using the link below.\n",
    "\n",
    "<a href=\"https://landsat.usgs.gov/what-are-naming-conventions-landsat-scene-identifiers\" target=\"_blank\">Learn more about Landsat 8 file naming conventions.</a>\n",
    "\n",
    "As you work wtih these data, it is good to double check that you are working with the sensor (Landsat 8) and the time period that you intend. Having this information in the file name makes it easier to keep track of this as you process your data. "
   ]
  },
  {
   "cell_type": "code",
   "execution_count": 20,
   "metadata": {},
   "outputs": [
    {
     "ename": "NameError",
     "evalue": "name 'path_components' is not defined",
     "output_type": "error",
     "traceback": [
      "\u001b[0;31m---------------------------------------------------------------------------\u001b[0m",
      "\u001b[0;31mNameError\u001b[0m                                 Traceback (most recent call last)",
      "\u001b[0;32m/var/folders/dn/99vk45cd5n56wsnl3hxc1bw40000gp/T/ipykernel_61991/1863911081.py\u001b[0m in \u001b[0;36m<module>\u001b[0;34m\u001b[0m\n\u001b[1;32m      2\u001b[0m \u001b[0;32mimport\u001b[0m \u001b[0mre\u001b[0m\u001b[0;34m\u001b[0m\u001b[0;34m\u001b[0m\u001b[0m\n\u001b[1;32m      3\u001b[0m \u001b[0;34m\u001b[0m\u001b[0m\n\u001b[0;32m----> 4\u001b[0;31m \u001b[0mpath_components\u001b[0m\u001b[0;34m[\u001b[0m\u001b[0;34m-\u001b[0m\u001b[0;36m1\u001b[0m\u001b[0;34m]\u001b[0m\u001b[0;34m\u001b[0m\u001b[0;34m\u001b[0m\u001b[0m\n\u001b[0m\u001b[1;32m      5\u001b[0m \u001b[0;34m\u001b[0m\u001b[0m\n\u001b[1;32m      6\u001b[0m \u001b[0ml8_re\u001b[0m \u001b[0;34m=\u001b[0m \u001b[0mre\u001b[0m\u001b[0;34m.\u001b[0m\u001b[0mcompile\u001b[0m\u001b[0;34m(\u001b[0m\u001b[0;34m'LC08\\d{6}(*)-*'\u001b[0m\u001b[0;34m)\u001b[0m\u001b[0;34m\u001b[0m\u001b[0;34m\u001b[0m\u001b[0m\n",
      "\u001b[0;31mNameError\u001b[0m: name 'path_components' is not defined"
     ]
    }
   ],
   "source": [
    "# Import at the top!\n",
    "import re\n",
    "\n",
    "path_components[-1]\n",
    "\n",
    "l8_re =\n",
    "l8_info ="
   ]
  },
  {
   "cell_type": "markdown",
   "metadata": {},
   "source": [
    "##  Loops  to Create Lists and  DataFrames\n",
    "\n",
    "For  this workflow, you will want to capture NDVI data and  \n",
    "ultimately  produce a DataFrame that can be used to plot that  \n",
    "data by site and date."
   ]
  },
  {
   "cell_type": "code",
   "execution_count": 26,
   "metadata": {},
   "outputs": [
    {
     "data": {
      "text/plain": [
       "['ndvi-automation/sites/SJER/', 'ndvi-automation/sites/HARV/']"
      ]
     },
     "execution_count": 26,
     "metadata": {},
     "output_type": "execute_result"
    }
   ],
   "source": [
    "all_sites"
   ]
  },
  {
   "cell_type": "code",
   "execution_count": 27,
   "metadata": {},
   "outputs": [
    {
     "name": "stdout",
     "output_type": "stream",
     "text": [
      "I am looping through ndvi-automation/sites/SJER/\n",
      "I am working on the SJER field site now\n",
      "Now processing ndvi-automation/sites/SJER/landsat-crop/LC080420342017090401T1-SC20181023162756/\n",
      "Now processing ndvi-automation/sites/SJER/landsat-crop/LC080420342017081901T1-SC20181023153141/\n",
      "Now processing ndvi-automation/sites/SJER/landsat-crop/LC080420342017102201T1-SC20181023153638/\n",
      "Now processing ndvi-automation/sites/SJER/landsat-crop/LC080420342017110701T1-SC20181023170129/\n",
      "Now processing ndvi-automation/sites/SJER/landsat-crop/LC080420342017070201T1-SC20181023153031/\n",
      "Now processing ndvi-automation/sites/SJER/landsat-crop/LC080420342017010701T2-SC20181023153321/\n",
      "Now processing ndvi-automation/sites/SJER/landsat-crop/LC080420342017092001T1-SC20181023170143/\n",
      "Now processing ndvi-automation/sites/SJER/landsat-crop/LC080420342017051501T1-SC20181023151959/\n",
      "Now processing ndvi-automation/sites/SJER/landsat-crop/LC080420342017042901T1-SC20181023153144/\n",
      "Now processing ndvi-automation/sites/SJER/landsat-crop/LC080420342017112301T1-SC20181023170128/\n",
      "Now processing ndvi-automation/sites/SJER/landsat-crop/LC080420342017061601T1-SC20181023152417/\n",
      "Now processing ndvi-automation/sites/SJER/landsat-crop/LC080420342017031201T1-SC20181023152108/\n",
      "Now processing ndvi-automation/sites/SJER/landsat-crop/LC080420342017020801T1-SC20181023162521/\n",
      "Now processing ndvi-automation/sites/SJER/landsat-crop/LC080420342017080301T1-SC20181023185645/\n",
      "Now processing ndvi-automation/sites/SJER/landsat-crop/LC080420342017012301T1-SC20181023170015/\n",
      "Now processing ndvi-automation/sites/SJER/landsat-crop/LC080420342017120901T1-SC20181023152438/\n",
      "Now processing ndvi-automation/sites/SJER/landsat-crop/LC080420342017122501T1-SC20181023152106/\n",
      "Now processing ndvi-automation/sites/SJER/landsat-crop/LC080420342017053101T1-SC20181023151941/\n",
      "Now processing ndvi-automation/sites/SJER/landsat-crop/LC080420342017100601T1-SC20181023152121/\n",
      "Now processing ndvi-automation/sites/SJER/landsat-crop/LC080420342017022401T1-SC20181023152103/\n",
      "Now processing ndvi-automation/sites/SJER/landsat-crop/LC080420342017041301T1-SC20181023170020/\n",
      "Now processing ndvi-automation/sites/SJER/landsat-crop/LC080420342017032801T1-SC20181023162825/\n",
      "Now processing ndvi-automation/sites/SJER/landsat-crop/LC080420342017071801T1-SC20181023153104/\n",
      "I am looping through ndvi-automation/sites/HARV/\n",
      "I am working on the HARV field site now\n",
      "Now processing ndvi-automation/sites/HARV/landsat-crop/LC080130302017041801T1-SC20181023152618/\n",
      "Now processing ndvi-automation/sites/HARV/landsat-crop/LC080130302017031701T1-SC20181023151837/\n",
      "Now processing ndvi-automation/sites/HARV/landsat-crop/LC080130302017070701T1-SC20181023152155/\n",
      "Now processing ndvi-automation/sites/HARV/landsat-crop/LC080130302017021301T1-SC20181023152047/\n",
      "Now processing ndvi-automation/sites/HARV/landsat-crop/LC080130302017082401T1-SC20181023152023/\n",
      "Now processing ndvi-automation/sites/HARV/landsat-crop/LC080130302017080801T1-SC20181023151955/\n",
      "Now processing ndvi-automation/sites/HARV/landsat-crop/LC080130302017030101T2-SC20181023151931/\n",
      "Now processing ndvi-automation/sites/HARV/landsat-crop/LC080130302017112801T1-SC20181023151921/\n",
      "Now processing ndvi-automation/sites/HARV/landsat-crop/LC080130302017102701T1-SC20181023151948/\n",
      "Now processing ndvi-automation/sites/HARV/landsat-crop/LC080130302017050401T1-SC20181023152417/\n",
      "Now processing ndvi-automation/sites/HARV/landsat-crop/LC080130302017092501T1-SC20181023152702/\n",
      "Now processing ndvi-automation/sites/HARV/landsat-crop/LC080130302017011201T1-SC20181023151858/\n",
      "Now processing ndvi-automation/sites/HARV/landsat-crop/LC080130302017121401T1-SC20181023152050/\n",
      "Now processing ndvi-automation/sites/HARV/landsat-crop/LC080130302017062101T1-SC20181023151938/\n",
      "Now processing ndvi-automation/sites/HARV/landsat-crop/LC080130302017101101T1-SC20181023151948/\n",
      "Now processing ndvi-automation/sites/HARV/landsat-crop/LC080130302017111201T1-SC20181023151927/\n",
      "Now processing ndvi-automation/sites/HARV/landsat-crop/LC080130302017052001T1-SC20181023151947/\n",
      "Now processing ndvi-automation/sites/HARV/landsat-crop/LC080130302017012801T1-SC20181023151918/\n",
      "Now processing ndvi-automation/sites/HARV/landsat-crop/LC080130302017123001T1-SC20181023151857/\n",
      "Now processing ndvi-automation/sites/HARV/landsat-crop/LC080130302017072301T1-SC20181023152048/\n",
      "Now processing ndvi-automation/sites/HARV/landsat-crop/LC080130302017060501T2-SC20181023151903/\n",
      "Now processing ndvi-automation/sites/HARV/landsat-crop/LC080130302017040201T1-SC20181023152038/\n",
      "Now processing ndvi-automation/sites/HARV/landsat-crop/LC080130302017090901T1-SC20181023151921/\n"
     ]
    }
   ],
   "source": [
    "# Define the directory name\n",
    "landsat_dir = \"landsat-crop\"\n",
    "\n",
    "# Create an empty list\n",
    "ndvi_list =  []\n",
    "# Loop through each site directory\n",
    "\n",
    "    print(\"I am looping through\", site_files)\n",
    "\n",
    "    print(\"I am working on the\", asite, \"field site now\")\n",
    "\n",
    "    # Get a list of subdirectories for that site\n",
    "\n",
    "    #  Loop through  each subdirectory where your data are stored\n",
    "\n",
    "        print(\"Now processing\", adir)\n",
    "        # Calculate  NDVI\n",
    "        # Capture  the site name, and  date in  a list\n",
    "\n"
   ]
  },
  {
   "cell_type": "code",
   "execution_count": 28,
   "metadata": {},
   "outputs": [
    {
     "data": {
      "text/plain": [
       "[['SJER',\n",
       "  'Get Date  From  Landsat  dir  name',\n",
       "  'Calculate  final  NDVI value. '],\n",
       " ['SJER',\n",
       "  'Get Date  From  Landsat  dir  name',\n",
       "  'Calculate  final  NDVI value. '],\n",
       " ['SJER',\n",
       "  'Get Date  From  Landsat  dir  name',\n",
       "  'Calculate  final  NDVI value. '],\n",
       " ['SJER',\n",
       "  'Get Date  From  Landsat  dir  name',\n",
       "  'Calculate  final  NDVI value. '],\n",
       " ['SJER',\n",
       "  'Get Date  From  Landsat  dir  name',\n",
       "  'Calculate  final  NDVI value. '],\n",
       " ['SJER',\n",
       "  'Get Date  From  Landsat  dir  name',\n",
       "  'Calculate  final  NDVI value. '],\n",
       " ['SJER',\n",
       "  'Get Date  From  Landsat  dir  name',\n",
       "  'Calculate  final  NDVI value. '],\n",
       " ['SJER',\n",
       "  'Get Date  From  Landsat  dir  name',\n",
       "  'Calculate  final  NDVI value. '],\n",
       " ['SJER',\n",
       "  'Get Date  From  Landsat  dir  name',\n",
       "  'Calculate  final  NDVI value. '],\n",
       " ['SJER',\n",
       "  'Get Date  From  Landsat  dir  name',\n",
       "  'Calculate  final  NDVI value. '],\n",
       " ['SJER',\n",
       "  'Get Date  From  Landsat  dir  name',\n",
       "  'Calculate  final  NDVI value. '],\n",
       " ['SJER',\n",
       "  'Get Date  From  Landsat  dir  name',\n",
       "  'Calculate  final  NDVI value. '],\n",
       " ['SJER',\n",
       "  'Get Date  From  Landsat  dir  name',\n",
       "  'Calculate  final  NDVI value. '],\n",
       " ['SJER',\n",
       "  'Get Date  From  Landsat  dir  name',\n",
       "  'Calculate  final  NDVI value. '],\n",
       " ['SJER',\n",
       "  'Get Date  From  Landsat  dir  name',\n",
       "  'Calculate  final  NDVI value. '],\n",
       " ['SJER',\n",
       "  'Get Date  From  Landsat  dir  name',\n",
       "  'Calculate  final  NDVI value. '],\n",
       " ['SJER',\n",
       "  'Get Date  From  Landsat  dir  name',\n",
       "  'Calculate  final  NDVI value. '],\n",
       " ['SJER',\n",
       "  'Get Date  From  Landsat  dir  name',\n",
       "  'Calculate  final  NDVI value. '],\n",
       " ['SJER',\n",
       "  'Get Date  From  Landsat  dir  name',\n",
       "  'Calculate  final  NDVI value. '],\n",
       " ['SJER',\n",
       "  'Get Date  From  Landsat  dir  name',\n",
       "  'Calculate  final  NDVI value. '],\n",
       " ['SJER',\n",
       "  'Get Date  From  Landsat  dir  name',\n",
       "  'Calculate  final  NDVI value. '],\n",
       " ['SJER',\n",
       "  'Get Date  From  Landsat  dir  name',\n",
       "  'Calculate  final  NDVI value. '],\n",
       " ['SJER',\n",
       "  'Get Date  From  Landsat  dir  name',\n",
       "  'Calculate  final  NDVI value. '],\n",
       " ['HARV',\n",
       "  'Get Date  From  Landsat  dir  name',\n",
       "  'Calculate  final  NDVI value. '],\n",
       " ['HARV',\n",
       "  'Get Date  From  Landsat  dir  name',\n",
       "  'Calculate  final  NDVI value. '],\n",
       " ['HARV',\n",
       "  'Get Date  From  Landsat  dir  name',\n",
       "  'Calculate  final  NDVI value. '],\n",
       " ['HARV',\n",
       "  'Get Date  From  Landsat  dir  name',\n",
       "  'Calculate  final  NDVI value. '],\n",
       " ['HARV',\n",
       "  'Get Date  From  Landsat  dir  name',\n",
       "  'Calculate  final  NDVI value. '],\n",
       " ['HARV',\n",
       "  'Get Date  From  Landsat  dir  name',\n",
       "  'Calculate  final  NDVI value. '],\n",
       " ['HARV',\n",
       "  'Get Date  From  Landsat  dir  name',\n",
       "  'Calculate  final  NDVI value. '],\n",
       " ['HARV',\n",
       "  'Get Date  From  Landsat  dir  name',\n",
       "  'Calculate  final  NDVI value. '],\n",
       " ['HARV',\n",
       "  'Get Date  From  Landsat  dir  name',\n",
       "  'Calculate  final  NDVI value. '],\n",
       " ['HARV',\n",
       "  'Get Date  From  Landsat  dir  name',\n",
       "  'Calculate  final  NDVI value. '],\n",
       " ['HARV',\n",
       "  'Get Date  From  Landsat  dir  name',\n",
       "  'Calculate  final  NDVI value. '],\n",
       " ['HARV',\n",
       "  'Get Date  From  Landsat  dir  name',\n",
       "  'Calculate  final  NDVI value. '],\n",
       " ['HARV',\n",
       "  'Get Date  From  Landsat  dir  name',\n",
       "  'Calculate  final  NDVI value. '],\n",
       " ['HARV',\n",
       "  'Get Date  From  Landsat  dir  name',\n",
       "  'Calculate  final  NDVI value. '],\n",
       " ['HARV',\n",
       "  'Get Date  From  Landsat  dir  name',\n",
       "  'Calculate  final  NDVI value. '],\n",
       " ['HARV',\n",
       "  'Get Date  From  Landsat  dir  name',\n",
       "  'Calculate  final  NDVI value. '],\n",
       " ['HARV',\n",
       "  'Get Date  From  Landsat  dir  name',\n",
       "  'Calculate  final  NDVI value. '],\n",
       " ['HARV',\n",
       "  'Get Date  From  Landsat  dir  name',\n",
       "  'Calculate  final  NDVI value. '],\n",
       " ['HARV',\n",
       "  'Get Date  From  Landsat  dir  name',\n",
       "  'Calculate  final  NDVI value. '],\n",
       " ['HARV',\n",
       "  'Get Date  From  Landsat  dir  name',\n",
       "  'Calculate  final  NDVI value. '],\n",
       " ['HARV',\n",
       "  'Get Date  From  Landsat  dir  name',\n",
       "  'Calculate  final  NDVI value. '],\n",
       " ['HARV',\n",
       "  'Get Date  From  Landsat  dir  name',\n",
       "  'Calculate  final  NDVI value. '],\n",
       " ['HARV',\n",
       "  'Get Date  From  Landsat  dir  name',\n",
       "  'Calculate  final  NDVI value. ']]"
      ]
     },
     "execution_count": 28,
     "metadata": {},
     "output_type": "execute_result"
    }
   ],
   "source": [
    "# Example  Output  List\n",
    "ndvi_list"
   ]
  },
  {
   "cell_type": "code",
   "execution_count": 29,
   "metadata": {},
   "outputs": [
    {
     "data": {
      "text/html": [
       "<div>\n",
       "<style scoped>\n",
       "    .dataframe tbody tr th:only-of-type {\n",
       "        vertical-align: middle;\n",
       "    }\n",
       "\n",
       "    .dataframe tbody tr th {\n",
       "        vertical-align: top;\n",
       "    }\n",
       "\n",
       "    .dataframe thead th {\n",
       "        text-align: right;\n",
       "    }\n",
       "</style>\n",
       "<table border=\"1\" class=\"dataframe\">\n",
       "  <thead>\n",
       "    <tr style=\"text-align: right;\">\n",
       "      <th></th>\n",
       "      <th>0</th>\n",
       "      <th>1</th>\n",
       "      <th>2</th>\n",
       "    </tr>\n",
       "  </thead>\n",
       "  <tbody>\n",
       "    <tr>\n",
       "      <th>0</th>\n",
       "      <td>SJER</td>\n",
       "      <td>Get Date  From  Landsat  dir  name</td>\n",
       "      <td>Calculate  final  NDVI value.</td>\n",
       "    </tr>\n",
       "    <tr>\n",
       "      <th>1</th>\n",
       "      <td>SJER</td>\n",
       "      <td>Get Date  From  Landsat  dir  name</td>\n",
       "      <td>Calculate  final  NDVI value.</td>\n",
       "    </tr>\n",
       "    <tr>\n",
       "      <th>2</th>\n",
       "      <td>SJER</td>\n",
       "      <td>Get Date  From  Landsat  dir  name</td>\n",
       "      <td>Calculate  final  NDVI value.</td>\n",
       "    </tr>\n",
       "    <tr>\n",
       "      <th>3</th>\n",
       "      <td>SJER</td>\n",
       "      <td>Get Date  From  Landsat  dir  name</td>\n",
       "      <td>Calculate  final  NDVI value.</td>\n",
       "    </tr>\n",
       "    <tr>\n",
       "      <th>4</th>\n",
       "      <td>SJER</td>\n",
       "      <td>Get Date  From  Landsat  dir  name</td>\n",
       "      <td>Calculate  final  NDVI value.</td>\n",
       "    </tr>\n",
       "    <tr>\n",
       "      <th>5</th>\n",
       "      <td>SJER</td>\n",
       "      <td>Get Date  From  Landsat  dir  name</td>\n",
       "      <td>Calculate  final  NDVI value.</td>\n",
       "    </tr>\n",
       "    <tr>\n",
       "      <th>6</th>\n",
       "      <td>SJER</td>\n",
       "      <td>Get Date  From  Landsat  dir  name</td>\n",
       "      <td>Calculate  final  NDVI value.</td>\n",
       "    </tr>\n",
       "    <tr>\n",
       "      <th>7</th>\n",
       "      <td>SJER</td>\n",
       "      <td>Get Date  From  Landsat  dir  name</td>\n",
       "      <td>Calculate  final  NDVI value.</td>\n",
       "    </tr>\n",
       "    <tr>\n",
       "      <th>8</th>\n",
       "      <td>SJER</td>\n",
       "      <td>Get Date  From  Landsat  dir  name</td>\n",
       "      <td>Calculate  final  NDVI value.</td>\n",
       "    </tr>\n",
       "    <tr>\n",
       "      <th>9</th>\n",
       "      <td>SJER</td>\n",
       "      <td>Get Date  From  Landsat  dir  name</td>\n",
       "      <td>Calculate  final  NDVI value.</td>\n",
       "    </tr>\n",
       "    <tr>\n",
       "      <th>10</th>\n",
       "      <td>SJER</td>\n",
       "      <td>Get Date  From  Landsat  dir  name</td>\n",
       "      <td>Calculate  final  NDVI value.</td>\n",
       "    </tr>\n",
       "    <tr>\n",
       "      <th>11</th>\n",
       "      <td>SJER</td>\n",
       "      <td>Get Date  From  Landsat  dir  name</td>\n",
       "      <td>Calculate  final  NDVI value.</td>\n",
       "    </tr>\n",
       "    <tr>\n",
       "      <th>12</th>\n",
       "      <td>SJER</td>\n",
       "      <td>Get Date  From  Landsat  dir  name</td>\n",
       "      <td>Calculate  final  NDVI value.</td>\n",
       "    </tr>\n",
       "    <tr>\n",
       "      <th>13</th>\n",
       "      <td>SJER</td>\n",
       "      <td>Get Date  From  Landsat  dir  name</td>\n",
       "      <td>Calculate  final  NDVI value.</td>\n",
       "    </tr>\n",
       "    <tr>\n",
       "      <th>14</th>\n",
       "      <td>SJER</td>\n",
       "      <td>Get Date  From  Landsat  dir  name</td>\n",
       "      <td>Calculate  final  NDVI value.</td>\n",
       "    </tr>\n",
       "    <tr>\n",
       "      <th>15</th>\n",
       "      <td>SJER</td>\n",
       "      <td>Get Date  From  Landsat  dir  name</td>\n",
       "      <td>Calculate  final  NDVI value.</td>\n",
       "    </tr>\n",
       "    <tr>\n",
       "      <th>16</th>\n",
       "      <td>SJER</td>\n",
       "      <td>Get Date  From  Landsat  dir  name</td>\n",
       "      <td>Calculate  final  NDVI value.</td>\n",
       "    </tr>\n",
       "    <tr>\n",
       "      <th>17</th>\n",
       "      <td>SJER</td>\n",
       "      <td>Get Date  From  Landsat  dir  name</td>\n",
       "      <td>Calculate  final  NDVI value.</td>\n",
       "    </tr>\n",
       "    <tr>\n",
       "      <th>18</th>\n",
       "      <td>SJER</td>\n",
       "      <td>Get Date  From  Landsat  dir  name</td>\n",
       "      <td>Calculate  final  NDVI value.</td>\n",
       "    </tr>\n",
       "    <tr>\n",
       "      <th>19</th>\n",
       "      <td>SJER</td>\n",
       "      <td>Get Date  From  Landsat  dir  name</td>\n",
       "      <td>Calculate  final  NDVI value.</td>\n",
       "    </tr>\n",
       "    <tr>\n",
       "      <th>20</th>\n",
       "      <td>SJER</td>\n",
       "      <td>Get Date  From  Landsat  dir  name</td>\n",
       "      <td>Calculate  final  NDVI value.</td>\n",
       "    </tr>\n",
       "    <tr>\n",
       "      <th>21</th>\n",
       "      <td>SJER</td>\n",
       "      <td>Get Date  From  Landsat  dir  name</td>\n",
       "      <td>Calculate  final  NDVI value.</td>\n",
       "    </tr>\n",
       "    <tr>\n",
       "      <th>22</th>\n",
       "      <td>SJER</td>\n",
       "      <td>Get Date  From  Landsat  dir  name</td>\n",
       "      <td>Calculate  final  NDVI value.</td>\n",
       "    </tr>\n",
       "    <tr>\n",
       "      <th>23</th>\n",
       "      <td>HARV</td>\n",
       "      <td>Get Date  From  Landsat  dir  name</td>\n",
       "      <td>Calculate  final  NDVI value.</td>\n",
       "    </tr>\n",
       "    <tr>\n",
       "      <th>24</th>\n",
       "      <td>HARV</td>\n",
       "      <td>Get Date  From  Landsat  dir  name</td>\n",
       "      <td>Calculate  final  NDVI value.</td>\n",
       "    </tr>\n",
       "    <tr>\n",
       "      <th>25</th>\n",
       "      <td>HARV</td>\n",
       "      <td>Get Date  From  Landsat  dir  name</td>\n",
       "      <td>Calculate  final  NDVI value.</td>\n",
       "    </tr>\n",
       "    <tr>\n",
       "      <th>26</th>\n",
       "      <td>HARV</td>\n",
       "      <td>Get Date  From  Landsat  dir  name</td>\n",
       "      <td>Calculate  final  NDVI value.</td>\n",
       "    </tr>\n",
       "    <tr>\n",
       "      <th>27</th>\n",
       "      <td>HARV</td>\n",
       "      <td>Get Date  From  Landsat  dir  name</td>\n",
       "      <td>Calculate  final  NDVI value.</td>\n",
       "    </tr>\n",
       "    <tr>\n",
       "      <th>28</th>\n",
       "      <td>HARV</td>\n",
       "      <td>Get Date  From  Landsat  dir  name</td>\n",
       "      <td>Calculate  final  NDVI value.</td>\n",
       "    </tr>\n",
       "    <tr>\n",
       "      <th>29</th>\n",
       "      <td>HARV</td>\n",
       "      <td>Get Date  From  Landsat  dir  name</td>\n",
       "      <td>Calculate  final  NDVI value.</td>\n",
       "    </tr>\n",
       "    <tr>\n",
       "      <th>30</th>\n",
       "      <td>HARV</td>\n",
       "      <td>Get Date  From  Landsat  dir  name</td>\n",
       "      <td>Calculate  final  NDVI value.</td>\n",
       "    </tr>\n",
       "    <tr>\n",
       "      <th>31</th>\n",
       "      <td>HARV</td>\n",
       "      <td>Get Date  From  Landsat  dir  name</td>\n",
       "      <td>Calculate  final  NDVI value.</td>\n",
       "    </tr>\n",
       "    <tr>\n",
       "      <th>32</th>\n",
       "      <td>HARV</td>\n",
       "      <td>Get Date  From  Landsat  dir  name</td>\n",
       "      <td>Calculate  final  NDVI value.</td>\n",
       "    </tr>\n",
       "    <tr>\n",
       "      <th>33</th>\n",
       "      <td>HARV</td>\n",
       "      <td>Get Date  From  Landsat  dir  name</td>\n",
       "      <td>Calculate  final  NDVI value.</td>\n",
       "    </tr>\n",
       "    <tr>\n",
       "      <th>34</th>\n",
       "      <td>HARV</td>\n",
       "      <td>Get Date  From  Landsat  dir  name</td>\n",
       "      <td>Calculate  final  NDVI value.</td>\n",
       "    </tr>\n",
       "    <tr>\n",
       "      <th>35</th>\n",
       "      <td>HARV</td>\n",
       "      <td>Get Date  From  Landsat  dir  name</td>\n",
       "      <td>Calculate  final  NDVI value.</td>\n",
       "    </tr>\n",
       "    <tr>\n",
       "      <th>36</th>\n",
       "      <td>HARV</td>\n",
       "      <td>Get Date  From  Landsat  dir  name</td>\n",
       "      <td>Calculate  final  NDVI value.</td>\n",
       "    </tr>\n",
       "    <tr>\n",
       "      <th>37</th>\n",
       "      <td>HARV</td>\n",
       "      <td>Get Date  From  Landsat  dir  name</td>\n",
       "      <td>Calculate  final  NDVI value.</td>\n",
       "    </tr>\n",
       "    <tr>\n",
       "      <th>38</th>\n",
       "      <td>HARV</td>\n",
       "      <td>Get Date  From  Landsat  dir  name</td>\n",
       "      <td>Calculate  final  NDVI value.</td>\n",
       "    </tr>\n",
       "    <tr>\n",
       "      <th>39</th>\n",
       "      <td>HARV</td>\n",
       "      <td>Get Date  From  Landsat  dir  name</td>\n",
       "      <td>Calculate  final  NDVI value.</td>\n",
       "    </tr>\n",
       "    <tr>\n",
       "      <th>40</th>\n",
       "      <td>HARV</td>\n",
       "      <td>Get Date  From  Landsat  dir  name</td>\n",
       "      <td>Calculate  final  NDVI value.</td>\n",
       "    </tr>\n",
       "    <tr>\n",
       "      <th>41</th>\n",
       "      <td>HARV</td>\n",
       "      <td>Get Date  From  Landsat  dir  name</td>\n",
       "      <td>Calculate  final  NDVI value.</td>\n",
       "    </tr>\n",
       "    <tr>\n",
       "      <th>42</th>\n",
       "      <td>HARV</td>\n",
       "      <td>Get Date  From  Landsat  dir  name</td>\n",
       "      <td>Calculate  final  NDVI value.</td>\n",
       "    </tr>\n",
       "    <tr>\n",
       "      <th>43</th>\n",
       "      <td>HARV</td>\n",
       "      <td>Get Date  From  Landsat  dir  name</td>\n",
       "      <td>Calculate  final  NDVI value.</td>\n",
       "    </tr>\n",
       "    <tr>\n",
       "      <th>44</th>\n",
       "      <td>HARV</td>\n",
       "      <td>Get Date  From  Landsat  dir  name</td>\n",
       "      <td>Calculate  final  NDVI value.</td>\n",
       "    </tr>\n",
       "    <tr>\n",
       "      <th>45</th>\n",
       "      <td>HARV</td>\n",
       "      <td>Get Date  From  Landsat  dir  name</td>\n",
       "      <td>Calculate  final  NDVI value.</td>\n",
       "    </tr>\n",
       "  </tbody>\n",
       "</table>\n",
       "</div>"
      ],
      "text/plain": [
       "       0                                   1                               2\n",
       "0   SJER  Get Date  From  Landsat  dir  name  Calculate  final  NDVI value. \n",
       "1   SJER  Get Date  From  Landsat  dir  name  Calculate  final  NDVI value. \n",
       "2   SJER  Get Date  From  Landsat  dir  name  Calculate  final  NDVI value. \n",
       "3   SJER  Get Date  From  Landsat  dir  name  Calculate  final  NDVI value. \n",
       "4   SJER  Get Date  From  Landsat  dir  name  Calculate  final  NDVI value. \n",
       "5   SJER  Get Date  From  Landsat  dir  name  Calculate  final  NDVI value. \n",
       "6   SJER  Get Date  From  Landsat  dir  name  Calculate  final  NDVI value. \n",
       "7   SJER  Get Date  From  Landsat  dir  name  Calculate  final  NDVI value. \n",
       "8   SJER  Get Date  From  Landsat  dir  name  Calculate  final  NDVI value. \n",
       "9   SJER  Get Date  From  Landsat  dir  name  Calculate  final  NDVI value. \n",
       "10  SJER  Get Date  From  Landsat  dir  name  Calculate  final  NDVI value. \n",
       "11  SJER  Get Date  From  Landsat  dir  name  Calculate  final  NDVI value. \n",
       "12  SJER  Get Date  From  Landsat  dir  name  Calculate  final  NDVI value. \n",
       "13  SJER  Get Date  From  Landsat  dir  name  Calculate  final  NDVI value. \n",
       "14  SJER  Get Date  From  Landsat  dir  name  Calculate  final  NDVI value. \n",
       "15  SJER  Get Date  From  Landsat  dir  name  Calculate  final  NDVI value. \n",
       "16  SJER  Get Date  From  Landsat  dir  name  Calculate  final  NDVI value. \n",
       "17  SJER  Get Date  From  Landsat  dir  name  Calculate  final  NDVI value. \n",
       "18  SJER  Get Date  From  Landsat  dir  name  Calculate  final  NDVI value. \n",
       "19  SJER  Get Date  From  Landsat  dir  name  Calculate  final  NDVI value. \n",
       "20  SJER  Get Date  From  Landsat  dir  name  Calculate  final  NDVI value. \n",
       "21  SJER  Get Date  From  Landsat  dir  name  Calculate  final  NDVI value. \n",
       "22  SJER  Get Date  From  Landsat  dir  name  Calculate  final  NDVI value. \n",
       "23  HARV  Get Date  From  Landsat  dir  name  Calculate  final  NDVI value. \n",
       "24  HARV  Get Date  From  Landsat  dir  name  Calculate  final  NDVI value. \n",
       "25  HARV  Get Date  From  Landsat  dir  name  Calculate  final  NDVI value. \n",
       "26  HARV  Get Date  From  Landsat  dir  name  Calculate  final  NDVI value. \n",
       "27  HARV  Get Date  From  Landsat  dir  name  Calculate  final  NDVI value. \n",
       "28  HARV  Get Date  From  Landsat  dir  name  Calculate  final  NDVI value. \n",
       "29  HARV  Get Date  From  Landsat  dir  name  Calculate  final  NDVI value. \n",
       "30  HARV  Get Date  From  Landsat  dir  name  Calculate  final  NDVI value. \n",
       "31  HARV  Get Date  From  Landsat  dir  name  Calculate  final  NDVI value. \n",
       "32  HARV  Get Date  From  Landsat  dir  name  Calculate  final  NDVI value. \n",
       "33  HARV  Get Date  From  Landsat  dir  name  Calculate  final  NDVI value. \n",
       "34  HARV  Get Date  From  Landsat  dir  name  Calculate  final  NDVI value. \n",
       "35  HARV  Get Date  From  Landsat  dir  name  Calculate  final  NDVI value. \n",
       "36  HARV  Get Date  From  Landsat  dir  name  Calculate  final  NDVI value. \n",
       "37  HARV  Get Date  From  Landsat  dir  name  Calculate  final  NDVI value. \n",
       "38  HARV  Get Date  From  Landsat  dir  name  Calculate  final  NDVI value. \n",
       "39  HARV  Get Date  From  Landsat  dir  name  Calculate  final  NDVI value. \n",
       "40  HARV  Get Date  From  Landsat  dir  name  Calculate  final  NDVI value. \n",
       "41  HARV  Get Date  From  Landsat  dir  name  Calculate  final  NDVI value. \n",
       "42  HARV  Get Date  From  Landsat  dir  name  Calculate  final  NDVI value. \n",
       "43  HARV  Get Date  From  Landsat  dir  name  Calculate  final  NDVI value. \n",
       "44  HARV  Get Date  From  Landsat  dir  name  Calculate  final  NDVI value. \n",
       "45  HARV  Get Date  From  Landsat  dir  name  Calculate  final  NDVI value. "
      ]
     },
     "execution_count": 29,
     "metadata": {},
     "output_type": "execute_result"
    }
   ],
   "source": [
    "#  Import should  be at the top !\n",
    "import pandas as  pd\n",
    "\n",
    "#  Create  final  dataframe\n",
    "pd.DataFrame(ndvi_list)"
   ]
  },
  {
   "cell_type": "code",
   "execution_count": 30,
   "metadata": {},
   "outputs": [
    {
     "data": {
      "text/html": [
       "<div>\n",
       "<style scoped>\n",
       "    .dataframe tbody tr th:only-of-type {\n",
       "        vertical-align: middle;\n",
       "    }\n",
       "\n",
       "    .dataframe tbody tr th {\n",
       "        vertical-align: top;\n",
       "    }\n",
       "\n",
       "    .dataframe thead th {\n",
       "        text-align: right;\n",
       "    }\n",
       "</style>\n",
       "<table border=\"1\" class=\"dataframe\">\n",
       "  <thead>\n",
       "    <tr style=\"text-align: right;\">\n",
       "      <th></th>\n",
       "      <th>site</th>\n",
       "      <th>date</th>\n",
       "      <th>ndvi</th>\n",
       "    </tr>\n",
       "  </thead>\n",
       "  <tbody>\n",
       "    <tr>\n",
       "      <th>0</th>\n",
       "      <td>SJER</td>\n",
       "      <td>Get Date  From  Landsat  dir  name</td>\n",
       "      <td>Calculate  final  NDVI value.</td>\n",
       "    </tr>\n",
       "    <tr>\n",
       "      <th>1</th>\n",
       "      <td>SJER</td>\n",
       "      <td>Get Date  From  Landsat  dir  name</td>\n",
       "      <td>Calculate  final  NDVI value.</td>\n",
       "    </tr>\n",
       "    <tr>\n",
       "      <th>2</th>\n",
       "      <td>SJER</td>\n",
       "      <td>Get Date  From  Landsat  dir  name</td>\n",
       "      <td>Calculate  final  NDVI value.</td>\n",
       "    </tr>\n",
       "    <tr>\n",
       "      <th>3</th>\n",
       "      <td>SJER</td>\n",
       "      <td>Get Date  From  Landsat  dir  name</td>\n",
       "      <td>Calculate  final  NDVI value.</td>\n",
       "    </tr>\n",
       "    <tr>\n",
       "      <th>4</th>\n",
       "      <td>SJER</td>\n",
       "      <td>Get Date  From  Landsat  dir  name</td>\n",
       "      <td>Calculate  final  NDVI value.</td>\n",
       "    </tr>\n",
       "    <tr>\n",
       "      <th>5</th>\n",
       "      <td>SJER</td>\n",
       "      <td>Get Date  From  Landsat  dir  name</td>\n",
       "      <td>Calculate  final  NDVI value.</td>\n",
       "    </tr>\n",
       "    <tr>\n",
       "      <th>6</th>\n",
       "      <td>SJER</td>\n",
       "      <td>Get Date  From  Landsat  dir  name</td>\n",
       "      <td>Calculate  final  NDVI value.</td>\n",
       "    </tr>\n",
       "    <tr>\n",
       "      <th>7</th>\n",
       "      <td>SJER</td>\n",
       "      <td>Get Date  From  Landsat  dir  name</td>\n",
       "      <td>Calculate  final  NDVI value.</td>\n",
       "    </tr>\n",
       "    <tr>\n",
       "      <th>8</th>\n",
       "      <td>SJER</td>\n",
       "      <td>Get Date  From  Landsat  dir  name</td>\n",
       "      <td>Calculate  final  NDVI value.</td>\n",
       "    </tr>\n",
       "    <tr>\n",
       "      <th>9</th>\n",
       "      <td>SJER</td>\n",
       "      <td>Get Date  From  Landsat  dir  name</td>\n",
       "      <td>Calculate  final  NDVI value.</td>\n",
       "    </tr>\n",
       "    <tr>\n",
       "      <th>10</th>\n",
       "      <td>SJER</td>\n",
       "      <td>Get Date  From  Landsat  dir  name</td>\n",
       "      <td>Calculate  final  NDVI value.</td>\n",
       "    </tr>\n",
       "    <tr>\n",
       "      <th>11</th>\n",
       "      <td>SJER</td>\n",
       "      <td>Get Date  From  Landsat  dir  name</td>\n",
       "      <td>Calculate  final  NDVI value.</td>\n",
       "    </tr>\n",
       "    <tr>\n",
       "      <th>12</th>\n",
       "      <td>SJER</td>\n",
       "      <td>Get Date  From  Landsat  dir  name</td>\n",
       "      <td>Calculate  final  NDVI value.</td>\n",
       "    </tr>\n",
       "    <tr>\n",
       "      <th>13</th>\n",
       "      <td>SJER</td>\n",
       "      <td>Get Date  From  Landsat  dir  name</td>\n",
       "      <td>Calculate  final  NDVI value.</td>\n",
       "    </tr>\n",
       "    <tr>\n",
       "      <th>14</th>\n",
       "      <td>SJER</td>\n",
       "      <td>Get Date  From  Landsat  dir  name</td>\n",
       "      <td>Calculate  final  NDVI value.</td>\n",
       "    </tr>\n",
       "    <tr>\n",
       "      <th>15</th>\n",
       "      <td>SJER</td>\n",
       "      <td>Get Date  From  Landsat  dir  name</td>\n",
       "      <td>Calculate  final  NDVI value.</td>\n",
       "    </tr>\n",
       "    <tr>\n",
       "      <th>16</th>\n",
       "      <td>SJER</td>\n",
       "      <td>Get Date  From  Landsat  dir  name</td>\n",
       "      <td>Calculate  final  NDVI value.</td>\n",
       "    </tr>\n",
       "    <tr>\n",
       "      <th>17</th>\n",
       "      <td>SJER</td>\n",
       "      <td>Get Date  From  Landsat  dir  name</td>\n",
       "      <td>Calculate  final  NDVI value.</td>\n",
       "    </tr>\n",
       "    <tr>\n",
       "      <th>18</th>\n",
       "      <td>SJER</td>\n",
       "      <td>Get Date  From  Landsat  dir  name</td>\n",
       "      <td>Calculate  final  NDVI value.</td>\n",
       "    </tr>\n",
       "    <tr>\n",
       "      <th>19</th>\n",
       "      <td>SJER</td>\n",
       "      <td>Get Date  From  Landsat  dir  name</td>\n",
       "      <td>Calculate  final  NDVI value.</td>\n",
       "    </tr>\n",
       "    <tr>\n",
       "      <th>20</th>\n",
       "      <td>SJER</td>\n",
       "      <td>Get Date  From  Landsat  dir  name</td>\n",
       "      <td>Calculate  final  NDVI value.</td>\n",
       "    </tr>\n",
       "    <tr>\n",
       "      <th>21</th>\n",
       "      <td>SJER</td>\n",
       "      <td>Get Date  From  Landsat  dir  name</td>\n",
       "      <td>Calculate  final  NDVI value.</td>\n",
       "    </tr>\n",
       "    <tr>\n",
       "      <th>22</th>\n",
       "      <td>SJER</td>\n",
       "      <td>Get Date  From  Landsat  dir  name</td>\n",
       "      <td>Calculate  final  NDVI value.</td>\n",
       "    </tr>\n",
       "    <tr>\n",
       "      <th>23</th>\n",
       "      <td>HARV</td>\n",
       "      <td>Get Date  From  Landsat  dir  name</td>\n",
       "      <td>Calculate  final  NDVI value.</td>\n",
       "    </tr>\n",
       "    <tr>\n",
       "      <th>24</th>\n",
       "      <td>HARV</td>\n",
       "      <td>Get Date  From  Landsat  dir  name</td>\n",
       "      <td>Calculate  final  NDVI value.</td>\n",
       "    </tr>\n",
       "    <tr>\n",
       "      <th>25</th>\n",
       "      <td>HARV</td>\n",
       "      <td>Get Date  From  Landsat  dir  name</td>\n",
       "      <td>Calculate  final  NDVI value.</td>\n",
       "    </tr>\n",
       "    <tr>\n",
       "      <th>26</th>\n",
       "      <td>HARV</td>\n",
       "      <td>Get Date  From  Landsat  dir  name</td>\n",
       "      <td>Calculate  final  NDVI value.</td>\n",
       "    </tr>\n",
       "    <tr>\n",
       "      <th>27</th>\n",
       "      <td>HARV</td>\n",
       "      <td>Get Date  From  Landsat  dir  name</td>\n",
       "      <td>Calculate  final  NDVI value.</td>\n",
       "    </tr>\n",
       "    <tr>\n",
       "      <th>28</th>\n",
       "      <td>HARV</td>\n",
       "      <td>Get Date  From  Landsat  dir  name</td>\n",
       "      <td>Calculate  final  NDVI value.</td>\n",
       "    </tr>\n",
       "    <tr>\n",
       "      <th>29</th>\n",
       "      <td>HARV</td>\n",
       "      <td>Get Date  From  Landsat  dir  name</td>\n",
       "      <td>Calculate  final  NDVI value.</td>\n",
       "    </tr>\n",
       "    <tr>\n",
       "      <th>30</th>\n",
       "      <td>HARV</td>\n",
       "      <td>Get Date  From  Landsat  dir  name</td>\n",
       "      <td>Calculate  final  NDVI value.</td>\n",
       "    </tr>\n",
       "    <tr>\n",
       "      <th>31</th>\n",
       "      <td>HARV</td>\n",
       "      <td>Get Date  From  Landsat  dir  name</td>\n",
       "      <td>Calculate  final  NDVI value.</td>\n",
       "    </tr>\n",
       "    <tr>\n",
       "      <th>32</th>\n",
       "      <td>HARV</td>\n",
       "      <td>Get Date  From  Landsat  dir  name</td>\n",
       "      <td>Calculate  final  NDVI value.</td>\n",
       "    </tr>\n",
       "    <tr>\n",
       "      <th>33</th>\n",
       "      <td>HARV</td>\n",
       "      <td>Get Date  From  Landsat  dir  name</td>\n",
       "      <td>Calculate  final  NDVI value.</td>\n",
       "    </tr>\n",
       "    <tr>\n",
       "      <th>34</th>\n",
       "      <td>HARV</td>\n",
       "      <td>Get Date  From  Landsat  dir  name</td>\n",
       "      <td>Calculate  final  NDVI value.</td>\n",
       "    </tr>\n",
       "    <tr>\n",
       "      <th>35</th>\n",
       "      <td>HARV</td>\n",
       "      <td>Get Date  From  Landsat  dir  name</td>\n",
       "      <td>Calculate  final  NDVI value.</td>\n",
       "    </tr>\n",
       "    <tr>\n",
       "      <th>36</th>\n",
       "      <td>HARV</td>\n",
       "      <td>Get Date  From  Landsat  dir  name</td>\n",
       "      <td>Calculate  final  NDVI value.</td>\n",
       "    </tr>\n",
       "    <tr>\n",
       "      <th>37</th>\n",
       "      <td>HARV</td>\n",
       "      <td>Get Date  From  Landsat  dir  name</td>\n",
       "      <td>Calculate  final  NDVI value.</td>\n",
       "    </tr>\n",
       "    <tr>\n",
       "      <th>38</th>\n",
       "      <td>HARV</td>\n",
       "      <td>Get Date  From  Landsat  dir  name</td>\n",
       "      <td>Calculate  final  NDVI value.</td>\n",
       "    </tr>\n",
       "    <tr>\n",
       "      <th>39</th>\n",
       "      <td>HARV</td>\n",
       "      <td>Get Date  From  Landsat  dir  name</td>\n",
       "      <td>Calculate  final  NDVI value.</td>\n",
       "    </tr>\n",
       "    <tr>\n",
       "      <th>40</th>\n",
       "      <td>HARV</td>\n",
       "      <td>Get Date  From  Landsat  dir  name</td>\n",
       "      <td>Calculate  final  NDVI value.</td>\n",
       "    </tr>\n",
       "    <tr>\n",
       "      <th>41</th>\n",
       "      <td>HARV</td>\n",
       "      <td>Get Date  From  Landsat  dir  name</td>\n",
       "      <td>Calculate  final  NDVI value.</td>\n",
       "    </tr>\n",
       "    <tr>\n",
       "      <th>42</th>\n",
       "      <td>HARV</td>\n",
       "      <td>Get Date  From  Landsat  dir  name</td>\n",
       "      <td>Calculate  final  NDVI value.</td>\n",
       "    </tr>\n",
       "    <tr>\n",
       "      <th>43</th>\n",
       "      <td>HARV</td>\n",
       "      <td>Get Date  From  Landsat  dir  name</td>\n",
       "      <td>Calculate  final  NDVI value.</td>\n",
       "    </tr>\n",
       "    <tr>\n",
       "      <th>44</th>\n",
       "      <td>HARV</td>\n",
       "      <td>Get Date  From  Landsat  dir  name</td>\n",
       "      <td>Calculate  final  NDVI value.</td>\n",
       "    </tr>\n",
       "    <tr>\n",
       "      <th>45</th>\n",
       "      <td>HARV</td>\n",
       "      <td>Get Date  From  Landsat  dir  name</td>\n",
       "      <td>Calculate  final  NDVI value.</td>\n",
       "    </tr>\n",
       "  </tbody>\n",
       "</table>\n",
       "</div>"
      ],
      "text/plain": [
       "    site                                date                            ndvi\n",
       "0   SJER  Get Date  From  Landsat  dir  name  Calculate  final  NDVI value. \n",
       "1   SJER  Get Date  From  Landsat  dir  name  Calculate  final  NDVI value. \n",
       "2   SJER  Get Date  From  Landsat  dir  name  Calculate  final  NDVI value. \n",
       "3   SJER  Get Date  From  Landsat  dir  name  Calculate  final  NDVI value. \n",
       "4   SJER  Get Date  From  Landsat  dir  name  Calculate  final  NDVI value. \n",
       "5   SJER  Get Date  From  Landsat  dir  name  Calculate  final  NDVI value. \n",
       "6   SJER  Get Date  From  Landsat  dir  name  Calculate  final  NDVI value. \n",
       "7   SJER  Get Date  From  Landsat  dir  name  Calculate  final  NDVI value. \n",
       "8   SJER  Get Date  From  Landsat  dir  name  Calculate  final  NDVI value. \n",
       "9   SJER  Get Date  From  Landsat  dir  name  Calculate  final  NDVI value. \n",
       "10  SJER  Get Date  From  Landsat  dir  name  Calculate  final  NDVI value. \n",
       "11  SJER  Get Date  From  Landsat  dir  name  Calculate  final  NDVI value. \n",
       "12  SJER  Get Date  From  Landsat  dir  name  Calculate  final  NDVI value. \n",
       "13  SJER  Get Date  From  Landsat  dir  name  Calculate  final  NDVI value. \n",
       "14  SJER  Get Date  From  Landsat  dir  name  Calculate  final  NDVI value. \n",
       "15  SJER  Get Date  From  Landsat  dir  name  Calculate  final  NDVI value. \n",
       "16  SJER  Get Date  From  Landsat  dir  name  Calculate  final  NDVI value. \n",
       "17  SJER  Get Date  From  Landsat  dir  name  Calculate  final  NDVI value. \n",
       "18  SJER  Get Date  From  Landsat  dir  name  Calculate  final  NDVI value. \n",
       "19  SJER  Get Date  From  Landsat  dir  name  Calculate  final  NDVI value. \n",
       "20  SJER  Get Date  From  Landsat  dir  name  Calculate  final  NDVI value. \n",
       "21  SJER  Get Date  From  Landsat  dir  name  Calculate  final  NDVI value. \n",
       "22  SJER  Get Date  From  Landsat  dir  name  Calculate  final  NDVI value. \n",
       "23  HARV  Get Date  From  Landsat  dir  name  Calculate  final  NDVI value. \n",
       "24  HARV  Get Date  From  Landsat  dir  name  Calculate  final  NDVI value. \n",
       "25  HARV  Get Date  From  Landsat  dir  name  Calculate  final  NDVI value. \n",
       "26  HARV  Get Date  From  Landsat  dir  name  Calculate  final  NDVI value. \n",
       "27  HARV  Get Date  From  Landsat  dir  name  Calculate  final  NDVI value. \n",
       "28  HARV  Get Date  From  Landsat  dir  name  Calculate  final  NDVI value. \n",
       "29  HARV  Get Date  From  Landsat  dir  name  Calculate  final  NDVI value. \n",
       "30  HARV  Get Date  From  Landsat  dir  name  Calculate  final  NDVI value. \n",
       "31  HARV  Get Date  From  Landsat  dir  name  Calculate  final  NDVI value. \n",
       "32  HARV  Get Date  From  Landsat  dir  name  Calculate  final  NDVI value. \n",
       "33  HARV  Get Date  From  Landsat  dir  name  Calculate  final  NDVI value. \n",
       "34  HARV  Get Date  From  Landsat  dir  name  Calculate  final  NDVI value. \n",
       "35  HARV  Get Date  From  Landsat  dir  name  Calculate  final  NDVI value. \n",
       "36  HARV  Get Date  From  Landsat  dir  name  Calculate  final  NDVI value. \n",
       "37  HARV  Get Date  From  Landsat  dir  name  Calculate  final  NDVI value. \n",
       "38  HARV  Get Date  From  Landsat  dir  name  Calculate  final  NDVI value. \n",
       "39  HARV  Get Date  From  Landsat  dir  name  Calculate  final  NDVI value. \n",
       "40  HARV  Get Date  From  Landsat  dir  name  Calculate  final  NDVI value. \n",
       "41  HARV  Get Date  From  Landsat  dir  name  Calculate  final  NDVI value. \n",
       "42  HARV  Get Date  From  Landsat  dir  name  Calculate  final  NDVI value. \n",
       "43  HARV  Get Date  From  Landsat  dir  name  Calculate  final  NDVI value. \n",
       "44  HARV  Get Date  From  Landsat  dir  name  Calculate  final  NDVI value. \n",
       "45  HARV  Get Date  From  Landsat  dir  name  Calculate  final  NDVI value. "
      ]
     },
     "execution_count": 30,
     "metadata": {},
     "output_type": "execute_result"
    }
   ],
   "source": [
    "#  Create final dataframe and rename columns\n",
    "pd.DataFrame(ndvi_list,\n",
    "            columns=[\"site\",\"date\",\"ndvi\"])"
   ]
  }
 ],
 "metadata": {
  "celltoolbar": "Tags",
  "hide_code_all_hidden": false,
  "kernelspec": {
   "display_name": "Python 3 (ipykernel)",
   "language": "python",
   "name": "python3"
  },
  "language_info": {
   "codemirror_mode": {
    "name": "ipython",
    "version": 3
   },
   "file_extension": ".py",
   "mimetype": "text/x-python",
   "name": "python",
   "nbconvert_exporter": "python",
   "pygments_lexer": "ipython3",
   "version": "3.8.12"
  },
  "toc": {
   "base_numbering": 1,
   "nav_menu": {},
   "number_sections": true,
   "sideBar": true,
   "skip_h1_title": false,
   "title_cell": "Table of Contents",
   "title_sidebar": "Contents",
   "toc_cell": false,
   "toc_position": {},
   "toc_section_display": true,
   "toc_window_display": false
  },
  "varInspector": {
   "cols": {
    "lenName": 16,
    "lenType": 16,
    "lenVar": 40
   },
   "kernels_config": {
    "python": {
     "delete_cmd_postfix": "",
     "delete_cmd_prefix": "del ",
     "library": "var_list.py",
     "varRefreshCmd": "print(var_dic_list())"
    },
    "r": {
     "delete_cmd_postfix": ") ",
     "delete_cmd_prefix": "rm(",
     "library": "var_list.r",
     "varRefreshCmd": "cat(var_dic_list()) "
    }
   },
   "types_to_exclude": [
    "module",
    "function",
    "builtin_function_or_method",
    "instance",
    "_Feature"
   ],
   "window_display": false
  }
 },
 "nbformat": 4,
 "nbformat_minor": 2
}
