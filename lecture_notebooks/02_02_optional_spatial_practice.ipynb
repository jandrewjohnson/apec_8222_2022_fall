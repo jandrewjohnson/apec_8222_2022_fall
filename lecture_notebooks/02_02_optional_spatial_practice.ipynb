{
 "cells": [
  {
   "cell_type": "markdown",
   "metadata": {
    "pycharm": {
     "name": "#%% md\n"
    }
   },
   "source": [
    "# Spatial data in Jupyter\n",
    "\n",
    "For spatial data, the amazing workhorse is GDAL. You might remember this name from RGDAL.\n",
    "The open-source scientific computing stack is all interlinked.\n",
    "\n",
    "We will need to start by ensuring you have gdal. So, open up that anaconda prompt/terminal\n",
    "and do the command \"conda install gdal -c conda-forge\"\n",
    "\n",
    "Now import gdal and load a geotiff as a numpy array using GDAL"
   ]
  },
  {
   "cell_type": "code",
   "execution_count": null,
   "metadata": {
    "pycharm": {
     "name": "#%%\n"
    }
   },
   "outputs": [],
   "source": [
    "from osgeo import gdal\n",
    "import numpy as np\n",
    "import os, random\n",
    "geotiff_path = '../../../Data/maize_Production.tif'"
   ]
  },
  {
   "cell_type": "markdown",
   "metadata": {
    "pycharm": {
     "name": "#%% md\n"
    }
   },
   "source": [
    "First, open the gdal dataset"
   ]
  },
  {
   "cell_type": "code",
   "execution_count": null,
   "metadata": {
    "pycharm": {
     "name": "#%%\n"
    }
   },
   "outputs": [],
   "source": [
    "maize_production_tons_per_cell = gdal.Open(geotiff_path)\n",
    "print(maize_production_tons_per_cell)"
   ]
  },
  {
   "cell_type": "markdown",
   "metadata": {
    "pycharm": {
     "name": "#%% md\n"
    }
   },
   "source": [
    "The dataset object holds information about the area and extent of the data, or the geotransform information"
   ]
  },
  {
   "cell_type": "code",
   "execution_count": null,
   "metadata": {
    "pycharm": {
     "name": "#%%\n"
    }
   },
   "outputs": [],
   "source": [
    "geotransform = maize_production_tons_per_cell.GetGeoTransform()\n",
    "projection = maize_production_tons_per_cell.GetProjection()\n",
    "\n",
    "print('GDAL dataset geotransform', geotransform)\n",
    "print('GDAL dataset projection', projection)"
   ]
  },
  {
   "cell_type": "markdown",
   "metadata": {},
   "source": [
    "IMPORTANT ANNOYING NOTE: in programming, there are different conventions for identifying a place by rows, cols vs. x, y vs. upper-left, lower-right, etc.\n",
    "Numpy is denoted row, col but gdal is denoted X, Y (which flips the order). Just memorize that row = Y and col = X."
   ]
  },
  {
   "cell_type": "code",
   "execution_count": null,
   "metadata": {
    "pycharm": {
     "name": "#%%\n"
    }
   },
   "outputs": [],
   "source": [
    "n_rows = maize_production_tons_per_cell.RasterYSize\n",
    "print('Number of rows in a GDAL dataset', n_rows)\n",
    "\n",
    "n_cols = maize_production_tons_per_cell.RasterXSize\n",
    "print('Number of columns in a GDAL dataset', n_cols)"
   ]
  },
  {
   "cell_type": "markdown",
   "metadata": {},
   "source": [
    "Next, get the \"band\" of the dataset. Many datasets have multiple layers (e.g. NetCDFs).\n",
    "Geotiffs can have multiple bands but often have just 1. For now, grab band 1"
   ]
  },
  {
   "cell_type": "code",
   "execution_count": null,
   "metadata": {
    "pycharm": {
     "name": "#%%\n"
    }
   },
   "outputs": [],
   "source": [
    "maize_production_tons_per_cell_band = maize_production_tons_per_cell.GetRasterBand(1)"
   ]
  },
  {
   "cell_type": "markdown",
   "metadata": {},
   "source": [
    "The band object has information too, like the datatype of the geotiff:"
   ]
  },
  {
   "cell_type": "code",
   "execution_count": null,
   "metadata": {
    "pycharm": {
     "name": "#%%\n"
    }
   },
   "outputs": [],
   "source": [
    "data_type = maize_production_tons_per_cell_band.DataType\n",
    "no_data_value = maize_production_tons_per_cell_band.GetNoDataValue()\n",
    "\n",
    "print('data_type', data_type)\n",
    "print('no_data_value', no_data_value)"
   ]
  },
  {
   "cell_type": "markdown",
   "metadata": {},
   "source": [
    "Finally, we can get the array from the band as a numpy array:"
   ]
  },
  {
   "cell_type": "code",
   "execution_count": null,
   "metadata": {
    "pycharm": {
     "name": "#%%\n"
    }
   },
   "outputs": [],
   "source": [
    "array = maize_production_tons_per_cell_band.ReadAsArray()\n",
    "shape = array.shape\n",
    "\n",
    "print('Look at the array itself', array)"
   ]
  },
  {
   "cell_type": "markdown",
   "metadata": {
    "pycharm": {
     "name": "#%% md\n"
    }
   },
   "source": [
    "But let's make it pretty."
   ]
  },
  {
   "cell_type": "code",
   "execution_count": null,
   "metadata": {
    "pycharm": {
     "name": "#%%\n"
    }
   },
   "outputs": [],
   "source": [
    "\n",
    "import matplotlib.pyplot as plt\n",
    "\n",
    "plt.imshow(array)\n",
    "plt.title('Maize production')\n",
    "\n",
    "# COMMON MISTAKE HERE: plt.show() will clear what's in plt, so if you want to save it, do so before the plt.show()\n",
    "plt.savefig('maize.png', dpi=300) \n",
    "plt.show()"
   ]
  },
  {
   "cell_type": "markdown",
   "metadata": {},
   "source": [
    "Other things you can do are use the numpy vectorized (fast) functions just like with Pandas.\n",
    "However, spatial data often have Not-a-Number NaN Values"
   ]
  },
  {
   "cell_type": "code",
   "execution_count": null,
   "metadata": {
    "pycharm": {
     "name": "#%%\n"
    }
   },
   "outputs": [],
   "source": [
    "print('Add up the array', np.sum(array))"
   ]
  },
  {
   "cell_type": "markdown",
   "metadata": {},
   "source": [
    "We can fix this with np.nansum()"
   ]
  },
  {
   "cell_type": "code",
   "execution_count": null,
   "metadata": {
    "pycharm": {
     "name": "#%%\n"
    }
   },
   "outputs": [],
   "source": [
    "print('Add up the nan array', np.nansum(array))"
   ]
  },
  {
   "cell_type": "markdown",
   "metadata": {},
   "source": [
    "Additionally, we could do it manually by\n",
    "creating a logical mask array, which would have a True False value for each pixel\n",
    "depending on nan status. Numpy of course has a builtin functino for this."
   ]
  },
  {
   "cell_type": "code",
   "execution_count": null,
   "metadata": {
    "pycharm": {
     "name": "#%%\n"
    }
   },
   "outputs": [],
   "source": [
    "mask = np.isnan(array)"
   ]
  },
  {
   "cell_type": "markdown",
   "metadata": {},
   "source": [
    "You could also use this mask to assign a value. Here we replace all NaNs with zero"
   ]
  },
  {
   "cell_type": "code",
   "execution_count": null,
   "metadata": {
    "pycharm": {
     "name": "#%%\n"
    }
   },
   "outputs": [],
   "source": [
    "array[mask] = 0.0"
   ]
  },
  {
   "cell_type": "code",
   "execution_count": null,
   "metadata": {
    "pycharm": {
     "name": "#%%\n"
    }
   },
   "outputs": [],
   "source": [
    "print('Add up the masked array', np.sum(array))"
   ]
  },
  {
   "cell_type": "code",
   "execution_count": null,
   "metadata": {
    "pycharm": {
     "name": "#%%\n"
    }
   },
   "outputs": [],
   "source": [
    "array = np.where(mask, 0, array)"
   ]
  },
  {
   "cell_type": "code",
   "execution_count": null,
   "metadata": {
    "pycharm": {
     "name": "#%%\n"
    }
   },
   "outputs": [],
   "source": [
    "plt.imshow(array)\n",
    "plt.show()"
   ]
  },
  {
   "cell_type": "markdown",
   "metadata": {},
   "source": [
    "A common task is to want to see each unique value in an array. As below."
   ]
  },
  {
   "cell_type": "code",
   "execution_count": null,
   "metadata": {},
   "outputs": [],
   "source": [
    "values, counts = np.unique(array, return_counts=True)\n",
    "print(values)\n",
    "print(counts)"
   ]
  },
  {
   "cell_type": "markdown",
   "metadata": {},
   "source": [
    "# BIG DATA IMPLICATION: Copies versus Views in mumpy.\n",
    "Make a copy in memory for us to play with.\n",
    "NOTE that if we just did c_view = c and then modified c_view,\n",
    "the c array would also be changed.\n",
    "\n",
    "This only creates a new pointer to the same block of memory on your computer that holds the array. If we change c_view, c will also be changed."
   ]
  },
  {
   "cell_type": "code",
   "execution_count": null,
   "metadata": {
    "pycharm": {
     "name": "#%%\n"
    }
   },
   "outputs": [],
   "source": [
    "c_view = array"
   ]
  },
  {
   "cell_type": "markdown",
   "metadata": {},
   "source": [
    "This gives us a NEW array in a new block of memory, so changing c_calcs will not change c."
   ]
  },
  {
   "cell_type": "code",
   "execution_count": null,
   "metadata": {
    "pycharm": {
     "name": "#%%\n"
    }
   },
   "outputs": [],
   "source": [
    "d = array.copy()"
   ]
  },
  {
   "cell_type": "markdown",
   "metadata": {
    "pycharm": {
     "name": "#%% md\n"
    }
   },
   "source": [
    "QUICK REVIEW ON ARRAY NOTATION, which is identical from before for 2-dim arrays.\n",
    "Get specific elements in the array with [row, col]\n",
    "specific_value = d[400, 500]\n",
    "\n",
    "Or you can get values between a range of rows and cols with :\n",
    "chunk_of_array = d[1000:1100, 1600:1700] # This would give you a 100 by 100 subarray\n",
    "\n",
    " Note, unlike vanilla python, Numpy conditionals here must use & and must be in parenthases.\n",
    "d[(d > 200) & (d < 10000)] = 33"
   ]
  },
  {
   "cell_type": "code",
   "execution_count": null,
   "metadata": {
    "pycharm": {
     "name": "#%%\n"
    }
   },
   "outputs": [],
   "source": [
    "print('The sum of d after we messed with it', np.sum(d))"
   ]
  },
  {
   "cell_type": "markdown",
   "metadata": {},
   "source": [
    "Save the as a new geotiff to disk\n",
    "\n",
    "Create a new filename for our output file. The + concatenates things. Str() makes the number a string.\n",
    "This is one of those cases where python wouldn't correctly guess the data type"
   ]
  },
  {
   "cell_type": "code",
   "execution_count": null,
   "metadata": {
    "pycharm": {
     "name": "#%%\n"
    }
   },
   "outputs": [],
   "source": [
    "output_filename = 'gdal_created_array_' + str(random.randint(1, 1000000)) + '.tif'"
   ]
  },
  {
   "cell_type": "markdown",
   "metadata": {},
   "source": [
    "Create a new file at that filename location using the attributes we used above\n",
    "Notice that we flipped n_cols and n_rows from how numpy would have wanted it."
   ]
  },
  {
   "cell_type": "code",
   "execution_count": null,
   "metadata": {
    "pycharm": {
     "name": "#%%\n"
    }
   },
   "outputs": [],
   "source": [
    "output_dataset = gdal.GetDriverByName('GTiff').Create(output_filename, d.shape[1], d.shape[0], 1, 6)"
   ]
  },
  {
   "cell_type": "markdown",
   "metadata": {},
   "source": [
    "Set dataset-level information"
   ]
  },
  {
   "cell_type": "code",
   "execution_count": null,
   "metadata": {
    "pycharm": {
     "name": "#%%\n"
    }
   },
   "outputs": [],
   "source": [
    "output_dataset.SetGeoTransform(geotransform)\n",
    "output_dataset.SetProjection(projection)"
   ]
  },
  {
   "cell_type": "markdown",
   "metadata": {},
   "source": [
    "Now get a band from our new dataset on which we'll write our array."
   ]
  },
  {
   "cell_type": "code",
   "execution_count": null,
   "metadata": {
    "pycharm": {
     "name": "#%%\n"
    }
   },
   "outputs": [],
   "source": [
    "output_band = output_dataset.GetRasterBand(1)"
   ]
  },
  {
   "cell_type": "markdown",
   "metadata": {},
   "source": [
    "Do the array writing"
   ]
  },
  {
   "cell_type": "code",
   "execution_count": null,
   "metadata": {
    "pycharm": {
     "name": "#%%\n"
    }
   },
   "outputs": [],
   "source": [
    "output_band.WriteArray(d)"
   ]
  },
  {
   "cell_type": "markdown",
   "metadata": {},
   "source": [
    "Set any final band-level information"
   ]
  },
  {
   "cell_type": "code",
   "execution_count": null,
   "metadata": {
    "pycharm": {
     "name": "#%%\n"
    }
   },
   "outputs": [],
   "source": [
    "output_band.SetNoDataValue(no_data_value)"
   ]
  },
  {
   "cell_type": "markdown",
   "metadata": {},
   "source": [
    "Finally, and very importantly, clean up after yourself. It wont actually write until the resources in\n",
    "memory have been released."
   ]
  },
  {
   "cell_type": "code",
   "execution_count": null,
   "metadata": {
    "pycharm": {
     "name": "#%%\n"
    }
   },
   "outputs": [],
   "source": [
    "d = None\n",
    "output_band = None\n",
    "output_dataset = None\n",
    "\n",
    "\n",
    "\n",
    "\n"
   ]
  }
 ],
 "metadata": {
  "anaconda-cloud": {},
  "kernelspec": {
   "display_name": "Python 3.10.6 ('8222env1')",
   "language": "python",
   "name": "python3"
  },
  "language_info": {
   "codemirror_mode": {
    "name": "ipython",
    "version": 3
   },
   "file_extension": ".py",
   "mimetype": "text/x-python",
   "name": "python",
   "nbconvert_exporter": "python",
   "pygments_lexer": "ipython3",
   "version": "3.10.6"
  },
  "vscode": {
   "interpreter": {
    "hash": "0db313e0ad7b6749a6d098fb61fddaded88cbd823278030b75fa0893942c8f77"
   }
  }
 },
 "nbformat": 4,
 "nbformat_minor": 1
}
