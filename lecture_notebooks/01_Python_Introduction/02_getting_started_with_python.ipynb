{
 "cells": [
  {
   "cell_type": "markdown",
   "metadata": {},
   "source": [
    "# Python Programming and Big-Data\n",
    "\n",
    "- This notebook contains a very accelerated summary of the basics of python. If this is challenging, please refer to the textbook sections.\n",
    "- Being able to successfully run this also means you have a working Python environment! You now have installed everything you need to run this course.\n",
    "\n",
    "\n",
    "## Python Basics"
   ]
  },
  {
   "cell_type": "code",
   "execution_count": null,
   "metadata": {},
   "outputs": [],
   "source": [
    "# Comments: The hashtag makes the rest of the line a comment. The more programming you do, the more you focus on making good comments.\n",
    "# Jupyter lets you write formatted text, but you'll still want to put comments in the raw python.\n",
    "\n",
    "# Assign some text (a string) to a variable\n",
    "some_text = 'This is the text.'\n",
    "\n",
    "# Assign some numbers to variables\n",
    "a = 5  # Here, we implicitly told python that a is an integer\n",
    "b = 4.6  # Here, we told python that b is a floating point number (a decimal)"
   ]
  },
  {
   "cell_type": "markdown",
   "metadata": {},
   "source": [
    "- Even though nothing is outputted above, our Python \"Kernel\" has the values to each variable stored for later use.\n",
    "\n",
    "### Important note: Python is not a \"typed\" language\n",
    "\n",
    "- Notice that above, we added an integer and the float (a floating point number, i.e., one with a decimal point). Python \"smartly\" redefines variables so that they work together.\n",
    "\n",
    "- This is different from other languages which require you to manually manage the \"types\" of your variables."
   ]
  },
  {
   "cell_type": "code",
   "execution_count": null,
   "metadata": {},
   "outputs": [],
   "source": [
    "# Python as a calculator. \n",
    "sum_of_two_numbers = a + b\n",
    "\n",
    "# Printing output to the console\n",
    "print('Our output was', sum_of_two_numbers)"
   ]
  },
  {
   "cell_type": "markdown",
   "metadata": {},
   "source": [
    "- In the above, you'll notice the result was a float.\n",
    "- If needed, you can demand that python specify something as a certain type, as below."
   ]
  },
  {
   "cell_type": "code",
   "execution_count": null,
   "metadata": {},
   "outputs": [],
   "source": [
    "sum_as_int = int(sum_of_two_numbers)\n",
    "sum_as_int_back_to_float = float(sum_as_int)\n",
    "\n",
    "print('We lost some precision in this operation:', sum_as_int_back_to_float)"
   ]
  },
  {
   "cell_type": "markdown",
   "metadata": {},
   "source": [
    "## Other python types"
   ]
  },
  {
   "cell_type": "code",
   "execution_count": null,
   "metadata": {},
   "outputs": [],
   "source": [
    "# Reminder, this assumes you have setup an envioronment with conda using:\n",
    "list_1 = [4, 5, 6]\n",
    "print('list_1', list_1)\n"
   ]
  },
  {
   "cell_type": "code",
   "execution_count": null,
   "metadata": {},
   "outputs": [],
   "source": [
    "# You can embed lists in lists in lists, etc.\n",
    "list_2 = [[5, 3, 5], [6, 6, 5]]\n",
    "print(list_2)\n"
   ]
  },
  {
   "cell_type": "code",
   "execution_count": null,
   "metadata": {},
   "outputs": [],
   "source": [
    "# Dictionaries\n",
    "dictionary_1 = {23: \"Favorite number\", 24: \"Second favorite number\"}\n",
    "print('dictionary_1', dictionary_1)\n",
    "\n",
    "# Here is a multi line string: (also discusses improved capabilities of an IDE editor)\n",
    "\n",
    "things_you_can_do_in_vs_code_that_you_cant_do_without_an_ide = \"\"\"\n",
    "1.) Move back and forth in your history of cursor positions (using your mouse forward and back buttons)\n",
    "2.) Edit on multiple lines at the same time (hold alt and click new spots)\n",
    "3.) Smartly paste DIFFERENT values\n",
    "4.) Duplicate lines (ctrl-d)\n",
    "5.) Introspection (e.g., jump between function definition and usages)\n",
    "6.) Debugging (Interactively walk through your code one line at a time)\n",
    "7.) Profiling your code (see which lines take the most time to compute.)\n",
    "8.) Keep track of a history of copy-paste items and paste from past copies. (ctrl-shift-v)\n",
    "\"\"\"\n"
   ]
  },
  {
   "cell_type": "markdown",
   "metadata": {},
   "source": [
    "## Looping"
   ]
  },
  {
   "cell_type": "code",
   "execution_count": null,
   "metadata": {},
   "outputs": [],
   "source": [
    "\n",
    "\n",
    "small_range = range(0, 10)\n",
    "print('small_range:', small_range)\n",
    "\n",
    "small_range_as_list = list(range(0, 10))\n",
    "print('small_range_as_list:', small_range_as_list)\n",
    "\n",
    "# Here is a for loop. Also note that python EXPLICITLY USES TAB-LEVEL to denote nested things.\n",
    "# I.e., the inner part of the loop is tabbed 1 level up. Python does not use { like  R.\n",
    "# I LOVE this notation and it's a big part of why python is so pretty and readable.\n",
    "sum = 0 # Set the initial variable values\n",
    "num = 0\n",
    "sum_with_some = 0\n",
    "for i in range(100, 136, 3):\n",
    "    sum = sum + i\n",
    "    num = num + 1\n",
    "\n",
    "    # loop within a loop\n",
    "    for j in range(200, 205):\n",
    "        sum_with_some = sum + j\n",
    "\n",
    "mean = sum / num\n",
    "print('mean', mean)\n"
   ]
  },
  {
   "cell_type": "markdown",
   "metadata": {},
   "source": [
    "\n",
    "## Defining functions"
   ]
  },
  {
   "cell_type": "code",
   "execution_count": null,
   "metadata": {},
   "outputs": [],
   "source": [
    "# Functions\n",
    "def my_function(input_parameter_1, input_parameter_2):\n",
    "    product = input_parameter_1 * input_parameter_2\n",
    "    return product\n",
    "\n",
    "# Use the function\n",
    "value_returned = my_function(2, 7)\n",
    "print(value_returned)"
   ]
  },
  {
   "cell_type": "markdown",
   "metadata": {},
   "source": [
    "## In-class exercise 2.1 \n",
    "\n",
    "Make a function that returns the square of a number. Combine the function  with a loop to calculate the Sum of Squared Numbers from 1 to 100.\n",
    "\n",
    "HINT, ** is the exponent operator in python.\n",
    "\n",
    "BONUS: Make sure you're actually right by inserting a print statement in each step."
   ]
  },
  {
   "cell_type": "code",
   "execution_count": null,
   "metadata": {},
   "outputs": [],
   "source": [
    "# In-class exercise workspace"
   ]
  },
  {
   "cell_type": "markdown",
   "metadata": {},
   "source": [
    "## Importing packages"
   ]
  },
  {
   "cell_type": "code",
   "execution_count": null,
   "metadata": {},
   "outputs": [],
   "source": [
    "\n",
    "# Built-in packages via the Python Standard Library\n",
    "import math\n",
    "import os, sys, time, random\n",
    "\n",
    "# Using imported modules\n",
    "number_rounded_down = math.floor(sum_of_two_numbers)\n",
    "print(number_rounded_down)\n"
   ]
  },
  {
   "cell_type": "markdown",
   "metadata": {},
   "source": [
    "## Using packages from elsewhere\n",
    "\n",
    "When we used Mambaforge, we installed a ton of packages. These were not \"built-in\" to python like the ones above. Here we will import them into our notebook to use.\n",
    "\n",
    "This will also illustrate the use of numpy. We'll use it so much we us the ```as``` code to name it something shorter."
   ]
  },
  {
   "cell_type": "code",
   "execution_count": null,
   "metadata": {},
   "outputs": [],
   "source": [
    "import numpy as np # The as just defines a shorter name\n",
    "\n",
    "# Create an 2 by 3 array of integers\n",
    "small_array = np.array([[5, 3, 5], [6, 6, 5]])\n",
    "\n",
    "print('Here\\'s a small numpy array\\n', small_array)\n",
    "\n",
    "# Sidenote: from above backspace \\ put in front of a character is the\n",
    "# \"escapce character,\" which makes python interpret the next thing as a string or special text operator. \\n makes a line break"
   ]
  },
  {
   "cell_type": "markdown",
   "metadata": {},
   "source": [
    "## Discussion point\n",
    "\n",
    "The array above looks identical to the nested lists we made. It IS NOT! It is a numpy array that is ridiculously fast and can scale up to massive, massive data questions. The optional reading for today (Harris et al. 2020, Nature) discusses how these arrays have formed the backbone of modern scientific computing."
   ]
  },
  {
   "cell_type": "code",
   "execution_count": null,
   "metadata": {},
   "outputs": [],
   "source": [
    "low = 3\n",
    "high = 8\n",
    "shape = (1000, 1000)\n",
    "\n",
    "smallish_random_array = np.random.randint(low, high, shape)\n",
    "\n",
    "print('Here\\'s a slightly larger numpy array\\n', smallish_random_array)\n"
   ]
  },
  {
   "cell_type": "markdown",
   "metadata": {},
   "source": [
    "## Reading a geotiff as a raster\n",
    "\n",
    "The workhorse library at the heart of open-source earth analytics is GDAL (Geospatial Data Abstraction Library). It can read almost any spatial raster type. We're going to use it to load a raster from an old publication of mine (Johnson et al. 2014, PNAS)."
   ]
  },
  {
   "cell_type": "code",
   "execution_count": null,
   "metadata": {},
   "outputs": [],
   "source": [
    "\n",
    "# We will load a geotiff as a numpy array using GDAL\n",
    "from osgeo import gdal\n",
    "\n",
    "# First, we have to point GDAL to where the file is saved. This is remarkably difficult  (at least, as measured by how many hours I have wasted because my code pointed to the wrong place).\n",
    "# A the superior way to manage this is with RELATIVE PATHS. \n",
    "# Here, we define the filename, the directory in relative terms, and then join them together using the os functions.\n",
    "\n",
    "geotiff_filename = 'crop_production_tons_per_cell.tif'\n",
    "data_directory = '../../../Data'\n",
    "geotiff_file_path = os.path.join(data_directory, geotiff_filename)\n",
    "\n",
    "# Sometimes it can be useful to see what is in the directory you've specified (to help you figure out what's going on if it can't find the file)\n",
    "contents = os.listdir(data_directory)\n",
    "print(contents)\n"
   ]
  },
  {
   "cell_type": "code",
   "execution_count": null,
   "metadata": {},
   "outputs": [],
   "source": [
    "# If you want to be super clear, you can actually check if it exists\n",
    "print(os.path.exists(geotiff_file_path))"
   ]
  },
  {
   "cell_type": "code",
   "execution_count": null,
   "metadata": {},
   "outputs": [],
   "source": [
    "\n",
    "# First, open the gdal dataset\n",
    "crop_production_tons_per_cell = gdal.Open(geotiff_file_path)\n",
    "print(crop_production_tons_per_cell)"
   ]
  },
  {
   "cell_type": "code",
   "execution_count": null,
   "metadata": {},
   "outputs": [],
   "source": [
    "\n",
    "# The dataset object holds information about the area and extent of the data, or the geotransform information\n",
    "geotransform = crop_production_tons_per_cell.GetGeoTransform()\n",
    "projection = crop_production_tons_per_cell.GetProjection()\n",
    "print('GDAL dataset geotransform', geotransform)\n"
   ]
  },
  {
   "cell_type": "code",
   "execution_count": null,
   "metadata": {},
   "outputs": [],
   "source": [
    "\n",
    "\n",
    "# IMPORTANT ANNOYING NOTE: in programming, there are different conventions for identifying a place by rows, cols vs. x, y vs. upper-left, lower-right, etc.\n",
    "# Numpy is denoted row, col but gdal is denoted X, Y (which flips the order). Just memorize that row = Y and col = X.\n",
    "\n",
    "n_rows = crop_production_tons_per_cell.RasterYSize\n",
    "print('Number of rows in a GDAL dataset', n_rows)\n",
    "\n",
    "n_cols = crop_production_tons_per_cell.RasterXSize\n",
    "print('Number of columns in a GDAL dataset', n_cols)\n",
    "\n",
    "# Next, get the \"band\" of the dataset. Many datasets have multiple layers (e.g. NetCDFs).\n",
    "# Geotiffs only have 1 band by default, so we just grab band 1\n",
    "carbon_conserved_band = crop_production_tons_per_cell.GetRasterBand(1)\n",
    "\n",
    "# The band object has information too, like the datatype of the geotiff:\n",
    "data_type = carbon_conserved_band.DataType\n",
    "no_data_value = carbon_conserved_band.GetNoDataValue()\n",
    "\n",
    "# Finally, we can get the array from the band as a numpy array:\n",
    "c = carbon_conserved_band.ReadAsArray()\n",
    "shape = c.shape\n",
    "\n",
    "print('Look at the array itself', c)\n",
    "print('Add up the array', np.sum(c))\n"
   ]
  },
  {
   "cell_type": "markdown",
   "metadata": {},
   "source": [
    "## High-performance computing with Numpy"
   ]
  },
  {
   "cell_type": "code",
   "execution_count": null,
   "metadata": {},
   "outputs": [],
   "source": [
    "# Make a copy in memory for us to play with. NOTE that if we just did c_view = c and then modified c_view, the c array would also be changed.\n",
    "c_view = c # This only creates a new pointer to the same block of memory on your computer that holds the array. If we change c_view, c will also be changed.\n",
    "c_calcs = c.copy() # This gives us a NEW array in a new block of memory, so changing c_calcs will not change c.\n",
    "\n",
    "# Get specific elements in the array with [row, col]\n",
    "specific_value = c_calcs[400, 500]\n",
    "\n",
    "# Or you can get values between a range of rows and cols with :\n",
    "chunk_of_array = c_calcs[1000:1100, 1600:1700] # This would give you a 100 by 100 subarray\n",
    "\n",
    "print(chunk_of_array)\n"
   ]
  },
  {
   "cell_type": "code",
   "execution_count": null,
   "metadata": {},
   "outputs": [],
   "source": [
    "print(chunk_of_array.shape)"
   ]
  },
  {
   "cell_type": "code",
   "execution_count": null,
   "metadata": {},
   "outputs": [],
   "source": [
    "\n",
    "# Or you can select out a subset of the array based on a logic conditional\n",
    "conditional_subset = c_calcs[c_calcs>10000]\n",
    "\n",
    "# Note that when we took the conditional subset, the array dimensions no longer made sense (there now are unspecified missing locations).\n",
    "# Numpy deals with this by flattening the array to 1 dimension.\n",
    "print('conditional_subset shape', conditional_subset.shape)\n"
   ]
  },
  {
   "cell_type": "code",
   "execution_count": null,
   "metadata": {},
   "outputs": [],
   "source": [
    "\n",
    "# But, if we don't save it as a new array (and do something like reassigning values), it retains the array's shape.\n",
    "# print('Sum of c_calcs before changing values', np.sum(c_calcs))\n",
    "\n",
    "# Change all values in c_calcs that are > 10000 to 22 IN-PLACE (i.e., changes the underlying c_calcs array).\n",
    "c_calcs[c_calcs>10000] = 22\n",
    "print('Sum of c_calcs after changing values', np.sum(c_calcs))\n"
   ]
  },
  {
   "cell_type": "code",
   "execution_count": null,
   "metadata": {},
   "outputs": [],
   "source": [
    "\n",
    "# Set c_calcs back to the original by taking a new copy\n",
    "c_calcs = c.copy()\n",
    "\n",
    "# If you dont want to overwrite c_calcs, the above method won't work unless you create another copy first.\n",
    "d = c_calcs.copy()\n",
    "\n",
    "d[(d > 200) & (d < 10000)] = 33 # Note, unlike vanilla python, Numpy conditionals here must use & and must be in parenthases.\n",
    "print('The sum of d after we messed with it', np.sum(d))\n"
   ]
  },
  {
   "cell_type": "markdown",
   "metadata": {},
   "source": [
    "## Plotting an array"
   ]
  },
  {
   "cell_type": "code",
   "execution_count": null,
   "metadata": {},
   "outputs": [],
   "source": [
    "\n",
    "# Sightly more complex example\n",
    "# Create a new figure and axes.\n",
    "import matplotlib\n",
    "from matplotlib import pyplot as plt\n",
    "\n",
    "fig, ax = plt.subplots()\n",
    "\n",
    "# Make up some data\n",
    "data = np.clip(np.random.randn(250, 250), -1, 1)\n",
    "\n",
    "# Use the axes object to show the data with a coolwarm colorbar\n",
    "cax = ax.imshow(data, interpolation='nearest', cmap=matplotlib.cm.coolwarm)\n",
    "\n",
    "# Give a title to the axis.\n",
    "ax.set_title('Gaussian noise with vertical colorbar')\n",
    "\n",
    "# Add a colorbar to  the figure\n",
    "cbar = fig.colorbar(cax, ticks=[-1, 0, 1]) # Add colorbar, make sure to specify tick locations to match desired ticklabels\n",
    "\n",
    "# Modify the axes within the colorbar\n",
    "cbar.ax.set_yticklabels(['< -1', '0', '> 1'])  # vertically oriented colorbar\n",
    "\n",
    "# Show it.\n",
    "plt.show()"
   ]
  },
  {
   "cell_type": "code",
   "execution_count": null,
   "metadata": {},
   "outputs": [],
   "source": [
    "\n",
    "# Save the as a new geotiff to disk\n",
    "\n",
    "# Create a new filename for our output file. The + concatenates things. Str() makes the number a string.\n",
    "# This is one of those cases where python wouldn't correctly guess the data type\n",
    "output_filename = 'gdal_created_array_' + str(random.randint(1, 1000000)) + '.tif'\n",
    "output_path = os.path.join(data_directory, output_filename)\n",
    "\n",
    "# Create a new file at that filename location using the attributes we used above\n",
    "# Notice that we flipped n_cols and n_rows from how numpy would have wanted it.\n",
    "output_dataset = gdal.GetDriverByName('GTiff').Create(output_path, n_cols, n_rows, 1, data_type)\n",
    "\n",
    "# Set dataset-level information\n",
    "output_dataset.SetGeoTransform(geotransform)\n",
    "output_dataset.SetProjection(projection)\n",
    "\n",
    "# Now get a band from our new dataset on which we'll write our array.\n",
    "output_band = output_dataset.GetRasterBand(1)\n",
    "\n",
    "# Do the array writing\n",
    "output_band.WriteArray(d)\n",
    "\n",
    "# Set any final band-level information\n",
    "output_band.SetNoDataValue(no_data_value)\n",
    "\n",
    "# Clear the array from memory (This will trigger the raster writing to disk)\n",
    "output_band = None\n",
    "output_dataset = None\n",
    "\n"
   ]
  },
  {
   "cell_type": "markdown",
   "metadata": {},
   "source": [
    "## In-class exercise 2.2\n",
    "\n",
    "Use numpy, gdal and matplotlib to load the crop production geotiff from above and then plot it. Make it a bit pretty though. You will notice that the colors are all barely different. Increase the contrast using ax.set_vlim()"
   ]
  },
  {
   "cell_type": "markdown",
   "metadata": {},
   "source": [
    "## Pandas!"
   ]
  },
  {
   "cell_type": "code",
   "execution_count": null,
   "metadata": {},
   "outputs": [],
   "source": [
    "\n",
    "import pandas\n",
    "\n",
    "food_prices_filename = 'world_monthly_food_prices.csv'\n",
    "food_prices_path = os.path.join(data_directory, food_prices_filename)\n",
    "food_prices = pandas.read_csv(food_prices_path)\n",
    "\n",
    "print('Whole dataframe:', food_prices)\n"
   ]
  },
  {
   "cell_type": "code",
   "execution_count": null,
   "metadata": {},
   "outputs": [],
   "source": [
    "print('List of column names:', food_prices.columns)\n"
   ]
  },
  {
   "cell_type": "code",
   "execution_count": null,
   "metadata": {},
   "outputs": [],
   "source": [
    "print('Specific column:', food_prices['Value'])\n"
   ]
  },
  {
   "cell_type": "code",
   "execution_count": null,
   "metadata": {},
   "outputs": [],
   "source": [
    "print('Specific value in that column:', food_prices['Value'][6])\n"
   ]
  },
  {
   "cell_type": "code",
   "execution_count": null,
   "metadata": {},
   "outputs": [],
   "source": [
    "\n",
    "import matplotlib\n",
    "from matplotlib import pyplot as plt\n",
    "plt.plot(food_prices['Value'])\n",
    "plt.show() "
   ]
  }
 ],
 "metadata": {
  "kernelspec": {
   "display_name": "Python 3.10.6 ('8222env1')",
   "language": "python",
   "name": "python3"
  },
  "language_info": {
   "codemirror_mode": {
    "name": "ipython",
    "version": 3
   },
   "file_extension": ".py",
   "mimetype": "text/x-python",
   "name": "python",
   "nbconvert_exporter": "python",
   "pygments_lexer": "ipython3",
   "version": "3.10.6"
  },
  "orig_nbformat": 4,
  "vscode": {
   "interpreter": {
    "hash": "0db313e0ad7b6749a6d098fb61fddaded88cbd823278030b75fa0893942c8f77"
   }
  }
 },
 "nbformat": 4,
 "nbformat_minor": 2
}
