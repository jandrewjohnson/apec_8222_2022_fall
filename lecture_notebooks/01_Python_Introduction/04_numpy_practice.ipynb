{
 "cells": [
  {
   "cell_type": "code",
   "execution_count": null,
   "metadata": {},
   "outputs": [],
   "source": [
    "## Using Numpy to make and process arrays.\n",
    "\n",
    "# Numpy is the highly-optimized, super-fast workhorse that underlies much of the scientific computing stack\n",
    "# see Harris et al. 2020 in Nature for evidence.\n",
    "\n",
    "import numpy as np\n",
    "\n",
    "# We're also going to want to look at matrices, so let's import matplotlib too.\n",
    "# this import statement is more complex, but of key importance, it creates a plt object we'll use later\n",
    "import matplotlib.pyplot as plt\n",
    "\n",
    "# Create a 1 dimensional array 15 elements long. np.arange is a FAST version of python range()\n",
    "a = np.arange(15)\n",
    "\n",
    "print(a)\n"
   ]
  },
  {
   "cell_type": "code",
   "execution_count": null,
   "metadata": {},
   "outputs": [],
   "source": [
    "\n",
    "plt.plot(a)\n",
    "plt.show() # As with printing, I've commented out most .show() commands to limit what gets printed. Uncomment to explore."
   ]
  },
  {
   "cell_type": "code",
   "execution_count": null,
   "metadata": {},
   "outputs": [],
   "source": [
    "\n",
    "\n",
    "# Reshape our array into a 2 dimensional array of size 3 by 5.\n",
    "# NOTE, numpy, and about 60% of computer programming, denotes things in terms of Row then Column (RC order)\n",
    "# but some things, especially those that regard displaying pixels, denote things as x, y (which note is CR order)\n",
    "a = np.arange(15).reshape(3, 5)\n",
    "\n",
    "print(a)\n",
    "\n",
    "plt.plot(a)\n",
    "plt.show()\n"
   ]
  },
  {
   "cell_type": "code",
   "execution_count": null,
   "metadata": {},
   "outputs": [],
   "source": [
    "\n",
    "\n",
    "\n",
    "# The above show probably is not what you expected. It has interpreted it as five different lines, but we probably meant to\n",
    "# think of it as a matrix. For this, use imshow\n",
    "\n",
    "plt.imshow(a)\n",
    "plt.show()\n",
    "\n",
    "# a is an OBJECT, which has lots of useful attributes, such as:\n",
    "\n",
    "a.shape # (3, 5)\n",
    "a.ndim # 2\n",
    "a.dtype.name # 'int64'\n",
    "a.size # 15\n",
    "a.itemsize #8 Pro-level question. Why is it 8? Hint 8 * 8 = 64.\n",
    "type(a) # <class 'numpy.ndarray'>\n",
    "\n"
   ]
  },
  {
   "cell_type": "markdown",
   "metadata": {},
   "source": [
    "## Creating an array from values\n"
   ]
  },
  {
   "cell_type": "code",
   "execution_count": null,
   "metadata": {},
   "outputs": [],
   "source": [
    "\n",
    "a = np.array([1,2,3,4])  # RIGHT\n",
    "# a = np.array(1,2,3,4)    # WRONG: TypeError: array() takes from 1 to 2 positional arguments but 4 were given. Uncomment this to see what happens with error handling.\n",
    "\n",
    "# 2d version\n",
    "b = np.array([(1.5,2,3), (4,5,6)])\n",
    "\n",
    "print('b\\n', b)\n"
   ]
  },
  {
   "cell_type": "code",
   "execution_count": null,
   "metadata": {},
   "outputs": [],
   "source": [
    "\n",
    "# Creating an empty array of zeros # NOTICE the extra paranetheses.\n",
    "np.zeros((3, 4))\n",
    "\n",
    "# or ones.\n",
    "np.ones((2, 3), dtype=np.int16)                # dtype can also be specified\n",
    "\n",
    "# or ones.\n",
    "r = np.random.random((3, 4))                # dtype can also be specified\n",
    "# print('r', r)\n",
    "\n",
    "# Or even faster, just \"allocate the memory\" with an empty matrix.\n",
    "c = np.empty((2,3))\n"
   ]
  },
  {
   "cell_type": "markdown",
   "metadata": {},
   "source": [
    "\n",
    "What do you think this will produce? The empty matrix just points to memory, which means that if you look there, you will just see whatever was there from before, which will likely look crazy.\n"
   ]
  },
  {
   "cell_type": "code",
   "execution_count": null,
   "metadata": {},
   "outputs": [],
   "source": [
    "\n",
    "print('c:\\n', c)\n",
    "# array([[  3.73603959e-262,   6.02658058e-154,   6.55490914e-260],  # may vary\n",
    "#        [  5.30498948e-313,   3.14673309e-307,   1.00000000e+000]])\n",
    "\n",
    "# Array math\n",
    "a = np.array([20, 30, 40, 50.])\n",
    "b = np.arange(4)\n",
    "\n",
    "c = a-b\n",
    "\n",
    "print('a', a)\n",
    "print('b', b)\n",
    "print('c', c)\n",
    "\n",
    "# ** is the exponent operator in python\n",
    "d = b**2\n",
    "print('d', d)\n",
    "\n",
    "# Numpy also has handy array-enabled math operators\n",
    "e = 10*np.sin(a)\n",
    "print('e', e)\n",
    "\n",
    "# Con also create conditional arrays\n",
    "f = a<35\n",
    "print('f', f)\n",
    "\n"
   ]
  },
  {
   "cell_type": "markdown",
   "metadata": {},
   "source": [
    "\n",
    "## SLICING\n"
   ]
  },
  {
   "cell_type": "code",
   "execution_count": null,
   "metadata": {},
   "outputs": [],
   "source": [
    "\n",
    "a = np.arange(10)\n",
    "b = np.arange(12).reshape(3, 4)\n",
    "\n",
    "# Can access items directly, but need as many indices as there are dimensions\n",
    "a[2]\n",
    "b[2, 3]\n",
    "\n",
    "# Can also access \"slices\", which are denoted Start, Stop, Stepsize\n",
    "r = a[1: 9: 2]\n",
    "\n",
    "# An empty slice argument means use the default\n",
    "r = a[::2]\n",
    "\n",
    "# A single colon means use the full thing.\n",
    "r = a[:]\n",
    "\n",
    "# Using slices, you can also set individual elements in the array:\n",
    "r[0] = 33\n",
    "r[1:3] = 44\n",
    "print('r', r)\n"
   ]
  },
  {
   "cell_type": "code",
   "execution_count": null,
   "metadata": {},
   "outputs": [],
   "source": [
    "\n",
    "# Setting in this way also can be done according to a condition:\n",
    "r[r <= 6] = 5\n",
    "print('r', r)\n"
   ]
  },
  {
   "cell_type": "code",
   "execution_count": null,
   "metadata": {},
   "outputs": [],
   "source": [
    "\n",
    "# Finally, an alternate and possibly more powerful way of setting conditional values is the np.where function\n",
    "# This function sets anywhere greater than 10 to be 12, otherwise it keeps it at whatever value was already in r\n",
    "r = np.where(r > 10, 12, r)\n",
    "print('r', r)\n"
   ]
  },
  {
   "cell_type": "code",
   "execution_count": null,
   "metadata": {},
   "outputs": [],
   "source": [
    "\n",
    "# Looping over arrays\n",
    "for i in a:\n",
    "    r = i**(1/3.)\n",
    "    # print('r', r)\n"
   ]
  },
  {
   "cell_type": "code",
   "execution_count": null,
   "metadata": {},
   "outputs": [],
   "source": [
    "\n",
    "# Loop to get the sum of the array\n",
    "r = 0\n",
    "for row in b:\n",
    "    # print('row', row)\n",
    "    for value in row:\n",
    "        # print('value', value)\n",
    "        r += value\n",
    "\n",
    "print('slow sum', r)\n"
   ]
  },
  {
   "cell_type": "markdown",
   "metadata": {},
   "source": [
    "\n",
    "NOTE: Iterating over arrays here is just for illustration as it is VERY VERY SLOW\n",
    "and loses the magic of numpy speed. We'll learn how to bet around this later\n",
    "by \"vectorizing\" functions, which basically means batch calculating\n",
    "everything in a vector all in one call. For now, here's an example of the\n",
    "much faster version\n"
   ]
  },
  {
   "cell_type": "code",
   "execution_count": null,
   "metadata": {},
   "outputs": [],
   "source": [
    "\n",
    "r = b.sum()\n",
    "print('fast sum', r)\n"
   ]
  },
  {
   "cell_type": "code",
   "execution_count": null,
   "metadata": {},
   "outputs": [],
   "source": [
    "\n",
    "# Vectorized multiplication (and broadcasting):\n",
    "a = np.arange(20).reshape(5, 4)\n",
    "b = np.arange(20).reshape(5, 4)\n",
    "\n",
    "c = a * b # NOTE: this does element-wise multiplication, not the matrix multiplication you learned in 7-th? grade.\n",
    "print('c\\n', c)\n"
   ]
  },
  {
   "cell_type": "code",
   "execution_count": null,
   "metadata": {},
   "outputs": [],
   "source": [
    "\n",
    "# Numpy will smartly \"broadcast\" two matrices of different sizes or dimensions so that it works:\n",
    "\n",
    "d = np.arange(4)\n",
    "e = a * d # WAIT! Aren't you multiplying two different matrices with different sizes? Yes!\n",
    "print('e\\n', e)\n"
   ]
  },
  {
   "cell_type": "code",
   "execution_count": null,
   "metadata": {},
   "outputs": [],
   "source": [
    "\n",
    "# Also means you can use the same notation to multiply an array (2dim) against a scalar (0dim):\n",
    "f = a * 6.0\n",
    "print('f\\n', f)\n"
   ]
  },
  {
   "cell_type": "code",
   "execution_count": null,
   "metadata": {},
   "outputs": [],
   "source": [
    "\n",
    "# Plotting with matplotlib.\n",
    "\n",
    "ax = plt.imshow(b)\n",
    "plt.show()\n"
   ]
  },
  {
   "cell_type": "code",
   "execution_count": null,
   "metadata": {},
   "outputs": [],
   "source": [
    "\n",
    "# Perhaps you want a colorbar?\n",
    "ax = plt.imshow(b)\n",
    "plt.colorbar(ax)\n",
    "plt.show()\n",
    "\n"
   ]
  },
  {
   "cell_type": "code",
   "execution_count": null,
   "metadata": {},
   "outputs": [],
   "source": [
    "\n",
    "def mandelbrot(h, w, maxit=20 ):\n",
    "    \"\"\"Returns an image of the Mandelbrot fractal of size (h,w).\"\"\"\n",
    "    y,x = np.ogrid[ -1.4:1.4:h*1j, -2:0.8:w*1j ]\n",
    "    c = x+y*1j\n",
    "    z = c\n",
    "    divtime = maxit + np.zeros(z.shape, dtype=int)\n",
    "\n",
    "    for i in range(maxit):\n",
    "        z = z**2 + c\n",
    "        diverge = z*np.conj(z) > 2**2            # who is diverging\n",
    "        div_now = diverge & (divtime==maxit)  # who is diverging now\n",
    "        divtime[div_now] = i                  # note when\n",
    "        z[diverge] = 2                        # avoid diverging too much\n",
    "\n",
    "    return divtime\n",
    "\n",
    "\n",
    "plt.imshow(mandelbrot(400, 400))\n",
    "plt.show()\n"
   ]
  },
  {
   "cell_type": "code",
   "execution_count": null,
   "metadata": {},
   "outputs": [],
   "source": [
    "\n",
    "## CLASS ACTIVITY:\n",
    "\n",
    "# Create a 20 by 40 matrix of random values 0-1, then set the upper left quadrant to 1. Next, set the last COLUMN to 2.\n",
    "# Finally, change all values less than .5 to be 3.\n",
    "# You will likely want to use the matrix slicing notation discussed above to set values. i.e.,\n",
    "\n",
    "\n",
    "a = np.random.random((40, 20))\n",
    "print(a)\n"
   ]
  }
 ],
 "metadata": {
  "kernelspec": {
   "display_name": "Python 3.10.6 ('8222env1')",
   "language": "python",
   "name": "python3"
  },
  "language_info": {
   "codemirror_mode": {
    "name": "ipython",
    "version": 3
   },
   "file_extension": ".py",
   "mimetype": "text/x-python",
   "name": "python",
   "nbconvert_exporter": "python",
   "pygments_lexer": "ipython3",
   "version": "3.10.6"
  },
  "orig_nbformat": 4,
  "vscode": {
   "interpreter": {
    "hash": "0db313e0ad7b6749a6d098fb61fddaded88cbd823278030b75fa0893942c8f77"
   }
  }
 },
 "nbformat": 4,
 "nbformat_minor": 2
}
