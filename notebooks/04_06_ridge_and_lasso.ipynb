{
 "cells": [
  {
   "cell_type": "markdown",
   "metadata": {
    "pycharm": {
     "name": "#%% md\n"
    }
   },
   "source": [
    "# 04_06_ridge_and_lasso\n",
    "\n",
    "Author: Justin A Johnson. Adapted from sklearn documentation and original content. License: Modified BSD License."
   ]
  },
  {
   "cell_type": "code",
   "execution_count": 1,
   "metadata": {
    "pycharm": {
     "name": "#%%\n"
    }
   },
   "outputs": [
    {
     "name": "stderr",
     "output_type": "stream",
     "text": [
      "c:\\Miniconda3\\envs\\research2022g\\lib\\site-packages\\scipy\\__init__.py:146: UserWarning: A NumPy version >=1.16.5 and <1.23.0 is required for this version of SciPy (detected version 1.23.4\n",
      "  warnings.warn(f\"A NumPy version >={np_minversion} and <{np_maxversion}\"\n"
     ]
    }
   ],
   "source": [
    "import matplotlib.pyplot as plt\n",
    "import numpy as np\n",
    "\n",
    "from sklearn.datasets import load_diabetes\n",
    "from sklearn.feature_selection import SelectFromModel\n",
    "from sklearn import datasets, linear_model\n",
    "from sklearn.linear_model import LassoCV, Lasso\n",
    "from sklearn.model_selection import KFold\n",
    "from sklearn.model_selection import GridSearchCV\n",
    "from sklearn.metrics import mean_squared_error, r2_score"
   ]
  },
  {
   "cell_type": "markdown",
   "metadata": {
    "pycharm": {
     "name": "#%% md\n"
    }
   },
   "source": [
    "Again we're going to use our diabetes dataset. Inspect it again just to remind yourself\n",
    "what is in it."
   ]
  },
  {
   "cell_type": "code",
   "execution_count": 2,
   "metadata": {
    "pycharm": {
     "name": "#%%\n"
    }
   },
   "outputs": [
    {
     "name": "stdout",
     "output_type": "stream",
     "text": [
      ".. _diabetes_dataset:\n",
      "\n",
      "Diabetes dataset\n",
      "----------------\n",
      "\n",
      "Ten baseline variables, age, sex, body mass index, average blood\n",
      "pressure, and six blood serum measurements were obtained for each of n =\n",
      "442 diabetes patients, as well as the response of interest, a\n",
      "quantitative measure of disease progression one year after baseline.\n",
      "\n",
      "**Data Set Characteristics:**\n",
      "\n",
      "  :Number of Instances: 442\n",
      "\n",
      "  :Number of Attributes: First 10 columns are numeric predictive values\n",
      "\n",
      "  :Target: Column 11 is a quantitative measure of disease progression one year after baseline\n",
      "\n",
      "  :Attribute Information:\n",
      "      - age     age in years\n",
      "      - sex\n",
      "      - bmi     body mass index\n",
      "      - bp      average blood pressure\n",
      "      - s1      tc, total serum cholesterol\n",
      "      - s2      ldl, low-density lipoproteins\n",
      "      - s3      hdl, high-density lipoproteins\n",
      "      - s4      tch, total cholesterol / HDL\n",
      "      - s5      ltg, possibly log of serum triglycerides level\n",
      "      - s6      glu, blood sugar level\n",
      "\n",
      "Note: Each of these 10 feature variables have been mean centered and scaled by the standard deviation times the square root of `n_samples` (i.e. the sum of squares of each column totals 1).\n",
      "\n",
      "Source URL:\n",
      "https://www4.stat.ncsu.edu/~boos/var.select/diabetes.html\n",
      "\n",
      "For more information see:\n",
      "Bradley Efron, Trevor Hastie, Iain Johnstone and Robert Tibshirani (2004) \"Least Angle Regression,\" Annals of Statistics (with discussion), 407-499.\n",
      "(https://web.stanford.edu/~hastie/Papers/LARS/LeastAngle_2002.pdf)\n",
      "\n",
      "['age', 'sex', 'bmi', 'bp', 's1', 's2', 's3', 's4', 's5', 's6']\n"
     ]
    }
   ],
   "source": [
    "diabetes = load_diabetes()\n",
    "\n",
    "X = diabetes.data\n",
    "y = diabetes.target\n",
    "\n",
    "feature_names = diabetes.feature_names\n",
    "\n",
    "print(diabetes['DESCR'])\n",
    "print(feature_names)\n",
    "\n"
   ]
  },
  {
   "cell_type": "markdown",
   "metadata": {
    "pycharm": {
     "name": "#%% md\n"
    }
   },
   "source": [
    "To speed up calculation, we're going to just use the first 150 observations\n",
    "using numpy slice notation to grab them out of the X, y"
   ]
  },
  {
   "cell_type": "code",
   "execution_count": 3,
   "metadata": {
    "pycharm": {
     "name": "#%%\n"
    }
   },
   "outputs": [
    {
     "data": {
      "text/plain": [
       "array([151.,  75., 141., 206., 135.,  97., 138.,  63., 110., 310., 101.,\n",
       "        69., 179., 185., 118., 171., 166., 144.,  97., 168.,  68.,  49.,\n",
       "        68., 245., 184., 202., 137.,  85., 131., 283., 129.,  59., 341.,\n",
       "        87.,  65., 102., 265., 276., 252.,  90., 100.,  55.,  61.,  92.,\n",
       "       259.,  53., 190., 142.,  75., 142., 155., 225.,  59., 104., 182.,\n",
       "       128.,  52.,  37., 170., 170.,  61., 144.,  52., 128.,  71., 163.,\n",
       "       150.,  97., 160., 178.,  48., 270., 202., 111.,  85.,  42., 170.,\n",
       "       200., 252., 113., 143.,  51.,  52., 210.,  65., 141.,  55., 134.,\n",
       "        42., 111.,  98., 164.,  48.,  96.,  90., 162., 150., 279.,  92.,\n",
       "        83., 128., 102., 302., 198.,  95.,  53., 134., 144., 232.,  81.,\n",
       "       104.,  59., 246., 297., 258., 229., 275., 281., 179., 200., 200.,\n",
       "       173., 180.,  84., 121., 161.,  99., 109., 115., 268., 274., 158.,\n",
       "       107.,  83., 103., 272.,  85., 280., 336., 281., 118., 317., 235.,\n",
       "        60., 174., 259., 178., 128.,  96., 126.])"
      ]
     },
     "execution_count": 3,
     "metadata": {},
     "output_type": "execute_result"
    }
   ],
   "source": [
    "X = X[:150]\n",
    "y = y[:150]\n",
    "X\n",
    "y"
   ]
  },
  {
   "cell_type": "markdown",
   "metadata": {
    "pycharm": {
     "name": "#%% md\n"
    }
   },
   "source": [
    "# Class exercise: Review of OLS. Report back the MSE  of y versus the predicted y when you use the X and y variables above.\n",
    "You might want to utilize the scikit-learn linear regression tools, in particular the following functions:\n",
    "\n",
    "linear_model.LinearRegression()\n",
    ".fit(X, y)\n",
    ".predict(X)\n",
    "mean_squared_error(y, y_pred)\n",
    "\n",
    "In addition to the scikit-learn OLS, we also will be using today\n",
    "the statsmodels implementation. Let's go ahead an import it.\n",
    "I'm assuming you've already run conda install statsmodels -c conda-forge in your\n",
    "anaconda command line."
   ]
  },
  {
   "cell_type": "code",
   "execution_count": 4,
   "metadata": {
    "pycharm": {
     "name": "#%%\n"
    }
   },
   "outputs": [],
   "source": [
    "from statsmodels.api import OLS"
   ]
  },
  {
   "cell_type": "markdown",
   "metadata": {
    "pycharm": {
     "name": "#%% md\n"
    }
   },
   "source": [
    "statsmodels uses a similar syntax to scikit learn of createing a model, fitting it, and\n",
    "returning the summary."
   ]
  },
  {
   "cell_type": "code",
   "execution_count": 5,
   "metadata": {
    "pycharm": {
     "name": "#%%\n"
    }
   },
   "outputs": [
    {
     "name": "stdout",
     "output_type": "stream",
     "text": [
      "                                 OLS Regression Results                                \n",
      "=======================================================================================\n",
      "Dep. Variable:                      y   R-squared (uncentered):                   0.120\n",
      "Model:                            OLS   Adj. R-squared (uncentered):              0.057\n",
      "Method:                 Least Squares   F-statistic:                              1.915\n",
      "Date:                Mon, 24 Oct 2022   Prob (F-statistic):                      0.0478\n",
      "Time:                        14:02:24   Log-Likelihood:                         -969.69\n",
      "No. Observations:                 150   AIC:                                      1959.\n",
      "Df Residuals:                     140   BIC:                                      1989.\n",
      "Df Model:                          10                                                  \n",
      "Covariance Type:            nonrobust                                                  \n",
      "==============================================================================\n",
      "                 coef    std err          t      P>|t|      [0.025      0.975]\n",
      "------------------------------------------------------------------------------\n",
      "x1          -605.5178    314.847     -1.923      0.056   -1227.987      16.952\n",
      "x2           -73.0743    336.515     -0.217      0.828    -738.383     592.234\n",
      "x3           861.8098    357.009      2.414      0.017     155.985    1567.635\n",
      "x4           102.4688    351.776      0.291      0.771    -593.012     797.950\n",
      "x5         -3406.7230   2480.908     -1.373      0.172   -8311.612    1498.166\n",
      "x6          2145.6019   2070.078      1.036      0.302   -1947.053    6238.257\n",
      "x7          1458.8705   1184.093      1.232      0.220    -882.145    3799.886\n",
      "x8           401.9766    823.815      0.488      0.626   -1226.749    2030.703\n",
      "x9          1483.3314    906.230      1.637      0.104    -308.334    3274.997\n",
      "x10           53.7689    316.034      0.170      0.865    -571.047     678.585\n",
      "==============================================================================\n",
      "Omnibus:                        0.421   Durbin-Watson:                   0.322\n",
      "Prob(Omnibus):                  0.810   Jarque-Bera (JB):                0.310\n",
      "Skew:                          -0.111   Prob(JB):                        0.856\n",
      "Kurtosis:                       3.007   Cond. No.                         25.2\n",
      "==============================================================================\n",
      "\n",
      "Notes:\n",
      "[1] R² is computed without centering (uncentered) since the model does not contain a constant.\n",
      "[2] Standard Errors assume that the covariance matrix of the errors is correctly specified.\n"
     ]
    }
   ],
   "source": [
    "model = OLS(y, X)\n",
    "fitted_model = model.fit()\n",
    "result = fitted_model.summary()\n",
    "\n",
    "print(result)"
   ]
  },
  {
   "cell_type": "markdown",
   "metadata": {
    "pycharm": {
     "name": "#%% md\n"
    }
   },
   "source": [
    "Today's goal, however, is to do Lasso on this same dataset.\n",
    "To start, lets create a Lasso object. Notice that we are not\n",
    "setting the alpha/gamma value when we create it."
   ]
  },
  {
   "cell_type": "code",
   "execution_count": 6,
   "metadata": {
    "pycharm": {
     "name": "#%%\n"
    }
   },
   "outputs": [
    {
     "data": {
      "text/html": [
       "<style>#sk-container-id-1 {color: black;background-color: white;}#sk-container-id-1 pre{padding: 0;}#sk-container-id-1 div.sk-toggleable {background-color: white;}#sk-container-id-1 label.sk-toggleable__label {cursor: pointer;display: block;width: 100%;margin-bottom: 0;padding: 0.3em;box-sizing: border-box;text-align: center;}#sk-container-id-1 label.sk-toggleable__label-arrow:before {content: \"▸\";float: left;margin-right: 0.25em;color: #696969;}#sk-container-id-1 label.sk-toggleable__label-arrow:hover:before {color: black;}#sk-container-id-1 div.sk-estimator:hover label.sk-toggleable__label-arrow:before {color: black;}#sk-container-id-1 div.sk-toggleable__content {max-height: 0;max-width: 0;overflow: hidden;text-align: left;background-color: #f0f8ff;}#sk-container-id-1 div.sk-toggleable__content pre {margin: 0.2em;color: black;border-radius: 0.25em;background-color: #f0f8ff;}#sk-container-id-1 input.sk-toggleable__control:checked~div.sk-toggleable__content {max-height: 200px;max-width: 100%;overflow: auto;}#sk-container-id-1 input.sk-toggleable__control:checked~label.sk-toggleable__label-arrow:before {content: \"▾\";}#sk-container-id-1 div.sk-estimator input.sk-toggleable__control:checked~label.sk-toggleable__label {background-color: #d4ebff;}#sk-container-id-1 div.sk-label input.sk-toggleable__control:checked~label.sk-toggleable__label {background-color: #d4ebff;}#sk-container-id-1 input.sk-hidden--visually {border: 0;clip: rect(1px 1px 1px 1px);clip: rect(1px, 1px, 1px, 1px);height: 1px;margin: -1px;overflow: hidden;padding: 0;position: absolute;width: 1px;}#sk-container-id-1 div.sk-estimator {font-family: monospace;background-color: #f0f8ff;border: 1px dotted black;border-radius: 0.25em;box-sizing: border-box;margin-bottom: 0.5em;}#sk-container-id-1 div.sk-estimator:hover {background-color: #d4ebff;}#sk-container-id-1 div.sk-parallel-item::after {content: \"\";width: 100%;border-bottom: 1px solid gray;flex-grow: 1;}#sk-container-id-1 div.sk-label:hover label.sk-toggleable__label {background-color: #d4ebff;}#sk-container-id-1 div.sk-serial::before {content: \"\";position: absolute;border-left: 1px solid gray;box-sizing: border-box;top: 0;bottom: 0;left: 50%;z-index: 0;}#sk-container-id-1 div.sk-serial {display: flex;flex-direction: column;align-items: center;background-color: white;padding-right: 0.2em;padding-left: 0.2em;position: relative;}#sk-container-id-1 div.sk-item {position: relative;z-index: 1;}#sk-container-id-1 div.sk-parallel {display: flex;align-items: stretch;justify-content: center;background-color: white;position: relative;}#sk-container-id-1 div.sk-item::before, #sk-container-id-1 div.sk-parallel-item::before {content: \"\";position: absolute;border-left: 1px solid gray;box-sizing: border-box;top: 0;bottom: 0;left: 50%;z-index: -1;}#sk-container-id-1 div.sk-parallel-item {display: flex;flex-direction: column;z-index: 1;position: relative;background-color: white;}#sk-container-id-1 div.sk-parallel-item:first-child::after {align-self: flex-end;width: 50%;}#sk-container-id-1 div.sk-parallel-item:last-child::after {align-self: flex-start;width: 50%;}#sk-container-id-1 div.sk-parallel-item:only-child::after {width: 0;}#sk-container-id-1 div.sk-dashed-wrapped {border: 1px dashed gray;margin: 0 0.4em 0.5em 0.4em;box-sizing: border-box;padding-bottom: 0.4em;background-color: white;}#sk-container-id-1 div.sk-label label {font-family: monospace;font-weight: bold;display: inline-block;line-height: 1.2em;}#sk-container-id-1 div.sk-label-container {text-align: center;}#sk-container-id-1 div.sk-container {/* jupyter's `normalize.less` sets `[hidden] { display: none; }` but bootstrap.min.css set `[hidden] { display: none !important; }` so we also need the `!important` here to be able to override the default hidden behavior on the sphinx rendered scikit-learn.org. See: https://github.com/scikit-learn/scikit-learn/issues/21755 */display: inline-block !important;position: relative;}#sk-container-id-1 div.sk-text-repr-fallback {display: none;}</style><div id=\"sk-container-id-1\" class=\"sk-top-container\"><div class=\"sk-text-repr-fallback\"><pre>Lasso(max_iter=10000, random_state=0)</pre><b>In a Jupyter environment, please rerun this cell to show the HTML representation or trust the notebook. <br />On GitHub, the HTML representation is unable to render, please try loading this page with nbviewer.org.</b></div><div class=\"sk-container\" hidden><div class=\"sk-item\"><div class=\"sk-estimator sk-toggleable\"><input class=\"sk-toggleable__control sk-hidden--visually\" id=\"sk-estimator-id-1\" type=\"checkbox\" checked><label for=\"sk-estimator-id-1\" class=\"sk-toggleable__label sk-toggleable__label-arrow\">Lasso</label><div class=\"sk-toggleable__content\"><pre>Lasso(max_iter=10000, random_state=0)</pre></div></div></div></div></div>"
      ],
      "text/plain": [
       "Lasso(max_iter=10000, random_state=0)"
      ]
     },
     "execution_count": 6,
     "metadata": {},
     "output_type": "execute_result"
    }
   ],
   "source": [
    "lasso = Lasso(random_state=0, max_iter=10000)\n",
    "lasso"
   ]
  },
  {
   "cell_type": "markdown",
   "metadata": {
    "pycharm": {
     "name": "#%% md\n"
    }
   },
   "source": [
    "Instead, we are going to test a variety of different alphas, as here:"
   ]
  },
  {
   "cell_type": "code",
   "execution_count": 7,
   "metadata": {
    "pycharm": {
     "name": "#%%\n"
    }
   },
   "outputs": [
    {
     "data": {
      "text/plain": [
       "array([0.001     , 0.00121957, 0.00148735, 0.00181393, 0.00221222,\n",
       "       0.00269795, 0.00329034, 0.00401281, 0.0048939 , 0.00596846,\n",
       "       0.00727895, 0.0088772 , 0.01082637, 0.01320352, 0.01610262,\n",
       "       0.01963828, 0.02395027, 0.02920904, 0.03562248, 0.04344412,\n",
       "       0.05298317, 0.06461671, 0.07880463, 0.0961078 , 0.11721023,\n",
       "       0.14294613, 0.17433288, 0.21261123, 0.25929438, 0.31622777])"
      ]
     },
     "execution_count": 7,
     "metadata": {},
     "output_type": "execute_result"
    }
   ],
   "source": [
    "alphas = np.logspace(-3, -0.5, 30)\n",
    "alphas"
   ]
  },
  {
   "cell_type": "markdown",
   "metadata": {
    "pycharm": {
     "name": "#%% md\n"
    }
   },
   "source": [
    "We are going to be passing this range of tuning parameters to a GridSearch function\n",
    "that will test which works best when cross-validation methods are applied.\n",
    "First though, we have to put the alphas into the form the GridSearchCV funciton\n",
    "Expects, which is a list of dictionaries."
   ]
  },
  {
   "cell_type": "code",
   "execution_count": 8,
   "metadata": {
    "pycharm": {
     "name": "#%%\n"
    }
   },
   "outputs": [],
   "source": [
    "tuning_parameters = [{'alpha': alphas}]"
   ]
  },
  {
   "cell_type": "markdown",
   "metadata": {
    "pycharm": {
     "name": "#%% md\n"
    }
   },
   "source": [
    "Recall that CV works by calculating the fit quality of different folds of the\n",
    "TRAINING data. Here we will just use 5 folds."
   ]
  },
  {
   "cell_type": "code",
   "execution_count": 9,
   "metadata": {
    "pycharm": {
     "name": "#%%\n"
    }
   },
   "outputs": [],
   "source": [
    "n_folds = 5"
   ]
  },
  {
   "cell_type": "markdown",
   "metadata": {
    "pycharm": {
     "name": "#%% md\n"
    }
   },
   "source": [
    "Finally, we have all our objects ready to pass to the GridSearchVC function which will\n",
    "Give us back a classifier object."
   ]
  },
  {
   "cell_type": "code",
   "execution_count": 10,
   "metadata": {
    "pycharm": {
     "name": "#%%\n"
    }
   },
   "outputs": [],
   "source": [
    "clf = GridSearchCV(lasso, tuning_parameters, cv=n_folds, refit=False)"
   ]
  },
  {
   "cell_type": "markdown",
   "metadata": {
    "pycharm": {
     "name": "#%% md\n"
    }
   },
   "source": [
    "When we call the clf.fit() method, we will iteratively be calling the Lasso.fit() with different permutations of\n",
    "tuned parameters and then will return the classifier with the best CV fit."
   ]
  },
  {
   "cell_type": "code",
   "execution_count": 11,
   "metadata": {
    "pycharm": {
     "name": "#%%\n"
    }
   },
   "outputs": [
    {
     "data": {
      "text/html": [
       "<style>#sk-container-id-2 {color: black;background-color: white;}#sk-container-id-2 pre{padding: 0;}#sk-container-id-2 div.sk-toggleable {background-color: white;}#sk-container-id-2 label.sk-toggleable__label {cursor: pointer;display: block;width: 100%;margin-bottom: 0;padding: 0.3em;box-sizing: border-box;text-align: center;}#sk-container-id-2 label.sk-toggleable__label-arrow:before {content: \"▸\";float: left;margin-right: 0.25em;color: #696969;}#sk-container-id-2 label.sk-toggleable__label-arrow:hover:before {color: black;}#sk-container-id-2 div.sk-estimator:hover label.sk-toggleable__label-arrow:before {color: black;}#sk-container-id-2 div.sk-toggleable__content {max-height: 0;max-width: 0;overflow: hidden;text-align: left;background-color: #f0f8ff;}#sk-container-id-2 div.sk-toggleable__content pre {margin: 0.2em;color: black;border-radius: 0.25em;background-color: #f0f8ff;}#sk-container-id-2 input.sk-toggleable__control:checked~div.sk-toggleable__content {max-height: 200px;max-width: 100%;overflow: auto;}#sk-container-id-2 input.sk-toggleable__control:checked~label.sk-toggleable__label-arrow:before {content: \"▾\";}#sk-container-id-2 div.sk-estimator input.sk-toggleable__control:checked~label.sk-toggleable__label {background-color: #d4ebff;}#sk-container-id-2 div.sk-label input.sk-toggleable__control:checked~label.sk-toggleable__label {background-color: #d4ebff;}#sk-container-id-2 input.sk-hidden--visually {border: 0;clip: rect(1px 1px 1px 1px);clip: rect(1px, 1px, 1px, 1px);height: 1px;margin: -1px;overflow: hidden;padding: 0;position: absolute;width: 1px;}#sk-container-id-2 div.sk-estimator {font-family: monospace;background-color: #f0f8ff;border: 1px dotted black;border-radius: 0.25em;box-sizing: border-box;margin-bottom: 0.5em;}#sk-container-id-2 div.sk-estimator:hover {background-color: #d4ebff;}#sk-container-id-2 div.sk-parallel-item::after {content: \"\";width: 100%;border-bottom: 1px solid gray;flex-grow: 1;}#sk-container-id-2 div.sk-label:hover label.sk-toggleable__label {background-color: #d4ebff;}#sk-container-id-2 div.sk-serial::before {content: \"\";position: absolute;border-left: 1px solid gray;box-sizing: border-box;top: 0;bottom: 0;left: 50%;z-index: 0;}#sk-container-id-2 div.sk-serial {display: flex;flex-direction: column;align-items: center;background-color: white;padding-right: 0.2em;padding-left: 0.2em;position: relative;}#sk-container-id-2 div.sk-item {position: relative;z-index: 1;}#sk-container-id-2 div.sk-parallel {display: flex;align-items: stretch;justify-content: center;background-color: white;position: relative;}#sk-container-id-2 div.sk-item::before, #sk-container-id-2 div.sk-parallel-item::before {content: \"\";position: absolute;border-left: 1px solid gray;box-sizing: border-box;top: 0;bottom: 0;left: 50%;z-index: -1;}#sk-container-id-2 div.sk-parallel-item {display: flex;flex-direction: column;z-index: 1;position: relative;background-color: white;}#sk-container-id-2 div.sk-parallel-item:first-child::after {align-self: flex-end;width: 50%;}#sk-container-id-2 div.sk-parallel-item:last-child::after {align-self: flex-start;width: 50%;}#sk-container-id-2 div.sk-parallel-item:only-child::after {width: 0;}#sk-container-id-2 div.sk-dashed-wrapped {border: 1px dashed gray;margin: 0 0.4em 0.5em 0.4em;box-sizing: border-box;padding-bottom: 0.4em;background-color: white;}#sk-container-id-2 div.sk-label label {font-family: monospace;font-weight: bold;display: inline-block;line-height: 1.2em;}#sk-container-id-2 div.sk-label-container {text-align: center;}#sk-container-id-2 div.sk-container {/* jupyter's `normalize.less` sets `[hidden] { display: none; }` but bootstrap.min.css set `[hidden] { display: none !important; }` so we also need the `!important` here to be able to override the default hidden behavior on the sphinx rendered scikit-learn.org. See: https://github.com/scikit-learn/scikit-learn/issues/21755 */display: inline-block !important;position: relative;}#sk-container-id-2 div.sk-text-repr-fallback {display: none;}</style><div id=\"sk-container-id-2\" class=\"sk-top-container\"><div class=\"sk-text-repr-fallback\"><pre>GridSearchCV(cv=5, estimator=Lasso(max_iter=10000, random_state=0),\n",
       "             param_grid=[{&#x27;alpha&#x27;: array([0.001     , 0.00121957, 0.00148735, 0.00181393, 0.00221222,\n",
       "       0.00269795, 0.00329034, 0.00401281, 0.0048939 , 0.00596846,\n",
       "       0.00727895, 0.0088772 , 0.01082637, 0.01320352, 0.01610262,\n",
       "       0.01963828, 0.02395027, 0.02920904, 0.03562248, 0.04344412,\n",
       "       0.05298317, 0.06461671, 0.07880463, 0.0961078 , 0.11721023,\n",
       "       0.14294613, 0.17433288, 0.21261123, 0.25929438, 0.31622777])}],\n",
       "             refit=False)</pre><b>In a Jupyter environment, please rerun this cell to show the HTML representation or trust the notebook. <br />On GitHub, the HTML representation is unable to render, please try loading this page with nbviewer.org.</b></div><div class=\"sk-container\" hidden><div class=\"sk-item sk-dashed-wrapped\"><div class=\"sk-label-container\"><div class=\"sk-label sk-toggleable\"><input class=\"sk-toggleable__control sk-hidden--visually\" id=\"sk-estimator-id-2\" type=\"checkbox\" ><label for=\"sk-estimator-id-2\" class=\"sk-toggleable__label sk-toggleable__label-arrow\">GridSearchCV</label><div class=\"sk-toggleable__content\"><pre>GridSearchCV(cv=5, estimator=Lasso(max_iter=10000, random_state=0),\n",
       "             param_grid=[{&#x27;alpha&#x27;: array([0.001     , 0.00121957, 0.00148735, 0.00181393, 0.00221222,\n",
       "       0.00269795, 0.00329034, 0.00401281, 0.0048939 , 0.00596846,\n",
       "       0.00727895, 0.0088772 , 0.01082637, 0.01320352, 0.01610262,\n",
       "       0.01963828, 0.02395027, 0.02920904, 0.03562248, 0.04344412,\n",
       "       0.05298317, 0.06461671, 0.07880463, 0.0961078 , 0.11721023,\n",
       "       0.14294613, 0.17433288, 0.21261123, 0.25929438, 0.31622777])}],\n",
       "             refit=False)</pre></div></div></div><div class=\"sk-parallel\"><div class=\"sk-parallel-item\"><div class=\"sk-item\"><div class=\"sk-label-container\"><div class=\"sk-label sk-toggleable\"><input class=\"sk-toggleable__control sk-hidden--visually\" id=\"sk-estimator-id-3\" type=\"checkbox\" ><label for=\"sk-estimator-id-3\" class=\"sk-toggleable__label sk-toggleable__label-arrow\">estimator: Lasso</label><div class=\"sk-toggleable__content\"><pre>Lasso(max_iter=10000, random_state=0)</pre></div></div></div><div class=\"sk-serial\"><div class=\"sk-item\"><div class=\"sk-estimator sk-toggleable\"><input class=\"sk-toggleable__control sk-hidden--visually\" id=\"sk-estimator-id-4\" type=\"checkbox\" ><label for=\"sk-estimator-id-4\" class=\"sk-toggleable__label sk-toggleable__label-arrow\">Lasso</label><div class=\"sk-toggleable__content\"><pre>Lasso(max_iter=10000, random_state=0)</pre></div></div></div></div></div></div></div></div></div></div>"
      ],
      "text/plain": [
       "GridSearchCV(cv=5, estimator=Lasso(max_iter=10000, random_state=0),\n",
       "             param_grid=[{'alpha': array([0.001     , 0.00121957, 0.00148735, 0.00181393, 0.00221222,\n",
       "       0.00269795, 0.00329034, 0.00401281, 0.0048939 , 0.00596846,\n",
       "       0.00727895, 0.0088772 , 0.01082637, 0.01320352, 0.01610262,\n",
       "       0.01963828, 0.02395027, 0.02920904, 0.03562248, 0.04344412,\n",
       "       0.05298317, 0.06461671, 0.07880463, 0.0961078 , 0.11721023,\n",
       "       0.14294613, 0.17433288, 0.21261123, 0.25929438, 0.31622777])}],\n",
       "             refit=False)"
      ]
     },
     "execution_count": 11,
     "metadata": {},
     "output_type": "execute_result"
    }
   ],
   "source": [
    "clf.fit(X, y)"
   ]
  },
  {
   "cell_type": "markdown",
   "metadata": {
    "pycharm": {
     "name": "#%% md\n"
    }
   },
   "source": [
    "The classifier object now has a variety of diagnostic metrics, reporting\n",
    "back on different folds within the Cross Validation"
   ]
  },
  {
   "cell_type": "code",
   "execution_count": 12,
   "metadata": {
    "pycharm": {
     "name": "#%%\n"
    }
   },
   "outputs": [
    {
     "name": "stdout",
     "output_type": "stream",
     "text": [
      "clf keys returned: dict_keys(['mean_fit_time', 'std_fit_time', 'mean_score_time', 'std_score_time', 'param_alpha', 'params', 'split0_test_score', 'split1_test_score', 'split2_test_score', 'split3_test_score', 'split4_test_score', 'mean_test_score', 'std_test_score', 'rank_test_score'])\n"
     ]
    }
   ],
   "source": [
    "print('clf keys returned:', clf.cv_results_.keys())"
   ]
  },
  {
   "cell_type": "markdown",
   "metadata": {
    "pycharm": {
     "name": "#%% md\n"
    }
   },
   "source": [
    "Some relevant results are as below, which we'll extract and assign to lists."
   ]
  },
  {
   "cell_type": "code",
   "execution_count": 13,
   "metadata": {
    "pycharm": {
     "name": "#%%\n"
    }
   },
   "outputs": [],
   "source": [
    "scores = clf.cv_results_['mean_test_score']\n",
    "scores_std = clf.cv_results_['std_test_score']"
   ]
  },
  {
   "cell_type": "markdown",
   "metadata": {
    "pycharm": {
     "name": "#%% md\n"
    }
   },
   "source": [
    "CLASS Activity: break out into groups and explore the scores and alphas lists we've created.\n",
    "Identify which alpha is the best, based on the MSE score returned. One way to consider doing this\n",
    "would be to create a for loop to iterate through a range(len(scores)): object, reporting the\n",
    "alphas and scores. save the optimal alpha as chosen_alpha."
   ]
  },
  {
   "cell_type": "code",
   "execution_count": 14,
   "metadata": {
    "pycharm": {
     "name": "#%%\n"
    }
   },
   "outputs": [
    {
     "name": "stdout",
     "output_type": "stream",
     "text": [
      "Alpha: 0.001  Score: 0.3998474110597844\n",
      "Alpha: 0.0012195704601594415  Score: 0.40067545775382357\n",
      "Alpha: 0.0014873521072935117  Score: 0.401675456288924\n",
      "Alpha: 0.0018139306939110632  Score: 0.4028799938523123\n",
      "Alpha: 0.00221221629107045  Score: 0.4043275783256828\n",
      "Alpha: 0.0026979536400729993  Score: 0.40566379559513727\n",
      "Alpha: 0.0032903445623126675  Score: 0.4072391563180052\n",
      "Alpha: 0.004012807031942776  Score: 0.40908291567988375\n",
      "Alpha: 0.004893900918477494  Score: 0.41123606033552546\n",
      "Alpha: 0.0059684569951223105  Score: 0.4137290741726162\n",
      "Alpha: 0.007278953843983154  Score: 0.41687352113261616\n",
      "Alpha: 0.00887719708898586  Score: 0.41965693103388696\n",
      "Alpha: 0.010826367338740546  Score: 0.42092207559152667\n",
      "Alpha: 0.013203517797162955  Score: 0.4217501441162145\n",
      "Alpha: 0.01610262027560939  Score: 0.42260225828792064\n",
      "Alpha: 0.0196382800192977  Score: 0.4235522843665832\n",
      "Alpha: 0.02395026619987486  Score: 0.42456133188500333\n",
      "Alpha: 0.0292090371703225  Score: 0.4257045219943073\n",
      "Alpha: 0.03562247890262444  Score: 0.42696661823646637\n",
      "Alpha: 0.043444122987293665  Score: 0.4290749815479969\n",
      "Alpha: 0.0529831690628371  Score: 0.4315905049877279\n",
      "Alpha: 0.06461670787466972  Score: 0.43258464133537666\n",
      "Alpha: 0.07880462815669913  Score: 0.4329874617607249\n",
      "Alpha: 0.09610779662375922  Score: 0.4320909063318236\n",
      "Alpha: 0.11721022975334805  Score: 0.4295833342763601\n",
      "Alpha: 0.14294613383568455  Score: 0.42560294557298517\n",
      "Alpha: 0.1743328822199989  Score: 0.41929547477284446\n",
      "Alpha: 0.21261123338996576  Score: 0.40929218565996006\n",
      "Alpha: 0.2592943797404667  Score: 0.3958909835632311\n",
      "Alpha: 0.31622776601683794  Score: 0.375939364571098\n"
     ]
    }
   ],
   "source": [
    "for i in range(len(scores)):\n",
    "    alpha = alphas[i]\n",
    "    score = scores[i]\n",
    "    print('Alpha:', alpha, ' Score:', score)"
   ]
  },
  {
   "cell_type": "markdown",
   "metadata": {
    "pycharm": {
     "name": "#%% md\n"
    }
   },
   "source": [
    "Fortunately, the authors provide a useful  best_params_ attribute."
   ]
  },
  {
   "cell_type": "code",
   "execution_count": 15,
   "metadata": {
    "pycharm": {
     "name": "#%%\n"
    }
   },
   "outputs": [
    {
     "name": "stdout",
     "output_type": "stream",
     "text": [
      "best_parameters: {'alpha': 0.07880462815669913}\n"
     ]
    }
   ],
   "source": [
    "print('best_parameters:', clf.best_params_)"
   ]
  },
  {
   "cell_type": "markdown",
   "metadata": {
    "pycharm": {
     "name": "#%% md\n"
    }
   },
   "source": [
    "Extract the best alpha, which we will use later."
   ]
  },
  {
   "cell_type": "code",
   "execution_count": 16,
   "metadata": {
    "pycharm": {
     "name": "#%%\n"
    }
   },
   "outputs": [
    {
     "name": "stdout",
     "output_type": "stream",
     "text": [
      "chosen_alpha 0.07880462815669913\n"
     ]
    }
   ],
   "source": [
    "chosen_alpha = clf.best_params_['alpha']\n",
    "print('chosen_alpha', chosen_alpha)"
   ]
  },
  {
   "cell_type": "markdown",
   "metadata": {
    "pycharm": {
     "name": "#%% md\n"
    }
   },
   "source": [
    "Now we can rerun a vanilla (no CV) version of Lasso with that specific alpha.\n",
    "This will return, for instance, a .coef_ list."
   ]
  },
  {
   "cell_type": "code",
   "execution_count": 17,
   "metadata": {
    "pycharm": {
     "name": "#%%\n"
    }
   },
   "outputs": [
    {
     "name": "stdout",
     "output_type": "stream",
     "text": [
      "coefficients [ -26.87410362 -318.07808453  427.47324303  272.29570713   -0.\n",
      " -181.31265355 -262.37184106    0.          613.14932629   71.09561387]\n"
     ]
    }
   ],
   "source": [
    "clf2 = Lasso(alpha=chosen_alpha, random_state=0, max_iter=10000).fit(X, y)\n",
    "\n",
    "print(\"coefficients\", clf2.coef_)"
   ]
  },
  {
   "cell_type": "markdown",
   "metadata": {
    "pycharm": {
     "name": "#%% md\n"
    }
   },
   "source": [
    "Simply looking at the coefficients tells us which are to be included.\n",
    "Question: How will we know just by looking?\n",
    "\n",
    "Extract the feature names and colum indices of the features that Lasso has selected."
   ]
  },
  {
   "cell_type": "code",
   "execution_count": 18,
   "metadata": {
    "pycharm": {
     "name": "#%%\n"
    }
   },
   "outputs": [
    {
     "name": "stdout",
     "output_type": "stream",
     "text": [
      "Coefficient age was -26.874103620938673\n",
      "Coefficient sex was -318.0780845318727\n",
      "Coefficient bmi was 427.4732430327188\n",
      "Coefficient bp was 272.2957071277454\n",
      "Coefficient s1 was -0.0\n",
      "Coefficient s2 was -181.31265355198863\n",
      "Coefficient s3 was -262.371841059376\n",
      "Coefficient s4 was 0.0\n",
      "Coefficient s5 was 613.1493262893765\n",
      "Coefficient s6 was 71.09561386767885\n"
     ]
    }
   ],
   "source": [
    "selected_coefficient_labels = []\n",
    "selected_coefficient_indices = []\n",
    "for i in range(len(clf2.coef_)):\n",
    "    print('Coefficient', feature_names[i], 'was', clf2.coef_[i])\n",
    "    if abs(clf2.coef_[i]) > 0:\n",
    "        selected_coefficient_labels.append(feature_names[i])\n",
    "        selected_coefficient_indices.append(i)"
   ]
  },
  {
   "cell_type": "markdown",
   "metadata": {
    "pycharm": {
     "name": "#%% md\n"
    }
   },
   "source": [
    "This process led us to the following selected_coefficient_labels:"
   ]
  },
  {
   "cell_type": "code",
   "execution_count": 19,
   "metadata": {
    "pycharm": {
     "name": "#%%\n"
    }
   },
   "outputs": [
    {
     "name": "stdout",
     "output_type": "stream",
     "text": [
      "selected_coefficient_labels ['age', 'sex', 'bmi', 'bp', 's2', 's3', 's5', 's6']\n"
     ]
    }
   ],
   "source": [
    "print('selected_coefficient_labels', selected_coefficient_labels)"
   ]
  },
  {
   "cell_type": "markdown",
   "metadata": {
    "pycharm": {
     "name": "#%% md\n"
    }
   },
   "source": [
    "For fun, let's plot the alphas, scores and a confidence range.\n",
    "What does this show us about the optimal alpha and how it varies with score?"
   ]
  },
  {
   "cell_type": "code",
   "execution_count": 20,
   "metadata": {
    "pycharm": {
     "name": "#%%\n"
    }
   },
   "outputs": [
    {
     "data": {
      "text/plain": [
       "[<matplotlib.lines.Line2D at 0x233ae2974f0>]"
      ]
     },
     "execution_count": 20,
     "metadata": {},
     "output_type": "execute_result"
    },
    {
     "data": {
      "image/png": "[encoded data removed]",
      "text/plain": [
       "<Figure size 800x600 with 1 Axes>"
      ]
     },
     "metadata": {},
     "output_type": "display_data"
    }
   ],
   "source": [
    "plt.figure().set_size_inches(8, 6)\n",
    "plt.semilogx(alphas, scores)"
   ]
  },
  {
   "cell_type": "markdown",
   "metadata": {
    "pycharm": {
     "name": "#%% md\n"
    }
   },
   "source": [
    "plot error lines showing +/- std. errors of the scores"
   ]
  },
  {
   "cell_type": "code",
   "execution_count": 21,
   "metadata": {
    "pycharm": {
     "name": "#%%\n"
    }
   },
   "outputs": [
    {
     "data": {
      "text/plain": [
       "[<matplotlib.lines.Line2D at 0x233ae875390>]"
      ]
     },
     "execution_count": 21,
     "metadata": {},
     "output_type": "execute_result"
    },
    {
     "data": {
      "image/png": "[encoded data removed]",
      "text/plain": [
       "<Figure size 640x480 with 1 Axes>"
      ]
     },
     "metadata": {},
     "output_type": "display_data"
    }
   ],
   "source": [
    "std_error = scores_std / np.sqrt(n_folds)\n",
    "\n",
    "plt.semilogx(alphas, scores + std_error, 'b--')\n",
    "plt.semilogx(alphas, scores - std_error, 'b--')"
   ]
  },
  {
   "cell_type": "markdown",
   "metadata": {
    "pycharm": {
     "name": "#%% md\n"
    }
   },
   "source": [
    "alpha=0.2 controls the translucency of the fill color"
   ]
  },
  {
   "cell_type": "code",
   "execution_count": 22,
   "metadata": {
    "pycharm": {
     "name": "#%%\n"
    }
   },
   "outputs": [
    {
     "data": {
      "image/png": "[encoded data removed]",
      "text/plain": [
       "<Figure size 640x480 with 1 Axes>"
      ]
     },
     "metadata": {},
     "output_type": "display_data"
    }
   ],
   "source": [
    "plt.fill_between(alphas, scores + std_error, scores - std_error, alpha=0.2)\n",
    "\n",
    "plt.ylabel('CV score +/- std error')\n",
    "plt.xlabel('alpha')\n",
    "plt.axhline(np.max(scores), linestyle='--', color='.5')\n",
    "plt.xlim([alphas[0], alphas[-1]])\n",
    "\n",
    "plt.show()"
   ]
  },
  {
   "cell_type": "markdown",
   "metadata": {},
   "source": [
    "Finally, now that we have our selected labels, we can use them to select the numpy array\n",
    "columns that we want to use for a post-LASSO run."
   ]
  },
  {
   "cell_type": "code",
   "execution_count": 23,
   "metadata": {
    "pycharm": {
     "name": "#%%\n"
    }
   },
   "outputs": [
    {
     "name": "stdout",
     "output_type": "stream",
     "text": [
      "new_x [[ 0.03807591  0.05068012  0.06169621 ... -0.04340085  0.01990749\n",
      "  -0.01764613]\n",
      " [-0.00188202 -0.04464164 -0.05147406 ...  0.07441156 -0.06833155\n",
      "  -0.09220405]\n",
      " [ 0.08529891  0.05068012  0.04445121 ... -0.03235593  0.00286131\n",
      "  -0.02593034]\n",
      " ...\n",
      " [-0.05637009 -0.04464164  0.09295276 ... -0.02867429  0.02606052\n",
      "   0.04034337]\n",
      " [-0.06000263  0.05068012  0.01535029 ...  0.019187   -0.03074792\n",
      "  -0.0010777 ]\n",
      " [-0.04910502  0.05068012 -0.00512814 ... -0.06917231  0.06123763\n",
      "  -0.03835666]]\n"
     ]
    }
   ],
   "source": [
    "new_x = X[:, selected_coefficient_indices]\n",
    "\n",
    "print('new_x', new_x)"
   ]
  },
  {
   "cell_type": "markdown",
   "metadata": {},
   "source": [
    "Plug this new x matrix into our statsmodels OLS function and print that out.\n",
    "How is this better than a vanilla OLS?"
   ]
  },
  {
   "cell_type": "code",
   "execution_count": 25,
   "metadata": {
    "pycharm": {
     "name": "#%%\n"
    }
   },
   "outputs": [
    {
     "name": "stdout",
     "output_type": "stream",
     "text": [
      "                                 OLS Regression Results                                \n",
      "=======================================================================================\n",
      "Dep. Variable:                      y   R-squared (uncentered):                   0.108\n",
      "Model:                            OLS   Adj. R-squared (uncentered):              0.058\n",
      "Method:                 Least Squares   F-statistic:                              2.157\n",
      "Date:                Mon, 24 Oct 2022   Prob (F-statistic):                      0.0342\n",
      "Time:                        14:02:33   Log-Likelihood:                         -970.70\n",
      "No. Observations:                 150   AIC:                                      1957.\n",
      "Df Residuals:                     142   BIC:                                      1981.\n",
      "Df Model:                           8                                                  \n",
      "Covariance Type:            nonrobust                                                  \n",
      "==============================================================================\n",
      "                 coef    std err          t      P>|t|      [0.025      0.975]\n",
      "------------------------------------------------------------------------------\n",
      "x1          -602.4973    314.707     -1.914      0.058   -1224.613      19.618\n",
      "x2           -87.4880    335.545     -0.261      0.795    -750.798     575.822\n",
      "x3           883.5173    356.386      2.479      0.014     179.010    1588.025\n",
      "x4            82.1656    349.180      0.235      0.814    -608.097     772.428\n",
      "x5          -559.1018    313.073     -1.786      0.076   -1177.988      59.785\n",
      "x6           -38.0419    331.336     -0.115      0.909    -693.030     616.947\n",
      "x7           392.6614    372.992      1.053      0.294    -344.674    1129.997\n",
      "x8            19.6645    311.651      0.063      0.950    -596.410     635.739\n",
      "==============================================================================\n",
      "Omnibus:                        0.496   Durbin-Watson:                   0.293\n",
      "Prob(Omnibus):                  0.780   Jarque-Bera (JB):                0.585\n",
      "Skew:                          -0.131   Prob(JB):                        0.746\n",
      "Kurtosis:                       2.842   Cond. No.                         2.98\n",
      "==============================================================================\n",
      "\n",
      "Notes:\n",
      "[1] R² is computed without centering (uncentered) since the model does not contain a constant.\n",
      "[2] Standard Errors assume that the covariance matrix of the errors is correctly specified.\n"
     ]
    }
   ],
   "source": [
    "result = OLS(y, new_x).fit().summary()\n",
    "\n",
    "print(result)\n",
    "\n"
   ]
  }
 ],
 "metadata": {
  "kernelspec": {
   "display_name": "Python 3.8.12 ('research_env_2021')",
   "language": "python",
   "name": "python3"
  },
  "language_info": {
   "codemirror_mode": {
    "name": "ipython",
    "version": 3
   },
   "file_extension": ".py",
   "mimetype": "text/x-python",
   "name": "python",
   "nbconvert_exporter": "python",
   "pygments_lexer": "ipython3",
   "version": "3.8.12"
  },
  "vscode": {
   "interpreter": {
    "hash": "853b4c41f8f1233341bab6c42428d0b5bbe432aa104080d027d24aaf1eefc274"
   }
  }
 },
 "nbformat": 4,
 "nbformat_minor": 1
}
