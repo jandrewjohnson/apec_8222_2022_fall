{
 "cells": [
  {
   "cell_type": "markdown",
   "metadata": {},
   "source": [
    "# R and Python: together\n",
    "\n",
    "One goal for this course was to ensure you see a variety of different tools for solving different problems. Often, different problems require different tools to address (e.g. R versus Python), so it is important to become multilingual. However, you might have your preference on which language you enjoy most. Or perhaps you inherited a large code-base written in a specific language and it would be hard to change. Fortunately, you don't actually have to choose!\n",
    "\n",
    "The tech stack we've been using can let you call R in Python (which we'll discuss momentarily) as well as Python in R!"
   ]
  },
  {
   "cell_type": "code",
   "execution_count": 12,
   "metadata": {},
   "outputs": [
    {
     "name": "stdout",
     "output_type": "stream",
     "text": [
      "Loading required package: stringr\n",
      "Warning message:\n",
      "In library(package, lib.loc = lib.loc, character.only = TRUE, logical.return = TRUE,  :\n",
      "  there is no package called 'stringr'\n",
      "Loading required package: tidyr\n",
      "Warning message:\n",
      "In library(package, lib.loc = lib.loc, character.only = TRUE, logical.return = TRUE,  :\n",
      "  there is no package called 'tidyr'\n",
      "Loading required package: reshape2\n",
      "Warning message:\n",
      "In library(package, lib.loc = lib.loc, character.only = TRUE, logical.return = TRUE,  :\n",
      "  there is no package called 'reshape2'\n",
      "[1] \"We are inside an r script!\"\n"
     ]
    }
   ],
   "source": [
    "import subprocess, os\n",
    "\n",
    "r_interpreter = \"C:\\\\Program Files\\\\R\\\\R-4.2.1\\\\bin\\\\Rscript.exe\"\n",
    "script_path = \"r_script.r\"\n",
    "\n",
    "# cmd = r_interpreter + 'C --vanilla --verbose ' + script_path\n",
    "\n",
    "# returned = subprocess.check_output(cmd, universal_newlines=True)\n",
    "result_filename = 'out.txt'\n",
    "call_list = [r_interpreter, script_path]\n",
    "proc = subprocess.Popen(call_list, stdout=subprocess.PIPE, stderr=subprocess.STDOUT)\n",
    "\n",
    "for line in iter(proc.stdout.readline, ''):\n",
    "    cleaned_line = str(line).replace('b\\'\\'', '').replace('b\\'', '').replace('\\\\r\\\\n\\'', '').replace('b\\\"', '').replace('\\\\r\\\\n\\\"', '')\n",
    "    cleaned_line.rstrip(\"\\r\\n\")\n",
    "    if len(cleaned_line) > 0:\n",
    "        print(cleaned_line)\n",
    "\n"
   ]
  }
 ],
 "metadata": {
  "kernelspec": {
   "display_name": "Python 3.10.6 ('8222env1')",
   "language": "python",
   "name": "python3"
  },
  "language_info": {
   "codemirror_mode": {
    "name": "ipython",
    "version": 3
   },
   "file_extension": ".py",
   "mimetype": "text/x-python",
   "name": "python",
   "nbconvert_exporter": "python",
   "pygments_lexer": "ipython3",
   "version": "3.10.6"
  },
  "vscode": {
   "interpreter": {
    "hash": "0db313e0ad7b6749a6d098fb61fddaded88cbd823278030b75fa0893942c8f77"
   }
  }
 },
 "nbformat": 4,
 "nbformat_minor": 4
}
