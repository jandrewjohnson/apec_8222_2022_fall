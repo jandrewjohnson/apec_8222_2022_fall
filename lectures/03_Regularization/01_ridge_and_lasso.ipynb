{
 "cells": [
  {
   "cell_type": "markdown",
   "metadata": {
    "pycharm": {
     "name": "#%% md\n"
    }
   },
   "source": [
    "# Automatic feature selection with LASSO regression\n",
    "\n",
    "In this notebook we will learn how LASSO (Least Absolute Shrinkage and Selection Operator) regression works and how it can assist in automatically selecting which variables should be included using a **Cross-Validation** perspective.\n",
    "\n",
    "#### Start by importing packages"
   ]
  },
  {
   "cell_type": "code",
   "execution_count": 357,
   "metadata": {
    "pycharm": {
     "name": "#%%\n"
    }
   },
   "outputs": [],
   "source": [
    "import matplotlib.pyplot as plt\n",
    "import numpy as np\n",
    "\n",
    "from sklearn.datasets import load_diabetes\n",
    "from sklearn.feature_selection import SelectFromModel\n",
    "from sklearn import datasets, linear_model\n",
    "from sklearn.linear_model import LassoCV, Lasso\n",
    "from sklearn.model_selection import KFold\n",
    "from sklearn.model_selection import GridSearchCV\n",
    "from sklearn.metrics import mean_squared_error, r2_score\n",
    "\n",
    "import statsmodels\n",
    "from statsmodels.api import OLS"
   ]
  },
  {
   "cell_type": "markdown",
   "metadata": {
    "pycharm": {
     "name": "#%% md\n"
    }
   },
   "source": [
    "#### Load dataset and inspect it\n",
    "\n",
    "Again we're going to use our diabetes dataset. Inspect it again just to remind yourself\n",
    "what is in it."
   ]
  },
  {
   "cell_type": "code",
   "execution_count": 358,
   "metadata": {
    "pycharm": {
     "name": "#%%\n"
    }
   },
   "outputs": [
    {
     "name": "stdout",
     "output_type": "stream",
     "text": [
      ".. _diabetes_dataset:\n",
      "\n",
      "Diabetes dataset\n",
      "----------------\n",
      "\n",
      "Ten baseline variables, age, sex, body mass index, average blood\n",
      "pressure, and six blood serum measurements were obtained for each of n =\n",
      "442 diabetes patients, as well as the response of interest, a\n",
      "quantitative measure of disease progression one year after baseline.\n",
      "\n",
      "**Data Set Characteristics:**\n",
      "\n",
      "  :Number of Instances: 442\n",
      "\n",
      "  :Number of Attributes: First 10 columns are numeric predictive values\n",
      "\n",
      "  :Target: Column 11 is a quantitative measure of disease progression one year after baseline\n",
      "\n",
      "  :Attribute Information:\n",
      "      - age     age in years\n",
      "      - sex\n",
      "      - bmi     body mass index\n",
      "      - bp      average blood pressure\n",
      "      - s1      tc, total serum cholesterol\n",
      "      - s2      ldl, low-density lipoproteins\n",
      "      - s3      hdl, high-density lipoproteins\n",
      "      - s4      tch, total cholesterol / HDL\n",
      "      - s5      ltg, possibly log of serum triglycerides level\n",
      "      - s6      glu, blood sugar level\n",
      "\n",
      "Note: Each of these 10 feature variables have been mean centered and scaled by the standard deviation times the square root of `n_samples` (i.e. the sum of squares of each column totals 1).\n",
      "\n",
      "Source URL:\n",
      "https://www4.stat.ncsu.edu/~boos/var.select/diabetes.html\n",
      "\n",
      "For more information see:\n",
      "Bradley Efron, Trevor Hastie, Iain Johnstone and Robert Tibshirani (2004) \"Least Angle Regression,\" Annals of Statistics (with discussion), 407-499.\n",
      "(https://web.stanford.edu/~hastie/Papers/LARS/LeastAngle_2002.pdf)\n",
      "\n",
      "['age', 'sex', 'bmi', 'bp', 's1', 's2', 's3', 's4', 's5', 's6']\n"
     ]
    }
   ],
   "source": [
    "diabetes = load_diabetes()\n",
    "\n",
    "X = diabetes.data\n",
    "y = diabetes.target\n",
    "\n",
    "feature_names = diabetes.feature_names\n",
    "\n",
    "print(diabetes['DESCR'])\n",
    "print(feature_names)"
   ]
  },
  {
   "cell_type": "markdown",
   "metadata": {
    "pycharm": {
     "name": "#%% md\n"
    }
   },
   "source": [
    "#### Select subset of data\n",
    "\n",
    "To speed up calculation, we're going to just use the first 150 observations\n",
    "using numpy slice notation to grab them out of the X, y"
   ]
  },
  {
   "cell_type": "code",
   "execution_count": 359,
   "metadata": {
    "pycharm": {
     "name": "#%%\n"
    }
   },
   "outputs": [
    {
     "name": "stdout",
     "output_type": "stream",
     "text": [
      "[[ 0.03807591  0.05068012  0.06169621 ... -0.00259226  0.01990749\n",
      "  -0.01764613]\n",
      " [-0.00188202 -0.04464164 -0.05147406 ... -0.03949338 -0.06833155\n",
      "  -0.09220405]\n",
      " [ 0.08529891  0.05068012  0.04445121 ... -0.00259226  0.00286131\n",
      "  -0.02593034]\n",
      " ...\n",
      " [-0.05637009 -0.04464164  0.09295276 ...  0.02545259  0.02606052\n",
      "   0.04034337]\n",
      " [-0.06000263  0.05068012  0.01535029 ... -0.00259226 -0.03074792\n",
      "  -0.0010777 ]\n",
      " [-0.04910502  0.05068012 -0.00512814 ...  0.07120998  0.06123763\n",
      "  -0.03835666]]\n"
     ]
    }
   ],
   "source": [
    "X = X[:150]\n",
    "y = y[:150]\n",
    "\n",
    "print(X)"
   ]
  },
  {
   "cell_type": "code",
   "execution_count": 360,
   "metadata": {},
   "outputs": [
    {
     "name": "stdout",
     "output_type": "stream",
     "text": [
      "Coefficients: \n",
      " [ -67.3322587  -369.98803486  445.91969019  324.49756622   89.12828579\n",
      " -370.37260059 -263.56792004  123.19006966  579.0388831    89.90418524]\n",
      "Mean squared error: 2662.0758761259112\n",
      "Coefficient of determination: 0.5298596601593835\n"
     ]
    }
   ],
   "source": [
    "# Create linear regression object\n",
    "model_ols = linear_model.LinearRegression()\n",
    "\n",
    "# Train the model using the training sets\n",
    "model_ols.fit(X, y)\n",
    "\n",
    "# Make predictions using the testing set\n",
    "y_hat = model_ols.predict(X)\n",
    "\n",
    "# The coefficients\n",
    "print(\"Coefficients: \\n\", model_ols.coef_)\n",
    "\n",
    "# The mean squared error\n",
    "print(\"Mean squared error:\", mean_squared_error(y, y_hat))\n",
    "\n",
    "# The coefficient of determination: 1 is perfect prediction\n",
    "print(\"Coefficient of determination:\", r2_score(y, y_hat))\n",
    "\n",
    "# # Plot outputs\n",
    "# plt.scatter(diabetes_X_test, diabetes_y_test, color=\"black\")\n",
    "# plt.plot(diabetes_X_test, diabetes_y_pred, color=\"blue\", linewidth=3)\n"
   ]
  },
  {
   "cell_type": "markdown",
   "metadata": {
    "pycharm": {
     "name": "#%% md\n"
    }
   },
   "source": [
    "# Class exercise: Review of OLS. Report back the MSE  of y versus the predicted y when you use the X and y variables above.\n",
    "You might want to utilize the scikit-learn linear regression tools, in particular the following functions:\n",
    "\n",
    "linear_model.LinearRegression()\n",
    ".fit(X, y)\n",
    ".predict(X)\n",
    "mean_squared_error(y, y_pred)\n",
    "\n",
    "In addition to the scikit-learn OLS, we also will be using today\n",
    "the statsmodels implementation. Let's go ahead an import it.\n",
    "I'm assuming you've already run conda install statsmodels -c conda-forge in your\n",
    "anaconda command line."
   ]
  },
  {
   "cell_type": "code",
   "execution_count": 361,
   "metadata": {
    "pycharm": {
     "name": "#%%\n"
    }
   },
   "outputs": [],
   "source": [
    "# from statsmodels.api import OLS"
   ]
  },
  {
   "cell_type": "markdown",
   "metadata": {
    "pycharm": {
     "name": "#%% md\n"
    }
   },
   "source": [
    "statsmodels uses a similar syntax to scikit learn of creating a model, fitting it, and\n",
    "returning the summary."
   ]
  },
  {
   "cell_type": "code",
   "execution_count": 362,
   "metadata": {
    "pycharm": {
     "name": "#%%\n"
    }
   },
   "outputs": [],
   "source": [
    "# # Statsmodels doesn't automatically add a constant, so add it.\n",
    "# X_with_constant = statsmodels.api.add_constant(X)\n",
    "\n",
    "# model_ols = OLS(y, X_with_constant)\n",
    "\n",
    "# fitted_model_ols = model_ols.fit()\n",
    "# result_ols = fitted_model_ols.summary()\n",
    "\n",
    "# print(result_ols)"
   ]
  },
  {
   "cell_type": "markdown",
   "metadata": {
    "pycharm": {
     "name": "#%% md\n"
    }
   },
   "source": [
    "#### Create a LASSO model object\n",
    "\n",
    "Today's goal, however, is to do Lasso on this same dataset.\n",
    "To start, lets create a Lasso object. Notice that we are not\n",
    "setting the alpha/gamma value when we create it."
   ]
  },
  {
   "cell_type": "code",
   "execution_count": 363,
   "metadata": {
    "pycharm": {
     "name": "#%%\n"
    }
   },
   "outputs": [
    {
     "name": "stdout",
     "output_type": "stream",
     "text": [
      "Lasso(max_iter=10000, random_state=0)\n"
     ]
    }
   ],
   "source": [
    "model_lasso = Lasso(alpha=1.0, random_state=0, max_iter=10000)\n",
    "print(model_lasso)"
   ]
  },
  {
   "cell_type": "markdown",
   "metadata": {},
   "source": [
    "#### Fit the LASSO\n",
    "\n",
    "Call the lasso.fit() method. "
   ]
  },
  {
   "cell_type": "code",
   "execution_count": 364,
   "metadata": {},
   "outputs": [
    {
     "name": "stdout",
     "output_type": "stream",
     "text": [
      "Lasso(max_iter=10000, random_state=0)\n"
     ]
    }
   ],
   "source": [
    "model_lasso.fit(X, y)\n",
    "print(model_lasso)"
   ]
  },
  {
   "cell_type": "code",
   "execution_count": 365,
   "metadata": {},
   "outputs": [
    {
     "data": {
      "image/png": "[encoded data removed]",
      "text/plain": [
       "<Figure size 640x480 with 1 Axes>"
      ]
     },
     "metadata": {},
     "output_type": "display_data"
    }
   ],
   "source": [
    "y_hat_lasso = model_lasso.predict(X)\n",
    "\n",
    "# Plot outputs\n",
    "plt.scatter(X[:, 3], y, color=\"black\")\n",
    "plt.scatter(X[:, 3], y_hat_lasso, color=\"blue\", linewidth=3)\n",
    "\n",
    "plt.show()"
   ]
  },
  {
   "cell_type": "code",
   "execution_count": 366,
   "metadata": {},
   "outputs": [
    {
     "name": "stdout",
     "output_type": "stream",
     "text": [
      "[  0.          -0.         239.9258791    0.          -0.\n",
      "  -0.          -0.           0.         373.07866685   0.        ]\n",
      "[ -67.3322587  -369.98803486  445.91969019  324.49756622   89.12828579\n",
      " -370.37260059 -263.56792004  123.19006966  579.0388831    89.90418524]\n"
     ]
    }
   ],
   "source": [
    "print(model_lasso.coef_)\n",
    "print(model_ols.coef_)"
   ]
  },
  {
   "cell_type": "markdown",
   "metadata": {
    "pycharm": {
     "name": "#%% md\n"
    }
   },
   "source": [
    "Instead, we are going to test a variety of different alphas, as here:"
   ]
  },
  {
   "cell_type": "code",
   "execution_count": 367,
   "metadata": {
    "pycharm": {
     "name": "#%%\n"
    }
   },
   "outputs": [
    {
     "data": {
      "text/plain": [
       "array([0.001     , 0.00121957, 0.00148735, 0.00181393, 0.00221222,\n",
       "       0.00269795, 0.00329034, 0.00401281, 0.0048939 , 0.00596846,\n",
       "       0.00727895, 0.0088772 , 0.01082637, 0.01320352, 0.01610262,\n",
       "       0.01963828, 0.02395027, 0.02920904, 0.03562248, 0.04344412,\n",
       "       0.05298317, 0.06461671, 0.07880463, 0.0961078 , 0.11721023,\n",
       "       0.14294613, 0.17433288, 0.21261123, 0.25929438, 0.31622777])"
      ]
     },
     "execution_count": 367,
     "metadata": {},
     "output_type": "execute_result"
    }
   ],
   "source": [
    "alphas = np.logspace(-3, -0.5, 30)\n",
    "alphas"
   ]
  },
  {
   "cell_type": "markdown",
   "metadata": {
    "pycharm": {
     "name": "#%% md\n"
    }
   },
   "source": [
    "We are going to be passing this range of tuning parameters to a GridSearch function\n",
    "that will test which works best when cross-validation methods are applied.\n",
    "First though, we have to put the alphas into the form the GridSearchCV funciton\n",
    "Expects, which is a list of dictionaries."
   ]
  },
  {
   "cell_type": "code",
   "execution_count": 368,
   "metadata": {
    "pycharm": {
     "name": "#%%\n"
    }
   },
   "outputs": [],
   "source": [
    "tuning_parameters = [{'alpha': alphas}]"
   ]
  },
  {
   "cell_type": "markdown",
   "metadata": {
    "pycharm": {
     "name": "#%% md\n"
    }
   },
   "source": [
    "Recall that CV works by calculating the fit quality of different folds of the\n",
    "TRAINING data. Here we will just use 5 folds."
   ]
  },
  {
   "cell_type": "code",
   "execution_count": 369,
   "metadata": {
    "pycharm": {
     "name": "#%%\n"
    }
   },
   "outputs": [],
   "source": [
    "n_folds = 5"
   ]
  },
  {
   "cell_type": "markdown",
   "metadata": {
    "pycharm": {
     "name": "#%% md\n"
    }
   },
   "source": [
    "Finally, we have all our objects ready to pass to the GridSearchVC function which will\n",
    "Give us back a classifier object."
   ]
  },
  {
   "cell_type": "code",
   "execution_count": 370,
   "metadata": {
    "pycharm": {
     "name": "#%%\n"
    }
   },
   "outputs": [],
   "source": [
    "clf = GridSearchCV(lasso, tuning_parameters, cv=n_folds, refit=False)"
   ]
  },
  {
   "cell_type": "markdown",
   "metadata": {
    "pycharm": {
     "name": "#%% md\n"
    }
   },
   "source": [
    "When we call the clf.fit() method, we will iteratively be calling the Lasso.fit() with different permutations of\n",
    "tuned parameters and then will return the classifier with the best CV fit."
   ]
  },
  {
   "cell_type": "code",
   "execution_count": 371,
   "metadata": {
    "pycharm": {
     "name": "#%%\n"
    }
   },
   "outputs": [
    {
     "data": {
      "text/html": [
       "<style>#sk-container-id-17 {color: black;background-color: white;}#sk-container-id-17 pre{padding: 0;}#sk-container-id-17 div.sk-toggleable {background-color: white;}#sk-container-id-17 label.sk-toggleable__label {cursor: pointer;display: block;width: 100%;margin-bottom: 0;padding: 0.3em;box-sizing: border-box;text-align: center;}#sk-container-id-17 label.sk-toggleable__label-arrow:before {content: \"▸\";float: left;margin-right: 0.25em;color: #696969;}#sk-container-id-17 label.sk-toggleable__label-arrow:hover:before {color: black;}#sk-container-id-17 div.sk-estimator:hover label.sk-toggleable__label-arrow:before {color: black;}#sk-container-id-17 div.sk-toggleable__content {max-height: 0;max-width: 0;overflow: hidden;text-align: left;background-color: #f0f8ff;}#sk-container-id-17 div.sk-toggleable__content pre {margin: 0.2em;color: black;border-radius: 0.25em;background-color: #f0f8ff;}#sk-container-id-17 input.sk-toggleable__control:checked~div.sk-toggleable__content {max-height: 200px;max-width: 100%;overflow: auto;}#sk-container-id-17 input.sk-toggleable__control:checked~label.sk-toggleable__label-arrow:before {content: \"▾\";}#sk-container-id-17 div.sk-estimator input.sk-toggleable__control:checked~label.sk-toggleable__label {background-color: #d4ebff;}#sk-container-id-17 div.sk-label input.sk-toggleable__control:checked~label.sk-toggleable__label {background-color: #d4ebff;}#sk-container-id-17 input.sk-hidden--visually {border: 0;clip: rect(1px 1px 1px 1px);clip: rect(1px, 1px, 1px, 1px);height: 1px;margin: -1px;overflow: hidden;padding: 0;position: absolute;width: 1px;}#sk-container-id-17 div.sk-estimator {font-family: monospace;background-color: #f0f8ff;border: 1px dotted black;border-radius: 0.25em;box-sizing: border-box;margin-bottom: 0.5em;}#sk-container-id-17 div.sk-estimator:hover {background-color: #d4ebff;}#sk-container-id-17 div.sk-parallel-item::after {content: \"\";width: 100%;border-bottom: 1px solid gray;flex-grow: 1;}#sk-container-id-17 div.sk-label:hover label.sk-toggleable__label {background-color: #d4ebff;}#sk-container-id-17 div.sk-serial::before {content: \"\";position: absolute;border-left: 1px solid gray;box-sizing: border-box;top: 0;bottom: 0;left: 50%;z-index: 0;}#sk-container-id-17 div.sk-serial {display: flex;flex-direction: column;align-items: center;background-color: white;padding-right: 0.2em;padding-left: 0.2em;position: relative;}#sk-container-id-17 div.sk-item {position: relative;z-index: 1;}#sk-container-id-17 div.sk-parallel {display: flex;align-items: stretch;justify-content: center;background-color: white;position: relative;}#sk-container-id-17 div.sk-item::before, #sk-container-id-17 div.sk-parallel-item::before {content: \"\";position: absolute;border-left: 1px solid gray;box-sizing: border-box;top: 0;bottom: 0;left: 50%;z-index: -1;}#sk-container-id-17 div.sk-parallel-item {display: flex;flex-direction: column;z-index: 1;position: relative;background-color: white;}#sk-container-id-17 div.sk-parallel-item:first-child::after {align-self: flex-end;width: 50%;}#sk-container-id-17 div.sk-parallel-item:last-child::after {align-self: flex-start;width: 50%;}#sk-container-id-17 div.sk-parallel-item:only-child::after {width: 0;}#sk-container-id-17 div.sk-dashed-wrapped {border: 1px dashed gray;margin: 0 0.4em 0.5em 0.4em;box-sizing: border-box;padding-bottom: 0.4em;background-color: white;}#sk-container-id-17 div.sk-label label {font-family: monospace;font-weight: bold;display: inline-block;line-height: 1.2em;}#sk-container-id-17 div.sk-label-container {text-align: center;}#sk-container-id-17 div.sk-container {/* jupyter's `normalize.less` sets `[hidden] { display: none; }` but bootstrap.min.css set `[hidden] { display: none !important; }` so we also need the `!important` here to be able to override the default hidden behavior on the sphinx rendered scikit-learn.org. See: https://github.com/scikit-learn/scikit-learn/issues/21755 */display: inline-block !important;position: relative;}#sk-container-id-17 div.sk-text-repr-fallback {display: none;}</style><div id=\"sk-container-id-17\" class=\"sk-top-container\"><div class=\"sk-text-repr-fallback\"><pre>GridSearchCV(cv=5, estimator=Lasso(max_iter=10000, random_state=0),\n",
       "             param_grid=[{&#x27;alpha&#x27;: array([0.001     , 0.00121957, 0.00148735, 0.00181393, 0.00221222,\n",
       "       0.00269795, 0.00329034, 0.00401281, 0.0048939 , 0.00596846,\n",
       "       0.00727895, 0.0088772 , 0.01082637, 0.01320352, 0.01610262,\n",
       "       0.01963828, 0.02395027, 0.02920904, 0.03562248, 0.04344412,\n",
       "       0.05298317, 0.06461671, 0.07880463, 0.0961078 , 0.11721023,\n",
       "       0.14294613, 0.17433288, 0.21261123, 0.25929438, 0.31622777])}],\n",
       "             refit=False)</pre><b>In a Jupyter environment, please rerun this cell to show the HTML representation or trust the notebook. <br />On GitHub, the HTML representation is unable to render, please try loading this page with nbviewer.org.</b></div><div class=\"sk-container\" hidden><div class=\"sk-item sk-dashed-wrapped\"><div class=\"sk-label-container\"><div class=\"sk-label sk-toggleable\"><input class=\"sk-toggleable__control sk-hidden--visually\" id=\"sk-estimator-id-31\" type=\"checkbox\" ><label for=\"sk-estimator-id-31\" class=\"sk-toggleable__label sk-toggleable__label-arrow\">GridSearchCV</label><div class=\"sk-toggleable__content\"><pre>GridSearchCV(cv=5, estimator=Lasso(max_iter=10000, random_state=0),\n",
       "             param_grid=[{&#x27;alpha&#x27;: array([0.001     , 0.00121957, 0.00148735, 0.00181393, 0.00221222,\n",
       "       0.00269795, 0.00329034, 0.00401281, 0.0048939 , 0.00596846,\n",
       "       0.00727895, 0.0088772 , 0.01082637, 0.01320352, 0.01610262,\n",
       "       0.01963828, 0.02395027, 0.02920904, 0.03562248, 0.04344412,\n",
       "       0.05298317, 0.06461671, 0.07880463, 0.0961078 , 0.11721023,\n",
       "       0.14294613, 0.17433288, 0.21261123, 0.25929438, 0.31622777])}],\n",
       "             refit=False)</pre></div></div></div><div class=\"sk-parallel\"><div class=\"sk-parallel-item\"><div class=\"sk-item\"><div class=\"sk-label-container\"><div class=\"sk-label sk-toggleable\"><input class=\"sk-toggleable__control sk-hidden--visually\" id=\"sk-estimator-id-32\" type=\"checkbox\" ><label for=\"sk-estimator-id-32\" class=\"sk-toggleable__label sk-toggleable__label-arrow\">estimator: Lasso</label><div class=\"sk-toggleable__content\"><pre>Lasso(max_iter=10000, random_state=0)</pre></div></div></div><div class=\"sk-serial\"><div class=\"sk-item\"><div class=\"sk-estimator sk-toggleable\"><input class=\"sk-toggleable__control sk-hidden--visually\" id=\"sk-estimator-id-33\" type=\"checkbox\" ><label for=\"sk-estimator-id-33\" class=\"sk-toggleable__label sk-toggleable__label-arrow\">Lasso</label><div class=\"sk-toggleable__content\"><pre>Lasso(max_iter=10000, random_state=0)</pre></div></div></div></div></div></div></div></div></div></div>"
      ],
      "text/plain": [
       "GridSearchCV(cv=5, estimator=Lasso(max_iter=10000, random_state=0),\n",
       "             param_grid=[{'alpha': array([0.001     , 0.00121957, 0.00148735, 0.00181393, 0.00221222,\n",
       "       0.00269795, 0.00329034, 0.00401281, 0.0048939 , 0.00596846,\n",
       "       0.00727895, 0.0088772 , 0.01082637, 0.01320352, 0.01610262,\n",
       "       0.01963828, 0.02395027, 0.02920904, 0.03562248, 0.04344412,\n",
       "       0.05298317, 0.06461671, 0.07880463, 0.0961078 , 0.11721023,\n",
       "       0.14294613, 0.17433288, 0.21261123, 0.25929438, 0.31622777])}],\n",
       "             refit=False)"
      ]
     },
     "execution_count": 371,
     "metadata": {},
     "output_type": "execute_result"
    }
   ],
   "source": [
    "clf.fit(X, y)"
   ]
  },
  {
   "cell_type": "markdown",
   "metadata": {
    "pycharm": {
     "name": "#%% md\n"
    }
   },
   "source": [
    "The classifier object now has a variety of diagnostic metrics, reporting\n",
    "back on different folds within the Cross Validation"
   ]
  },
  {
   "cell_type": "code",
   "execution_count": 372,
   "metadata": {
    "pycharm": {
     "name": "#%%\n"
    }
   },
   "outputs": [
    {
     "name": "stdout",
     "output_type": "stream",
     "text": [
      "clf keys returned: dict_keys(['mean_fit_time', 'std_fit_time', 'mean_score_time', 'std_score_time', 'param_alpha', 'params', 'split0_test_score', 'split1_test_score', 'split2_test_score', 'split3_test_score', 'split4_test_score', 'mean_test_score', 'std_test_score', 'rank_test_score'])\n"
     ]
    }
   ],
   "source": [
    "print('clf keys returned:', clf.cv_results_.keys())"
   ]
  },
  {
   "cell_type": "markdown",
   "metadata": {
    "pycharm": {
     "name": "#%% md\n"
    }
   },
   "source": [
    "Some relevant results are as below, which we'll extract and assign to lists."
   ]
  },
  {
   "cell_type": "code",
   "execution_count": 373,
   "metadata": {
    "pycharm": {
     "name": "#%%\n"
    }
   },
   "outputs": [],
   "source": [
    "scores = clf.cv_results_['mean_test_score']\n",
    "scores_std = clf.cv_results_['std_test_score']"
   ]
  },
  {
   "cell_type": "markdown",
   "metadata": {
    "pycharm": {
     "name": "#%% md\n"
    }
   },
   "source": [
    "CLASS Activity: break out into groups and explore the scores and alphas lists we've created.\n",
    "Identify which alpha is the best, based on the MSE score returned. One way to consider doing this\n",
    "would be to create a for loop to iterate through a range(len(scores)): object, reporting the\n",
    "alphas and scores. save the optimal alpha as chosen_alpha."
   ]
  },
  {
   "cell_type": "code",
   "execution_count": 374,
   "metadata": {
    "pycharm": {
     "name": "#%%\n"
    }
   },
   "outputs": [
    {
     "name": "stdout",
     "output_type": "stream",
     "text": [
      "Alpha: 0.001  Score: 0.3998474110597844\n",
      "Alpha: 0.0012195704601594415  Score: 0.40067545775382385\n",
      "Alpha: 0.0014873521072935117  Score: 0.4016754562889243\n",
      "Alpha: 0.0018139306939110632  Score: 0.40287999385231216\n",
      "Alpha: 0.00221221629107045  Score: 0.4043275783256828\n",
      "Alpha: 0.0026979536400729993  Score: 0.40566379559513754\n",
      "Alpha: 0.0032903445623126675  Score: 0.4072391563180052\n",
      "Alpha: 0.004012807031942776  Score: 0.4090829156798838\n",
      "Alpha: 0.004893900918477494  Score: 0.4112360603355255\n",
      "Alpha: 0.0059684569951223105  Score: 0.41372907417261623\n",
      "Alpha: 0.007278953843983154  Score: 0.41687352113261616\n",
      "Alpha: 0.00887719708898586  Score: 0.4196569310338871\n",
      "Alpha: 0.010826367338740546  Score: 0.42092207559152683\n",
      "Alpha: 0.013203517797162955  Score: 0.4217501441162145\n",
      "Alpha: 0.01610262027560939  Score: 0.42260225828792064\n",
      "Alpha: 0.0196382800192977  Score: 0.4235522843665832\n",
      "Alpha: 0.02395026619987486  Score: 0.42456133188500333\n",
      "Alpha: 0.0292090371703225  Score: 0.42570452199430714\n",
      "Alpha: 0.03562247890262444  Score: 0.4269666182364665\n",
      "Alpha: 0.043444122987293665  Score: 0.4290749815479969\n",
      "Alpha: 0.0529831690628371  Score: 0.4315905049877279\n",
      "Alpha: 0.06461670787466972  Score: 0.4325846413353768\n",
      "Alpha: 0.07880462815669913  Score: 0.43298746176072483\n",
      "Alpha: 0.09610779662375922  Score: 0.43209090633182357\n",
      "Alpha: 0.11721022975334805  Score: 0.4295833342763601\n",
      "Alpha: 0.14294613383568455  Score: 0.42560294557298517\n",
      "Alpha: 0.1743328822199989  Score: 0.41929547477284446\n",
      "Alpha: 0.21261123338996576  Score: 0.40929218565996006\n",
      "Alpha: 0.2592943797404667  Score: 0.3958909835632311\n",
      "Alpha: 0.31622776601683794  Score: 0.375939364571098\n"
     ]
    }
   ],
   "source": [
    "for i in range(len(scores)):\n",
    "    alpha = alphas[i]\n",
    "    score = scores[i]\n",
    "    print('Alpha:', alpha, ' Score:', score)"
   ]
  },
  {
   "cell_type": "markdown",
   "metadata": {
    "pycharm": {
     "name": "#%% md\n"
    }
   },
   "source": [
    "Fortunately, the authors provide a useful  best_params_ attribute."
   ]
  },
  {
   "cell_type": "code",
   "execution_count": 375,
   "metadata": {
    "pycharm": {
     "name": "#%%\n"
    }
   },
   "outputs": [
    {
     "name": "stdout",
     "output_type": "stream",
     "text": [
      "best_parameters: {'alpha': 0.07880462815669913}\n"
     ]
    }
   ],
   "source": [
    "print('best_parameters:', clf.best_params_)"
   ]
  },
  {
   "cell_type": "markdown",
   "metadata": {
    "pycharm": {
     "name": "#%% md\n"
    }
   },
   "source": [
    "Extract the best alpha, which we will use later."
   ]
  },
  {
   "cell_type": "code",
   "execution_count": 376,
   "metadata": {
    "pycharm": {
     "name": "#%%\n"
    }
   },
   "outputs": [
    {
     "name": "stdout",
     "output_type": "stream",
     "text": [
      "chosen_alpha 0.07880462815669913\n"
     ]
    }
   ],
   "source": [
    "chosen_alpha = clf.best_params_['alpha']\n",
    "print('chosen_alpha', chosen_alpha)"
   ]
  },
  {
   "cell_type": "markdown",
   "metadata": {
    "pycharm": {
     "name": "#%% md\n"
    }
   },
   "source": [
    "Now we can rerun a vanilla (no CV) version of Lasso with that specific alpha.\n",
    "This will return, for instance, a .coef_ list."
   ]
  },
  {
   "cell_type": "code",
   "execution_count": 377,
   "metadata": {
    "pycharm": {
     "name": "#%%\n"
    }
   },
   "outputs": [
    {
     "name": "stdout",
     "output_type": "stream",
     "text": [
      "coefficients [ -26.87410362 -318.07808453  427.47324303  272.29570713   -0.\n",
      " -181.31265355 -262.37184106    0.          613.14932629   71.09561387]\n"
     ]
    }
   ],
   "source": [
    "clf2 = Lasso(alpha=chosen_alpha, random_state=0, max_iter=10000).fit(X, y)\n",
    "\n",
    "print(\"coefficients\", clf2.coef_)"
   ]
  },
  {
   "cell_type": "markdown",
   "metadata": {
    "pycharm": {
     "name": "#%% md\n"
    }
   },
   "source": [
    "Simply looking at the coefficients tells us which are to be included.\n",
    "Question: How will we know just by looking?\n",
    "\n",
    "Extract the feature names and colum indices of the features that Lasso has selected."
   ]
  },
  {
   "cell_type": "code",
   "execution_count": 378,
   "metadata": {
    "pycharm": {
     "name": "#%%\n"
    }
   },
   "outputs": [
    {
     "name": "stdout",
     "output_type": "stream",
     "text": [
      "Coefficient age was -26.87410362093863\n",
      "Coefficient sex was -318.0780845318727\n",
      "Coefficient bmi was 427.4732430327188\n",
      "Coefficient bp was 272.29570712774535\n",
      "Coefficient s1 was -0.0\n",
      "Coefficient s2 was -181.31265355198866\n",
      "Coefficient s3 was -262.3718410593758\n",
      "Coefficient s4 was 0.0\n",
      "Coefficient s5 was 613.1493262893766\n",
      "Coefficient s6 was 71.09561386767881\n"
     ]
    }
   ],
   "source": [
    "selected_coefficient_labels = []\n",
    "selected_coefficient_indices = []\n",
    "for i in range(len(clf2.coef_)):\n",
    "    print('Coefficient', feature_names[i], 'was', clf2.coef_[i])\n",
    "    if abs(clf2.coef_[i]) > 0:\n",
    "        selected_coefficient_labels.append(feature_names[i])\n",
    "        selected_coefficient_indices.append(i)"
   ]
  },
  {
   "cell_type": "markdown",
   "metadata": {
    "pycharm": {
     "name": "#%% md\n"
    }
   },
   "source": [
    "This process led us to the following selected_coefficient_labels:"
   ]
  },
  {
   "cell_type": "code",
   "execution_count": 379,
   "metadata": {
    "pycharm": {
     "name": "#%%\n"
    }
   },
   "outputs": [
    {
     "name": "stdout",
     "output_type": "stream",
     "text": [
      "selected_coefficient_labels ['age', 'sex', 'bmi', 'bp', 's2', 's3', 's5', 's6']\n"
     ]
    }
   ],
   "source": [
    "print('selected_coefficient_labels', selected_coefficient_labels)"
   ]
  },
  {
   "cell_type": "markdown",
   "metadata": {
    "pycharm": {
     "name": "#%% md\n"
    }
   },
   "source": [
    "For fun, let's plot the alphas, scores and a confidence range.\n",
    "What does this show us about the optimal alpha and how it varies with score?"
   ]
  },
  {
   "cell_type": "code",
   "execution_count": 380,
   "metadata": {
    "pycharm": {
     "name": "#%%\n"
    }
   },
   "outputs": [
    {
     "data": {
      "text/plain": [
       "[<matplotlib.lines.Line2D at 0x2a1730d1120>]"
      ]
     },
     "execution_count": 380,
     "metadata": {},
     "output_type": "execute_result"
    },
    {
     "data": {
      "image/png": "[encoded data removed]",
      "text/plain": [
       "<Figure size 800x600 with 1 Axes>"
      ]
     },
     "metadata": {},
     "output_type": "display_data"
    }
   ],
   "source": [
    "plt.figure().set_size_inches(8, 6)\n",
    "plt.semilogx(alphas, scores)"
   ]
  },
  {
   "cell_type": "markdown",
   "metadata": {
    "pycharm": {
     "name": "#%% md\n"
    }
   },
   "source": [
    "plot error lines showing +/- std. errors of the scores"
   ]
  },
  {
   "cell_type": "code",
   "execution_count": 381,
   "metadata": {
    "pycharm": {
     "name": "#%%\n"
    }
   },
   "outputs": [
    {
     "data": {
      "text/plain": [
       "[<matplotlib.lines.Line2D at 0x2a1733faad0>]"
      ]
     },
     "execution_count": 381,
     "metadata": {},
     "output_type": "execute_result"
    },
    {
     "data": {
      "image/png": "[encoded data removed]",
      "text/plain": [
       "<Figure size 640x480 with 1 Axes>"
      ]
     },
     "metadata": {},
     "output_type": "display_data"
    }
   ],
   "source": [
    "std_error = scores_std / np.sqrt(n_folds)\n",
    "\n",
    "plt.semilogx(alphas, scores + std_error, 'b--')\n",
    "plt.semilogx(alphas, scores - std_error, 'b--')"
   ]
  },
  {
   "cell_type": "markdown",
   "metadata": {
    "pycharm": {
     "name": "#%% md\n"
    }
   },
   "source": [
    "alpha=0.2 controls the translucency of the fill color"
   ]
  },
  {
   "cell_type": "code",
   "execution_count": 382,
   "metadata": {
    "pycharm": {
     "name": "#%%\n"
    }
   },
   "outputs": [
    {
     "data": {
      "image/png": "[encoded data removed]",
      "text/plain": [
       "<Figure size 640x480 with 1 Axes>"
      ]
     },
     "metadata": {},
     "output_type": "display_data"
    }
   ],
   "source": [
    "plt.fill_between(alphas, scores + std_error, scores - std_error, alpha=0.2)\n",
    "\n",
    "plt.ylabel('CV score +/- std error')\n",
    "plt.xlabel('alpha')\n",
    "plt.axhline(np.max(scores), linestyle='--', color='.5')\n",
    "plt.xlim([alphas[0], alphas[-1]])\n",
    "\n",
    "plt.show()"
   ]
  },
  {
   "cell_type": "markdown",
   "metadata": {},
   "source": [
    "Finally, now that we have our selected labels, we can use them to select the numpy array\n",
    "columns that we want to use for a post-LASSO run."
   ]
  },
  {
   "cell_type": "code",
   "execution_count": 383,
   "metadata": {
    "pycharm": {
     "name": "#%%\n"
    }
   },
   "outputs": [
    {
     "name": "stdout",
     "output_type": "stream",
     "text": [
      "new_x [[ 0.03807591  0.05068012  0.06169621 ... -0.04340085  0.01990749\n",
      "  -0.01764613]\n",
      " [-0.00188202 -0.04464164 -0.05147406 ...  0.07441156 -0.06833155\n",
      "  -0.09220405]\n",
      " [ 0.08529891  0.05068012  0.04445121 ... -0.03235593  0.00286131\n",
      "  -0.02593034]\n",
      " ...\n",
      " [-0.05637009 -0.04464164  0.09295276 ... -0.02867429  0.02606052\n",
      "   0.04034337]\n",
      " [-0.06000263  0.05068012  0.01535029 ...  0.019187   -0.03074792\n",
      "  -0.0010777 ]\n",
      " [-0.04910502  0.05068012 -0.00512814 ... -0.06917231  0.06123763\n",
      "  -0.03835666]]\n"
     ]
    }
   ],
   "source": [
    "new_x = X[:, selected_coefficient_indices]\n",
    "\n",
    "print('new_x', new_x)"
   ]
  },
  {
   "cell_type": "markdown",
   "metadata": {},
   "source": [
    "Plug this new x matrix into our statsmodels OLS function and print that out.\n",
    "How is this better than a vanilla OLS?"
   ]
  },
  {
   "cell_type": "code",
   "execution_count": 384,
   "metadata": {
    "pycharm": {
     "name": "#%%\n"
    }
   },
   "outputs": [
    {
     "name": "stdout",
     "output_type": "stream",
     "text": [
      "                                 OLS Regression Results                                \n",
      "=======================================================================================\n",
      "Dep. Variable:                      y   R-squared (uncentered):                   0.108\n",
      "Model:                            OLS   Adj. R-squared (uncentered):              0.058\n",
      "Method:                 Least Squares   F-statistic:                              2.157\n",
      "Date:                Sat, 26 Nov 2022   Prob (F-statistic):                      0.0342\n",
      "Time:                        17:56:17   Log-Likelihood:                         -970.70\n",
      "No. Observations:                 150   AIC:                                      1957.\n",
      "Df Residuals:                     142   BIC:                                      1981.\n",
      "Df Model:                           8                                                  \n",
      "Covariance Type:            nonrobust                                                  \n",
      "==============================================================================\n",
      "                 coef    std err          t      P>|t|      [0.025      0.975]\n",
      "------------------------------------------------------------------------------\n",
      "x1          -602.4973    314.707     -1.914      0.058   -1224.613      19.618\n",
      "x2           -87.4880    335.545     -0.261      0.795    -750.798     575.822\n",
      "x3           883.5173    356.386      2.479      0.014     179.010    1588.025\n",
      "x4            82.1656    349.180      0.235      0.814    -608.097     772.428\n",
      "x5          -559.1018    313.073     -1.786      0.076   -1177.988      59.785\n",
      "x6           -38.0419    331.336     -0.115      0.909    -693.030     616.947\n",
      "x7           392.6614    372.992      1.053      0.294    -344.674    1129.997\n",
      "x8            19.6645    311.651      0.063      0.950    -596.410     635.739\n",
      "==============================================================================\n",
      "Omnibus:                        0.496   Durbin-Watson:                   0.293\n",
      "Prob(Omnibus):                  0.780   Jarque-Bera (JB):                0.585\n",
      "Skew:                          -0.131   Prob(JB):                        0.746\n",
      "Kurtosis:                       2.842   Cond. No.                         2.98\n",
      "==============================================================================\n",
      "\n",
      "Notes:\n",
      "[1] R² is computed without centering (uncentered) since the model does not contain a constant.\n",
      "[2] Standard Errors assume that the covariance matrix of the errors is correctly specified.\n"
     ]
    }
   ],
   "source": [
    "result = OLS(y, new_x).fit().summary()\n",
    "\n",
    "print(result)\n",
    "\n"
   ]
  }
 ],
 "metadata": {
  "kernelspec": {
   "display_name": "Python 3.10.6 ('research2022f')",
   "language": "python",
   "name": "python3"
  },
  "language_info": {
   "codemirror_mode": {
    "name": "ipython",
    "version": 3
   },
   "file_extension": ".py",
   "mimetype": "text/x-python",
   "name": "python",
   "nbconvert_exporter": "python",
   "pygments_lexer": "ipython3",
   "version": "3.10.6"
  },
  "vscode": {
   "interpreter": {
    "hash": "2c398916069b03fea888a092585b3402c011e8df6ac70d881425c380b85d877f"
   }
  }
 },
 "nbformat": 4,
 "nbformat_minor": 1
}
